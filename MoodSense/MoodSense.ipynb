{
  "cells": [
    {
      "cell_type": "markdown",
      "metadata": {
        "id": "cqB7UxSl3YIM"
      },
      "source": [
        "# **MoodSense**"
      ]
    },
    {
      "cell_type": "markdown",
      "metadata": {
        "id": "C9YgOksg3Srw"
      },
      "source": [
        "Many individuals struggle to monitor and understand their emotional well-being, leading to challenges in managing mental health effectively. There is a need for an automated system that can track mood patterns, provide personalized insights, and suggest proactive self-care measures to enhance overall mental wellness."
      ]
    },
    {
      "cell_type": "code",
      "execution_count": 2,
      "metadata": {
        "id": "BvHD3Qz7Bq8-"
      },
      "outputs": [],
      "source": [
        "import pandas as pd\n",
        "from sklearn.preprocessing import LabelEncoder\n",
        "from sklearn.model_selection import train_test_split\n",
        "import tensorflow as tf\n",
        "from tensorflow.keras.models import Sequential\n",
        "from tensorflow.keras.layers import Embedding, GRU, Dense, Dropout"
      ]
    },
    {
      "cell_type": "code",
      "execution_count": 3,
      "metadata": {
        "id": "Cw9jYQQLBs5E"
      },
      "outputs": [],
      "source": [
        "# Load your DataFrame here if not already loaded\n",
        "df_encoded = pd.read_csv('Dataset.csv')  # Uncomment and update this line if needed"
      ]
    },
    {
      "cell_type": "code",
      "source": [
        "df_encoded.head()"
      ],
      "metadata": {
        "colab": {
          "base_uri": "https://localhost:8080/",
          "height": 206
        },
        "id": "1Rvk-AZuHK6x",
        "outputId": "4dd62923-9f31-408f-a2c0-605197918f09"
      },
      "execution_count": 4,
      "outputs": [
        {
          "output_type": "execute_result",
          "data": {
            "text/plain": [
              "    full_date    date    weekday     time   sub_mood  \\\n",
              "0  16/04/2021  Apr-16     Friday  8:00 pm       yolo   \n",
              "1  15/04/2021  Apr-15   Thursday  2:37 am   focused    \n",
              "2  14/04/2021  Apr-14  Wednesday  2:39 am  confused    \n",
              "3  13/04/2021  Apr-13    Tuesday  2:38 am  wondering   \n",
              "4  12/04/2021  Apr-12     Monday  9:52 pm      angry   \n",
              "\n",
              "                                          activities    mood  \n",
              "0  reading | Art | prayer | fasting  | walk | med...    Good  \n",
              "1  reading | learning  | Art | prayer | fasting  ...    Good  \n",
              "2  reading | learning  | prayer | fasting  | Qura...  Normal  \n",
              "3  reading | learning  | Art | prayer | fasting  ...  Normal  \n",
              "4  reading | learning  | fasting  | walk | medita...   Awful  "
            ],
            "text/html": [
              "\n",
              "  <div id=\"df-ce2b6cf5-0b4b-4374-a9b6-4f79e8a4e0b3\" class=\"colab-df-container\">\n",
              "    <div>\n",
              "<style scoped>\n",
              "    .dataframe tbody tr th:only-of-type {\n",
              "        vertical-align: middle;\n",
              "    }\n",
              "\n",
              "    .dataframe tbody tr th {\n",
              "        vertical-align: top;\n",
              "    }\n",
              "\n",
              "    .dataframe thead th {\n",
              "        text-align: right;\n",
              "    }\n",
              "</style>\n",
              "<table border=\"1\" class=\"dataframe\">\n",
              "  <thead>\n",
              "    <tr style=\"text-align: right;\">\n",
              "      <th></th>\n",
              "      <th>full_date</th>\n",
              "      <th>date</th>\n",
              "      <th>weekday</th>\n",
              "      <th>time</th>\n",
              "      <th>sub_mood</th>\n",
              "      <th>activities</th>\n",
              "      <th>mood</th>\n",
              "    </tr>\n",
              "  </thead>\n",
              "  <tbody>\n",
              "    <tr>\n",
              "      <th>0</th>\n",
              "      <td>16/04/2021</td>\n",
              "      <td>Apr-16</td>\n",
              "      <td>Friday</td>\n",
              "      <td>8:00 pm</td>\n",
              "      <td>yolo</td>\n",
              "      <td>reading | Art | prayer | fasting  | walk | med...</td>\n",
              "      <td>Good</td>\n",
              "    </tr>\n",
              "    <tr>\n",
              "      <th>1</th>\n",
              "      <td>15/04/2021</td>\n",
              "      <td>Apr-15</td>\n",
              "      <td>Thursday</td>\n",
              "      <td>2:37 am</td>\n",
              "      <td>focused</td>\n",
              "      <td>reading | learning  | Art | prayer | fasting  ...</td>\n",
              "      <td>Good</td>\n",
              "    </tr>\n",
              "    <tr>\n",
              "      <th>2</th>\n",
              "      <td>14/04/2021</td>\n",
              "      <td>Apr-14</td>\n",
              "      <td>Wednesday</td>\n",
              "      <td>2:39 am</td>\n",
              "      <td>confused</td>\n",
              "      <td>reading | learning  | prayer | fasting  | Qura...</td>\n",
              "      <td>Normal</td>\n",
              "    </tr>\n",
              "    <tr>\n",
              "      <th>3</th>\n",
              "      <td>13/04/2021</td>\n",
              "      <td>Apr-13</td>\n",
              "      <td>Tuesday</td>\n",
              "      <td>2:38 am</td>\n",
              "      <td>wondering</td>\n",
              "      <td>reading | learning  | Art | prayer | fasting  ...</td>\n",
              "      <td>Normal</td>\n",
              "    </tr>\n",
              "    <tr>\n",
              "      <th>4</th>\n",
              "      <td>12/04/2021</td>\n",
              "      <td>Apr-12</td>\n",
              "      <td>Monday</td>\n",
              "      <td>9:52 pm</td>\n",
              "      <td>angry</td>\n",
              "      <td>reading | learning  | fasting  | walk | medita...</td>\n",
              "      <td>Awful</td>\n",
              "    </tr>\n",
              "  </tbody>\n",
              "</table>\n",
              "</div>\n",
              "    <div class=\"colab-df-buttons\">\n",
              "\n",
              "  <div class=\"colab-df-container\">\n",
              "    <button class=\"colab-df-convert\" onclick=\"convertToInteractive('df-ce2b6cf5-0b4b-4374-a9b6-4f79e8a4e0b3')\"\n",
              "            title=\"Convert this dataframe to an interactive table.\"\n",
              "            style=\"display:none;\">\n",
              "\n",
              "  <svg xmlns=\"http://www.w3.org/2000/svg\" height=\"24px\" viewBox=\"0 -960 960 960\">\n",
              "    <path d=\"M120-120v-720h720v720H120Zm60-500h600v-160H180v160Zm220 220h160v-160H400v160Zm0 220h160v-160H400v160ZM180-400h160v-160H180v160Zm440 0h160v-160H620v160ZM180-180h160v-160H180v160Zm440 0h160v-160H620v160Z\"/>\n",
              "  </svg>\n",
              "    </button>\n",
              "\n",
              "  <style>\n",
              "    .colab-df-container {\n",
              "      display:flex;\n",
              "      gap: 12px;\n",
              "    }\n",
              "\n",
              "    .colab-df-convert {\n",
              "      background-color: #E8F0FE;\n",
              "      border: none;\n",
              "      border-radius: 50%;\n",
              "      cursor: pointer;\n",
              "      display: none;\n",
              "      fill: #1967D2;\n",
              "      height: 32px;\n",
              "      padding: 0 0 0 0;\n",
              "      width: 32px;\n",
              "    }\n",
              "\n",
              "    .colab-df-convert:hover {\n",
              "      background-color: #E2EBFA;\n",
              "      box-shadow: 0px 1px 2px rgba(60, 64, 67, 0.3), 0px 1px 3px 1px rgba(60, 64, 67, 0.15);\n",
              "      fill: #174EA6;\n",
              "    }\n",
              "\n",
              "    .colab-df-buttons div {\n",
              "      margin-bottom: 4px;\n",
              "    }\n",
              "\n",
              "    [theme=dark] .colab-df-convert {\n",
              "      background-color: #3B4455;\n",
              "      fill: #D2E3FC;\n",
              "    }\n",
              "\n",
              "    [theme=dark] .colab-df-convert:hover {\n",
              "      background-color: #434B5C;\n",
              "      box-shadow: 0px 1px 3px 1px rgba(0, 0, 0, 0.15);\n",
              "      filter: drop-shadow(0px 1px 2px rgba(0, 0, 0, 0.3));\n",
              "      fill: #FFFFFF;\n",
              "    }\n",
              "  </style>\n",
              "\n",
              "    <script>\n",
              "      const buttonEl =\n",
              "        document.querySelector('#df-ce2b6cf5-0b4b-4374-a9b6-4f79e8a4e0b3 button.colab-df-convert');\n",
              "      buttonEl.style.display =\n",
              "        google.colab.kernel.accessAllowed ? 'block' : 'none';\n",
              "\n",
              "      async function convertToInteractive(key) {\n",
              "        const element = document.querySelector('#df-ce2b6cf5-0b4b-4374-a9b6-4f79e8a4e0b3');\n",
              "        const dataTable =\n",
              "          await google.colab.kernel.invokeFunction('convertToInteractive',\n",
              "                                                    [key], {});\n",
              "        if (!dataTable) return;\n",
              "\n",
              "        const docLinkHtml = 'Like what you see? Visit the ' +\n",
              "          '<a target=\"_blank\" href=https://colab.research.google.com/notebooks/data_table.ipynb>data table notebook</a>'\n",
              "          + ' to learn more about interactive tables.';\n",
              "        element.innerHTML = '';\n",
              "        dataTable['output_type'] = 'display_data';\n",
              "        await google.colab.output.renderOutput(dataTable, element);\n",
              "        const docLink = document.createElement('div');\n",
              "        docLink.innerHTML = docLinkHtml;\n",
              "        element.appendChild(docLink);\n",
              "      }\n",
              "    </script>\n",
              "  </div>\n",
              "\n",
              "\n",
              "<div id=\"df-575ab2bc-2f38-49a3-875a-cb3e386e1926\">\n",
              "  <button class=\"colab-df-quickchart\" onclick=\"quickchart('df-575ab2bc-2f38-49a3-875a-cb3e386e1926')\"\n",
              "            title=\"Suggest charts\"\n",
              "            style=\"display:none;\">\n",
              "\n",
              "<svg xmlns=\"http://www.w3.org/2000/svg\" height=\"24px\"viewBox=\"0 0 24 24\"\n",
              "     width=\"24px\">\n",
              "    <g>\n",
              "        <path d=\"M19 3H5c-1.1 0-2 .9-2 2v14c0 1.1.9 2 2 2h14c1.1 0 2-.9 2-2V5c0-1.1-.9-2-2-2zM9 17H7v-7h2v7zm4 0h-2V7h2v10zm4 0h-2v-4h2v4z\"/>\n",
              "    </g>\n",
              "</svg>\n",
              "  </button>\n",
              "\n",
              "<style>\n",
              "  .colab-df-quickchart {\n",
              "      --bg-color: #E8F0FE;\n",
              "      --fill-color: #1967D2;\n",
              "      --hover-bg-color: #E2EBFA;\n",
              "      --hover-fill-color: #174EA6;\n",
              "      --disabled-fill-color: #AAA;\n",
              "      --disabled-bg-color: #DDD;\n",
              "  }\n",
              "\n",
              "  [theme=dark] .colab-df-quickchart {\n",
              "      --bg-color: #3B4455;\n",
              "      --fill-color: #D2E3FC;\n",
              "      --hover-bg-color: #434B5C;\n",
              "      --hover-fill-color: #FFFFFF;\n",
              "      --disabled-bg-color: #3B4455;\n",
              "      --disabled-fill-color: #666;\n",
              "  }\n",
              "\n",
              "  .colab-df-quickchart {\n",
              "    background-color: var(--bg-color);\n",
              "    border: none;\n",
              "    border-radius: 50%;\n",
              "    cursor: pointer;\n",
              "    display: none;\n",
              "    fill: var(--fill-color);\n",
              "    height: 32px;\n",
              "    padding: 0;\n",
              "    width: 32px;\n",
              "  }\n",
              "\n",
              "  .colab-df-quickchart:hover {\n",
              "    background-color: var(--hover-bg-color);\n",
              "    box-shadow: 0 1px 2px rgba(60, 64, 67, 0.3), 0 1px 3px 1px rgba(60, 64, 67, 0.15);\n",
              "    fill: var(--button-hover-fill-color);\n",
              "  }\n",
              "\n",
              "  .colab-df-quickchart-complete:disabled,\n",
              "  .colab-df-quickchart-complete:disabled:hover {\n",
              "    background-color: var(--disabled-bg-color);\n",
              "    fill: var(--disabled-fill-color);\n",
              "    box-shadow: none;\n",
              "  }\n",
              "\n",
              "  .colab-df-spinner {\n",
              "    border: 2px solid var(--fill-color);\n",
              "    border-color: transparent;\n",
              "    border-bottom-color: var(--fill-color);\n",
              "    animation:\n",
              "      spin 1s steps(1) infinite;\n",
              "  }\n",
              "\n",
              "  @keyframes spin {\n",
              "    0% {\n",
              "      border-color: transparent;\n",
              "      border-bottom-color: var(--fill-color);\n",
              "      border-left-color: var(--fill-color);\n",
              "    }\n",
              "    20% {\n",
              "      border-color: transparent;\n",
              "      border-left-color: var(--fill-color);\n",
              "      border-top-color: var(--fill-color);\n",
              "    }\n",
              "    30% {\n",
              "      border-color: transparent;\n",
              "      border-left-color: var(--fill-color);\n",
              "      border-top-color: var(--fill-color);\n",
              "      border-right-color: var(--fill-color);\n",
              "    }\n",
              "    40% {\n",
              "      border-color: transparent;\n",
              "      border-right-color: var(--fill-color);\n",
              "      border-top-color: var(--fill-color);\n",
              "    }\n",
              "    60% {\n",
              "      border-color: transparent;\n",
              "      border-right-color: var(--fill-color);\n",
              "    }\n",
              "    80% {\n",
              "      border-color: transparent;\n",
              "      border-right-color: var(--fill-color);\n",
              "      border-bottom-color: var(--fill-color);\n",
              "    }\n",
              "    90% {\n",
              "      border-color: transparent;\n",
              "      border-bottom-color: var(--fill-color);\n",
              "    }\n",
              "  }\n",
              "</style>\n",
              "\n",
              "  <script>\n",
              "    async function quickchart(key) {\n",
              "      const quickchartButtonEl =\n",
              "        document.querySelector('#' + key + ' button');\n",
              "      quickchartButtonEl.disabled = true;  // To prevent multiple clicks.\n",
              "      quickchartButtonEl.classList.add('colab-df-spinner');\n",
              "      try {\n",
              "        const charts = await google.colab.kernel.invokeFunction(\n",
              "            'suggestCharts', [key], {});\n",
              "      } catch (error) {\n",
              "        console.error('Error during call to suggestCharts:', error);\n",
              "      }\n",
              "      quickchartButtonEl.classList.remove('colab-df-spinner');\n",
              "      quickchartButtonEl.classList.add('colab-df-quickchart-complete');\n",
              "    }\n",
              "    (() => {\n",
              "      let quickchartButtonEl =\n",
              "        document.querySelector('#df-575ab2bc-2f38-49a3-875a-cb3e386e1926 button');\n",
              "      quickchartButtonEl.style.display =\n",
              "        google.colab.kernel.accessAllowed ? 'block' : 'none';\n",
              "    })();\n",
              "  </script>\n",
              "</div>\n",
              "\n",
              "    </div>\n",
              "  </div>\n"
            ],
            "application/vnd.google.colaboratory.intrinsic+json": {
              "type": "dataframe",
              "variable_name": "df_encoded",
              "summary": "{\n  \"name\": \"df_encoded\",\n  \"rows\": 940,\n  \"fields\": [\n    {\n      \"column\": \"full_date\",\n      \"properties\": {\n        \"dtype\": \"object\",\n        \"num_unique_values\": 775,\n        \"samples\": [\n          \"13/02/2020\",\n          \"20/04/2018\",\n          \"25/05/2020\"\n        ],\n        \"semantic_type\": \"\",\n        \"description\": \"\"\n      }\n    },\n    {\n      \"column\": \"date\",\n      \"properties\": {\n        \"dtype\": \"category\",\n        \"num_unique_values\": 366,\n        \"samples\": [\n          \"Oct-05\",\n          \"Mar-14\",\n          \"Apr-01\"\n        ],\n        \"semantic_type\": \"\",\n        \"description\": \"\"\n      }\n    },\n    {\n      \"column\": \"weekday\",\n      \"properties\": {\n        \"dtype\": \"category\",\n        \"num_unique_values\": 7,\n        \"samples\": [\n          \"Friday\",\n          \"Thursday\",\n          \"Sunday\"\n        ],\n        \"semantic_type\": \"\",\n        \"description\": \"\"\n      }\n    },\n    {\n      \"column\": \"time\",\n      \"properties\": {\n        \"dtype\": \"object\",\n        \"num_unique_values\": 425,\n        \"samples\": [\n          \"8:39 pm\",\n          \"5:55 pm\",\n          \"9:28 pm\"\n        ],\n        \"semantic_type\": \"\",\n        \"description\": \"\"\n      }\n    },\n    {\n      \"column\": \"sub_mood\",\n      \"properties\": {\n        \"dtype\": \"category\",\n        \"num_unique_values\": 22,\n        \"samples\": [\n          \"yolo\",\n          \"Cool\",\n          \"hungry \"\n        ],\n        \"semantic_type\": \"\",\n        \"description\": \"\"\n      }\n    },\n    {\n      \"column\": \"activities\",\n      \"properties\": {\n        \"dtype\": \"string\",\n        \"num_unique_values\": 839,\n        \"samples\": [\n          \"reading | prayer | fasting  | Quran  | walk | meditation  | Audio books  | Watching series  | News Update | good meal | reddit | language learning  | streaming  | youtube | new things  | songs | designing  | penpal | coding  | Tutorial  | love\",\n          \"walk | Audio books  | research  | family | hospital \",\n          \"reading | learning  | fasting  | Audio books  | writing | Watching series  | News Update | good meal | reddit | language learning  | streaming  | youtube | movies | cooking | cleaning | research  | new things  | power nap | Documentary  | penpal | coding  | Tutorial \"\n        ],\n        \"semantic_type\": \"\",\n        \"description\": \"\"\n      }\n    },\n    {\n      \"column\": \"mood\",\n      \"properties\": {\n        \"dtype\": \"category\",\n        \"num_unique_values\": 5,\n        \"samples\": [\n          \"Normal\",\n          \"Bad\",\n          \"Awful\"\n        ],\n        \"semantic_type\": \"\",\n        \"description\": \"\"\n      }\n    }\n  ]\n}"
            }
          },
          "metadata": {},
          "execution_count": 4
        }
      ]
    },
    {
      "cell_type": "code",
      "source": [
        "df_encoded.tail()"
      ],
      "metadata": {
        "colab": {
          "base_uri": "https://localhost:8080/",
          "height": 206
        },
        "id": "miPi4ahRHOLr",
        "outputId": "4291bbee-2e5d-4cc8-d204-a6b8dba1c8b0"
      },
      "execution_count": 5,
      "outputs": [
        {
          "output_type": "execute_result",
          "data": {
            "text/plain": [
              "      full_date    date   weekday      time  sub_mood  \\\n",
              "935  04/02/2018  Feb-04    Sunday   8:19 pm      yolo   \n",
              "936  04/02/2018  Feb-04    Sunday  11:23 am       meh   \n",
              "937  04/02/2018  Feb-04    Sunday   6:34 am  blessed    \n",
              "938  03/02/2018  Feb-03  Saturday   7:52 pm     angry   \n",
              "939  03/02/2018  Feb-03  Saturday   3:12 pm       meh   \n",
              "\n",
              "                                            activities    mood  \n",
              "935  Write dairy  | walk | meditation  | Audio book...    Good  \n",
              "936                  meditation  | youtube | research   Normal  \n",
              "937              prayer | good meal | youtube | movies    Good  \n",
              "938      Write dairy  | Dota 2 | streaming  | shopping   Awful  \n",
              "939  walk | meditation  | Dota 2 | Audio books  | s...  Normal  "
            ],
            "text/html": [
              "\n",
              "  <div id=\"df-947fc158-2232-481d-a0ee-3f8f37653d23\" class=\"colab-df-container\">\n",
              "    <div>\n",
              "<style scoped>\n",
              "    .dataframe tbody tr th:only-of-type {\n",
              "        vertical-align: middle;\n",
              "    }\n",
              "\n",
              "    .dataframe tbody tr th {\n",
              "        vertical-align: top;\n",
              "    }\n",
              "\n",
              "    .dataframe thead th {\n",
              "        text-align: right;\n",
              "    }\n",
              "</style>\n",
              "<table border=\"1\" class=\"dataframe\">\n",
              "  <thead>\n",
              "    <tr style=\"text-align: right;\">\n",
              "      <th></th>\n",
              "      <th>full_date</th>\n",
              "      <th>date</th>\n",
              "      <th>weekday</th>\n",
              "      <th>time</th>\n",
              "      <th>sub_mood</th>\n",
              "      <th>activities</th>\n",
              "      <th>mood</th>\n",
              "    </tr>\n",
              "  </thead>\n",
              "  <tbody>\n",
              "    <tr>\n",
              "      <th>935</th>\n",
              "      <td>04/02/2018</td>\n",
              "      <td>Feb-04</td>\n",
              "      <td>Sunday</td>\n",
              "      <td>8:19 pm</td>\n",
              "      <td>yolo</td>\n",
              "      <td>Write dairy  | walk | meditation  | Audio book...</td>\n",
              "      <td>Good</td>\n",
              "    </tr>\n",
              "    <tr>\n",
              "      <th>936</th>\n",
              "      <td>04/02/2018</td>\n",
              "      <td>Feb-04</td>\n",
              "      <td>Sunday</td>\n",
              "      <td>11:23 am</td>\n",
              "      <td>meh</td>\n",
              "      <td>meditation  | youtube | research</td>\n",
              "      <td>Normal</td>\n",
              "    </tr>\n",
              "    <tr>\n",
              "      <th>937</th>\n",
              "      <td>04/02/2018</td>\n",
              "      <td>Feb-04</td>\n",
              "      <td>Sunday</td>\n",
              "      <td>6:34 am</td>\n",
              "      <td>blessed</td>\n",
              "      <td>prayer | good meal | youtube | movies</td>\n",
              "      <td>Good</td>\n",
              "    </tr>\n",
              "    <tr>\n",
              "      <th>938</th>\n",
              "      <td>03/02/2018</td>\n",
              "      <td>Feb-03</td>\n",
              "      <td>Saturday</td>\n",
              "      <td>7:52 pm</td>\n",
              "      <td>angry</td>\n",
              "      <td>Write dairy  | Dota 2 | streaming  | shopping</td>\n",
              "      <td>Awful</td>\n",
              "    </tr>\n",
              "    <tr>\n",
              "      <th>939</th>\n",
              "      <td>03/02/2018</td>\n",
              "      <td>Feb-03</td>\n",
              "      <td>Saturday</td>\n",
              "      <td>3:12 pm</td>\n",
              "      <td>meh</td>\n",
              "      <td>walk | meditation  | Dota 2 | Audio books  | s...</td>\n",
              "      <td>Normal</td>\n",
              "    </tr>\n",
              "  </tbody>\n",
              "</table>\n",
              "</div>\n",
              "    <div class=\"colab-df-buttons\">\n",
              "\n",
              "  <div class=\"colab-df-container\">\n",
              "    <button class=\"colab-df-convert\" onclick=\"convertToInteractive('df-947fc158-2232-481d-a0ee-3f8f37653d23')\"\n",
              "            title=\"Convert this dataframe to an interactive table.\"\n",
              "            style=\"display:none;\">\n",
              "\n",
              "  <svg xmlns=\"http://www.w3.org/2000/svg\" height=\"24px\" viewBox=\"0 -960 960 960\">\n",
              "    <path d=\"M120-120v-720h720v720H120Zm60-500h600v-160H180v160Zm220 220h160v-160H400v160Zm0 220h160v-160H400v160ZM180-400h160v-160H180v160Zm440 0h160v-160H620v160ZM180-180h160v-160H180v160Zm440 0h160v-160H620v160Z\"/>\n",
              "  </svg>\n",
              "    </button>\n",
              "\n",
              "  <style>\n",
              "    .colab-df-container {\n",
              "      display:flex;\n",
              "      gap: 12px;\n",
              "    }\n",
              "\n",
              "    .colab-df-convert {\n",
              "      background-color: #E8F0FE;\n",
              "      border: none;\n",
              "      border-radius: 50%;\n",
              "      cursor: pointer;\n",
              "      display: none;\n",
              "      fill: #1967D2;\n",
              "      height: 32px;\n",
              "      padding: 0 0 0 0;\n",
              "      width: 32px;\n",
              "    }\n",
              "\n",
              "    .colab-df-convert:hover {\n",
              "      background-color: #E2EBFA;\n",
              "      box-shadow: 0px 1px 2px rgba(60, 64, 67, 0.3), 0px 1px 3px 1px rgba(60, 64, 67, 0.15);\n",
              "      fill: #174EA6;\n",
              "    }\n",
              "\n",
              "    .colab-df-buttons div {\n",
              "      margin-bottom: 4px;\n",
              "    }\n",
              "\n",
              "    [theme=dark] .colab-df-convert {\n",
              "      background-color: #3B4455;\n",
              "      fill: #D2E3FC;\n",
              "    }\n",
              "\n",
              "    [theme=dark] .colab-df-convert:hover {\n",
              "      background-color: #434B5C;\n",
              "      box-shadow: 0px 1px 3px 1px rgba(0, 0, 0, 0.15);\n",
              "      filter: drop-shadow(0px 1px 2px rgba(0, 0, 0, 0.3));\n",
              "      fill: #FFFFFF;\n",
              "    }\n",
              "  </style>\n",
              "\n",
              "    <script>\n",
              "      const buttonEl =\n",
              "        document.querySelector('#df-947fc158-2232-481d-a0ee-3f8f37653d23 button.colab-df-convert');\n",
              "      buttonEl.style.display =\n",
              "        google.colab.kernel.accessAllowed ? 'block' : 'none';\n",
              "\n",
              "      async function convertToInteractive(key) {\n",
              "        const element = document.querySelector('#df-947fc158-2232-481d-a0ee-3f8f37653d23');\n",
              "        const dataTable =\n",
              "          await google.colab.kernel.invokeFunction('convertToInteractive',\n",
              "                                                    [key], {});\n",
              "        if (!dataTable) return;\n",
              "\n",
              "        const docLinkHtml = 'Like what you see? Visit the ' +\n",
              "          '<a target=\"_blank\" href=https://colab.research.google.com/notebooks/data_table.ipynb>data table notebook</a>'\n",
              "          + ' to learn more about interactive tables.';\n",
              "        element.innerHTML = '';\n",
              "        dataTable['output_type'] = 'display_data';\n",
              "        await google.colab.output.renderOutput(dataTable, element);\n",
              "        const docLink = document.createElement('div');\n",
              "        docLink.innerHTML = docLinkHtml;\n",
              "        element.appendChild(docLink);\n",
              "      }\n",
              "    </script>\n",
              "  </div>\n",
              "\n",
              "\n",
              "<div id=\"df-51fb9f6d-0259-49b4-b2c0-a09e57948c07\">\n",
              "  <button class=\"colab-df-quickchart\" onclick=\"quickchart('df-51fb9f6d-0259-49b4-b2c0-a09e57948c07')\"\n",
              "            title=\"Suggest charts\"\n",
              "            style=\"display:none;\">\n",
              "\n",
              "<svg xmlns=\"http://www.w3.org/2000/svg\" height=\"24px\"viewBox=\"0 0 24 24\"\n",
              "     width=\"24px\">\n",
              "    <g>\n",
              "        <path d=\"M19 3H5c-1.1 0-2 .9-2 2v14c0 1.1.9 2 2 2h14c1.1 0 2-.9 2-2V5c0-1.1-.9-2-2-2zM9 17H7v-7h2v7zm4 0h-2V7h2v10zm4 0h-2v-4h2v4z\"/>\n",
              "    </g>\n",
              "</svg>\n",
              "  </button>\n",
              "\n",
              "<style>\n",
              "  .colab-df-quickchart {\n",
              "      --bg-color: #E8F0FE;\n",
              "      --fill-color: #1967D2;\n",
              "      --hover-bg-color: #E2EBFA;\n",
              "      --hover-fill-color: #174EA6;\n",
              "      --disabled-fill-color: #AAA;\n",
              "      --disabled-bg-color: #DDD;\n",
              "  }\n",
              "\n",
              "  [theme=dark] .colab-df-quickchart {\n",
              "      --bg-color: #3B4455;\n",
              "      --fill-color: #D2E3FC;\n",
              "      --hover-bg-color: #434B5C;\n",
              "      --hover-fill-color: #FFFFFF;\n",
              "      --disabled-bg-color: #3B4455;\n",
              "      --disabled-fill-color: #666;\n",
              "  }\n",
              "\n",
              "  .colab-df-quickchart {\n",
              "    background-color: var(--bg-color);\n",
              "    border: none;\n",
              "    border-radius: 50%;\n",
              "    cursor: pointer;\n",
              "    display: none;\n",
              "    fill: var(--fill-color);\n",
              "    height: 32px;\n",
              "    padding: 0;\n",
              "    width: 32px;\n",
              "  }\n",
              "\n",
              "  .colab-df-quickchart:hover {\n",
              "    background-color: var(--hover-bg-color);\n",
              "    box-shadow: 0 1px 2px rgba(60, 64, 67, 0.3), 0 1px 3px 1px rgba(60, 64, 67, 0.15);\n",
              "    fill: var(--button-hover-fill-color);\n",
              "  }\n",
              "\n",
              "  .colab-df-quickchart-complete:disabled,\n",
              "  .colab-df-quickchart-complete:disabled:hover {\n",
              "    background-color: var(--disabled-bg-color);\n",
              "    fill: var(--disabled-fill-color);\n",
              "    box-shadow: none;\n",
              "  }\n",
              "\n",
              "  .colab-df-spinner {\n",
              "    border: 2px solid var(--fill-color);\n",
              "    border-color: transparent;\n",
              "    border-bottom-color: var(--fill-color);\n",
              "    animation:\n",
              "      spin 1s steps(1) infinite;\n",
              "  }\n",
              "\n",
              "  @keyframes spin {\n",
              "    0% {\n",
              "      border-color: transparent;\n",
              "      border-bottom-color: var(--fill-color);\n",
              "      border-left-color: var(--fill-color);\n",
              "    }\n",
              "    20% {\n",
              "      border-color: transparent;\n",
              "      border-left-color: var(--fill-color);\n",
              "      border-top-color: var(--fill-color);\n",
              "    }\n",
              "    30% {\n",
              "      border-color: transparent;\n",
              "      border-left-color: var(--fill-color);\n",
              "      border-top-color: var(--fill-color);\n",
              "      border-right-color: var(--fill-color);\n",
              "    }\n",
              "    40% {\n",
              "      border-color: transparent;\n",
              "      border-right-color: var(--fill-color);\n",
              "      border-top-color: var(--fill-color);\n",
              "    }\n",
              "    60% {\n",
              "      border-color: transparent;\n",
              "      border-right-color: var(--fill-color);\n",
              "    }\n",
              "    80% {\n",
              "      border-color: transparent;\n",
              "      border-right-color: var(--fill-color);\n",
              "      border-bottom-color: var(--fill-color);\n",
              "    }\n",
              "    90% {\n",
              "      border-color: transparent;\n",
              "      border-bottom-color: var(--fill-color);\n",
              "    }\n",
              "  }\n",
              "</style>\n",
              "\n",
              "  <script>\n",
              "    async function quickchart(key) {\n",
              "      const quickchartButtonEl =\n",
              "        document.querySelector('#' + key + ' button');\n",
              "      quickchartButtonEl.disabled = true;  // To prevent multiple clicks.\n",
              "      quickchartButtonEl.classList.add('colab-df-spinner');\n",
              "      try {\n",
              "        const charts = await google.colab.kernel.invokeFunction(\n",
              "            'suggestCharts', [key], {});\n",
              "      } catch (error) {\n",
              "        console.error('Error during call to suggestCharts:', error);\n",
              "      }\n",
              "      quickchartButtonEl.classList.remove('colab-df-spinner');\n",
              "      quickchartButtonEl.classList.add('colab-df-quickchart-complete');\n",
              "    }\n",
              "    (() => {\n",
              "      let quickchartButtonEl =\n",
              "        document.querySelector('#df-51fb9f6d-0259-49b4-b2c0-a09e57948c07 button');\n",
              "      quickchartButtonEl.style.display =\n",
              "        google.colab.kernel.accessAllowed ? 'block' : 'none';\n",
              "    })();\n",
              "  </script>\n",
              "</div>\n",
              "\n",
              "    </div>\n",
              "  </div>\n"
            ],
            "application/vnd.google.colaboratory.intrinsic+json": {
              "type": "dataframe",
              "repr_error": "0"
            }
          },
          "metadata": {},
          "execution_count": 5
        }
      ]
    },
    {
      "cell_type": "code",
      "execution_count": 6,
      "metadata": {
        "id": "wrIYAf3yBukv"
      },
      "outputs": [],
      "source": [
        "# Encode the 'mood' column\n",
        "label_encoder = LabelEncoder()\n",
        "df_encoded['mood_encoded'] = label_encoder.fit_transform(df_encoded['mood'])"
      ]
    },
    {
      "cell_type": "code",
      "execution_count": 7,
      "metadata": {
        "id": "2RPwtRXdBwXL"
      },
      "outputs": [],
      "source": [
        "# Drop the original 'mood' column\n",
        "df_encoded.drop(columns=['mood'], inplace=True)"
      ]
    },
    {
      "cell_type": "code",
      "execution_count": 8,
      "metadata": {
        "id": "Pr0PkK0GByNJ"
      },
      "outputs": [],
      "source": [
        "# Define the features and the target variable\n",
        "X = df_encoded.drop(columns=['full_date', 'date', 'time', 'activities', 'mood_encoded'])\n",
        "y = df_encoded['mood_encoded']"
      ]
    },
    {
      "cell_type": "code",
      "execution_count": null,
      "metadata": {
        "id": "FI2pjc9YB0Yy"
      },
      "outputs": [],
      "source": [
        "# Encode categorical features\n",
        "for column in X.columns:\n",
        "    if X[column].dtype == 'object':\n",
        "        X[column] = label_encoder.fit_transform(X[column])"
      ]
    },
    {
      "cell_type": "code",
      "execution_count": 10,
      "metadata": {
        "id": "eJtwqNnRB3Bx"
      },
      "outputs": [],
      "source": [
        "#Split the data into training and testing sets\n",
        "X_train, X_test, y_train, y_test = train_test_split(X, y, test_size=0.2, random_state=42)"
      ]
    },
    {
      "cell_type": "code",
      "execution_count": 11,
      "metadata": {
        "colab": {
          "base_uri": "https://localhost:8080/"
        },
        "id": "e8BwchvAB6U8",
        "outputId": "b3b9700e-5621-4878-8153-6f993a9c31ea"
      },
      "outputs": [
        {
          "output_type": "stream",
          "name": "stdout",
          "text": [
            "Shape of X_train: (752, 2)\n",
            "Shape of X_test: (188, 2)\n",
            "Shape of y_train: (752,)\n",
            "Shape of y_test: (188,)\n"
          ]
        }
      ],
      "source": [
        "# Check the shapes of the train and test sets\n",
        "print(\"Shape of X_train:\", X_train.shape)\n",
        "print(\"Shape of X_test:\", X_test.shape)\n",
        "print(\"Shape of y_train:\", y_train.shape)\n",
        "print(\"Shape of y_test:\", y_test.shape)"
      ]
    },
    {
      "cell_type": "code",
      "execution_count": 12,
      "metadata": {
        "id": "INOFdHysB8Bv"
      },
      "outputs": [],
      "source": [
        "# Determine the maximum index value in the input data\n",
        "max_index_value = int(X_train.max().max())"
      ]
    },
    {
      "cell_type": "code",
      "execution_count": 13,
      "metadata": {
        "id": "ueQ9U3CKCD9C"
      },
      "outputs": [],
      "source": [
        "# Define the GRU model\n",
        "model = Sequential([\n",
        "    Embedding(input_dim=max_index_value+1, output_dim=128, input_length=X_train.shape[1]),\n",
        "    GRU(128, return_sequences=True),\n",
        "    Dropout(0.2),\n",
        "    GRU(128),\n",
        "    Dropout(0.2),\n",
        "    Dense(len(label_encoder.classes_), activation='softmax')\n",
        "])"
      ]
    },
    {
      "cell_type": "code",
      "execution_count": 14,
      "metadata": {
        "colab": {
          "base_uri": "https://localhost:8080/"
        },
        "id": "UA37JOl6CGS7",
        "outputId": "a29a495f-7e2a-43e3-c0c5-6be1f6c6223b"
      },
      "outputs": [
        {
          "output_type": "stream",
          "name": "stdout",
          "text": [
            "Model: \"sequential\"\n",
            "_________________________________________________________________\n",
            " Layer (type)                Output Shape              Param #   \n",
            "=================================================================\n",
            " embedding (Embedding)       (None, 2, 128)            2816      \n",
            "                                                                 \n",
            " gru (GRU)                   (None, 2, 128)            99072     \n",
            "                                                                 \n",
            " dropout (Dropout)           (None, 2, 128)            0         \n",
            "                                                                 \n",
            " gru_1 (GRU)                 (None, 128)               99072     \n",
            "                                                                 \n",
            " dropout_1 (Dropout)         (None, 128)               0         \n",
            "                                                                 \n",
            " dense (Dense)               (None, 22)                2838      \n",
            "                                                                 \n",
            "=================================================================\n",
            "Total params: 203798 (796.09 KB)\n",
            "Trainable params: 203798 (796.09 KB)\n",
            "Non-trainable params: 0 (0.00 Byte)\n",
            "_________________________________________________________________\n"
          ]
        }
      ],
      "source": [
        "# Compile the model\n",
        "model.compile(optimizer='adam', loss='sparse_categorical_crossentropy', metrics=['accuracy'])\n",
        "\n",
        "# Summary of the model\n",
        "model.summary()"
      ]
    },
    {
      "cell_type": "code",
      "execution_count": 15,
      "metadata": {
        "colab": {
          "base_uri": "https://localhost:8080/"
        },
        "id": "1UVBX8e8CJHf",
        "outputId": "05a2bd94-1887-4624-d06e-079f1aa16a1b"
      },
      "outputs": [
        {
          "output_type": "stream",
          "name": "stdout",
          "text": [
            "Epoch 1/20\n",
            "12/12 [==============================] - 5s 95ms/step - loss: 2.9247 - accuracy: 0.4668 - val_loss: 2.5499 - val_accuracy: 0.5319\n",
            "Epoch 2/20\n",
            "12/12 [==============================] - 0s 18ms/step - loss: 1.9395 - accuracy: 0.5146 - val_loss: 1.3917 - val_accuracy: 0.5319\n",
            "Epoch 3/20\n",
            "12/12 [==============================] - 0s 18ms/step - loss: 1.3080 - accuracy: 0.5319 - val_loss: 1.1518 - val_accuracy: 0.5691\n",
            "Epoch 4/20\n",
            "12/12 [==============================] - 0s 19ms/step - loss: 1.0533 - accuracy: 0.5851 - val_loss: 0.8716 - val_accuracy: 0.5957\n",
            "Epoch 5/20\n",
            "12/12 [==============================] - 0s 18ms/step - loss: 0.7579 - accuracy: 0.7340 - val_loss: 0.5325 - val_accuracy: 0.8830\n",
            "Epoch 6/20\n",
            "12/12 [==============================] - 0s 18ms/step - loss: 0.4274 - accuracy: 0.8910 - val_loss: 0.3121 - val_accuracy: 0.9096\n",
            "Epoch 7/20\n",
            "12/12 [==============================] - 0s 19ms/step - loss: 0.2395 - accuracy: 0.9362 - val_loss: 0.1913 - val_accuracy: 0.9255\n",
            "Epoch 8/20\n",
            "12/12 [==============================] - 0s 18ms/step - loss: 0.1310 - accuracy: 0.9561 - val_loss: 0.1290 - val_accuracy: 0.9681\n",
            "Epoch 9/20\n",
            "12/12 [==============================] - 0s 18ms/step - loss: 0.0801 - accuracy: 0.9934 - val_loss: 0.0917 - val_accuracy: 0.9894\n",
            "Epoch 10/20\n",
            "12/12 [==============================] - 0s 17ms/step - loss: 0.0457 - accuracy: 0.9973 - val_loss: 0.0723 - val_accuracy: 0.9894\n",
            "Epoch 11/20\n",
            "12/12 [==============================] - 0s 17ms/step - loss: 0.0357 - accuracy: 0.9960 - val_loss: 0.0629 - val_accuracy: 0.9894\n",
            "Epoch 12/20\n",
            "12/12 [==============================] - 0s 19ms/step - loss: 0.0285 - accuracy: 0.9973 - val_loss: 0.0538 - val_accuracy: 0.9894\n",
            "Epoch 13/20\n",
            "12/12 [==============================] - 0s 18ms/step - loss: 0.0208 - accuracy: 0.9973 - val_loss: 0.0484 - val_accuracy: 0.9894\n",
            "Epoch 14/20\n",
            "12/12 [==============================] - 0s 18ms/step - loss: 0.0202 - accuracy: 0.9973 - val_loss: 0.0424 - val_accuracy: 0.9894\n",
            "Epoch 15/20\n",
            "12/12 [==============================] - 0s 17ms/step - loss: 0.0152 - accuracy: 0.9973 - val_loss: 0.0374 - val_accuracy: 0.9894\n",
            "Epoch 16/20\n",
            "12/12 [==============================] - 0s 36ms/step - loss: 0.0162 - accuracy: 0.9973 - val_loss: 0.0335 - val_accuracy: 0.9894\n",
            "Epoch 17/20\n",
            "12/12 [==============================] - 0s 33ms/step - loss: 0.0129 - accuracy: 0.9987 - val_loss: 0.0315 - val_accuracy: 0.9894\n",
            "Epoch 18/20\n",
            "12/12 [==============================] - 1s 56ms/step - loss: 0.0115 - accuracy: 0.9973 - val_loss: 0.0262 - val_accuracy: 0.9894\n",
            "Epoch 19/20\n",
            "12/12 [==============================] - 1s 50ms/step - loss: 0.0115 - accuracy: 0.9973 - val_loss: 0.0221 - val_accuracy: 0.9894\n",
            "Epoch 20/20\n",
            "12/12 [==============================] - 1s 64ms/step - loss: 0.0076 - accuracy: 0.9987 - val_loss: 0.0224 - val_accuracy: 0.9894\n",
            "6/6 [==============================] - 0s 7ms/step - loss: 0.0224 - accuracy: 0.9894\n",
            "Test Loss: 0.022398021072149277\n",
            "Test Accuracy: 0.9893617033958435\n"
          ]
        }
      ],
      "source": [
        "# Train the model\n",
        "history = model.fit(X_train, y_train, epochs=20, batch_size=64, validation_data=(X_test, y_test))\n",
        "\n",
        "# Evaluate the model\n",
        "loss, accuracy = model.evaluate(X_test, y_test)\n",
        "print(\"Test Loss:\", loss)\n",
        "print(\"Test Accuracy:\", accuracy)"
      ]
    },
    {
      "cell_type": "code",
      "execution_count": 16,
      "metadata": {
        "colab": {
          "base_uri": "https://localhost:8080/"
        },
        "id": "CBjctCngCNz0",
        "outputId": "67a1941c-7eb4-4d36-dbb2-bbb38c9761ef"
      },
      "outputs": [
        {
          "output_type": "stream",
          "name": "stdout",
          "text": [
            "6/6 [==============================] - 1s 4ms/step\n"
          ]
        }
      ],
      "source": [
        "# Make predictions on the test set\n",
        "y_pred_probabilities = model.predict(X_test)\n",
        "y_pred = y_pred_probabilities.argmax(axis=1)\n",
        "\n",
        "# Map encoded labels back to original moods\n",
        "y_pred_moods = label_encoder.inverse_transform(y_pred)\n",
        "\n",
        "# Define suggestions for each mood\n",
        "mood_suggestions = {\n",
        "    'happy': [\"Keep up the good work!\", \"Share your happiness with friends.\", \"Take a moment to enjoy your day.\"],\n",
        "    'sad': [\"Try some meditation or deep breathing exercises.\", \"Talk to a friend or family member.\", \"Engage in a hobby you enjoy.\"],\n",
        "    'angry': [\"Take a walk to cool down.\", \"Practice deep breathing.\", \"Write down what made you angry and reflect on it.\"],\n",
        "    'anxious': [\"Try some deep breathing exercises.\", \"Listen to calming music.\", \"Take a break and do something you enjoy.\"],\n",
        "    'neutral': [\"Maintain your current routine.\", \"Try something new to break the monotony.\", \"Reflect on your day and plan for tomorrow.\"],\n",
        "    'awful': [\"Take a moment to acknowledge your feelings and allow yourself to experience them without judgment.\", \"Reach out to a trusted friend or family member for support.\", \"Engage in self-care activities such as taking a warm bath, going for a walk in nature, or practicing mindfulness meditation.\"],\n",
        "    'Chill': [\"Embrace the calmness and relaxation you're feeling.\", \"Use this time to engage in activities that bring you joy and contentment, such as reading a book, listening to your favorite music, or spending time with loved ones.\", \"Reflect on what may have contributed to this sense of calmness and consider incorporating similar activities into your daily routine to promote overall well-being.\"],\n",
        "    'bad': [\"Acknowledge that it's okay to not feel your best sometimes, and remember that feelings are temporary.\", \"Take a moment to identify any triggers or stressors that may have led to this mood and consider ways to address them.\", \"Practice self-compassion and engage in activities that uplift your mood, such as exercise, creative expression, or spending time with pets.\"],\n",
        "    # Add more moods and suggestions as needed\n",
        "}"
      ]
    },
    {
      "cell_type": "code",
      "execution_count": 17,
      "metadata": {
        "colab": {
          "base_uri": "https://localhost:8080/"
        },
        "id": "GH0cuHD1CQ-B",
        "outputId": "9f7d9a49-ba97-4920-e0e9-f10b37929a4c"
      },
      "outputs": [
        {
          "output_type": "stream",
          "name": "stdout",
          "text": [
            "Enter your current mood (happy, sad, angry, anxious, neutral, awful, Chill, bad): happy\n",
            "Suggestions for your mood:\n",
            "- Keep up the good work!\n",
            "- Share your happiness with friends.\n",
            "- Take a moment to enjoy your day.\n"
          ]
        }
      ],
      "source": [
        "# Function to get mood input from the user and provide suggestions\n",
        "def get_mood_suggestions():\n",
        "    while True:\n",
        "        mood_input = input(\"Enter your current mood (happy, sad, angry, anxious, neutral, awful, Chill, bad): \").lower()\n",
        "        if mood_input in mood_suggestions:\n",
        "            print(\"Suggestions for your mood:\")\n",
        "            for suggestion in mood_suggestions[mood_input]:\n",
        "                print(\"- \" + suggestion)\n",
        "            break\n",
        "        else:\n",
        "            print(\"Invalid mood! Please enter a valid mood.\")\n",
        "\n",
        "# Call the function to get mood suggestions\n",
        "get_mood_suggestions()"
      ]
    },
    {
      "cell_type": "code",
      "execution_count": 18,
      "metadata": {
        "colab": {
          "base_uri": "https://localhost:8080/"
        },
        "id": "qDs8YdyMCVlN",
        "outputId": "9563555b-d0ce-4235-febc-21c5655b74c3"
      },
      "outputs": [
        {
          "output_type": "stream",
          "name": "stdout",
          "text": [
            "Enter your current mood (happy, sad, angry, anxious, neutral, awful, Chill, bad): bad\n",
            "Suggestions for your mood:\n",
            "- Acknowledge that it's okay to not feel your best sometimes, and remember that feelings are temporary.\n",
            "- Take a moment to identify any triggers or stressors that may have led to this mood and consider ways to address them.\n",
            "- Practice self-compassion and engage in activities that uplift your mood, such as exercise, creative expression, or spending time with pets.\n"
          ]
        }
      ],
      "source": [
        "get_mood_suggestions()"
      ]
    },
    {
      "cell_type": "code",
      "execution_count": 19,
      "metadata": {
        "id": "RzUgvUbzP0XD",
        "colab": {
          "base_uri": "https://localhost:8080/"
        },
        "outputId": "d1c38527-aa44-4509-d483-16286b8e8d42"
      },
      "outputs": [
        {
          "output_type": "stream",
          "name": "stdout",
          "text": [
            "Enter your current mood (happy, sad, angry, anxious, neutral, awful, Chill, bad): angry\n",
            "Suggestions for your mood:\n",
            "- Take a walk to cool down.\n",
            "- Practice deep breathing.\n",
            "- Write down what made you angry and reflect on it.\n"
          ]
        }
      ],
      "source": [
        "get_mood_suggestions()"
      ]
    },
    {
      "cell_type": "code",
      "source": [
        "import matplotlib.pyplot as plt\n",
        "# Plot training & validation accuracy values\n",
        "plt.figure(figsize=(12, 4))\n",
        "plt.subplot(1, 2, 1)\n",
        "plt.plot(history.history['accuracy'])\n",
        "plt.plot(history.history['val_accuracy'])\n",
        "plt.title('Model accuracy')\n",
        "plt.ylabel('Accuracy')\n",
        "plt.xlabel('Epoch')\n",
        "plt.legend(['Train', 'Validation'], loc='upper left')\n",
        "\n",
        "# Plot training & validation loss values\n",
        "plt.subplot(1, 2, 2)\n",
        "plt.plot(history.history['loss'])\n",
        "plt.plot(history.history['val_loss'])\n",
        "plt.title('Model loss')\n",
        "plt.ylabel('Loss')\n",
        "plt.xlabel('Epoch')\n",
        "plt.legend(['Train', 'Validation'], loc='upper left')\n",
        "\n",
        "plt.tight_layout()\n",
        "plt.show()"
      ],
      "metadata": {
        "colab": {
          "base_uri": "https://localhost:8080/",
          "height": 407
        },
        "id": "ItxHpR-PHzjo",
        "outputId": "64e8f431-1a96-442b-92ad-7cfa960e76da"
      },
      "execution_count": 20,
      "outputs": [
        {
          "output_type": "display_data",
          "data": {
            "text/plain": [
              "<Figure size 1200x400 with 2 Axes>"
            ],
            "image/png": "[encoded data removed]"
          },
          "metadata": {}
        }
      ]
    },
    {
      "cell_type": "code",
      "source": [],
      "metadata": {
        "id": "vQ34mD0fIQXp"
      },
      "execution_count": null,
      "outputs": []
    }
  ],
  "metadata": {
    "colab": {
      "provenance": []
    },
    "kernelspec": {
      "display_name": "Python 3",
      "name": "python3"
    },
    "language_info": {
      "name": "python"
    }
  },
  "nbformat": 4,
  "nbformat_minor": 0
}