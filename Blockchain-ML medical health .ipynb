import pandas as pd
from sklearn.model_selection import train_test_split
from sklearn.ensemble import RandomForestClassifier, VotingClassifier
from xgboost import XGBClassifier
from sklearn.preprocessing import LabelEncoder, StandardScaler
import time
import os

# Setting Kaggle username and key using environment variables
os.environ['KAGGLE_USERNAME'] = 'your_kaggle_username'
os.environ['KAGGLE_KEY'] = 'your_kaggle_api_key'

from kaggle.api.kaggle_api_extended import KaggleApi

class Blockchain:
    def __init__(self):
        self.chain = []
        self.current_reports = []
        self.create_block(proof=1, previous_hash='0')
        self.reports = {}

    def create_block(self, proof, previous_hash):
        block = {
            'index': len(self.chain) + 1,
            'timestamp': time.time(),  
            'proof': proof,
            'previous_hash': previous_hash,
            'reports': self.current_reports
        }
        self.chain.append(block)
        self.current_reports = []
        return block

    def add_report(self, stress_value, diagnosis, key):
        report = {
            'stress_value': stress_value,
            'diagnosis': diagnosis
        }
        self.reports.setdefault(key, []).append(report)
        self.current_reports.append(report)

    def get_reports_by_key(self, key):
        return self.reports.get(key, [])

def download_data():
    api = KaggleApi()
    api.authenticate()
    api.dataset_download_files('utkarshx27/heart-disease-diagnosis-dataset', unzip=True)
    data_dir = os.path.join(os.getcwd(), 'heart-disease-diagnosis-dataset')
    return os.path.join(data_dir, 'dataset_heart.csv')

def load_and_prepare_data(file_path):
    df = pd.read_csv(file_path, encoding='latin1')
    df = preprocess_data(df)
    X, y = df.drop("Stress Level", axis=1), df["Stress Level"]
    return X, y

def preprocess_data(df):
    # Drop irrelevant columns
    df = df.drop(columns=['Patient ID', 'Diabetes', 'Family History', 'Smoking', 
                          'Alcohol Consumption', 'Diet', 'Previous Heart Problems', 
                          'Medication Use', 'Sedentary Hours Per Day', 'Income', 
                          'BMI', 'Triglycerides', 'Country', 'Continent', 'Hemisphere', 
                          'Heart Attack Risk', 'Obesity'])
    # Encode categorical variables
    label_encoder = LabelEncoder()
    df['Sex'] = label_encoder.fit_transform(df['Sex'])
    # Process Blood Pressure column
    df['Blood Pressure'] = df['Blood Pressure'].str.replace('/', '').astype(float)
    return df

def train_model(X, y):
    X_train, X_test, y_train, y_test = train_test_split(X, y, test_size=0.2, random_state=42)
    scaler = StandardScaler()
    X_train_scaled = scaler.fit_transform(X_train)
    X_test_scaled = scaler.transform(X_test)
    rf_clf = RandomForestClassifier(random_state=42)
    xgb_clf = XGBClassifier(random_state=42)
    voting_clf = VotingClassifier(estimators=[('rf', rf_clf), ('xgb', xgb_clf)], voting='soft')
    voting_clf.fit(X_train_scaled, y_train)
    return voting_clf, scaler

def predict_stress_level(model, scaler, user_input):
    user_input_scaled = scaler.transform([user_input])
    predicted_stress_level = model.predict(user_input_scaled)[0]
    return predicted_stress_level

def get_diagnosis(stress_level):
    if stress_level <= 3:
        return "Stress level is in control."
    elif stress_level <= 7:
        return "Moderate stress level. Do some outdoor activity."
    else:
        return "Consult a doctor, your stress level is very high."

def get_user_input():
    user_input = {}
    user_input['Age'] = float(input("Enter Age: "))
    user_input['Sex'] = 1 if input("Enter Sex (Male/Female): ").lower() == 'male' else 0
    user_input['Cholesterol'] = float(input("Enter Cholesterol level: "))
    user_input['Blood Pressure'] = float(input("Enter Blood Pressure: "))
    user_input['Heart Rate'] = float(input("Enter Heart Rate: "))
    user_input['Exercise Hours Per Week'] = float(input("Enter Exercise Hours Per Week: "))
    user_input['Physical Activity Days Per Week'] = float(input("Enter Physical Activity Days Per Week: "))
    user_input['Sleep Hours Per Day'] = float(input("Enter Sleep Hours Per Day: "))
    return user_input

# Download data
file_path = download_data()

# Load and prepare data
X, y = load_and_prepare_data(file_path)

# Train model
model, scaler = train_model(X, y)

# Get user input
user_input = get_user_input()

# Predict stress level
predicted_stress_level = predict_stress_level(model, scaler, user_input)

# Get diagnosis
diagnosis = get_diagnosis(predicted_stress_level)

# Create blockchain instance
blockchain = Blockchain()

# Add medical report to blockchain
key = input("Enter a key to save the report: ")
blockchain.add_report(predicted_stress_level, diagnosis, key)
print("Medical report created and saved successfully!")

# Retrieve medical reports from blockchain
key_to_retrieve = input("Enter your key to retrieve the reports: ")
reports = blockchain.get_reports_by_key(key_to_retrieve)

if reports:
    print("All medical reports associated with the key:")
    for i, report in enumerate(reports, start=1):
        print(f"Report {i}: Stress Value: {report['stress_value']}, Diagnosis: {report['diagnosis']}")
else:
    print("No reports found for this key.")
