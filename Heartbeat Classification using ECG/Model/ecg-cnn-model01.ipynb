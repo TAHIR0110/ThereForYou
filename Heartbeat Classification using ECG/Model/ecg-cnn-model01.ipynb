{
 "cells": [
  {
   "cell_type": "markdown",
   "metadata": {},
   "source": [
    "In this model we will use two famous datasets for heartbeat classification:\n",
    "* MIT-BIH Arrhythmia Dataset\n",
    "\n",
    "The datasets contain signals that correspond to the shapes of heartbeats '\\n'\n",
    "obtained by an electrocardiogram (ECG). These signals are preprocessed \\n\n",
    "and segmented so that each segment corresponds to a beat.\n",
    "\n",
    "**MIT-BIH Arrythmia Dataset**\n",
    "\n",
    "    Number of Samples: 109446\n",
    "    Number of Categories: 5\n",
    "    Sampling Frequency: 125Hz\n",
    "    Data Source: Physionet's MIT-BIH Arrhythmia Dataset\n",
    "    Classes: ['N': 0, 'S': 1, 'V': 2, 'F': 3, 'Q': 4]\n"
   ]
  },
  {
   "cell_type": "markdown",
   "metadata": {},
   "source": [
    "### ECG-CLASSIFICATION OF SIGNALS"
   ]
  },
  {
   "cell_type": "markdown",
   "metadata": {},
   "source": [
    "### Loading the Data"
   ]
  },
  {
   "cell_type": "code",
   "execution_count": 1,
   "metadata": {
    "execution": {
     "iopub.execute_input": "2022-08-06T04:32:14.434364Z",
     "iopub.status.busy": "2022-08-06T04:32:14.433583Z",
     "iopub.status.idle": "2022-08-06T04:32:21.353541Z",
     "shell.execute_reply": "2022-08-06T04:32:21.352443Z",
     "shell.execute_reply.started": "2022-08-06T04:32:14.434318Z"
    }
   },
   "outputs": [],
   "source": [
    "import numpy as np\n",
    "import pandas as pd\n",
    "import matplotlib.pyplot as plt\n",
    "from keras.utils.np_utils import to_categorical\n",
    "from sklearn.utils import class_weight,resample"
   ]
  },
  {
   "cell_type": "code",
   "execution_count": 2,
   "metadata": {
    "execution": {
     "iopub.execute_input": "2022-08-06T04:32:21.357674Z",
     "iopub.status.busy": "2022-08-06T04:32:21.356039Z",
     "iopub.status.idle": "2022-08-06T04:32:32.124017Z",
     "shell.execute_reply": "2022-08-06T04:32:32.122823Z",
     "shell.execute_reply.started": "2022-08-06T04:32:21.357622Z"
    }
   },
   "outputs": [],
   "source": [
    "train_df = pd.read_csv('datasets_ecg/mitbih_train.csv',header=None)\n",
    "tests_df = pd.read_csv('datasets_ecg/mitbih_test.csv',header=None)"
   ]
  },
  {
   "cell_type": "code",
   "execution_count": 3,
   "metadata": {
    "execution": {
     "iopub.execute_input": "2022-08-06T04:32:32.125836Z",
     "iopub.status.busy": "2022-08-06T04:32:32.125467Z",
     "iopub.status.idle": "2022-08-06T04:32:32.185169Z",
     "shell.execute_reply": "2022-08-06T04:32:32.183851Z",
     "shell.execute_reply.started": "2022-08-06T04:32:32.125802Z"
    }
   },
   "outputs": [
    {
     "data": {
      "text/html": [
       "<div>\n",
       "<style scoped>\n",
       "    .dataframe tbody tr th:only-of-type {\n",
       "        vertical-align: middle;\n",
       "    }\n",
       "\n",
       "    .dataframe tbody tr th {\n",
       "        vertical-align: top;\n",
       "    }\n",
       "\n",
       "    .dataframe thead th {\n",
       "        text-align: right;\n",
       "    }\n",
       "</style>\n",
       "<table border=\"1\" class=\"dataframe\">\n",
       "  <thead>\n",
       "    <tr style=\"text-align: right;\">\n",
       "      <th></th>\n",
       "      <th>0</th>\n",
       "      <th>1</th>\n",
       "      <th>2</th>\n",
       "      <th>3</th>\n",
       "      <th>4</th>\n",
       "      <th>5</th>\n",
       "      <th>6</th>\n",
       "      <th>7</th>\n",
       "      <th>8</th>\n",
       "      <th>9</th>\n",
       "      <th>...</th>\n",
       "      <th>178</th>\n",
       "      <th>179</th>\n",
       "      <th>180</th>\n",
       "      <th>181</th>\n",
       "      <th>182</th>\n",
       "      <th>183</th>\n",
       "      <th>184</th>\n",
       "      <th>185</th>\n",
       "      <th>186</th>\n",
       "      <th>187</th>\n",
       "    </tr>\n",
       "  </thead>\n",
       "  <tbody>\n",
       "    <tr>\n",
       "      <th>0</th>\n",
       "      <td>0.977941</td>\n",
       "      <td>0.926471</td>\n",
       "      <td>0.681373</td>\n",
       "      <td>0.245098</td>\n",
       "      <td>0.154412</td>\n",
       "      <td>0.191176</td>\n",
       "      <td>0.151961</td>\n",
       "      <td>0.085784</td>\n",
       "      <td>0.058824</td>\n",
       "      <td>0.049020</td>\n",
       "      <td>...</td>\n",
       "      <td>0.0</td>\n",
       "      <td>0.0</td>\n",
       "      <td>0.0</td>\n",
       "      <td>0.0</td>\n",
       "      <td>0.0</td>\n",
       "      <td>0.0</td>\n",
       "      <td>0.0</td>\n",
       "      <td>0.0</td>\n",
       "      <td>0.0</td>\n",
       "      <td>0.0</td>\n",
       "    </tr>\n",
       "    <tr>\n",
       "      <th>1</th>\n",
       "      <td>0.960114</td>\n",
       "      <td>0.863248</td>\n",
       "      <td>0.461538</td>\n",
       "      <td>0.196581</td>\n",
       "      <td>0.094017</td>\n",
       "      <td>0.125356</td>\n",
       "      <td>0.099715</td>\n",
       "      <td>0.088319</td>\n",
       "      <td>0.074074</td>\n",
       "      <td>0.082621</td>\n",
       "      <td>...</td>\n",
       "      <td>0.0</td>\n",
       "      <td>0.0</td>\n",
       "      <td>0.0</td>\n",
       "      <td>0.0</td>\n",
       "      <td>0.0</td>\n",
       "      <td>0.0</td>\n",
       "      <td>0.0</td>\n",
       "      <td>0.0</td>\n",
       "      <td>0.0</td>\n",
       "      <td>0.0</td>\n",
       "    </tr>\n",
       "    <tr>\n",
       "      <th>2</th>\n",
       "      <td>1.000000</td>\n",
       "      <td>0.659459</td>\n",
       "      <td>0.186486</td>\n",
       "      <td>0.070270</td>\n",
       "      <td>0.070270</td>\n",
       "      <td>0.059459</td>\n",
       "      <td>0.056757</td>\n",
       "      <td>0.043243</td>\n",
       "      <td>0.054054</td>\n",
       "      <td>0.045946</td>\n",
       "      <td>...</td>\n",
       "      <td>0.0</td>\n",
       "      <td>0.0</td>\n",
       "      <td>0.0</td>\n",
       "      <td>0.0</td>\n",
       "      <td>0.0</td>\n",
       "      <td>0.0</td>\n",
       "      <td>0.0</td>\n",
       "      <td>0.0</td>\n",
       "      <td>0.0</td>\n",
       "      <td>0.0</td>\n",
       "    </tr>\n",
       "    <tr>\n",
       "      <th>3</th>\n",
       "      <td>0.925414</td>\n",
       "      <td>0.665746</td>\n",
       "      <td>0.541436</td>\n",
       "      <td>0.276243</td>\n",
       "      <td>0.196133</td>\n",
       "      <td>0.077348</td>\n",
       "      <td>0.071823</td>\n",
       "      <td>0.060773</td>\n",
       "      <td>0.066298</td>\n",
       "      <td>0.058011</td>\n",
       "      <td>...</td>\n",
       "      <td>0.0</td>\n",
       "      <td>0.0</td>\n",
       "      <td>0.0</td>\n",
       "      <td>0.0</td>\n",
       "      <td>0.0</td>\n",
       "      <td>0.0</td>\n",
       "      <td>0.0</td>\n",
       "      <td>0.0</td>\n",
       "      <td>0.0</td>\n",
       "      <td>0.0</td>\n",
       "    </tr>\n",
       "    <tr>\n",
       "      <th>4</th>\n",
       "      <td>0.967136</td>\n",
       "      <td>1.000000</td>\n",
       "      <td>0.830986</td>\n",
       "      <td>0.586854</td>\n",
       "      <td>0.356808</td>\n",
       "      <td>0.248826</td>\n",
       "      <td>0.145540</td>\n",
       "      <td>0.089202</td>\n",
       "      <td>0.117371</td>\n",
       "      <td>0.150235</td>\n",
       "      <td>...</td>\n",
       "      <td>0.0</td>\n",
       "      <td>0.0</td>\n",
       "      <td>0.0</td>\n",
       "      <td>0.0</td>\n",
       "      <td>0.0</td>\n",
       "      <td>0.0</td>\n",
       "      <td>0.0</td>\n",
       "      <td>0.0</td>\n",
       "      <td>0.0</td>\n",
       "      <td>0.0</td>\n",
       "    </tr>\n",
       "    <tr>\n",
       "      <th>...</th>\n",
       "      <td>...</td>\n",
       "      <td>...</td>\n",
       "      <td>...</td>\n",
       "      <td>...</td>\n",
       "      <td>...</td>\n",
       "      <td>...</td>\n",
       "      <td>...</td>\n",
       "      <td>...</td>\n",
       "      <td>...</td>\n",
       "      <td>...</td>\n",
       "      <td>...</td>\n",
       "      <td>...</td>\n",
       "      <td>...</td>\n",
       "      <td>...</td>\n",
       "      <td>...</td>\n",
       "      <td>...</td>\n",
       "      <td>...</td>\n",
       "      <td>...</td>\n",
       "      <td>...</td>\n",
       "      <td>...</td>\n",
       "      <td>...</td>\n",
       "    </tr>\n",
       "    <tr>\n",
       "      <th>87549</th>\n",
       "      <td>0.807018</td>\n",
       "      <td>0.494737</td>\n",
       "      <td>0.536842</td>\n",
       "      <td>0.529825</td>\n",
       "      <td>0.491228</td>\n",
       "      <td>0.484211</td>\n",
       "      <td>0.456140</td>\n",
       "      <td>0.396491</td>\n",
       "      <td>0.284211</td>\n",
       "      <td>0.136842</td>\n",
       "      <td>...</td>\n",
       "      <td>0.0</td>\n",
       "      <td>0.0</td>\n",
       "      <td>0.0</td>\n",
       "      <td>0.0</td>\n",
       "      <td>0.0</td>\n",
       "      <td>0.0</td>\n",
       "      <td>0.0</td>\n",
       "      <td>0.0</td>\n",
       "      <td>0.0</td>\n",
       "      <td>4.0</td>\n",
       "    </tr>\n",
       "    <tr>\n",
       "      <th>87550</th>\n",
       "      <td>0.718333</td>\n",
       "      <td>0.605000</td>\n",
       "      <td>0.486667</td>\n",
       "      <td>0.361667</td>\n",
       "      <td>0.231667</td>\n",
       "      <td>0.120000</td>\n",
       "      <td>0.051667</td>\n",
       "      <td>0.001667</td>\n",
       "      <td>0.000000</td>\n",
       "      <td>0.013333</td>\n",
       "      <td>...</td>\n",
       "      <td>0.0</td>\n",
       "      <td>0.0</td>\n",
       "      <td>0.0</td>\n",
       "      <td>0.0</td>\n",
       "      <td>0.0</td>\n",
       "      <td>0.0</td>\n",
       "      <td>0.0</td>\n",
       "      <td>0.0</td>\n",
       "      <td>0.0</td>\n",
       "      <td>4.0</td>\n",
       "    </tr>\n",
       "    <tr>\n",
       "      <th>87551</th>\n",
       "      <td>0.906122</td>\n",
       "      <td>0.624490</td>\n",
       "      <td>0.595918</td>\n",
       "      <td>0.575510</td>\n",
       "      <td>0.530612</td>\n",
       "      <td>0.481633</td>\n",
       "      <td>0.444898</td>\n",
       "      <td>0.387755</td>\n",
       "      <td>0.322449</td>\n",
       "      <td>0.191837</td>\n",
       "      <td>...</td>\n",
       "      <td>0.0</td>\n",
       "      <td>0.0</td>\n",
       "      <td>0.0</td>\n",
       "      <td>0.0</td>\n",
       "      <td>0.0</td>\n",
       "      <td>0.0</td>\n",
       "      <td>0.0</td>\n",
       "      <td>0.0</td>\n",
       "      <td>0.0</td>\n",
       "      <td>4.0</td>\n",
       "    </tr>\n",
       "    <tr>\n",
       "      <th>87552</th>\n",
       "      <td>0.858228</td>\n",
       "      <td>0.645570</td>\n",
       "      <td>0.845570</td>\n",
       "      <td>0.248101</td>\n",
       "      <td>0.167089</td>\n",
       "      <td>0.131646</td>\n",
       "      <td>0.121519</td>\n",
       "      <td>0.121519</td>\n",
       "      <td>0.118987</td>\n",
       "      <td>0.103797</td>\n",
       "      <td>...</td>\n",
       "      <td>0.0</td>\n",
       "      <td>0.0</td>\n",
       "      <td>0.0</td>\n",
       "      <td>0.0</td>\n",
       "      <td>0.0</td>\n",
       "      <td>0.0</td>\n",
       "      <td>0.0</td>\n",
       "      <td>0.0</td>\n",
       "      <td>0.0</td>\n",
       "      <td>4.0</td>\n",
       "    </tr>\n",
       "    <tr>\n",
       "      <th>87553</th>\n",
       "      <td>0.901506</td>\n",
       "      <td>0.845886</td>\n",
       "      <td>0.800695</td>\n",
       "      <td>0.748552</td>\n",
       "      <td>0.687138</td>\n",
       "      <td>0.599073</td>\n",
       "      <td>0.512167</td>\n",
       "      <td>0.427578</td>\n",
       "      <td>0.395133</td>\n",
       "      <td>0.402086</td>\n",
       "      <td>...</td>\n",
       "      <td>0.0</td>\n",
       "      <td>0.0</td>\n",
       "      <td>0.0</td>\n",
       "      <td>0.0</td>\n",
       "      <td>0.0</td>\n",
       "      <td>0.0</td>\n",
       "      <td>0.0</td>\n",
       "      <td>0.0</td>\n",
       "      <td>0.0</td>\n",
       "      <td>4.0</td>\n",
       "    </tr>\n",
       "  </tbody>\n",
       "</table>\n",
       "<p>87554 rows × 188 columns</p>\n",
       "</div>"
      ],
      "text/plain": [
       "            0         1         2         3         4         5         6    \\\n",
       "0      0.977941  0.926471  0.681373  0.245098  0.154412  0.191176  0.151961   \n",
       "1      0.960114  0.863248  0.461538  0.196581  0.094017  0.125356  0.099715   \n",
       "2      1.000000  0.659459  0.186486  0.070270  0.070270  0.059459  0.056757   \n",
       "3      0.925414  0.665746  0.541436  0.276243  0.196133  0.077348  0.071823   \n",
       "4      0.967136  1.000000  0.830986  0.586854  0.356808  0.248826  0.145540   \n",
       "...         ...       ...       ...       ...       ...       ...       ...   \n",
       "87549  0.807018  0.494737  0.536842  0.529825  0.491228  0.484211  0.456140   \n",
       "87550  0.718333  0.605000  0.486667  0.361667  0.231667  0.120000  0.051667   \n",
       "87551  0.906122  0.624490  0.595918  0.575510  0.530612  0.481633  0.444898   \n",
       "87552  0.858228  0.645570  0.845570  0.248101  0.167089  0.131646  0.121519   \n",
       "87553  0.901506  0.845886  0.800695  0.748552  0.687138  0.599073  0.512167   \n",
       "\n",
       "            7         8         9    ...  178  179  180  181  182  183  184  \\\n",
       "0      0.085784  0.058824  0.049020  ...  0.0  0.0  0.0  0.0  0.0  0.0  0.0   \n",
       "1      0.088319  0.074074  0.082621  ...  0.0  0.0  0.0  0.0  0.0  0.0  0.0   \n",
       "2      0.043243  0.054054  0.045946  ...  0.0  0.0  0.0  0.0  0.0  0.0  0.0   \n",
       "3      0.060773  0.066298  0.058011  ...  0.0  0.0  0.0  0.0  0.0  0.0  0.0   \n",
       "4      0.089202  0.117371  0.150235  ...  0.0  0.0  0.0  0.0  0.0  0.0  0.0   \n",
       "...         ...       ...       ...  ...  ...  ...  ...  ...  ...  ...  ...   \n",
       "87549  0.396491  0.284211  0.136842  ...  0.0  0.0  0.0  0.0  0.0  0.0  0.0   \n",
       "87550  0.001667  0.000000  0.013333  ...  0.0  0.0  0.0  0.0  0.0  0.0  0.0   \n",
       "87551  0.387755  0.322449  0.191837  ...  0.0  0.0  0.0  0.0  0.0  0.0  0.0   \n",
       "87552  0.121519  0.118987  0.103797  ...  0.0  0.0  0.0  0.0  0.0  0.0  0.0   \n",
       "87553  0.427578  0.395133  0.402086  ...  0.0  0.0  0.0  0.0  0.0  0.0  0.0   \n",
       "\n",
       "       185  186  187  \n",
       "0      0.0  0.0  0.0  \n",
       "1      0.0  0.0  0.0  \n",
       "2      0.0  0.0  0.0  \n",
       "3      0.0  0.0  0.0  \n",
       "4      0.0  0.0  0.0  \n",
       "...    ...  ...  ...  \n",
       "87549  0.0  0.0  4.0  \n",
       "87550  0.0  0.0  4.0  \n",
       "87551  0.0  0.0  4.0  \n",
       "87552  0.0  0.0  4.0  \n",
       "87553  0.0  0.0  4.0  \n",
       "\n",
       "[87554 rows x 188 columns]"
      ]
     },
     "execution_count": 3,
     "metadata": {},
     "output_type": "execute_result"
    }
   ],
   "source": [
    "train_df"
   ]
  },
  {
   "cell_type": "code",
   "execution_count": 4,
   "metadata": {
    "execution": {
     "iopub.execute_input": "2022-08-06T04:32:32.188076Z",
     "iopub.status.busy": "2022-08-06T04:32:32.187712Z",
     "iopub.status.idle": "2022-08-06T04:32:32.203289Z",
     "shell.execute_reply": "2022-08-06T04:32:32.202010Z",
     "shell.execute_reply.started": "2022-08-06T04:32:32.188041Z"
    }
   },
   "outputs": [
    {
     "name": "stdout",
     "output_type": "stream",
     "text": [
      "0.0    72471\n",
      "4.0     6431\n",
      "2.0     5788\n",
      "1.0     2223\n",
      "3.0      641\n",
      "Name: 187, dtype: int64\n"
     ]
    }
   ],
   "source": [
    "classes = train_df[187].value_counts()\n",
    "print(classes)"
   ]
  },
  {
   "cell_type": "code",
   "execution_count": 5,
   "metadata": {
    "execution": {
     "iopub.execute_input": "2022-08-06T04:32:32.205068Z",
     "iopub.status.busy": "2022-08-06T04:32:32.204726Z",
     "iopub.status.idle": "2022-08-06T04:32:32.403083Z",
     "shell.execute_reply": "2022-08-06T04:32:32.401852Z",
     "shell.execute_reply.started": "2022-08-06T04:32:32.205037Z"
    }
   },
   "outputs": [
    {
     "data": {
      "image/png": "[encoded data removed]",
      "text/plain": [
       "<Figure size 504x504 with 1 Axes>"
      ]
     },
     "metadata": {},
     "output_type": "display_data"
    }
   ],
   "source": [
    "plt.figure(figsize=(7,7))\n",
    "explode = (0,0.1,0.1,0.1,0.1)\n",
    "plt.pie(classes,labels=['Normal beats','Unknown beats','Ventricular ectopic beats','Supraventricular ectopic beats','Fusion beats'], autopct='%1.1f%%', explode=explode)\n",
    "plt.show()"
   ]
  },
  {
   "cell_type": "code",
   "execution_count": 6,
   "metadata": {
    "execution": {
     "iopub.execute_input": "2022-08-06T04:32:32.407124Z",
     "iopub.status.busy": "2022-08-06T04:32:32.406533Z",
     "iopub.status.idle": "2022-08-06T04:32:32.818731Z",
     "shell.execute_reply": "2022-08-06T04:32:32.817643Z",
     "shell.execute_reply.started": "2022-08-06T04:32:32.407078Z"
    }
   },
   "outputs": [],
   "source": [
    "df_0 = train_df[train_df[187]==0.0].sample(n=16000, random_state=1)\n",
    "df_1 = train_df[train_df[187]==1.0]\n",
    "df_2 = train_df[train_df[187]==2.0]\n",
    "df_3 = train_df[train_df[187]==3.0]\n",
    "df_4 = train_df[train_df[187]==4.0]\n",
    "# upsample\n",
    "df_1_up=resample(df_1, replace=True, n_samples=16000, random_state=1)\n",
    "df_2_up=resample(df_2, replace=True, n_samples=16000, random_state=1)\n",
    "df_3_up=resample(df_3, replace=True, n_samples=16000, random_state=1)\n",
    "df_4_up=resample(df_4, replace=True, n_samples=16000, random_state=1)\n",
    "\n",
    "train_df = pd.concat([df_0, df_1_up, df_2_up, df_3_up, df_4_up])"
   ]
  },
  {
   "cell_type": "code",
   "execution_count": 7,
   "metadata": {
    "execution": {
     "iopub.execute_input": "2022-08-06T04:32:32.820423Z",
     "iopub.status.busy": "2022-08-06T04:32:32.820063Z",
     "iopub.status.idle": "2022-08-06T04:32:32.862706Z",
     "shell.execute_reply": "2022-08-06T04:32:32.861676Z",
     "shell.execute_reply.started": "2022-08-06T04:32:32.820347Z"
    }
   },
   "outputs": [
    {
     "data": {
      "text/html": [
       "<div>\n",
       "<style scoped>\n",
       "    .dataframe tbody tr th:only-of-type {\n",
       "        vertical-align: middle;\n",
       "    }\n",
       "\n",
       "    .dataframe tbody tr th {\n",
       "        vertical-align: top;\n",
       "    }\n",
       "\n",
       "    .dataframe thead th {\n",
       "        text-align: right;\n",
       "    }\n",
       "</style>\n",
       "<table border=\"1\" class=\"dataframe\">\n",
       "  <thead>\n",
       "    <tr style=\"text-align: right;\">\n",
       "      <th></th>\n",
       "      <th>0</th>\n",
       "      <th>1</th>\n",
       "      <th>2</th>\n",
       "      <th>3</th>\n",
       "      <th>4</th>\n",
       "      <th>5</th>\n",
       "      <th>6</th>\n",
       "      <th>7</th>\n",
       "      <th>8</th>\n",
       "      <th>9</th>\n",
       "      <th>...</th>\n",
       "      <th>178</th>\n",
       "      <th>179</th>\n",
       "      <th>180</th>\n",
       "      <th>181</th>\n",
       "      <th>182</th>\n",
       "      <th>183</th>\n",
       "      <th>184</th>\n",
       "      <th>185</th>\n",
       "      <th>186</th>\n",
       "      <th>187</th>\n",
       "    </tr>\n",
       "  </thead>\n",
       "  <tbody>\n",
       "    <tr>\n",
       "      <th>65728</th>\n",
       "      <td>1.000000</td>\n",
       "      <td>0.918864</td>\n",
       "      <td>0.567951</td>\n",
       "      <td>0.243408</td>\n",
       "      <td>0.279919</td>\n",
       "      <td>0.310345</td>\n",
       "      <td>0.283976</td>\n",
       "      <td>0.283976</td>\n",
       "      <td>0.277890</td>\n",
       "      <td>0.267748</td>\n",
       "      <td>...</td>\n",
       "      <td>0.0</td>\n",
       "      <td>0.0</td>\n",
       "      <td>0.0</td>\n",
       "      <td>0.0</td>\n",
       "      <td>0.0</td>\n",
       "      <td>0.0</td>\n",
       "      <td>0.0</td>\n",
       "      <td>0.0</td>\n",
       "      <td>0.0</td>\n",
       "      <td>0.0</td>\n",
       "    </tr>\n",
       "    <tr>\n",
       "      <th>33224</th>\n",
       "      <td>0.199288</td>\n",
       "      <td>0.074733</td>\n",
       "      <td>0.270463</td>\n",
       "      <td>0.427046</td>\n",
       "      <td>0.551601</td>\n",
       "      <td>0.569395</td>\n",
       "      <td>0.558719</td>\n",
       "      <td>0.565836</td>\n",
       "      <td>0.594306</td>\n",
       "      <td>0.597865</td>\n",
       "      <td>...</td>\n",
       "      <td>0.0</td>\n",
       "      <td>0.0</td>\n",
       "      <td>0.0</td>\n",
       "      <td>0.0</td>\n",
       "      <td>0.0</td>\n",
       "      <td>0.0</td>\n",
       "      <td>0.0</td>\n",
       "      <td>0.0</td>\n",
       "      <td>0.0</td>\n",
       "      <td>0.0</td>\n",
       "    </tr>\n",
       "    <tr>\n",
       "      <th>46733</th>\n",
       "      <td>1.000000</td>\n",
       "      <td>0.929448</td>\n",
       "      <td>0.328221</td>\n",
       "      <td>0.070552</td>\n",
       "      <td>0.205521</td>\n",
       "      <td>0.294479</td>\n",
       "      <td>0.309816</td>\n",
       "      <td>0.319018</td>\n",
       "      <td>0.322086</td>\n",
       "      <td>0.346626</td>\n",
       "      <td>...</td>\n",
       "      <td>0.0</td>\n",
       "      <td>0.0</td>\n",
       "      <td>0.0</td>\n",
       "      <td>0.0</td>\n",
       "      <td>0.0</td>\n",
       "      <td>0.0</td>\n",
       "      <td>0.0</td>\n",
       "      <td>0.0</td>\n",
       "      <td>0.0</td>\n",
       "      <td>0.0</td>\n",
       "    </tr>\n",
       "    <tr>\n",
       "      <th>49665</th>\n",
       "      <td>0.000000</td>\n",
       "      <td>0.059006</td>\n",
       "      <td>0.236025</td>\n",
       "      <td>0.347826</td>\n",
       "      <td>0.434783</td>\n",
       "      <td>0.431677</td>\n",
       "      <td>0.422360</td>\n",
       "      <td>0.437888</td>\n",
       "      <td>0.456522</td>\n",
       "      <td>0.453416</td>\n",
       "      <td>...</td>\n",
       "      <td>0.0</td>\n",
       "      <td>0.0</td>\n",
       "      <td>0.0</td>\n",
       "      <td>0.0</td>\n",
       "      <td>0.0</td>\n",
       "      <td>0.0</td>\n",
       "      <td>0.0</td>\n",
       "      <td>0.0</td>\n",
       "      <td>0.0</td>\n",
       "      <td>0.0</td>\n",
       "    </tr>\n",
       "    <tr>\n",
       "      <th>30911</th>\n",
       "      <td>0.975659</td>\n",
       "      <td>0.872211</td>\n",
       "      <td>0.531440</td>\n",
       "      <td>0.255578</td>\n",
       "      <td>0.184584</td>\n",
       "      <td>0.162272</td>\n",
       "      <td>0.109533</td>\n",
       "      <td>0.113590</td>\n",
       "      <td>0.113590</td>\n",
       "      <td>0.107505</td>\n",
       "      <td>...</td>\n",
       "      <td>0.0</td>\n",
       "      <td>0.0</td>\n",
       "      <td>0.0</td>\n",
       "      <td>0.0</td>\n",
       "      <td>0.0</td>\n",
       "      <td>0.0</td>\n",
       "      <td>0.0</td>\n",
       "      <td>0.0</td>\n",
       "      <td>0.0</td>\n",
       "      <td>0.0</td>\n",
       "    </tr>\n",
       "    <tr>\n",
       "      <th>...</th>\n",
       "      <td>...</td>\n",
       "      <td>...</td>\n",
       "      <td>...</td>\n",
       "      <td>...</td>\n",
       "      <td>...</td>\n",
       "      <td>...</td>\n",
       "      <td>...</td>\n",
       "      <td>...</td>\n",
       "      <td>...</td>\n",
       "      <td>...</td>\n",
       "      <td>...</td>\n",
       "      <td>...</td>\n",
       "      <td>...</td>\n",
       "      <td>...</td>\n",
       "      <td>...</td>\n",
       "      <td>...</td>\n",
       "      <td>...</td>\n",
       "      <td>...</td>\n",
       "      <td>...</td>\n",
       "      <td>...</td>\n",
       "      <td>...</td>\n",
       "    </tr>\n",
       "    <tr>\n",
       "      <th>85165</th>\n",
       "      <td>1.000000</td>\n",
       "      <td>0.567164</td>\n",
       "      <td>0.570895</td>\n",
       "      <td>0.585821</td>\n",
       "      <td>0.585821</td>\n",
       "      <td>0.563433</td>\n",
       "      <td>0.574627</td>\n",
       "      <td>0.522388</td>\n",
       "      <td>0.402985</td>\n",
       "      <td>0.298507</td>\n",
       "      <td>...</td>\n",
       "      <td>0.0</td>\n",
       "      <td>0.0</td>\n",
       "      <td>0.0</td>\n",
       "      <td>0.0</td>\n",
       "      <td>0.0</td>\n",
       "      <td>0.0</td>\n",
       "      <td>0.0</td>\n",
       "      <td>0.0</td>\n",
       "      <td>0.0</td>\n",
       "      <td>4.0</td>\n",
       "    </tr>\n",
       "    <tr>\n",
       "      <th>86756</th>\n",
       "      <td>0.664697</td>\n",
       "      <td>0.589365</td>\n",
       "      <td>0.483013</td>\n",
       "      <td>0.392910</td>\n",
       "      <td>0.273264</td>\n",
       "      <td>0.162482</td>\n",
       "      <td>0.087149</td>\n",
       "      <td>0.031019</td>\n",
       "      <td>0.000000</td>\n",
       "      <td>0.026588</td>\n",
       "      <td>...</td>\n",
       "      <td>0.0</td>\n",
       "      <td>0.0</td>\n",
       "      <td>0.0</td>\n",
       "      <td>0.0</td>\n",
       "      <td>0.0</td>\n",
       "      <td>0.0</td>\n",
       "      <td>0.0</td>\n",
       "      <td>0.0</td>\n",
       "      <td>0.0</td>\n",
       "      <td>4.0</td>\n",
       "    </tr>\n",
       "    <tr>\n",
       "      <th>83845</th>\n",
       "      <td>0.945148</td>\n",
       "      <td>0.518987</td>\n",
       "      <td>0.556962</td>\n",
       "      <td>0.556962</td>\n",
       "      <td>0.544304</td>\n",
       "      <td>0.510549</td>\n",
       "      <td>0.527426</td>\n",
       "      <td>0.459916</td>\n",
       "      <td>0.337553</td>\n",
       "      <td>0.206751</td>\n",
       "      <td>...</td>\n",
       "      <td>0.0</td>\n",
       "      <td>0.0</td>\n",
       "      <td>0.0</td>\n",
       "      <td>0.0</td>\n",
       "      <td>0.0</td>\n",
       "      <td>0.0</td>\n",
       "      <td>0.0</td>\n",
       "      <td>0.0</td>\n",
       "      <td>0.0</td>\n",
       "      <td>4.0</td>\n",
       "    </tr>\n",
       "    <tr>\n",
       "      <th>83949</th>\n",
       "      <td>1.000000</td>\n",
       "      <td>0.505618</td>\n",
       "      <td>0.535581</td>\n",
       "      <td>0.520599</td>\n",
       "      <td>0.528090</td>\n",
       "      <td>0.524345</td>\n",
       "      <td>0.531835</td>\n",
       "      <td>0.479401</td>\n",
       "      <td>0.404494</td>\n",
       "      <td>0.303371</td>\n",
       "      <td>...</td>\n",
       "      <td>0.0</td>\n",
       "      <td>0.0</td>\n",
       "      <td>0.0</td>\n",
       "      <td>0.0</td>\n",
       "      <td>0.0</td>\n",
       "      <td>0.0</td>\n",
       "      <td>0.0</td>\n",
       "      <td>0.0</td>\n",
       "      <td>0.0</td>\n",
       "      <td>4.0</td>\n",
       "    </tr>\n",
       "    <tr>\n",
       "      <th>85673</th>\n",
       "      <td>0.722689</td>\n",
       "      <td>0.509804</td>\n",
       "      <td>0.470588</td>\n",
       "      <td>0.462185</td>\n",
       "      <td>0.445378</td>\n",
       "      <td>0.431373</td>\n",
       "      <td>0.411765</td>\n",
       "      <td>0.386555</td>\n",
       "      <td>0.341737</td>\n",
       "      <td>0.271709</td>\n",
       "      <td>...</td>\n",
       "      <td>0.0</td>\n",
       "      <td>0.0</td>\n",
       "      <td>0.0</td>\n",
       "      <td>0.0</td>\n",
       "      <td>0.0</td>\n",
       "      <td>0.0</td>\n",
       "      <td>0.0</td>\n",
       "      <td>0.0</td>\n",
       "      <td>0.0</td>\n",
       "      <td>4.0</td>\n",
       "    </tr>\n",
       "  </tbody>\n",
       "</table>\n",
       "<p>80000 rows × 188 columns</p>\n",
       "</div>"
      ],
      "text/plain": [
       "            0         1         2         3         4         5         6    \\\n",
       "65728  1.000000  0.918864  0.567951  0.243408  0.279919  0.310345  0.283976   \n",
       "33224  0.199288  0.074733  0.270463  0.427046  0.551601  0.569395  0.558719   \n",
       "46733  1.000000  0.929448  0.328221  0.070552  0.205521  0.294479  0.309816   \n",
       "49665  0.000000  0.059006  0.236025  0.347826  0.434783  0.431677  0.422360   \n",
       "30911  0.975659  0.872211  0.531440  0.255578  0.184584  0.162272  0.109533   \n",
       "...         ...       ...       ...       ...       ...       ...       ...   \n",
       "85165  1.000000  0.567164  0.570895  0.585821  0.585821  0.563433  0.574627   \n",
       "86756  0.664697  0.589365  0.483013  0.392910  0.273264  0.162482  0.087149   \n",
       "83845  0.945148  0.518987  0.556962  0.556962  0.544304  0.510549  0.527426   \n",
       "83949  1.000000  0.505618  0.535581  0.520599  0.528090  0.524345  0.531835   \n",
       "85673  0.722689  0.509804  0.470588  0.462185  0.445378  0.431373  0.411765   \n",
       "\n",
       "            7         8         9    ...  178  179  180  181  182  183  184  \\\n",
       "65728  0.283976  0.277890  0.267748  ...  0.0  0.0  0.0  0.0  0.0  0.0  0.0   \n",
       "33224  0.565836  0.594306  0.597865  ...  0.0  0.0  0.0  0.0  0.0  0.0  0.0   \n",
       "46733  0.319018  0.322086  0.346626  ...  0.0  0.0  0.0  0.0  0.0  0.0  0.0   \n",
       "49665  0.437888  0.456522  0.453416  ...  0.0  0.0  0.0  0.0  0.0  0.0  0.0   \n",
       "30911  0.113590  0.113590  0.107505  ...  0.0  0.0  0.0  0.0  0.0  0.0  0.0   \n",
       "...         ...       ...       ...  ...  ...  ...  ...  ...  ...  ...  ...   \n",
       "85165  0.522388  0.402985  0.298507  ...  0.0  0.0  0.0  0.0  0.0  0.0  0.0   \n",
       "86756  0.031019  0.000000  0.026588  ...  0.0  0.0  0.0  0.0  0.0  0.0  0.0   \n",
       "83845  0.459916  0.337553  0.206751  ...  0.0  0.0  0.0  0.0  0.0  0.0  0.0   \n",
       "83949  0.479401  0.404494  0.303371  ...  0.0  0.0  0.0  0.0  0.0  0.0  0.0   \n",
       "85673  0.386555  0.341737  0.271709  ...  0.0  0.0  0.0  0.0  0.0  0.0  0.0   \n",
       "\n",
       "       185  186  187  \n",
       "65728  0.0  0.0  0.0  \n",
       "33224  0.0  0.0  0.0  \n",
       "46733  0.0  0.0  0.0  \n",
       "49665  0.0  0.0  0.0  \n",
       "30911  0.0  0.0  0.0  \n",
       "...    ...  ...  ...  \n",
       "85165  0.0  0.0  4.0  \n",
       "86756  0.0  0.0  4.0  \n",
       "83845  0.0  0.0  4.0  \n",
       "83949  0.0  0.0  4.0  \n",
       "85673  0.0  0.0  4.0  \n",
       "\n",
       "[80000 rows x 188 columns]"
      ]
     },
     "execution_count": 7,
     "metadata": {},
     "output_type": "execute_result"
    }
   ],
   "source": [
    "train_df"
   ]
  },
  {
   "cell_type": "code",
   "execution_count": 8,
   "metadata": {
    "execution": {
     "iopub.execute_input": "2022-08-06T04:32:32.864611Z",
     "iopub.status.busy": "2022-08-06T04:32:32.864260Z",
     "iopub.status.idle": "2022-08-06T04:32:32.873202Z",
     "shell.execute_reply": "2022-08-06T04:32:32.871521Z",
     "shell.execute_reply.started": "2022-08-06T04:32:32.864580Z"
    }
   },
   "outputs": [
    {
     "name": "stdout",
     "output_type": "stream",
     "text": [
      "0.0    16000\n",
      "1.0    16000\n",
      "2.0    16000\n",
      "3.0    16000\n",
      "4.0    16000\n",
      "Name: 187, dtype: int64\n"
     ]
    }
   ],
   "source": [
    "classes = train_df[187].value_counts()\n",
    "print(classes)"
   ]
  },
  {
   "cell_type": "code",
   "execution_count": 9,
   "metadata": {
    "execution": {
     "iopub.execute_input": "2022-08-06T04:32:32.875082Z",
     "iopub.status.busy": "2022-08-06T04:32:32.874673Z",
     "iopub.status.idle": "2022-08-06T04:32:32.999764Z",
     "shell.execute_reply": "2022-08-06T04:32:32.998460Z",
     "shell.execute_reply.started": "2022-08-06T04:32:32.875051Z"
    }
   },
   "outputs": [
    {
     "data": {
      "image/png": "[encoded data removed]",
      "text/plain": [
       "<Figure size 504x504 with 1 Axes>"
      ]
     },
     "metadata": {},
     "output_type": "display_data"
    }
   ],
   "source": [
    "plt.figure(figsize=(7,7))\n",
    "plt.pie(classes,labels=['Normal beats','Unknown beats','Ventricular ectopic beats','Supraventricular ectopic beats','Fusion beats'], autopct='%1.1f%%')\n",
    "plt.show()"
   ]
  },
  {
   "cell_type": "markdown",
   "metadata": {},
   "source": [
    "### We will analyze some samples of the classes"
   ]
  },
  {
   "cell_type": "code",
   "execution_count": 10,
   "metadata": {
    "execution": {
     "iopub.execute_input": "2022-08-06T04:32:33.004618Z",
     "iopub.status.busy": "2022-08-06T04:32:33.003501Z",
     "iopub.status.idle": "2022-08-06T04:32:33.525567Z",
     "shell.execute_reply": "2022-08-06T04:32:33.524390Z",
     "shell.execute_reply.started": "2022-08-06T04:32:33.004568Z"
    }
   },
   "outputs": [
    {
     "data": {
      "text/plain": [
       "Text(0, 0.5, 'Magnitude')"
      ]
     },
     "execution_count": 10,
     "metadata": {},
     "output_type": "execute_result"
    },
    {
     "data": {
      "image/png": "[encoded data removed]",
      "text/plain": [
       "<Figure size 648x648 with 5 Axes>"
      ]
     },
     "metadata": {
      "needs_background": "light"
     },
     "output_type": "display_data"
    }
   ],
   "source": [
    "sample_n=df_0.sample(1)\n",
    "sample_s=df_1.sample(1)\n",
    "sample_v=df_2.sample(1)\n",
    "sample_f=df_3.sample(1)\n",
    "sample_q=df_4.sample(1)\n",
    "\n",
    "fig,ax = plt.subplots(5,sharex=True,sharey=True)\n",
    "fig.set_size_inches(9,9)\n",
    "\n",
    "ax[0].plot(sample_n.iloc[0,:186], color='red')\n",
    "ax[0].set_title(\"Normal beats\")\n",
    "ax[1].plot(sample_s.iloc[0,:186], color='red')\n",
    "ax[1].set_title(\"Supraventricular ectopic beats\")\n",
    "ax[2].plot(sample_v.iloc[0,:186], color='red')\n",
    "ax[2].set_title(\"Ventricular ectopic beats\")\n",
    "ax[3].plot(sample_f.iloc[0,:186], color='red')\n",
    "ax[3].set_title(\"Fusion beats\")\n",
    "ax[4].plot(sample_q.iloc[0,:186], color='red')\n",
    "ax[4].set_title(\"Unknown beats\")\n",
    "plt.xlabel('Time')\n",
    "plt.ylabel('Magnitude')\n"
   ]
  },
  {
   "cell_type": "markdown",
   "metadata": {},
   "source": [
    "### Data preprocessing"
   ]
  },
  {
   "cell_type": "code",
   "execution_count": 11,
   "metadata": {
    "execution": {
     "iopub.execute_input": "2022-08-06T04:32:33.527823Z",
     "iopub.status.busy": "2022-08-06T04:32:33.527346Z",
     "iopub.status.idle": "2022-08-06T04:32:33.538558Z",
     "shell.execute_reply": "2022-08-06T04:32:33.537423Z",
     "shell.execute_reply.started": "2022-08-06T04:32:33.527779Z"
    }
   },
   "outputs": [],
   "source": [
    "Y_train = to_categorical(train_df[187])\n",
    "Y_tests = to_categorical(tests_df[187])\n",
    "\n",
    "X_train = train_df.iloc[:,:186].values\n",
    "X_train = X_train.reshape(len(X_train), X_train.shape[1],1)\n",
    "X_tests = tests_df.iloc[:,:186].values\n",
    "X_tests = X_tests.reshape(len(X_tests), X_tests.shape[1],1)"
   ]
  },
  {
   "cell_type": "markdown",
   "metadata": {},
   "source": [
    "### Convolutional neural network"
   ]
  },
  {
   "cell_type": "code",
   "execution_count": 12,
   "metadata": {
    "execution": {
     "iopub.execute_input": "2022-08-06T04:32:33.540977Z",
     "iopub.status.busy": "2022-08-06T04:32:33.540213Z",
     "iopub.status.idle": "2022-08-06T04:32:33.800446Z",
     "shell.execute_reply": "2022-08-06T04:32:33.798946Z",
     "shell.execute_reply.started": "2022-08-06T04:32:33.540930Z"
    }
   },
   "outputs": [],
   "source": [
    "from keras.models import Sequential\n",
    "from keras.layers import Conv1D, MaxPooling1D, Flatten\n",
    "from keras.layers import Dense, Dropout, BatchNormalization\n",
    "from keras.callbacks import EarlyStopping, ModelCheckpoint\n",
    "from keras.callbacks import History \n",
    "\n",
    "history = History()\n",
    "Model = Sequential()\n",
    "Model.add(Conv1D(128,3,\n",
    "                 input_shape=(X_train.shape[1],1),\n",
    "                 activation='relu'))\n",
    "\n",
    "Model.add(BatchNormalization())\n",
    "Model.add(MaxPooling1D(pool_size=2))\n",
    "\n",
    "Model.add(Conv1D(64,3, activation='relu'))\n",
    "Model.add(BatchNormalization())\n",
    "Model.add(MaxPooling1D(pool_size=2))\n",
    "\n",
    "Model.add(Conv1D(64,2, activation='relu'))\n",
    "Model.add(BatchNormalization())\n",
    "Model.add(MaxPooling1D(pool_size=2))\n",
    "\n",
    "Model.add(Conv1D(64,2, activation='relu'))\n",
    "\n",
    "Model.add(Flatten())\n",
    "\n",
    "Model.add(Dense(128, activation='relu'))\n",
    "\n",
    "Model.add(Dropout(0.5))\n",
    "\n",
    "Model.add(Dense(64,  activation='relu'))\n",
    "\n",
    "Model.add(Dense(5,activation='softmax'))"
   ]
  },
  {
   "cell_type": "markdown",
   "metadata": {},
   "source": [
    "### Training the Model"
   ]
  },
  {
   "cell_type": "code",
   "execution_count": 13,
   "metadata": {
    "execution": {
     "iopub.execute_input": "2022-08-06T04:32:33.806411Z",
     "iopub.status.busy": "2022-08-06T04:32:33.803462Z",
     "iopub.status.idle": "2022-08-06T04:32:33.826291Z",
     "shell.execute_reply": "2022-08-06T04:32:33.825243Z",
     "shell.execute_reply.started": "2022-08-06T04:32:33.806356Z"
    }
   },
   "outputs": [],
   "source": [
    "Model.compile(\n",
    "    loss='categorical_crossentropy',\n",
    "    optimizer='adam',\n",
    "    metrics=['accuracy']\n",
    ")\n",
    "\n",
    "callbacks = [\n",
    "    EarlyStopping(monitor='val_loss', patience=8), \n",
    "    ModelCheckpoint(filepath='./best_weights.h5', monitor='val_loss', save_best_only=True)\n",
    "]"
   ]
  },
  {
   "cell_type": "code",
   "execution_count": 14,
   "metadata": {
    "execution": {
     "iopub.execute_input": "2022-08-06T04:32:33.828161Z",
     "iopub.status.busy": "2022-08-06T04:32:33.827808Z",
     "iopub.status.idle": "2022-08-06T04:32:33.839778Z",
     "shell.execute_reply": "2022-08-06T04:32:33.838715Z",
     "shell.execute_reply.started": "2022-08-06T04:32:33.828129Z"
    }
   },
   "outputs": [
    {
     "name": "stdout",
     "output_type": "stream",
     "text": [
      "Model: \"sequential\"\n",
      "_________________________________________________________________\n",
      " Layer (type)                Output Shape              Param #   \n",
      "=================================================================\n",
      " conv1d (Conv1D)             (None, 184, 128)          512       \n",
      "                                                                 \n",
      " batch_normalization (BatchN  (None, 184, 128)         512       \n",
      " ormalization)                                                   \n",
      "                                                                 \n",
      " max_pooling1d (MaxPooling1D  (None, 92, 128)          0         \n",
      " )                                                               \n",
      "                                                                 \n",
      " conv1d_1 (Conv1D)           (None, 90, 64)            24640     \n",
      "                                                                 \n",
      " batch_normalization_1 (Batc  (None, 90, 64)           256       \n",
      " hNormalization)                                                 \n",
      "                                                                 \n",
      " max_pooling1d_1 (MaxPooling  (None, 45, 64)           0         \n",
      " 1D)                                                             \n",
      "                                                                 \n",
      " conv1d_2 (Conv1D)           (None, 44, 64)            8256      \n",
      "                                                                 \n",
      " batch_normalization_2 (Batc  (None, 44, 64)           256       \n",
      " hNormalization)                                                 \n",
      "                                                                 \n",
      " max_pooling1d_2 (MaxPooling  (None, 22, 64)           0         \n",
      " 1D)                                                             \n",
      "                                                                 \n",
      " conv1d_3 (Conv1D)           (None, 21, 64)            8256      \n",
      "                                                                 \n",
      " flatten (Flatten)           (None, 1344)              0         \n",
      "                                                                 \n",
      " dense (Dense)               (None, 128)               172160    \n",
      "                                                                 \n",
      " dropout (Dropout)           (None, 128)               0         \n",
      "                                                                 \n",
      " dense_1 (Dense)             (None, 64)                8256      \n",
      "                                                                 \n",
      " dense_2 (Dense)             (None, 5)                 325       \n",
      "                                                                 \n",
      "=================================================================\n",
      "Total params: 223,429\n",
      "Trainable params: 222,917\n",
      "Non-trainable params: 512\n",
      "_________________________________________________________________\n"
     ]
    }
   ],
   "source": [
    "Model.summary()"
   ]
  },
  {
   "cell_type": "code",
   "execution_count": 15,
   "metadata": {
    "execution": {
     "iopub.execute_input": "2022-08-06T04:32:33.842244Z",
     "iopub.status.busy": "2022-08-06T04:32:33.841140Z",
     "iopub.status.idle": "2022-08-06T04:45:57.647796Z",
     "shell.execute_reply": "2022-08-06T04:45:57.646379Z",
     "shell.execute_reply.started": "2022-08-06T04:32:33.842206Z"
    }
   },
   "outputs": [
    {
     "name": "stdout",
     "output_type": "stream",
     "text": [
      "Epoch 1/12\n",
      "2500/2500 [==============================] - 93s 37ms/step - loss: 0.3396 - accuracy: 0.8755 - val_loss: 0.3401 - val_accuracy: 0.8919\n",
      "Epoch 2/12\n",
      "2500/2500 [==============================] - 97s 39ms/step - loss: 0.1640 - accuracy: 0.9413 - val_loss: 0.2383 - val_accuracy: 0.9159\n",
      "Epoch 3/12\n",
      "2500/2500 [==============================] - 96s 39ms/step - loss: 0.1154 - accuracy: 0.9588 - val_loss: 0.1704 - val_accuracy: 0.9416\n",
      "Epoch 4/12\n",
      "2500/2500 [==============================] - 95s 38ms/step - loss: 0.0922 - accuracy: 0.9669 - val_loss: 0.1604 - val_accuracy: 0.9468\n",
      "Epoch 5/12\n",
      "2500/2500 [==============================] - 91s 36ms/step - loss: 0.0754 - accuracy: 0.9740 - val_loss: 0.1387 - val_accuracy: 0.9572\n",
      "Epoch 6/12\n",
      "2500/2500 [==============================] - 92s 37ms/step - loss: 0.0653 - accuracy: 0.9773 - val_loss: 0.1288 - val_accuracy: 0.9619\n",
      "Epoch 7/12\n",
      "2500/2500 [==============================] - 93s 37ms/step - loss: 0.0581 - accuracy: 0.9804 - val_loss: 0.1554 - val_accuracy: 0.9532\n",
      "Epoch 8/12\n",
      "2500/2500 [==============================] - 91s 36ms/step - loss: 0.0514 - accuracy: 0.9824 - val_loss: 0.1148 - val_accuracy: 0.9677\n",
      "Epoch 9/12\n",
      "2500/2500 [==============================] - 87s 35ms/step - loss: 0.0470 - accuracy: 0.9844 - val_loss: 0.1441 - val_accuracy: 0.9598\n",
      "Epoch 10/12\n",
      "2500/2500 [==============================] - 95s 38ms/step - loss: 0.0423 - accuracy: 0.9859 - val_loss: 0.1274 - val_accuracy: 0.9656\n",
      "Epoch 11/12\n",
      "2500/2500 [==============================] - 93s 37ms/step - loss: 0.0404 - accuracy: 0.9868 - val_loss: 0.1202 - val_accuracy: 0.9667\n",
      "Epoch 12/12\n",
      "2500/2500 [==============================] - 92s 37ms/step - loss: 0.0374 - accuracy: 0.9875 - val_loss: 0.1169 - val_accuracy: 0.9723\n"
     ]
    }
   ],
   "source": [
    "eps = 12\n",
    "bts = 32\n",
    "\n",
    "history = Model.fit(X_train, Y_train, \n",
    "          epochs=eps, callbacks=callbacks,\n",
    "          batch_size=bts, validation_data=(X_tests,Y_tests))"
   ]
  },
  {
   "cell_type": "markdown",
   "metadata": {},
   "source": []
  },
  {
   "cell_type": "code",
   "execution_count": 16,
   "metadata": {
    "execution": {
     "iopub.execute_input": "2022-08-06T04:45:57.650742Z",
     "iopub.status.busy": "2022-08-06T04:45:57.650234Z",
     "iopub.status.idle": "2022-08-06T04:45:58.055035Z",
     "shell.execute_reply": "2022-08-06T04:45:58.053518Z",
     "shell.execute_reply.started": "2022-08-06T04:45:57.650693Z"
    }
   },
   "outputs": [
    {
     "data": {
      "image/png": "[encoded data removed]",
      "text/plain": [
       "<Figure size 432x288 with 1 Axes>"
      ]
     },
     "metadata": {
      "needs_background": "light"
     },
     "output_type": "display_data"
    },
    {
     "data": {
      "image/png": "[encoded data removed]",
      "text/plain": [
       "<Figure size 432x288 with 1 Axes>"
      ]
     },
     "metadata": {
      "needs_background": "light"
     },
     "output_type": "display_data"
    }
   ],
   "source": [
    "# summarize history for accuracy\n",
    "plt.plot(history.history['accuracy'])\n",
    "plt.plot(history.history['val_accuracy'])\n",
    "plt.title('Model accuracy')\n",
    "plt.ylabel('accuracy')\n",
    "plt.xlabel('epoch')\n",
    "plt.legend(['train', 'test'], loc='upper left')\n",
    "plt.show()\n",
    "\n",
    "# summarize history for loss\n",
    "plt.plot(history.history['loss'])\n",
    "plt.plot(history.history['val_loss'])\n",
    "plt.title('Model loss')\n",
    "plt.ylabel('loss')\n",
    "plt.xlabel('epoch')\n",
    "plt.legend(['train', 'test'], loc='upper left')\n",
    "plt.show()"
   ]
  },
  {
   "cell_type": "markdown",
   "metadata": {},
   "source": [
    "### Testing the Model"
   ]
  },
  {
   "cell_type": "code",
   "execution_count": 17,
   "metadata": {
    "execution": {
     "iopub.execute_input": "2022-08-06T04:45:58.058095Z",
     "iopub.status.busy": "2022-08-06T04:45:58.056779Z",
     "iopub.status.idle": "2022-08-06T04:46:06.933957Z",
     "shell.execute_reply": "2022-08-06T04:46:06.932903Z",
     "shell.execute_reply.started": "2022-08-06T04:45:58.058048Z"
    }
   },
   "outputs": [
    {
     "name": "stdout",
     "output_type": "stream",
     "text": [
      "685/685 [==============================] - 5s 8ms/step - loss: 0.1169 - accuracy: 0.9723\n",
      "Test loss: 0.1168890967965126\n",
      "Test accuracy: 0.9722729921340942\n",
      "685/685 [==============================] - 5s 7ms/step\n"
     ]
    }
   ],
   "source": [
    "loss,accuracy = Model.evaluate(X_tests,Y_tests,verbose=1)\n",
    "\n",
    "print('Test loss:', loss)\n",
    "print('Test accuracy:', accuracy)\n",
    "\n",
    "y_predict = Model.predict(X_tests)"
   ]
  },
  {
   "cell_type": "code",
   "execution_count": 18,
   "metadata": {
    "execution": {
     "iopub.execute_input": "2022-08-06T04:46:06.936272Z",
     "iopub.status.busy": "2022-08-06T04:46:06.935383Z",
     "iopub.status.idle": "2022-08-06T04:46:06.946771Z",
     "shell.execute_reply": "2022-08-06T04:46:06.945667Z",
     "shell.execute_reply.started": "2022-08-06T04:46:06.936237Z"
    }
   },
   "outputs": [],
   "source": [
    "import itertools\n",
    "def plot_confusion_matrix(cm, classes,\n",
    "                          normalize=False,\n",
    "                          title='Confusion matrix',\n",
    "                          cmap=plt.cm.Blues):\n",
    "   \n",
    "    if normalize:\n",
    "        cm = cm.astype('float') / cm.sum(axis=1)[:, np.newaxis]\n",
    "        print(\"Normalized confusion matrix\")\n",
    "    else:\n",
    "        print('Confusion matrix, without normalization')\n",
    "\n",
    "    plt.imshow(cm, interpolation='nearest', cmap=cmap)\n",
    "    plt.title(title)\n",
    "    plt.colorbar()\n",
    "    tick_marks = np.arange(len(classes))\n",
    "    plt.xticks(tick_marks, classes, rotation=45)\n",
    "    plt.yticks(tick_marks, classes)\n",
    "\n",
    "    fmt = '.2f' if normalize else 'd'\n",
    "    thresh = cm.max() / 2.\n",
    "    for i, j in itertools.product(range(cm.shape[0]), range(cm.shape[1])):\n",
    "        plt.text(j, i, format(cm[i, j], fmt),\n",
    "                 horizontalalignment=\"center\",\n",
    "                 color=\"white\" if cm[i, j] > thresh else \"black\")\n",
    "\n",
    "    plt.tight_layout()\n",
    "    plt.ylabel('True label')\n",
    "    plt.xlabel('Predicted label')"
   ]
  },
  {
   "cell_type": "code",
   "execution_count": 19,
   "metadata": {
    "execution": {
     "iopub.execute_input": "2022-08-06T04:46:06.949165Z",
     "iopub.status.busy": "2022-08-06T04:46:06.948545Z",
     "iopub.status.idle": "2022-08-06T04:46:07.357815Z",
     "shell.execute_reply": "2022-08-06T04:46:07.356654Z",
     "shell.execute_reply.started": "2022-08-06T04:46:06.949130Z"
    }
   },
   "outputs": [
    {
     "name": "stdout",
     "output_type": "stream",
     "text": [
      "Normalized confusion matrix\n"
     ]
    },
    {
     "data": {
      "image/png": "[encoded data removed]",
      "text/plain": [
       "<Figure size 648x648 with 2 Axes>"
      ]
     },
     "metadata": {
      "needs_background": "light"
     },
     "output_type": "display_data"
    }
   ],
   "source": [
    "from sklearn.metrics import confusion_matrix\n",
    "\n",
    "plt.figure(figsize=(9, 9))\n",
    "cf_matrix = confusion_matrix(Y_tests.argmax(axis=1),y_predict.argmax(axis=1))\n",
    "plot_confusion_matrix(cf_matrix, \n",
    "                      classes=['Normal beats','Unknown beats','Ventricular ectopic beats','Supraventricular ectopic beats','Fusion beats'],\n",
    "                      normalize=True,\n",
    "                      title='Confusion matrix, with normalization')\n",
    "plt.show()"
   ]
  },
  {
   "cell_type": "markdown",
   "metadata": {},
   "source": [
    "### Save the model"
   ]
  },
  {
   "cell_type": "code",
   "execution_count": 20,
   "metadata": {
    "execution": {
     "iopub.execute_input": "2022-08-06T04:46:07.360618Z",
     "iopub.status.busy": "2022-08-06T04:46:07.359594Z",
     "iopub.status.idle": "2022-08-06T04:46:07.437053Z",
     "shell.execute_reply": "2022-08-06T04:46:07.435896Z",
     "shell.execute_reply.started": "2022-08-06T04:46:07.360569Z"
    }
   },
   "outputs": [],
   "source": [
    "Model.save('./ecg_model.h5')\n",
    "Model.save_weights('./ecg_weights.h5')"
   ]
  },
  {
   "cell_type": "markdown",
   "metadata": {},
   "source": [
    "### Performing prediction"
   ]
  },
  {
   "cell_type": "code",
   "execution_count": 21,
   "metadata": {
    "execution": {
     "iopub.execute_input": "2022-08-06T04:46:07.439019Z",
     "iopub.status.busy": "2022-08-06T04:46:07.438631Z",
     "iopub.status.idle": "2022-08-06T04:46:07.446045Z",
     "shell.execute_reply": "2022-08-06T04:46:07.444280Z",
     "shell.execute_reply.started": "2022-08-06T04:46:07.438975Z"
    }
   },
   "outputs": [],
   "source": [
    "def printPrediction(max_value):\n",
    "    if(max_value==0):\n",
    "        print(\"Non-Ectopic Beats\")\n",
    "    elif(max_value==1):\n",
    "        print(\"Supraventricular Ectopic Beats\")\n",
    "    elif(max_value==2):\n",
    "        print(\"Ventricular Ectopic Beats\")\n",
    "    elif(max_value==3):\n",
    "        print(\"Fusion Beats\")\n",
    "    else:\n",
    "        print(\"Unknown Beats\")"
   ]
  },
  {
   "cell_type": "code",
   "execution_count": 22,
   "metadata": {
    "execution": {
     "iopub.execute_input": "2022-08-06T04:46:07.448703Z",
     "iopub.status.busy": "2022-08-06T04:46:07.447622Z",
     "iopub.status.idle": "2022-08-06T04:46:07.521042Z",
     "shell.execute_reply": "2022-08-06T04:46:07.520113Z",
     "shell.execute_reply.started": "2022-08-06T04:46:07.448665Z"
    }
   },
   "outputs": [
    {
     "name": "stdout",
     "output_type": "stream",
     "text": [
      "1/1 [==============================] - 0s 16ms/step\n",
      "[0.002719925483688712, 0.9972800016403198, 6.1388143457463684e-09, 1.92232962709061e-15, 2.951333066825157e-10]\n",
      "Supraventricular Ectopic Beats\n"
     ]
    }
   ],
   "source": [
    "my_list = []\n",
    "prediction  = Model.predict(np.array([X_train[25000]])).tolist()\n",
    "\n",
    "for it in prediction:\n",
    "    for el in it:\n",
    "        my_list.append(el)\n",
    "        \n",
    "print(my_list)        \n",
    "max_value = my_list.index(max(my_list))\n",
    "\n",
    "if(max_value==0):\n",
    "    print(\"Normal Beats\")\n",
    "elif(max_value==1):\n",
    "    print(\"Supraventricular Ectopic Beats\")\n",
    "elif(max_value==2):\n",
    "    print(\"Ventricular Ectopic Beats\")\n",
    "elif(max_value==3):\n",
    "    print(\"Fusion Beats\")\n",
    "else:\n",
    "    print(\"Unknown Beats\")"
   ]
  },
  {
   "cell_type": "markdown",
   "metadata": {},
   "source": [
    "### ECG classification with noise"
   ]
  },
  {
   "cell_type": "markdown",
   "metadata": {},
   "source": [
    "Train Neural Networks With Noise to Reduce Overfitting"
   ]
  },
  {
   "cell_type": "code",
   "execution_count": 23,
   "metadata": {
    "execution": {
     "iopub.execute_input": "2022-08-06T04:46:07.523127Z",
     "iopub.status.busy": "2022-08-06T04:46:07.522545Z",
     "iopub.status.idle": "2022-08-06T04:46:09.046897Z",
     "shell.execute_reply": "2022-08-06T04:46:09.045706Z",
     "shell.execute_reply.started": "2022-08-06T04:46:07.523094Z"
    }
   },
   "outputs": [],
   "source": [
    "gauss_std=0.5\n",
    "gauss_k=0.1\n",
    "\n",
    "# Gaussian noise in train_df\n",
    "x_noise_train = train_df.iloc[:,:186].values.copy()\n",
    "for i in range(len(x_noise_train)):\n",
    "    x_noise_train[i,:186]=x_noise_train[i,:186]+gauss_k*np.random.normal(0,gauss_std,186)\n",
    "\n",
    "x_noise_train_graph=x_noise_train\n",
    "x_noise_train = x_noise_train.reshape(\n",
    "    len(x_noise_train),\n",
    "    x_noise_train.shape[1],1)\n",
    "\n",
    "# Gaussian noise in tests_df\n",
    "x_noise_tests = tests_df.iloc[:,:186].values.copy()\n",
    "for i in range(len(x_noise_tests)):\n",
    "    x_noise_tests[i,:186]=x_noise_tests[i,:186]+gauss_k*np.random.normal(0,gauss_std,186)\n",
    "\n",
    "x_noise_tests_graph=x_noise_tests\n",
    "x_noise_tests = x_noise_tests.reshape(\n",
    "    len(x_noise_tests),\n",
    "    x_noise_tests.shape[1],1)"
   ]
  },
  {
   "cell_type": "code",
   "execution_count": 24,
   "metadata": {
    "execution": {
     "iopub.execute_input": "2022-08-06T05:02:00.857894Z",
     "iopub.status.busy": "2022-08-06T05:02:00.857305Z",
     "iopub.status.idle": "2022-08-06T05:02:33.938729Z",
     "shell.execute_reply": "2022-08-06T05:02:33.937414Z",
     "shell.execute_reply.started": "2022-08-06T05:02:00.857851Z"
    }
   },
   "outputs": [
    {
     "name": "stdout",
     "output_type": "stream",
     "text": [
      "2500/2500 [==============================] - 17s 7ms/step - loss: 2.3764 - accuracy: 0.6757\n",
      "Noise Test loss: 2.3764209747314453\n",
      "Noise Test accuracy: 0.6756500005722046\n",
      "2500/2500 [==============================] - 17s 7ms/step\n"
     ]
    }
   ],
   "source": [
    "loss,accuracy = Model.evaluate(x_noise_train,Y_train,verbose=1)\n",
    "\n",
    "print('Noise Test loss:', loss)\n",
    "print('Noise Test accuracy:', accuracy)\n",
    "\n",
    "y_noise_predict = Model.predict(x_noise_train)"
   ]
  },
  {
   "cell_type": "code",
   "execution_count": 25,
   "metadata": {
    "execution": {
     "iopub.execute_input": "2022-08-06T05:02:33.941409Z",
     "iopub.status.busy": "2022-08-06T05:02:33.941024Z",
     "iopub.status.idle": "2022-08-06T05:02:34.264475Z",
     "shell.execute_reply": "2022-08-06T05:02:34.262938Z",
     "shell.execute_reply.started": "2022-08-06T05:02:33.941354Z"
    }
   },
   "outputs": [
    {
     "name": "stdout",
     "output_type": "stream",
     "text": [
      "Normalized confusion matrix\n"
     ]
    },
    {
     "data": {
      "image/png": "[encoded data removed]",
      "text/plain": [
       "<Figure size 648x648 with 2 Axes>"
      ]
     },
     "metadata": {
      "needs_background": "light"
     },
     "output_type": "display_data"
    }
   ],
   "source": [
    "plt.figure(figsize=(9, 9))\n",
    "\n",
    "cf_matrix_noise = confusion_matrix(Y_train.argmax(axis=1),y_noise_predict.argmax(axis=1))\n",
    "plot_confusion_matrix(cf_matrix_noise,\n",
    "                      classes=['Normal beats','Unknown beats','Ventricular ectopic beats','Supraventricular ectopic beats','Fusion beats'],\n",
    "                      normalize=True,\n",
    "                      title='Confusion matrix, with normalization')\n",
    "plt.show()"
   ]
  },
  {
   "cell_type": "code",
   "execution_count": 26,
   "metadata": {
    "execution": {
     "iopub.execute_input": "2022-08-06T05:02:34.266205Z",
     "iopub.status.busy": "2022-08-06T05:02:34.265799Z",
     "iopub.status.idle": "2022-08-06T05:02:34.717183Z",
     "shell.execute_reply": "2022-08-06T05:02:34.716263Z",
     "shell.execute_reply.started": "2022-08-06T05:02:34.266169Z"
    }
   },
   "outputs": [
    {
     "data": {
      "image/png": "[encoded data removed]",
      "text/plain": [
       "<Figure size 432x288 with 1 Axes>"
      ]
     },
     "metadata": {
      "needs_background": "light"
     },
     "output_type": "display_data"
    }
   ],
   "source": [
    "plt.plot(train_df.iloc[0,:186], color='red')\n",
    "plt.show()"
   ]
  },
  {
   "cell_type": "code",
   "execution_count": 27,
   "metadata": {
    "execution": {
     "iopub.execute_input": "2022-08-06T05:02:34.719885Z",
     "iopub.status.busy": "2022-08-06T05:02:34.719259Z",
     "iopub.status.idle": "2022-08-06T05:02:34.905752Z",
     "shell.execute_reply": "2022-08-06T05:02:34.904456Z",
     "shell.execute_reply.started": "2022-08-06T05:02:34.719825Z"
    }
   },
   "outputs": [
    {
     "data": {
      "image/png": "[encoded data removed]",
      "text/plain": [
       "<Figure size 432x288 with 1 Axes>"
      ]
     },
     "metadata": {
      "needs_background": "light"
     },
     "output_type": "display_data"
    }
   ],
   "source": [
    "plt.plot(x_noise_train_graph[0], color='red')\n",
    "plt.show()"
   ]
  },
  {
   "cell_type": "markdown",
   "metadata": {},
   "source": [
    "### Applying Transfer Learning"
   ]
  },
  {
   "cell_type": "code",
   "execution_count": 28,
   "metadata": {
    "execution": {
     "iopub.execute_input": "2022-08-06T05:02:44.180744Z",
     "iopub.status.busy": "2022-08-06T05:02:44.179517Z",
     "iopub.status.idle": "2022-08-06T05:02:44.462438Z",
     "shell.execute_reply": "2022-08-06T05:02:44.461039Z",
     "shell.execute_reply.started": "2022-08-06T05:02:44.180684Z"
    }
   },
   "outputs": [
    {
     "name": "stdout",
     "output_type": "stream",
     "text": [
      "Model: \"sequential\"\n",
      "_________________________________________________________________\n",
      " Layer (type)                Output Shape              Param #   \n",
      "=================================================================\n",
      " conv1d (Conv1D)             (None, 184, 128)          512       \n",
      "                                                                 \n",
      " batch_normalization (BatchN  (None, 184, 128)         512       \n",
      " ormalization)                                                   \n",
      "                                                                 \n",
      " max_pooling1d (MaxPooling1D  (None, 92, 128)          0         \n",
      " )                                                               \n",
      "                                                                 \n",
      " conv1d_1 (Conv1D)           (None, 90, 64)            24640     \n",
      "                                                                 \n",
      " batch_normalization_1 (Batc  (None, 90, 64)           256       \n",
      " hNormalization)                                                 \n",
      "                                                                 \n",
      " max_pooling1d_1 (MaxPooling  (None, 45, 64)           0         \n",
      " 1D)                                                             \n",
      "                                                                 \n",
      " conv1d_2 (Conv1D)           (None, 44, 64)            8256      \n",
      "                                                                 \n",
      " batch_normalization_2 (Batc  (None, 44, 64)           256       \n",
      " hNormalization)                                                 \n",
      "                                                                 \n",
      " max_pooling1d_2 (MaxPooling  (None, 22, 64)           0         \n",
      " 1D)                                                             \n",
      "                                                                 \n",
      " conv1d_3 (Conv1D)           (None, 21, 64)            8256      \n",
      "                                                                 \n",
      " flatten (Flatten)           (None, 1344)              0         \n",
      "                                                                 \n",
      " dense (Dense)               (None, 128)               172160    \n",
      "                                                                 \n",
      " dropout (Dropout)           (None, 128)               0         \n",
      "                                                                 \n",
      " dense_1 (Dense)             (None, 64)                8256      \n",
      "                                                                 \n",
      " dense_2 (Dense)             (None, 5)                 325       \n",
      "                                                                 \n",
      "=================================================================\n",
      "Total params: 223,429\n",
      "Trainable params: 222,917\n",
      "Non-trainable params: 512\n",
      "_________________________________________________________________\n"
     ]
    }
   ],
   "source": [
    "from keras.models import load_model\n",
    "\n",
    "Model_transfer = load_model('./ecg_model.h5')\n",
    "Model_transfer.load_weights('./ecg_weights.h5')\n",
    "\n",
    "Model_transfer.summary()"
   ]
  },
  {
   "cell_type": "code",
   "execution_count": 29,
   "metadata": {
    "execution": {
     "iopub.execute_input": "2022-08-06T05:02:47.643870Z",
     "iopub.status.busy": "2022-08-06T05:02:47.643042Z",
     "iopub.status.idle": "2022-08-06T05:02:47.650708Z",
     "shell.execute_reply": "2022-08-06T05:02:47.649585Z",
     "shell.execute_reply.started": "2022-08-06T05:02:47.643822Z"
    }
   },
   "outputs": [],
   "source": [
    "Model_transfer.trainable = False\n",
    "Model_transfer.pop()"
   ]
  },
  {
   "cell_type": "code",
   "execution_count": 30,
   "metadata": {
    "execution": {
     "iopub.execute_input": "2022-08-06T05:03:02.684521Z",
     "iopub.status.busy": "2022-08-06T05:03:02.683119Z",
     "iopub.status.idle": "2022-08-06T05:03:02.796992Z",
     "shell.execute_reply": "2022-08-06T05:03:02.795493Z",
     "shell.execute_reply.started": "2022-08-06T05:03:02.684469Z"
    }
   },
   "outputs": [
    {
     "name": "stdout",
     "output_type": "stream",
     "text": [
      "Model: \"sequential_1\"\n",
      "_________________________________________________________________\n",
      " Layer (type)                Output Shape              Param #   \n",
      "=================================================================\n",
      " sequential (Sequential)     (None, 64)                223104    \n",
      "                                                                 \n",
      " dense_3 (Dense)             (None, 64)                4160      \n",
      "                                                                 \n",
      " dropout_1 (Dropout)         (None, 64)                0         \n",
      "                                                                 \n",
      " dense_4 (Dense)             (None, 5)                 325       \n",
      "                                                                 \n",
      "=================================================================\n",
      "Total params: 227,589\n",
      "Trainable params: 4,485\n",
      "Non-trainable params: 223,104\n",
      "_________________________________________________________________\n"
     ]
    }
   ],
   "source": [
    "Model2 = Sequential()\n",
    "Model2.add(Model_transfer)\n",
    "Model2.add(Dense(64, activation='relu'))\n",
    "Model2.add(Dropout(0.25))\n",
    "Model2.add(Dense(5, activation='softmax'))\n",
    "\n",
    "Model2.summary()"
   ]
  },
  {
   "cell_type": "code",
   "execution_count": 31,
   "metadata": {
    "execution": {
     "iopub.execute_input": "2022-08-06T05:03:08.022155Z",
     "iopub.status.busy": "2022-08-06T05:03:08.021733Z",
     "iopub.status.idle": "2022-08-06T05:03:08.034978Z",
     "shell.execute_reply": "2022-08-06T05:03:08.033250Z",
     "shell.execute_reply.started": "2022-08-06T05:03:08.022122Z"
    }
   },
   "outputs": [],
   "source": [
    "Model2.compile(\n",
    "    loss='categorical_crossentropy',\n",
    "    optimizer='adam',metrics=['accuracy']\n",
    ")\n",
    "\n",
    "callbacks2 = [\n",
    "    EarlyStopping(monitor='val_loss', patience=8), \n",
    "    ModelCheckpoint(filepath='./best_noise_weights.h5', monitor='val_loss', save_best_only=True)\n",
    "]"
   ]
  },
  {
   "cell_type": "code",
   "execution_count": 32,
   "metadata": {
    "execution": {
     "iopub.execute_input": "2022-08-06T05:03:16.606028Z",
     "iopub.status.busy": "2022-08-06T05:03:16.605592Z",
     "iopub.status.idle": "2022-08-06T05:06:51.598414Z",
     "shell.execute_reply": "2022-08-06T05:06:51.597426Z",
     "shell.execute_reply.started": "2022-08-06T05:03:16.605995Z"
    }
   },
   "outputs": [
    {
     "name": "stdout",
     "output_type": "stream",
     "text": [
      "Epoch 1/10\n",
      "2500/2500 [==============================] - 22s 9ms/step - loss: 0.6552 - accuracy: 0.7815 - val_loss: 0.6678 - val_accuracy: 0.7633\n",
      "Epoch 2/10\n",
      "2500/2500 [==============================] - 22s 9ms/step - loss: 0.5050 - accuracy: 0.8170 - val_loss: 0.5972 - val_accuracy: 0.7745\n",
      "Epoch 3/10\n",
      "2500/2500 [==============================] - 22s 9ms/step - loss: 0.4892 - accuracy: 0.8225 - val_loss: 0.6029 - val_accuracy: 0.7705\n",
      "Epoch 4/10\n",
      "2500/2500 [==============================] - 22s 9ms/step - loss: 0.4834 - accuracy: 0.8237 - val_loss: 0.6961 - val_accuracy: 0.7173\n",
      "Epoch 5/10\n",
      "2500/2500 [==============================] - 22s 9ms/step - loss: 0.4779 - accuracy: 0.8262 - val_loss: 0.7023 - val_accuracy: 0.7148\n",
      "Epoch 6/10\n",
      "2500/2500 [==============================] - 22s 9ms/step - loss: 0.4760 - accuracy: 0.8258 - val_loss: 0.6842 - val_accuracy: 0.7386\n",
      "Epoch 7/10\n",
      "2500/2500 [==============================] - 22s 9ms/step - loss: 0.4731 - accuracy: 0.8265 - val_loss: 0.5341 - val_accuracy: 0.8012\n",
      "Epoch 8/10\n",
      "2500/2500 [==============================] - 22s 9ms/step - loss: 0.4724 - accuracy: 0.8272 - val_loss: 0.7428 - val_accuracy: 0.7015\n",
      "Epoch 9/10\n",
      "2500/2500 [==============================] - 22s 9ms/step - loss: 0.4690 - accuracy: 0.8283 - val_loss: 0.6462 - val_accuracy: 0.7540\n",
      "Epoch 10/10\n",
      "2500/2500 [==============================] - 22s 9ms/step - loss: 0.4721 - accuracy: 0.8273 - val_loss: 0.6804 - val_accuracy: 0.7418\n"
     ]
    },
    {
     "data": {
      "text/plain": [
       "<keras.callbacks.History at 0x1bd7bb18f40>"
      ]
     },
     "execution_count": 32,
     "metadata": {},
     "output_type": "execute_result"
    }
   ],
   "source": [
    "Model2.fit(x_noise_train,Y_train,\n",
    "           epochs=10, callbacks=callbacks2, \n",
    "           batch_size=32, validation_data=(x_noise_tests,Y_tests))"
   ]
  },
  {
   "cell_type": "markdown",
   "metadata": {},
   "source": [
    "### Saving the Model2"
   ]
  },
  {
   "cell_type": "code",
   "execution_count": 33,
   "metadata": {
    "execution": {
     "iopub.execute_input": "2022-08-06T05:06:51.602747Z",
     "iopub.status.busy": "2022-08-06T05:06:51.602321Z",
     "iopub.status.idle": "2022-08-06T05:06:51.658120Z",
     "shell.execute_reply": "2022-08-06T05:06:51.656861Z",
     "shell.execute_reply.started": "2022-08-06T05:06:51.602712Z"
    }
   },
   "outputs": [],
   "source": [
    "Model2.save('./best_noise_model.h5')\n",
    "Model2.load_weights('./best_noise_weights.h5')"
   ]
  },
  {
   "cell_type": "markdown",
   "metadata": {},
   "source": [
    "### Performing Fine Turning"
   ]
  },
  {
   "cell_type": "code",
   "execution_count": 34,
   "metadata": {
    "execution": {
     "iopub.execute_input": "2022-08-06T05:07:50.937430Z",
     "iopub.status.busy": "2022-08-06T05:07:50.935899Z",
     "iopub.status.idle": "2022-08-06T05:18:37.437138Z",
     "shell.execute_reply": "2022-08-06T05:18:37.435958Z",
     "shell.execute_reply.started": "2022-08-06T05:07:50.937346Z"
    }
   },
   "outputs": [
    {
     "name": "stdout",
     "output_type": "stream",
     "text": [
      "Epoch 1/10\n",
      "2500/2500 [==============================] - 84s 33ms/step - loss: 0.2122 - accuracy: 0.9276 - val_loss: 0.2654 - val_accuracy: 0.9088\n",
      "Epoch 2/10\n",
      "2500/2500 [==============================] - 84s 34ms/step - loss: 0.1465 - accuracy: 0.9498 - val_loss: 0.2438 - val_accuracy: 0.9131\n",
      "Epoch 3/10\n",
      "2500/2500 [==============================] - 89s 36ms/step - loss: 0.1233 - accuracy: 0.9576 - val_loss: 0.2362 - val_accuracy: 0.9141\n",
      "Epoch 4/10\n",
      "2500/2500 [==============================] - 83s 33ms/step - loss: 0.1119 - accuracy: 0.9613 - val_loss: 0.2240 - val_accuracy: 0.9180\n",
      "Epoch 5/10\n",
      "2500/2500 [==============================] - 83s 33ms/step - loss: 0.1009 - accuracy: 0.9659 - val_loss: 0.2078 - val_accuracy: 0.9239\n",
      "Epoch 6/10\n",
      "2500/2500 [==============================] - 85s 34ms/step - loss: 0.0924 - accuracy: 0.9679 - val_loss: 0.2088 - val_accuracy: 0.9250\n",
      "Epoch 7/10\n",
      "2500/2500 [==============================] - 85s 34ms/step - loss: 0.0873 - accuracy: 0.9703 - val_loss: 0.2060 - val_accuracy: 0.9262\n",
      "Epoch 8/10\n",
      "2500/2500 [==============================] - 87s 35ms/step - loss: 0.0801 - accuracy: 0.9719 - val_loss: 0.1900 - val_accuracy: 0.9344\n",
      "Epoch 9/10\n",
      "2500/2500 [==============================] - 87s 35ms/step - loss: 0.0768 - accuracy: 0.9736 - val_loss: 0.2030 - val_accuracy: 0.9281\n",
      "Epoch 10/10\n",
      "2500/2500 [==============================] - 87s 35ms/step - loss: 0.0736 - accuracy: 0.9749 - val_loss: 0.1959 - val_accuracy: 0.9325\n"
     ]
    },
    {
     "data": {
      "text/plain": [
       "<keras.callbacks.History at 0x1bd7bd11d90>"
      ]
     },
     "execution_count": 34,
     "metadata": {},
     "output_type": "execute_result"
    }
   ],
   "source": [
    "from tensorflow.keras.optimizers import Adam\n",
    "\n",
    "callbacks3 = [\n",
    "    EarlyStopping(monitor='val_loss', patience=8), \n",
    "    ModelCheckpoint(filepath='./best_noise_weights2.h5', monitor='val_loss', save_best_only=True)\n",
    "]\n",
    "\n",
    "Model_transfer.trainable = True\n",
    "\n",
    "Model2.compile(\n",
    "    loss='categorical_crossentropy',\n",
    "    optimizer=Adam(0.0001),\n",
    "    metrics=['accuracy']\n",
    ")\n",
    "\n",
    "Model2.fit(x_noise_train,Y_train, \n",
    "           epochs=10,callbacks=callbacks3, \n",
    "           batch_size=32, validation_data=(x_noise_tests,Y_tests))"
   ]
  },
  {
   "cell_type": "markdown",
   "metadata": {},
   "source": [
    "### Confusion matrix for noisy signals"
   ]
  },
  {
   "cell_type": "code",
   "execution_count": 35,
   "metadata": {
    "execution": {
     "iopub.execute_input": "2022-08-06T05:25:46.406761Z",
     "iopub.status.busy": "2022-08-06T05:25:46.406054Z",
     "iopub.status.idle": "2022-08-06T05:25:51.029148Z",
     "shell.execute_reply": "2022-08-06T05:25:51.027792Z",
     "shell.execute_reply.started": "2022-08-06T05:25:46.406710Z"
    }
   },
   "outputs": [
    {
     "name": "stdout",
     "output_type": "stream",
     "text": [
      "685/685 [==============================] - 5s 7ms/step\n",
      "Normalized confusion matrix\n"
     ]
    },
    {
     "data": {
      "image/png": "[encoded data removed]",
      "text/plain": [
       "<Figure size 648x648 with 2 Axes>"
      ]
     },
     "metadata": {
      "needs_background": "light"
     },
     "output_type": "display_data"
    }
   ],
   "source": [
    "y_noise_predict2 = Model2.predict(x_noise_tests)\n",
    "\n",
    "plt.figure(figsize=(9,9))\n",
    "cf_matrix_noise2 = confusion_matrix(Y_tests.argmax(axis=1),y_noise_predict2.argmax(axis=1))\n",
    "plot_confusion_matrix(cf_matrix_noise2, \n",
    "                      classes=['Normal beats','Unknown beats','Ventricular ectopic beats','Supraventricular ectopic beats','Fusion beats'],\n",
    "                      normalize=True,\n",
    "                      title='Confusion matrix, with normalization')\n",
    "plt.show()"
   ]
  },
  {
   "cell_type": "markdown",
   "metadata": {},
   "source": [
    "### Confusion matrix for preprocessed signals"
   ]
  },
  {
   "cell_type": "code",
   "execution_count": 36,
   "metadata": {
    "execution": {
     "iopub.execute_input": "2022-08-06T05:26:31.780168Z",
     "iopub.status.busy": "2022-08-06T05:26:31.779731Z",
     "iopub.status.idle": "2022-08-06T05:26:36.021845Z",
     "shell.execute_reply": "2022-08-06T05:26:36.021026Z",
     "shell.execute_reply.started": "2022-08-06T05:26:31.780135Z"
    }
   },
   "outputs": [
    {
     "name": "stdout",
     "output_type": "stream",
     "text": [
      "685/685 [==============================] - 5s 7ms/step\n",
      "Normalized confusion matrix\n"
     ]
    },
    {
     "data": {
      "image/png": "[encoded data removed]",
      "text/plain": [
       "<Figure size 648x648 with 2 Axes>"
      ]
     },
     "metadata": {
      "needs_background": "light"
     },
     "output_type": "display_data"
    }
   ],
   "source": [
    "y_predict2 = Model2.predict(X_tests)\n",
    "\n",
    "plt.figure(figsize=(9,9))\n",
    "cf_matrix2 = confusion_matrix(Y_tests.argmax(axis=1),y_predict2.argmax(axis=1))\n",
    "plot_confusion_matrix(cf_matrix2, \n",
    "                      classes=['Normal beats','Unknown beats','Ventricular ectopic beats','Supraventricular ectopic beats','Fusion beats'],\n",
    "                      normalize=True,\n",
    "                      title='Confusion matrix, with normalization')\n",
    "plt.show()"
   ]
  }
 ],
 "metadata": {
  "kernelspec": {
   "display_name": "Python 3 (ipykernel)",
   "language": "python",
   "name": "python3"
  },
  "language_info": {
   "codemirror_mode": {
    "name": "ipython",
    "version": 3
   },
   "file_extension": ".py",
   "mimetype": "text/x-python",
   "name": "python",
   "nbconvert_exporter": "python",
   "pygments_lexer": "ipython3",
   "version": "3.9.7"
  }
 },
 "nbformat": 4,
 "nbformat_minor": 4
}
