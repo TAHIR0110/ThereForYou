{
 "cells": [
  {
   "cell_type": "code",
   "execution_count": 1,
   "id": "adce5381",
   "metadata": {
    "execution": {
     "iopub.execute_input": "2023-09-02T18:30:49.089557Z",
     "iopub.status.busy": "2023-09-02T18:30:49.088706Z",
     "iopub.status.idle": "2023-09-02T18:30:53.415286Z",
     "shell.execute_reply": "2023-09-02T18:30:53.414196Z"
    },
    "id": "oZ7fB0JmNdsK",
    "outputId": "7c1aba3c-5af4-4edc-dfcd-eb8c52a63c65",
    "papermill": {
     "duration": 4.36379,
     "end_time": "2023-09-02T18:30:53.418469",
     "exception": false,
     "start_time": "2023-09-02T18:30:49.054679",
     "status": "completed"
    },
    "tags": []
   },
   "outputs": [
    {
     "data": {
      "text/html": [
       "<div>\n",
       "<style scoped>\n",
       "    .dataframe tbody tr th:only-of-type {\n",
       "        vertical-align: middle;\n",
       "    }\n",
       "\n",
       "    .dataframe tbody tr th {\n",
       "        vertical-align: top;\n",
       "    }\n",
       "\n",
       "    .dataframe thead th {\n",
       "        text-align: right;\n",
       "    }\n",
       "</style>\n",
       "<table border=\"1\" class=\"dataframe\">\n",
       "  <thead>\n",
       "    <tr style=\"text-align: right;\">\n",
       "      <th></th>\n",
       "      <th>Unnamed: 0</th>\n",
       "      <th>text</th>\n",
       "      <th>class</th>\n",
       "    </tr>\n",
       "  </thead>\n",
       "  <tbody>\n",
       "    <tr>\n",
       "      <th>0</th>\n",
       "      <td>2</td>\n",
       "      <td>Ex Wife Threatening SuicideRecently I left my ...</td>\n",
       "      <td>suicide</td>\n",
       "    </tr>\n",
       "    <tr>\n",
       "      <th>1</th>\n",
       "      <td>3</td>\n",
       "      <td>Am I weird I don't get affected by compliments...</td>\n",
       "      <td>non-suicide</td>\n",
       "    </tr>\n",
       "    <tr>\n",
       "      <th>2</th>\n",
       "      <td>4</td>\n",
       "      <td>Finally 2020 is almost over... So I can never ...</td>\n",
       "      <td>non-suicide</td>\n",
       "    </tr>\n",
       "    <tr>\n",
       "      <th>3</th>\n",
       "      <td>8</td>\n",
       "      <td>i need helpjust help me im crying so hard</td>\n",
       "      <td>suicide</td>\n",
       "    </tr>\n",
       "    <tr>\n",
       "      <th>4</th>\n",
       "      <td>9</td>\n",
       "      <td>I’m so lostHello, my name is Adam (16) and I’v...</td>\n",
       "      <td>suicide</td>\n",
       "    </tr>\n",
       "  </tbody>\n",
       "</table>\n",
       "</div>"
      ],
      "text/plain": [
       "   Unnamed: 0                                               text        class\n",
       "0           2  Ex Wife Threatening SuicideRecently I left my ...      suicide\n",
       "1           3  Am I weird I don't get affected by compliments...  non-suicide\n",
       "2           4  Finally 2020 is almost over... So I can never ...  non-suicide\n",
       "3           8          i need helpjust help me im crying so hard      suicide\n",
       "4           9  I’m so lostHello, my name is Adam (16) and I’v...      suicide"
      ]
     },
     "execution_count": 1,
     "metadata": {},
     "output_type": "execute_result"
    }
   ],
   "source": [
    "import pandas as pd\n",
    "dataframe = pd.read_csv('/kaggle/input/suicide-watch/Suicide_Detection.csv')\n",
    "dataframe.head()"
   ]
  },
  {
   "cell_type": "code",
   "execution_count": 2,
   "id": "e1c3efc4",
   "metadata": {
    "execution": {
     "iopub.execute_input": "2023-09-02T18:30:53.487833Z",
     "iopub.status.busy": "2023-09-02T18:30:53.486964Z",
     "iopub.status.idle": "2023-09-02T18:30:53.595319Z",
     "shell.execute_reply": "2023-09-02T18:30:53.594257Z"
    },
    "id": "RfWxfSZHBdzd",
    "papermill": {
     "duration": 0.145681,
     "end_time": "2023-09-02T18:30:53.598330",
     "exception": false,
     "start_time": "2023-09-02T18:30:53.452649",
     "status": "completed"
    },
    "tags": []
   },
   "outputs": [],
   "source": [
    "suicide = dataframe[dataframe['class']=='suicide']\n",
    "non_suicide = dataframe[dataframe['class']== 'non-suicide']\n",
    "suicide = suicide.head(50000)\n",
    "non_suicide = non_suicide.head(50000)\n",
    "dataframe = pd.concat([suicide,non_suicide])"
   ]
  },
  {
   "cell_type": "code",
   "execution_count": 3,
   "id": "eefc41b7",
   "metadata": {
    "execution": {
     "iopub.execute_input": "2023-09-02T18:30:53.673397Z",
     "iopub.status.busy": "2023-09-02T18:30:53.672993Z",
     "iopub.status.idle": "2023-09-02T18:30:53.718792Z",
     "shell.execute_reply": "2023-09-02T18:30:53.717019Z"
    },
    "id": "N3JRK8bkOEw4",
    "outputId": "b2558bbf-8b52-483a-e21a-760d4105be2c",
    "papermill": {
     "duration": 0.090634,
     "end_time": "2023-09-02T18:30:53.722059",
     "exception": false,
     "start_time": "2023-09-02T18:30:53.631425",
     "status": "completed"
    },
    "tags": []
   },
   "outputs": [
    {
     "name": "stdout",
     "output_type": "stream",
     "text": [
      "<class 'pandas.core.frame.DataFrame'>\n",
      "Int64Index: 100000 entries, 0 to 99822\n",
      "Data columns (total 3 columns):\n",
      " #   Column      Non-Null Count   Dtype \n",
      "---  ------      --------------   ----- \n",
      " 0   Unnamed: 0  100000 non-null  int64 \n",
      " 1   text        100000 non-null  object\n",
      " 2   class       100000 non-null  object\n",
      "dtypes: int64(1), object(2)\n",
      "memory usage: 3.1+ MB\n"
     ]
    }
   ],
   "source": [
    "dataframe.info()"
   ]
  },
  {
   "cell_type": "code",
   "execution_count": 4,
   "id": "a4a932e2",
   "metadata": {
    "execution": {
     "iopub.execute_input": "2023-09-02T18:30:53.792450Z",
     "iopub.status.busy": "2023-09-02T18:30:53.791453Z",
     "iopub.status.idle": "2023-09-02T18:30:53.827387Z",
     "shell.execute_reply": "2023-09-02T18:30:53.826194Z"
    },
    "id": "gRdpyxlKOOYs",
    "outputId": "be88f206-29ba-4d01-b521-e4a3727ce3a4",
    "papermill": {
     "duration": 0.072544,
     "end_time": "2023-09-02T18:30:53.829846",
     "exception": false,
     "start_time": "2023-09-02T18:30:53.757302",
     "status": "completed"
    },
    "tags": []
   },
   "outputs": [
    {
     "data": {
      "text/plain": [
       "Unnamed: 0    0\n",
       "text          0\n",
       "class         0\n",
       "dtype: int64"
      ]
     },
     "execution_count": 4,
     "metadata": {},
     "output_type": "execute_result"
    }
   ],
   "source": [
    "dataframe.isnull().sum()"
   ]
  },
  {
   "cell_type": "code",
   "execution_count": 5,
   "id": "843cfd6f",
   "metadata": {
    "execution": {
     "iopub.execute_input": "2023-09-02T18:30:54.014179Z",
     "iopub.status.busy": "2023-09-02T18:30:54.013135Z",
     "iopub.status.idle": "2023-09-02T18:31:35.081382Z",
     "shell.execute_reply": "2023-09-02T18:31:35.079991Z"
    },
    "id": "Ax20bikLPtLs",
    "outputId": "69aca607-b333-4abd-ea6a-8eab7a6669cc",
    "papermill": {
     "duration": 41.106686,
     "end_time": "2023-09-02T18:31:35.084457",
     "exception": false,
     "start_time": "2023-09-02T18:30:53.977771",
     "status": "completed"
    },
    "tags": []
   },
   "outputs": [
    {
     "name": "stdout",
     "output_type": "stream",
     "text": [
      "Collecting text_hammer\r\n",
      "  Downloading text_hammer-0.1.5-py3-none-any.whl (7.6 kB)\r\n",
      "Requirement already satisfied: pandas in /opt/conda/lib/python3.7/site-packages (from text_hammer) (1.3.5)\r\n",
      "Collecting beautifulsoup4==4.9.1\r\n",
      "  Downloading beautifulsoup4-4.9.1-py3-none-any.whl (115 kB)\r\n",
      "\u001b[2K     \u001b[90m━━━━━━━━━━━━━━━━━━━━━━━━━━━━━━━━━━━━━━━\u001b[0m \u001b[32m115.1/115.1 kB\u001b[0m \u001b[31m4.9 MB/s\u001b[0m eta \u001b[36m0:00:00\u001b[0m\r\n",
      "\u001b[?25hRequirement already satisfied: TextBlob in /opt/conda/lib/python3.7/site-packages (from text_hammer) (0.17.1)\r\n",
      "Requirement already satisfied: spacy in /opt/conda/lib/python3.7/site-packages (from text_hammer) (3.5.1)\r\n",
      "Requirement already satisfied: numpy in /opt/conda/lib/python3.7/site-packages (from text_hammer) (1.21.6)\r\n",
      "Requirement already satisfied: soupsieve>1.2 in /opt/conda/lib/python3.7/site-packages (from beautifulsoup4==4.9.1->text_hammer) (2.3.2.post1)\r\n",
      "Requirement already satisfied: python-dateutil>=2.7.3 in /opt/conda/lib/python3.7/site-packages (from pandas->text_hammer) (2.8.2)\r\n",
      "Requirement already satisfied: pytz>=2017.3 in /opt/conda/lib/python3.7/site-packages (from pandas->text_hammer) (2023.3)\r\n",
      "Requirement already satisfied: thinc<8.2.0,>=8.1.8 in /opt/conda/lib/python3.7/site-packages (from spacy->text_hammer) (8.1.9)\r\n",
      "Requirement already satisfied: cymem<2.1.0,>=2.0.2 in /opt/conda/lib/python3.7/site-packages (from spacy->text_hammer) (2.0.7)\r\n",
      "Requirement already satisfied: srsly<3.0.0,>=2.4.3 in /opt/conda/lib/python3.7/site-packages (from spacy->text_hammer) (2.4.6)\r\n",
      "Requirement already satisfied: requests<3.0.0,>=2.13.0 in /opt/conda/lib/python3.7/site-packages (from spacy->text_hammer) (2.28.2)\r\n",
      "Requirement already satisfied: packaging>=20.0 in /opt/conda/lib/python3.7/site-packages (from spacy->text_hammer) (23.0)\r\n",
      "Requirement already satisfied: typing-extensions<4.5.0,>=3.7.4.1 in /opt/conda/lib/python3.7/site-packages (from spacy->text_hammer) (4.4.0)\r\n",
      "Requirement already satisfied: tqdm<5.0.0,>=4.38.0 in /opt/conda/lib/python3.7/site-packages (from spacy->text_hammer) (4.64.1)\r\n",
      "Requirement already satisfied: spacy-legacy<3.1.0,>=3.0.11 in /opt/conda/lib/python3.7/site-packages (from spacy->text_hammer) (3.0.12)\r\n",
      "Requirement already satisfied: setuptools in /opt/conda/lib/python3.7/site-packages (from spacy->text_hammer) (59.8.0)\r\n",
      "Requirement already satisfied: jinja2 in /opt/conda/lib/python3.7/site-packages (from spacy->text_hammer) (3.1.2)\r\n",
      "Requirement already satisfied: smart-open<7.0.0,>=5.2.1 in /opt/conda/lib/python3.7/site-packages (from spacy->text_hammer) (6.3.0)\r\n",
      "Requirement already satisfied: spacy-loggers<2.0.0,>=1.0.0 in /opt/conda/lib/python3.7/site-packages (from spacy->text_hammer) (1.0.4)\r\n",
      "Requirement already satisfied: catalogue<2.1.0,>=2.0.6 in /opt/conda/lib/python3.7/site-packages (from spacy->text_hammer) (2.0.8)\r\n",
      "Requirement already satisfied: preshed<3.1.0,>=3.0.2 in /opt/conda/lib/python3.7/site-packages (from spacy->text_hammer) (3.0.8)\r\n",
      "Requirement already satisfied: pathy>=0.10.0 in /opt/conda/lib/python3.7/site-packages (from spacy->text_hammer) (0.10.1)\r\n",
      "Requirement already satisfied: typer<0.8.0,>=0.3.0 in /opt/conda/lib/python3.7/site-packages (from spacy->text_hammer) (0.7.0)\r\n",
      "Requirement already satisfied: langcodes<4.0.0,>=3.2.0 in /opt/conda/lib/python3.7/site-packages (from spacy->text_hammer) (3.3.0)\r\n",
      "Requirement already satisfied: murmurhash<1.1.0,>=0.28.0 in /opt/conda/lib/python3.7/site-packages (from spacy->text_hammer) (1.0.9)\r\n",
      "Requirement already satisfied: wasabi<1.2.0,>=0.9.1 in /opt/conda/lib/python3.7/site-packages (from spacy->text_hammer) (1.1.1)\r\n",
      "Requirement already satisfied: pydantic!=1.8,!=1.8.1,<1.11.0,>=1.7.4 in /opt/conda/lib/python3.7/site-packages (from spacy->text_hammer) (1.10.4)\r\n",
      "Requirement already satisfied: nltk>=3.1 in /opt/conda/lib/python3.7/site-packages (from TextBlob->text_hammer) (3.2.4)\r\n",
      "Requirement already satisfied: zipp>=0.5 in /opt/conda/lib/python3.7/site-packages (from catalogue<2.1.0,>=2.0.6->spacy->text_hammer) (3.11.0)\r\n",
      "Requirement already satisfied: six in /opt/conda/lib/python3.7/site-packages (from nltk>=3.1->TextBlob->text_hammer) (1.16.0)\r\n",
      "Requirement already satisfied: idna<4,>=2.5 in /opt/conda/lib/python3.7/site-packages (from requests<3.0.0,>=2.13.0->spacy->text_hammer) (3.4)\r\n",
      "Requirement already satisfied: charset-normalizer<4,>=2 in /opt/conda/lib/python3.7/site-packages (from requests<3.0.0,>=2.13.0->spacy->text_hammer) (2.1.1)\r\n",
      "Requirement already satisfied: certifi>=2017.4.17 in /opt/conda/lib/python3.7/site-packages (from requests<3.0.0,>=2.13.0->spacy->text_hammer) (2022.12.7)\r\n",
      "Requirement already satisfied: urllib3<1.27,>=1.21.1 in /opt/conda/lib/python3.7/site-packages (from requests<3.0.0,>=2.13.0->spacy->text_hammer) (1.26.14)\r\n",
      "Requirement already satisfied: confection<1.0.0,>=0.0.1 in /opt/conda/lib/python3.7/site-packages (from thinc<8.2.0,>=8.1.8->spacy->text_hammer) (0.0.4)\r\n",
      "Requirement already satisfied: blis<0.8.0,>=0.7.8 in /opt/conda/lib/python3.7/site-packages (from thinc<8.2.0,>=8.1.8->spacy->text_hammer) (0.7.9)\r\n",
      "Requirement already satisfied: click<9.0.0,>=7.1.1 in /opt/conda/lib/python3.7/site-packages (from typer<0.8.0,>=0.3.0->spacy->text_hammer) (8.1.3)\r\n",
      "Requirement already satisfied: MarkupSafe>=2.0 in /opt/conda/lib/python3.7/site-packages (from jinja2->spacy->text_hammer) (2.1.1)\r\n",
      "Requirement already satisfied: importlib-metadata in /opt/conda/lib/python3.7/site-packages (from click<9.0.0,>=7.1.1->typer<0.8.0,>=0.3.0->spacy->text_hammer) (4.11.4)\r\n",
      "Installing collected packages: beautifulsoup4, text_hammer\r\n",
      "  Attempting uninstall: beautifulsoup4\r\n",
      "    Found existing installation: beautifulsoup4 4.11.1\r\n",
      "    Uninstalling beautifulsoup4-4.11.1:\r\n",
      "      Successfully uninstalled beautifulsoup4-4.11.1\r\n",
      "Successfully installed beautifulsoup4-4.11.1 text_hammer-0.1.5\r\n",
      "\u001b[33mWARNING: Running pip as the 'root' user can result in broken permissions and conflicting behaviour with the system package manager. It is recommended to use a virtual environment instead: https://pip.pypa.io/warnings/venv\u001b[0m\u001b[33m\r\n",
      "\u001b[0m"
     ]
    }
   ],
   "source": [
    "!pip install text_hammer \n",
    "import text_hammer as th"
   ]
  },
  {
   "cell_type": "code",
   "execution_count": 6,
   "id": "c5892f74",
   "metadata": {
    "execution": {
     "iopub.execute_input": "2023-09-02T18:31:35.156648Z",
     "iopub.status.busy": "2023-09-02T18:31:35.155033Z",
     "iopub.status.idle": "2023-09-02T18:31:35.308046Z",
     "shell.execute_reply": "2023-09-02T18:31:35.306110Z"
    },
    "id": "FRwfTks6BtzG",
    "outputId": "0e20ecad-9997-4be4-b667-10226530069a",
    "papermill": {
     "duration": 0.191662,
     "end_time": "2023-09-02T18:31:35.310683",
     "exception": false,
     "start_time": "2023-09-02T18:31:35.119021",
     "status": "completed"
    },
    "tags": []
   },
   "outputs": [
    {
     "name": "stdout",
     "output_type": "stream",
     "text": [
      "[nltk_data] Downloading package stopwords to /usr/share/nltk_data...\n",
      "[nltk_data]   Package stopwords is already up-to-date!\n",
      "[nltk_data] Downloading package punkt to /usr/share/nltk_data...\n",
      "[nltk_data]   Package punkt is already up-to-date!\n"
     ]
    }
   ],
   "source": [
    "import nltk\n",
    "from nltk.corpus import stopwords\n",
    "from nltk.tokenize import word_tokenize \n",
    "nltk.download('stopwords')\n",
    "nltk.download('punkt')\n",
    "lists = stopwords.words('english')"
   ]
  },
  {
   "cell_type": "code",
   "execution_count": 7,
   "id": "ef226456",
   "metadata": {
    "execution": {
     "iopub.execute_input": "2023-09-02T18:31:35.381708Z",
     "iopub.status.busy": "2023-09-02T18:31:35.381311Z",
     "iopub.status.idle": "2023-09-02T18:31:35.404975Z",
     "shell.execute_reply": "2023-09-02T18:31:35.403740Z"
    },
    "id": "ZsoWucx6Btvv",
    "papermill": {
     "duration": 0.062851,
     "end_time": "2023-09-02T18:31:35.408095",
     "exception": false,
     "start_time": "2023-09-02T18:31:35.345244",
     "status": "completed"
    },
    "tags": []
   },
   "outputs": [],
   "source": [
    "stopwords_list = ['i','I', 'am', 'is','are','this','that','then','those','have','has','it','can','could','the','had','was','were','been','them','what',\n",
    "                  'yet', 'though', 'wherein', 'really', 'show', 'then', 'rather', 'same', 'con', 'call', 'is', 'twenty', 'side', 'go', 'namely',\n",
    "                  'every', 'top', 'for', \"'m\", 'with', 'either', 'because', 'two', 'well', 'when', 'those', 'under', 'thin', 'amount', 'upon', \n",
    "                  'kg', 'the', \"that'll\", 'ca', 'even', 'very', 'into', 'by', '‘m', 'keep', 'although', 'done', 'bottom', 'detail', 'whatever', \n",
    "                  'from', 'formerly', 'these', 'enough', 'twelve', 'of', 'too', 'already', 'move', 'something', 'few', 'nothing', 'they', 'does',\n",
    "                  'us', 'next', 'cry', 'but', 'eight', '‘s', 'however', 'four', \"'ll\", 'has', 'over', 'someone', 'afterwards', 'myself', 'have',\n",
    "                  'would', 'anywhere', 'hereupon', 'using', 'everything', 'his', 'put', 'many', 'more', 'within', 'which', 'describe', 'thereby',\n",
    "                  'nine', 'elsewhere', 'other', 'he', 'if', 'per', 'your', 's', 'be', 'than', 'now', 'sometime', 'herein', 'why', '‘d', 'whereas',\n",
    "                  'behind', 'couldnt', 'de', \"'re\", 'least', 'latter', 'whereafter', 'part', 'after', 'front', 'interest', \"you'd\", 'whose', 'fire',\n",
    "                  'sincere', 'down', 'to', 'whence', 'ours', \"'s\", 'all', 'noone', 'just', 'anyhow', 'ie', 'having', 'her', 'been', 'get', 'former', \n",
    "                  'throughout', 'above', '’d', 'cannot', 'almost', 'do', 'quite', 'seem', 'give', 'first', 'several', 'also', 'seems', 'became', '’m',\n",
    "                  'sixty', 'anyway', '‘re', 'on', \"you're\", 'onto', 'co', 'third', 'fifty', 'had', 'seemed', '’s', 'yourselves', 'until', 'an', 'mine',\n",
    "                  'across', 'sometimes', 'hereby', 'eleven', 'might', 'mostly', 'un', 'i', \"'d\", 'itself', 'most', 'beforehand', 'five', 'beyond',\n",
    "                  'herself', \"you've\", 'unless', 'regarding', 'there', 'doesn', 'while', 'whoever', \"should've\", 'whereupon', 'name', 'further', 'o', \n",
    "                  'nobody', 'whereby', 'others', 'between', 'thus', 'any', \"you'll\", 'found', 'amongst', 'hers', 'wherever', 'ltd', 'still', 'somehow',\n",
    "                  'often', 'km', 'becoming', 'six', 'can', \"'ve\", 'make', 'hence', 'around', 'both', 'our', 'along', 'latterly', 'please', 'via', 'whole',\n",
    "                  'system', 've', 'd', 'you', 'themselves', 'here', 'used', 'in', 'forty', 'each', 'find', 'during', 'ain', 'ten', 'him', 'nevertheless',\n",
    "                  \"she's\", 'me', 'them', 'ma', 'meanwhile', 'and', 'y', 'did', 'fifteen', 'serious', '’re', \"it's\", '’ll', 'that', 'alone', 'together', \n",
    "                  'where', 'hereafter', 'once', 'himself', 'could', 'made', 'among', 'whom', 'cant', 'doing', 'again', 'therefore', 'beside', 'hundred',\n",
    "                  'three', 'etc', 'moreover', 'various', 'may', 'since', 'always', 'seeming', 'toward', 'are', 'll', 'everywhere', 'a', 'empty', 'yours',\n",
    "                  'theirs', 'back', 'else', 'own', 'as', 'somewhere', 'bill', '‘ll', 're', 'through', 'last', 'nowhere', 'what', 'take', 'computer',\n",
    "                  'yourself', 'eg', 'perhaps', 'thereupon', 'ourselves', 'against', 'inc', 'she', 'whether', 'their', 'm', 'such', 'thick', 'anything',\n",
    "                  '’ve', 'neither', 'none', 'amoungst', 'one', 'were', 'thru', 'am', 'about', 'without', 'up', 'otherwise', 'except', 'who', 'due',\n",
    "                  'thereafter', 'ever', 'much', 'out', 'how', 'whenever', 'before', 'it', 'some', 'being', 'mill', 'or', 'its', 'will', 'become',\n",
    "                  'besides', 'say', 'therein', 'another', 'see', 'anyone', 'becomes', 'never', 'towards', 'everyone', 'below', 'full', 'my', 'only', \n",
    "                  'fill', 'we', 'should', 'thence', 'indeed', 'this', 'was', 'less', 'so', 't', 'at', 'must', 'whither', 'off','whose','whom','who','do','did','does'\n",
    "]"
   ]
  },
  {
   "cell_type": "code",
   "execution_count": 8,
   "id": "202b807e",
   "metadata": {
    "execution": {
     "iopub.execute_input": "2023-09-02T18:31:35.481391Z",
     "iopub.status.busy": "2023-09-02T18:31:35.480316Z",
     "iopub.status.idle": "2023-09-02T18:31:35.487789Z",
     "shell.execute_reply": "2023-09-02T18:31:35.486694Z"
    },
    "id": "9fSKPUSpBtrd",
    "outputId": "523fcf5d-94b3-490f-f6ea-8eb1c55d7dc7",
    "papermill": {
     "duration": 0.047892,
     "end_time": "2023-09-02T18:31:35.490471",
     "exception": false,
     "start_time": "2023-09-02T18:31:35.442579",
     "status": "completed"
    },
    "tags": []
   },
   "outputs": [
    {
     "name": "stdout",
     "output_type": "stream",
     "text": [
      "CPU times: user 4 µs, sys: 1 µs, total: 5 µs\n",
      "Wall time: 8.58 µs\n"
     ]
    }
   ],
   "source": [
    "%%time\n",
    "def remove_stopwords(text):\n",
    "  token = word_tokenize(text)\n",
    "  token_without_stopwords = []\n",
    "  for words in token:\n",
    "    if words not in stopwords_list:\n",
    "      token_without_stopwords.append(words)\n",
    "  \n",
    "  text = \" \".join(token_without_stopwords)\n",
    "  return text"
   ]
  },
  {
   "cell_type": "code",
   "execution_count": 9,
   "id": "496e38f9",
   "metadata": {
    "execution": {
     "iopub.execute_input": "2023-09-02T18:31:35.561717Z",
     "iopub.status.busy": "2023-09-02T18:31:35.560593Z",
     "iopub.status.idle": "2023-09-02T18:36:11.989204Z",
     "shell.execute_reply": "2023-09-02T18:36:11.988160Z"
    },
    "id": "wTsV6itKBthA",
    "outputId": "482e002d-f3e5-4214-fcea-15ce05f6b1ce",
    "papermill": {
     "duration": 276.495416,
     "end_time": "2023-09-02T18:36:12.020245",
     "exception": false,
     "start_time": "2023-09-02T18:31:35.524829",
     "status": "completed"
    },
    "tags": []
   },
   "outputs": [
    {
     "data": {
      "text/html": [
       "<div>\n",
       "<style scoped>\n",
       "    .dataframe tbody tr th:only-of-type {\n",
       "        vertical-align: middle;\n",
       "    }\n",
       "\n",
       "    .dataframe tbody tr th {\n",
       "        vertical-align: top;\n",
       "    }\n",
       "\n",
       "    .dataframe thead th {\n",
       "        text-align: right;\n",
       "    }\n",
       "</style>\n",
       "<table border=\"1\" class=\"dataframe\">\n",
       "  <thead>\n",
       "    <tr style=\"text-align: right;\">\n",
       "      <th></th>\n",
       "      <th>Unnamed: 0</th>\n",
       "      <th>text</th>\n",
       "      <th>class</th>\n",
       "    </tr>\n",
       "  </thead>\n",
       "  <tbody>\n",
       "    <tr>\n",
       "      <th>0</th>\n",
       "      <td>2</td>\n",
       "      <td>Ex Wife Threatening SuicideRecently left wife ...</td>\n",
       "      <td>suicide</td>\n",
       "    </tr>\n",
       "    <tr>\n",
       "      <th>3</th>\n",
       "      <td>8</td>\n",
       "      <td>need helpjust help im crying hard</td>\n",
       "      <td>suicide</td>\n",
       "    </tr>\n",
       "    <tr>\n",
       "      <th>4</th>\n",
       "      <td>9</td>\n",
       "      <td>’ lostHello , Adam ( 16 ) ’ struggling years ’...</td>\n",
       "      <td>suicide</td>\n",
       "    </tr>\n",
       "    <tr>\n",
       "      <th>5</th>\n",
       "      <td>11</td>\n",
       "      <td>Honetly idkI dont know im . feel like . All fe...</td>\n",
       "      <td>suicide</td>\n",
       "    </tr>\n",
       "    <tr>\n",
       "      <th>6</th>\n",
       "      <td>12</td>\n",
       "      <td>[ Trigger warning ] Excuse self inflicted burn...</td>\n",
       "      <td>suicide</td>\n",
       "    </tr>\n",
       "  </tbody>\n",
       "</table>\n",
       "</div>"
      ],
      "text/plain": [
       "   Unnamed: 0                                               text    class\n",
       "0           2  Ex Wife Threatening SuicideRecently left wife ...  suicide\n",
       "3           8                  need helpjust help im crying hard  suicide\n",
       "4           9  ’ lostHello , Adam ( 16 ) ’ struggling years ’...  suicide\n",
       "5          11  Honetly idkI dont know im . feel like . All fe...  suicide\n",
       "6          12  [ Trigger warning ] Excuse self inflicted burn...  suicide"
      ]
     },
     "execution_count": 9,
     "metadata": {},
     "output_type": "execute_result"
    }
   ],
   "source": [
    "dataframe['text'] = dataframe['text'].apply(remove_stopwords)\n",
    "dataframe.head()"
   ]
  },
  {
   "cell_type": "code",
   "execution_count": 10,
   "id": "c884272f",
   "metadata": {
    "execution": {
     "iopub.execute_input": "2023-09-02T18:36:12.091406Z",
     "iopub.status.busy": "2023-09-02T18:36:12.090209Z",
     "iopub.status.idle": "2023-09-02T18:36:12.100570Z",
     "shell.execute_reply": "2023-09-02T18:36:12.098944Z"
    },
    "id": "G0-F2LTlQ4zb",
    "outputId": "442166c9-3815-4576-a0d1-593210341125",
    "papermill": {
     "duration": 0.048545,
     "end_time": "2023-09-02T18:36:12.102940",
     "exception": false,
     "start_time": "2023-09-02T18:36:12.054395",
     "status": "completed"
    },
    "tags": []
   },
   "outputs": [
    {
     "name": "stdout",
     "output_type": "stream",
     "text": [
      "CPU times: user 445 µs, sys: 0 ns, total: 445 µs\n",
      "Wall time: 450 µs\n"
     ]
    }
   ],
   "source": [
    "%%time\n",
    "from tqdm._tqdm_notebook import tqdm_notebook\n",
    "tqdm_notebook.pandas()\n",
    "def text_preprocessing(df,col_name):\n",
    "    column = col_name\n",
    "    df[column] = df[column].progress_apply(lambda x:str(x).lower())\n",
    "    df[column] = df[column].progress_apply(lambda x: th.remove_emails(x))\n",
    "    df[column] = df[column].progress_apply(lambda x: th.remove_html_tags(x))\n",
    "    df[column] = df[column].progress_apply(lambda x: th.remove_special_chars(x))\n",
    "    df[column] = df[column].progress_apply(lambda x: th.remove_accented_chars(x))\n",
    "    return(df)"
   ]
  },
  {
   "cell_type": "code",
   "execution_count": 11,
   "id": "f54a2cd9",
   "metadata": {
    "execution": {
     "iopub.execute_input": "2023-09-02T18:36:12.174268Z",
     "iopub.status.busy": "2023-09-02T18:36:12.173839Z",
     "iopub.status.idle": "2023-09-02T18:36:45.284235Z",
     "shell.execute_reply": "2023-09-02T18:36:45.283096Z"
    },
    "id": "-Eb5RjJQRYJS",
    "outputId": "38df7815-6953-449d-92cf-aa3786b9a4d7",
    "papermill": {
     "duration": 33.152397,
     "end_time": "2023-09-02T18:36:45.289419",
     "exception": false,
     "start_time": "2023-09-02T18:36:12.137022",
     "status": "completed"
    },
    "tags": []
   },
   "outputs": [
    {
     "data": {
      "application/vnd.jupyter.widget-view+json": {
       "model_id": "f8e66cdfb8dc493fa3f6ea4b93485bf1",
       "version_major": 2,
       "version_minor": 0
      },
      "text/plain": [
       "  0%|          | 0/100000 [00:00<?, ?it/s]"
      ]
     },
     "metadata": {},
     "output_type": "display_data"
    },
    {
     "data": {
      "application/vnd.jupyter.widget-view+json": {
       "model_id": "a0d782f04d444afb977a5f45cfc6a241",
       "version_major": 2,
       "version_minor": 0
      },
      "text/plain": [
       "  0%|          | 0/100000 [00:00<?, ?it/s]"
      ]
     },
     "metadata": {},
     "output_type": "display_data"
    },
    {
     "data": {
      "application/vnd.jupyter.widget-view+json": {
       "model_id": "a1f407aaef194eaa980f5d98b7aa45ff",
       "version_major": 2,
       "version_minor": 0
      },
      "text/plain": [
       "  0%|          | 0/100000 [00:00<?, ?it/s]"
      ]
     },
     "metadata": {},
     "output_type": "display_data"
    },
    {
     "data": {
      "application/vnd.jupyter.widget-view+json": {
       "model_id": "e908bbc197c2478786fde69292842a5c",
       "version_major": 2,
       "version_minor": 0
      },
      "text/plain": [
       "  0%|          | 0/100000 [00:00<?, ?it/s]"
      ]
     },
     "metadata": {},
     "output_type": "display_data"
    },
    {
     "data": {
      "application/vnd.jupyter.widget-view+json": {
       "model_id": "dae6535051a54d6b8a0c93e986383887",
       "version_major": 2,
       "version_minor": 0
      },
      "text/plain": [
       "  0%|          | 0/100000 [00:00<?, ?it/s]"
      ]
     },
     "metadata": {},
     "output_type": "display_data"
    }
   ],
   "source": [
    "dataframe = text_preprocessing(dataframe, 'text')"
   ]
  },
  {
   "cell_type": "code",
   "execution_count": 12,
   "id": "142ae09b",
   "metadata": {
    "execution": {
     "iopub.execute_input": "2023-09-02T18:36:45.433203Z",
     "iopub.status.busy": "2023-09-02T18:36:45.432816Z",
     "iopub.status.idle": "2023-09-02T18:36:45.438140Z",
     "shell.execute_reply": "2023-09-02T18:36:45.437103Z"
    },
    "id": "TeegpbJ4bX7p",
    "papermill": {
     "duration": 0.045246,
     "end_time": "2023-09-02T18:36:45.440626",
     "exception": false,
     "start_time": "2023-09-02T18:36:45.395380",
     "status": "completed"
    },
    "tags": []
   },
   "outputs": [],
   "source": [
    "X = dataframe['text']\n",
    "y = dataframe['class']"
   ]
  },
  {
   "cell_type": "code",
   "execution_count": 13,
   "id": "b181bbc1",
   "metadata": {
    "execution": {
     "iopub.execute_input": "2023-09-02T18:36:45.516121Z",
     "iopub.status.busy": "2023-09-02T18:36:45.514944Z",
     "iopub.status.idle": "2023-09-02T18:36:51.489773Z",
     "shell.execute_reply": "2023-09-02T18:36:51.488628Z"
    },
    "id": "dLr87cqraH5h",
    "papermill": {
     "duration": 6.016384,
     "end_time": "2023-09-02T18:36:51.492719",
     "exception": false,
     "start_time": "2023-09-02T18:36:45.476335",
     "status": "completed"
    },
    "tags": []
   },
   "outputs": [],
   "source": [
    "from keras.preprocessing.text import Tokenizer\n",
    "tokenizer=Tokenizer(num_words= 10000,lower=True)\n",
    "tokenizer.fit_on_texts(X)"
   ]
  },
  {
   "cell_type": "code",
   "execution_count": 14,
   "id": "d4c19c86",
   "metadata": {
    "execution": {
     "iopub.execute_input": "2023-09-02T18:36:51.567333Z",
     "iopub.status.busy": "2023-09-02T18:36:51.566902Z",
     "iopub.status.idle": "2023-09-02T18:36:57.626281Z",
     "shell.execute_reply": "2023-09-02T18:36:57.625188Z"
    },
    "id": "dG8O-wNJawRC",
    "outputId": "c811c335-7a93-4d90-a8d3-a039b157008f",
    "papermill": {
     "duration": 6.098882,
     "end_time": "2023-09-02T18:36:57.628926",
     "exception": false,
     "start_time": "2023-09-02T18:36:51.530044",
     "status": "completed"
    },
    "tags": []
   },
   "outputs": [
    {
     "data": {
      "text/plain": [
       "array([ 395,  570, 2359,  104,  570,   27, 1157,  831, 1188,  256, 1536,\n",
       "        353,   95,   90,  873, 2359,   42,  399,   95,  141,  541,  210,\n",
       "        196,  116,    5,   75,    9, 3427,  871,   29,  438,   88,  336,\n",
       "        432,  151,  764,   38,  570,    3,  240,   61, 1157,  254,   68,\n",
       "       1945,  600,  101,   16,  114,    1,  255,    0,    0,    0,    0,\n",
       "          0,    0,    0,    0,    0,    0,    0,    0,    0,    0,    0,\n",
       "          0,    0,    0,    0,    0,    0,    0,    0,    0,    0,    0,\n",
       "          0,    0,    0,    0,    0,    0,    0,    0,    0,    0,    0,\n",
       "          0,    0,    0,    0,    0,    0,    0,    0,    0,    0,    0,\n",
       "          0,    0,    0,    0,    0,    0,    0,    0,    0,    0,    0,\n",
       "          0,    0,    0,    0,    0,    0,    0,    0,    0,    0,    0,\n",
       "          0,    0,    0,    0,    0,    0,    0,    0,    0,    0,    0,\n",
       "          0,    0,    0,    0,    0,    0,    0,    0,    0,    0,    0,\n",
       "          0,    0,    0,    0,    0,    0,    0,    0,    0,    0,    0,\n",
       "          0,    0,    0,    0,    0,    0,    0,    0,    0,    0,    0,\n",
       "          0,    0,    0,    0,    0,    0,    0,    0,    0,    0,    0,\n",
       "          0,    0,    0,    0,    0,    0,    0,    0,    0,    0,    0,\n",
       "          0,    0,    0,    0,    0,    0,    0,    0,    0,    0,    0,\n",
       "          0,    0], dtype=int32)"
      ]
     },
     "execution_count": 14,
     "metadata": {},
     "output_type": "execute_result"
    }
   ],
   "source": [
    "from tensorflow.keras.preprocessing.sequence import pad_sequences\n",
    "X = tokenizer.texts_to_sequences(X) # this converts texts into some numeric sequences \n",
    "X = pad_sequences(X,maxlen=200,padding='post') # this makes the length of all numeric sequences equal \n",
    "X[0]"
   ]
  },
  {
   "cell_type": "code",
   "execution_count": 15,
   "id": "8f7077bd",
   "metadata": {
    "execution": {
     "iopub.execute_input": "2023-09-02T18:36:57.703438Z",
     "iopub.status.busy": "2023-09-02T18:36:57.702394Z",
     "iopub.status.idle": "2023-09-02T18:36:57.710405Z",
     "shell.execute_reply": "2023-09-02T18:36:57.709135Z"
    },
    "id": "mUyFAXNXb7AE",
    "outputId": "77b6a6ef-c400-497a-eba1-de33256623c7",
    "papermill": {
     "duration": 0.046912,
     "end_time": "2023-09-02T18:36:57.712923",
     "exception": false,
     "start_time": "2023-09-02T18:36:57.666011",
     "status": "completed"
    },
    "tags": []
   },
   "outputs": [
    {
     "data": {
      "text/plain": [
       "(100000, 200)"
      ]
     },
     "execution_count": 15,
     "metadata": {},
     "output_type": "execute_result"
    }
   ],
   "source": [
    "X.shape"
   ]
  },
  {
   "cell_type": "code",
   "execution_count": 16,
   "id": "6c747d4f",
   "metadata": {
    "execution": {
     "iopub.execute_input": "2023-09-02T18:36:57.859697Z",
     "iopub.status.busy": "2023-09-02T18:36:57.858554Z",
     "iopub.status.idle": "2023-09-02T18:38:00.204506Z",
     "shell.execute_reply": "2023-09-02T18:38:00.203359Z"
    },
    "id": "MzAGBj5lcNSC",
    "outputId": "6184b456-a9e8-4092-c9cf-de29f61b43bc",
    "papermill": {
     "duration": 62.386772,
     "end_time": "2023-09-02T18:38:00.207556",
     "exception": false,
     "start_time": "2023-09-02T18:36:57.820784",
     "status": "completed"
    },
    "tags": []
   },
   "outputs": [
    {
     "name": "stdout",
     "output_type": "stream",
     "text": [
      "[==================================================] 100.0% 128.1/128.1MB downloaded\n"
     ]
    }
   ],
   "source": [
    "import gensim.downloader as api\n",
    "glove_gensim  = api.load('glove-wiki-gigaword-100') #100 dimension"
   ]
  },
  {
   "cell_type": "code",
   "execution_count": 17,
   "id": "63c7d1c7",
   "metadata": {
    "execution": {
     "iopub.execute_input": "2023-09-02T18:38:03.476205Z",
     "iopub.status.busy": "2023-09-02T18:38:03.475804Z",
     "iopub.status.idle": "2023-09-02T18:38:09.676294Z",
     "shell.execute_reply": "2023-09-02T18:38:09.675101Z"
    },
    "id": "9pfXo2Focemn",
    "papermill": {
     "duration": 7.73521,
     "end_time": "2023-09-02T18:38:09.679455",
     "exception": false,
     "start_time": "2023-09-02T18:38:01.944245",
     "status": "completed"
    },
    "tags": []
   },
   "outputs": [],
   "source": [
    "import numpy as np\n",
    "from gensim.models import KeyedVectors\n",
    "vector_size = 100\n",
    "num_words = 10000\n",
    "gensim_weight_matrix = np.zeros((num_words ,vector_size))\n",
    "gensim_weight_matrix.shape\n",
    "for word, index in tokenizer.word_index.items():\n",
    "    if index < num_words: # since index starts with zero \n",
    "        if word in glove_gensim.index_to_key:\n",
    "            gensim_weight_matrix[index] = glove_gensim[word]\n",
    "        else:\n",
    "            gensim_weight_matrix[index] = np.zeros(100)"
   ]
  },
  {
   "cell_type": "code",
   "execution_count": 18,
   "id": "a1cea93d",
   "metadata": {
    "execution": {
     "iopub.execute_input": "2023-09-02T18:38:15.139514Z",
     "iopub.status.busy": "2023-09-02T18:38:15.139115Z",
     "iopub.status.idle": "2023-09-02T18:38:15.907972Z",
     "shell.execute_reply": "2023-09-02T18:38:15.906656Z"
    },
    "id": "cERQHKuPdCzQ",
    "papermill": {
     "duration": 2.185286,
     "end_time": "2023-09-02T18:38:15.910805",
     "exception": false,
     "start_time": "2023-09-02T18:38:13.725519",
     "status": "completed"
    },
    "tags": []
   },
   "outputs": [],
   "source": [
    "from tensorflow.keras.models import Sequential \n",
    "from tensorflow.keras.layers import Dense, Embedding,Bidirectional\n",
    "import tensorflow\n",
    "from tensorflow.compat.v1.keras.layers import CuDNNGRU\n",
    "from tensorflow.keras.layers import Dropout"
   ]
  },
  {
   "cell_type": "code",
   "execution_count": 19,
   "id": "d01e5cf5",
   "metadata": {
    "execution": {
     "iopub.execute_input": "2023-09-02T18:38:18.577023Z",
     "iopub.status.busy": "2023-09-02T18:38:18.576629Z",
     "iopub.status.idle": "2023-09-02T18:38:18.634846Z",
     "shell.execute_reply": "2023-09-02T18:38:18.633583Z"
    },
    "id": "0cVtsmiajKt-",
    "papermill": {
     "duration": 1.419414,
     "end_time": "2023-09-02T18:38:18.637831",
     "exception": false,
     "start_time": "2023-09-02T18:38:17.218417",
     "status": "completed"
    },
    "tags": []
   },
   "outputs": [],
   "source": [
    "from sklearn.model_selection import train_test_split\n",
    "y=pd.get_dummies(dataframe['class'])\n",
    "X_train, X_test, y_train, y_test = train_test_split(X,y, test_size = 0.3, random_state = 42)"
   ]
  },
  {
   "cell_type": "code",
   "execution_count": 20,
   "id": "9b1fe369",
   "metadata": {
    "execution": {
     "iopub.execute_input": "2023-09-02T18:38:21.315323Z",
     "iopub.status.busy": "2023-09-02T18:38:21.314183Z",
     "iopub.status.idle": "2023-09-02T18:38:22.038518Z",
     "shell.execute_reply": "2023-09-02T18:38:22.037647Z"
    },
    "id": "gIk8AVbFiEUW",
    "outputId": "5039c8fd-c9a9-4c1e-9e30-79e7dc1fb297",
    "papermill": {
     "duration": 2.051068,
     "end_time": "2023-09-02T18:38:22.053625",
     "exception": false,
     "start_time": "2023-09-02T18:38:20.002557",
     "status": "completed"
    },
    "tags": []
   },
   "outputs": [
    {
     "name": "stdout",
     "output_type": "stream",
     "text": [
      "Model: \"sequential\"\n",
      "_________________________________________________________________\n",
      " Layer (type)                Output Shape              Param #   \n",
      "=================================================================\n",
      " embedding (Embedding)       (None, 200, 100)          1000000   \n",
      "                                                                 \n",
      " dropout (Dropout)           (None, 200, 100)          0         \n",
      "                                                                 \n",
      " cu_dnngru (CuDNNGRU)        (None, 200, 100)          60600     \n",
      "                                                                 \n",
      " dropout_1 (Dropout)         (None, 200, 100)          0         \n",
      "                                                                 \n",
      " cu_dnngru_1 (CuDNNGRU)      (None, 100)               60600     \n",
      "                                                                 \n",
      " dense (Dense)               (None, 2)                 202       \n",
      "                                                                 \n",
      "=================================================================\n",
      "Total params: 1,121,402\n",
      "Trainable params: 121,402\n",
      "Non-trainable params: 1,000,000\n",
      "_________________________________________________________________\n"
     ]
    }
   ],
   "source": [
    "EMBEDDING_DIM = 100\n",
    "model = Sequential()\n",
    "model.add(Embedding(input_dim = num_words,\n",
    " output_dim = EMBEDDING_DIM,\n",
    " input_length= X.shape[1],\n",
    " weights = [gensim_weight_matrix],trainable = False))\n",
    "model.add(Dropout(0.2))\n",
    "model.add(CuDNNGRU(100,return_sequences=True))\n",
    "model.add(Dropout(0.2))\n",
    "model.add(CuDNNGRU(100,return_sequences=False))\n",
    "model.add(Dense(2, activation = 'softmax'))\n",
    "model.compile(loss = 'categorical_crossentropy', optimizer = 'adam',metrics = 'accuracy')\n",
    "model.summary()"
   ]
  },
  {
   "cell_type": "code",
   "execution_count": 21,
   "id": "d428ff95",
   "metadata": {
    "execution": {
     "iopub.execute_input": "2023-09-02T18:38:24.859190Z",
     "iopub.status.busy": "2023-09-02T18:38:24.858365Z",
     "iopub.status.idle": "2023-09-02T18:38:24.864590Z",
     "shell.execute_reply": "2023-09-02T18:38:24.863557Z"
    },
    "id": "ftEXCzcLjaCs",
    "papermill": {
     "duration": 1.428141,
     "end_time": "2023-09-02T18:38:24.867232",
     "exception": false,
     "start_time": "2023-09-02T18:38:23.439091",
     "status": "completed"
    },
    "tags": []
   },
   "outputs": [],
   "source": [
    "#EarlyStopping and ModelCheckpoint\n",
    "from keras.callbacks import EarlyStopping, ModelCheckpoint\n",
    "es = EarlyStopping(monitor = 'val_loss', mode = 'min', verbose = 1, patience = 5)\n",
    "mc = ModelCheckpoint('./model.h5', monitor = 'val_accuracy', mode = 'max', verbose = 1, save_best_only = True)"
   ]
  },
  {
   "cell_type": "code",
   "execution_count": 22,
   "id": "c0e511ec",
   "metadata": {
    "execution": {
     "iopub.execute_input": "2023-09-02T18:38:27.563280Z",
     "iopub.status.busy": "2023-09-02T18:38:27.562864Z",
     "iopub.status.idle": "2023-09-02T18:45:53.945198Z",
     "shell.execute_reply": "2023-09-02T18:45:53.943194Z"
    },
    "id": "u1OfZycMjy0r",
    "outputId": "89fbcf54-31c8-4c6c-8b7f-87502767238e",
    "papermill": {
     "duration": 447.754763,
     "end_time": "2023-09-02T18:45:53.947842",
     "exception": false,
     "start_time": "2023-09-02T18:38:26.193079",
     "status": "completed"
    },
    "tags": []
   },
   "outputs": [
    {
     "name": "stdout",
     "output_type": "stream",
     "text": [
      "Epoch 1/25\n",
      "547/547 [==============================] - ETA: 0s - loss: 0.5269 - accuracy: 0.6883\n",
      "Epoch 1: val_accuracy improved from -inf to 0.88613, saving model to ./model.h5\n",
      "547/547 [==============================] - 30s 43ms/step - loss: 0.5269 - accuracy: 0.6883 - val_loss: 0.2910 - val_accuracy: 0.8861\n",
      "Epoch 2/25\n",
      "547/547 [==============================] - ETA: 0s - loss: 0.2625 - accuracy: 0.8958\n",
      "Epoch 2: val_accuracy improved from 0.88613 to 0.90870, saving model to ./model.h5\n",
      "547/547 [==============================] - 25s 46ms/step - loss: 0.2625 - accuracy: 0.8958 - val_loss: 0.2342 - val_accuracy: 0.9087\n",
      "Epoch 3/25\n",
      "547/547 [==============================] - ETA: 0s - loss: 0.2266 - accuracy: 0.9105\n",
      "Epoch 3: val_accuracy improved from 0.90870 to 0.91453, saving model to ./model.h5\n",
      "547/547 [==============================] - 25s 46ms/step - loss: 0.2266 - accuracy: 0.9105 - val_loss: 0.2169 - val_accuracy: 0.9145\n",
      "Epoch 4/25\n",
      "547/547 [==============================] - ETA: 0s - loss: 0.2070 - accuracy: 0.9192\n",
      "Epoch 4: val_accuracy improved from 0.91453 to 0.92190, saving model to ./model.h5\n",
      "547/547 [==============================] - 25s 46ms/step - loss: 0.2070 - accuracy: 0.9192 - val_loss: 0.2029 - val_accuracy: 0.9219\n",
      "Epoch 5/25\n",
      "546/547 [============================>.] - ETA: 0s - loss: 0.1993 - accuracy: 0.9216\n",
      "Epoch 5: val_accuracy did not improve from 0.92190\n",
      "547/547 [==============================] - 25s 46ms/step - loss: 0.1993 - accuracy: 0.9216 - val_loss: 0.2031 - val_accuracy: 0.9199\n",
      "Epoch 6/25\n",
      "547/547 [==============================] - ETA: 0s - loss: 0.1892 - accuracy: 0.9263\n",
      "Epoch 6: val_accuracy improved from 0.92190 to 0.92583, saving model to ./model.h5\n",
      "547/547 [==============================] - 23s 42ms/step - loss: 0.1892 - accuracy: 0.9263 - val_loss: 0.1938 - val_accuracy: 0.9258\n",
      "Epoch 7/25\n",
      "547/547 [==============================] - ETA: 0s - loss: 0.1813 - accuracy: 0.9296\n",
      "Epoch 7: val_accuracy did not improve from 0.92583\n",
      "547/547 [==============================] - 25s 46ms/step - loss: 0.1813 - accuracy: 0.9296 - val_loss: 0.1988 - val_accuracy: 0.9225\n",
      "Epoch 8/25\n",
      "547/547 [==============================] - ETA: 0s - loss: 0.1731 - accuracy: 0.9334\n",
      "Epoch 8: val_accuracy improved from 0.92583 to 0.92670, saving model to ./model.h5\n",
      "547/547 [==============================] - 25s 46ms/step - loss: 0.1731 - accuracy: 0.9334 - val_loss: 0.1881 - val_accuracy: 0.9267\n",
      "Epoch 9/25\n",
      "546/547 [============================>.] - ETA: 0s - loss: 0.1691 - accuracy: 0.9341\n",
      "Epoch 9: val_accuracy did not improve from 0.92670\n",
      "547/547 [==============================] - 25s 46ms/step - loss: 0.1691 - accuracy: 0.9341 - val_loss: 0.2034 - val_accuracy: 0.9222\n",
      "Epoch 10/25\n",
      "547/547 [==============================] - ETA: 0s - loss: 0.1616 - accuracy: 0.9378\n",
      "Epoch 10: val_accuracy did not improve from 0.92670\n",
      "547/547 [==============================] - 23s 42ms/step - loss: 0.1616 - accuracy: 0.9378 - val_loss: 0.1958 - val_accuracy: 0.9253\n",
      "Epoch 11/25\n",
      "547/547 [==============================] - ETA: 0s - loss: 0.1583 - accuracy: 0.9385\n",
      "Epoch 11: val_accuracy did not improve from 0.92670\n",
      "547/547 [==============================] - 25s 46ms/step - loss: 0.1583 - accuracy: 0.9385 - val_loss: 0.2086 - val_accuracy: 0.9209\n",
      "Epoch 12/25\n",
      "546/547 [============================>.] - ETA: 0s - loss: 0.1500 - accuracy: 0.9424\n",
      "Epoch 12: val_accuracy improved from 0.92670 to 0.92903, saving model to ./model.h5\n",
      "547/547 [==============================] - 25s 46ms/step - loss: 0.1499 - accuracy: 0.9424 - val_loss: 0.1906 - val_accuracy: 0.9290\n",
      "Epoch 13/25\n",
      "546/547 [============================>.] - ETA: 0s - loss: 0.1466 - accuracy: 0.9438\n",
      "Epoch 13: val_accuracy did not improve from 0.92903\n",
      "547/547 [==============================] - 23s 42ms/step - loss: 0.1467 - accuracy: 0.9438 - val_loss: 0.1867 - val_accuracy: 0.9275\n",
      "Epoch 14/25\n",
      "547/547 [==============================] - ETA: 0s - loss: 0.1405 - accuracy: 0.9455\n",
      "Epoch 14: val_accuracy did not improve from 0.92903\n",
      "547/547 [==============================] - 23s 42ms/step - loss: 0.1405 - accuracy: 0.9455 - val_loss: 0.1894 - val_accuracy: 0.9276\n",
      "Epoch 15/25\n",
      "547/547 [==============================] - ETA: 0s - loss: 0.1361 - accuracy: 0.9479\n",
      "Epoch 15: val_accuracy did not improve from 0.92903\n",
      "547/547 [==============================] - 23s 42ms/step - loss: 0.1361 - accuracy: 0.9479 - val_loss: 0.2147 - val_accuracy: 0.9216\n",
      "Epoch 16/25\n",
      "547/547 [==============================] - ETA: 0s - loss: 0.1307 - accuracy: 0.9498\n",
      "Epoch 16: val_accuracy did not improve from 0.92903\n",
      "547/547 [==============================] - 25s 46ms/step - loss: 0.1307 - accuracy: 0.9498 - val_loss: 0.2192 - val_accuracy: 0.9200\n",
      "Epoch 17/25\n",
      "547/547 [==============================] - ETA: 0s - loss: 0.1266 - accuracy: 0.9515\n",
      "Epoch 17: val_accuracy did not improve from 0.92903\n",
      "547/547 [==============================] - 23s 42ms/step - loss: 0.1266 - accuracy: 0.9515 - val_loss: 0.1945 - val_accuracy: 0.9276\n",
      "Epoch 18/25\n",
      "547/547 [==============================] - ETA: 0s - loss: 0.1218 - accuracy: 0.9530\n",
      "Epoch 18: val_accuracy improved from 0.92903 to 0.92927, saving model to ./model.h5\n",
      "547/547 [==============================] - 25s 46ms/step - loss: 0.1218 - accuracy: 0.9530 - val_loss: 0.2015 - val_accuracy: 0.9293\n",
      "Epoch 18: early stopping\n"
     ]
    }
   ],
   "source": [
    "history_embedding = model.fit(X_train, y_train, \n",
    "                                epochs = 25, batch_size = 128, \n",
    "                                validation_data=(X_test, y_test),\n",
    "                                verbose = 1, callbacks= [es, mc]  )"
   ]
  },
  {
   "cell_type": "code",
   "execution_count": 23,
   "id": "4061aacb",
   "metadata": {
    "execution": {
     "iopub.execute_input": "2023-09-02T18:45:57.946292Z",
     "iopub.status.busy": "2023-09-02T18:45:57.945885Z",
     "iopub.status.idle": "2023-09-02T18:46:51.833306Z",
     "shell.execute_reply": "2023-09-02T18:46:51.832226Z"
    },
    "id": "WuKHZqHBkMok",
    "outputId": "9e93abf1-e8f4-4e4a-fc78-80421a6703c6",
    "papermill": {
     "duration": 57.38806,
     "end_time": "2023-09-02T18:46:53.613567",
     "exception": false,
     "start_time": "2023-09-02T18:45:56.225507",
     "status": "completed"
    },
    "tags": []
   },
   "outputs": [
    {
     "data": {
      "image/png": "[encoded data removed]",
      "text/plain": [
       "<Figure size 640x480 with 1 Axes>"
      ]
     },
     "metadata": {},
     "output_type": "display_data"
    }
   ],
   "source": [
    "import matplotlib.pyplot as plt\n",
    "import seaborn as sns\n",
    "plt.plot(history_embedding.history['accuracy'],c='b',label='train accuracy')\n",
    "plt.plot(history_embedding.history['val_accuracy'],c='r',label='validation accuracy')\n",
    "plt.legend(loc='lower right')\n",
    "plt.show()"
   ]
  },
  {
   "cell_type": "code",
   "execution_count": 24,
   "id": "235d7796",
   "metadata": {
    "execution": {
     "iopub.execute_input": "2023-09-02T18:46:57.225826Z",
     "iopub.status.busy": "2023-09-02T18:46:57.225143Z",
     "iopub.status.idle": "2023-09-02T18:46:57.564561Z",
     "shell.execute_reply": "2023-09-02T18:46:57.563351Z"
    },
    "id": "iHi9wj8sStvQ",
    "outputId": "c074a850-45ed-4062-d954-7f7f3cc04a4d",
    "papermill": {
     "duration": 2.127078,
     "end_time": "2023-09-02T18:46:57.567949",
     "exception": false,
     "start_time": "2023-09-02T18:46:55.440871",
     "status": "completed"
    },
    "tags": []
   },
   "outputs": [
    {
     "data": {
      "image/png": "[encoded data removed]",
      "text/plain": [
       "<Figure size 640x480 with 1 Axes>"
      ]
     },
     "metadata": {},
     "output_type": "display_data"
    }
   ],
   "source": [
    "import matplotlib.pyplot as plt\n",
    "import seaborn as sns\n",
    "plt.plot(history_embedding.history['loss'],c='b',label='train loss')\n",
    "plt.plot(history_embedding.history['val_loss'],c='r',label='validation loss')\n",
    "plt.legend(loc='upper right')\n",
    "plt.show()"
   ]
  },
  {
   "cell_type": "code",
   "execution_count": 25,
   "id": "731e6880",
   "metadata": {
    "execution": {
     "iopub.execute_input": "2023-09-02T18:47:01.537387Z",
     "iopub.status.busy": "2023-09-02T18:47:01.536232Z",
     "iopub.status.idle": "2023-09-02T18:47:12.158382Z",
     "shell.execute_reply": "2023-09-02T18:47:12.157001Z"
    },
    "id": "TaP7W8Vrk8zk",
    "papermill": {
     "duration": 12.404816,
     "end_time": "2023-09-02T18:47:12.161336",
     "exception": false,
     "start_time": "2023-09-02T18:46:59.756520",
     "status": "completed"
    },
    "tags": []
   },
   "outputs": [
    {
     "name": "stdout",
     "output_type": "stream",
     "text": [
      "938/938 [==============================] - 8s 9ms/step\n",
      "              precision    recall  f1-score   support\n",
      "\n",
      "           0       0.94      0.92      0.93     14945\n",
      "           1       0.92      0.94      0.93     15055\n",
      "\n",
      "    accuracy                           0.93     30000\n",
      "   macro avg       0.93      0.93      0.93     30000\n",
      "weighted avg       0.93      0.93      0.93     30000\n",
      "\n"
     ]
    }
   ],
   "source": [
    "from sklearn.metrics import classification_report, confusion_matrix\n",
    "y_pred=model.predict(X_test)\n",
    "y_pred.shape\n",
    "import numpy as np\n",
    "y_pred=np.argmax(y_pred,axis=1)\n",
    "y_pred\n",
    "y_test = y_test.to_numpy()\n",
    "y_test=np.argmax(y_test,axis = 1)\n",
    "print(classification_report(y_test, y_pred))"
   ]
  }
 ],
 "metadata": {
  "accelerator": "GPU",
  "colab": {
   "collapsed_sections": [
    "ExcDIWLKN0b2",
    "9iFYk83sQuee",
    "QE41VfheTtxX",
    "vn4lBP2kcSO8"
   ],
   "provenance": []
  },
  "gpuClass": "standard",
  "kernelspec": {
   "display_name": "Python 3",
   "language": "python",
   "name": "python3"
  },
  "language_info": {
   "codemirror_mode": {
    "name": "ipython",
    "version": 3
   },
   "file_extension": ".py",
   "mimetype": "text/x-python",
   "name": "python",
   "nbconvert_exporter": "python",
   "pygments_lexer": "ipython3",
   "version": "3.7.12"
  },
  "papermill": {
   "default_parameters": {},
   "duration": 999.835608,
   "end_time": "2023-09-02T18:47:17.441111",
   "environment_variables": {},
   "exception": null,
   "input_path": "__notebook__.ipynb",
   "output_path": "__notebook__.ipynb",
   "parameters": {},
   "start_time": "2023-09-02T18:30:37.605503",
   "version": "2.4.0"
  },
  "widgets": {
   "application/vnd.jupyter.widget-state+json": {
    "state": {
     "04da949d7349412d960c34897b7fc5bf": {
      "model_module": "@jupyter-widgets/base",
      "model_module_version": "1.2.0",
      "model_name": "LayoutModel",
      "state": {
       "_model_module": "@jupyter-widgets/base",
       "_model_module_version": "1.2.0",
       "_model_name": "LayoutModel",
       "_view_count": null,
       "_view_module": "@jupyter-widgets/base",
       "_view_module_version": "1.2.0",
       "_view_name": "LayoutView",
       "align_content": null,
       "align_items": null,
       "align_self": null,
       "border": null,
       "bottom": null,
       "display": null,
       "flex": null,
       "flex_flow": null,
       "grid_area": null,
       "grid_auto_columns": null,
       "grid_auto_flow": null,
       "grid_auto_rows": null,
       "grid_column": null,
       "grid_gap": null,
       "grid_row": null,
       "grid_template_areas": null,
       "grid_template_columns": null,
       "grid_template_rows": null,
       "height": null,
       "justify_content": null,
       "justify_items": null,
       "left": null,
       "margin": null,
       "max_height": null,
       "max_width": null,
       "min_height": null,
       "min_width": null,
       "object_fit": null,
       "object_position": null,
       "order": null,
       "overflow": null,
       "overflow_x": null,
       "overflow_y": null,
       "padding": null,
       "right": null,
       "top": null,
       "visibility": null,
       "width": null
      }
     },
     "06d8b427480a4bfcba9036e7df40b356": {
      "model_module": "@jupyter-widgets/controls",
      "model_module_version": "1.5.0",
      "model_name": "DescriptionStyleModel",
      "state": {
       "_model_module": "@jupyter-widgets/controls",
       "_model_module_version": "1.5.0",
       "_model_name": "DescriptionStyleModel",
       "_view_count": null,
       "_view_module": "@jupyter-widgets/base",
       "_view_module_version": "1.2.0",
       "_view_name": "StyleView",
       "description_width": ""
      }
     },
     "13d7db782fae4ac4acc36fcea50ad946": {
      "model_module": "@jupyter-widgets/controls",
      "model_module_version": "1.5.0",
      "model_name": "HTMLModel",
      "state": {
       "_dom_classes": [],
       "_model_module": "@jupyter-widgets/controls",
       "_model_module_version": "1.5.0",
       "_model_name": "HTMLModel",
       "_view_count": null,
       "_view_module": "@jupyter-widgets/controls",
       "_view_module_version": "1.5.0",
       "_view_name": "HTMLView",
       "description": "",
       "description_tooltip": null,
       "layout": "IPY_MODEL_20403eae18e042b1a227d445559a9d8d",
       "placeholder": "​",
       "style": "IPY_MODEL_daf0a94f1c52446cb74089d0a421b933",
       "value": "100%"
      }
     },
     "190c51d3b875404d99aea960de8a9631": {
      "model_module": "@jupyter-widgets/controls",
      "model_module_version": "1.5.0",
      "model_name": "HTMLModel",
      "state": {
       "_dom_classes": [],
       "_model_module": "@jupyter-widgets/controls",
       "_model_module_version": "1.5.0",
       "_model_name": "HTMLModel",
       "_view_count": null,
       "_view_module": "@jupyter-widgets/controls",
       "_view_module_version": "1.5.0",
       "_view_name": "HTMLView",
       "description": "",
       "description_tooltip": null,
       "layout": "IPY_MODEL_37b04ee09cad40bc83b6f0dcbb4f1eb5",
       "placeholder": "​",
       "style": "IPY_MODEL_06d8b427480a4bfcba9036e7df40b356",
       "value": "100%"
      }
     },
     "1da1f28655f74f0aba71593f100a3d65": {
      "model_module": "@jupyter-widgets/base",
      "model_module_version": "1.2.0",
      "model_name": "LayoutModel",
      "state": {
       "_model_module": "@jupyter-widgets/base",
       "_model_module_version": "1.2.0",
       "_model_name": "LayoutModel",
       "_view_count": null,
       "_view_module": "@jupyter-widgets/base",
       "_view_module_version": "1.2.0",
       "_view_name": "LayoutView",
       "align_content": null,
       "align_items": null,
       "align_self": null,
       "border": null,
       "bottom": null,
       "display": null,
       "flex": null,
       "flex_flow": null,
       "grid_area": null,
       "grid_auto_columns": null,
       "grid_auto_flow": null,
       "grid_auto_rows": null,
       "grid_column": null,
       "grid_gap": null,
       "grid_row": null,
       "grid_template_areas": null,
       "grid_template_columns": null,
       "grid_template_rows": null,
       "height": null,
       "justify_content": null,
       "justify_items": null,
       "left": null,
       "margin": null,
       "max_height": null,
       "max_width": null,
       "min_height": null,
       "min_width": null,
       "object_fit": null,
       "object_position": null,
       "order": null,
       "overflow": null,
       "overflow_x": null,
       "overflow_y": null,
       "padding": null,
       "right": null,
       "top": null,
       "visibility": null,
       "width": null
      }
     },
     "20403eae18e042b1a227d445559a9d8d": {
      "model_module": "@jupyter-widgets/base",
      "model_module_version": "1.2.0",
      "model_name": "LayoutModel",
      "state": {
       "_model_module": "@jupyter-widgets/base",
       "_model_module_version": "1.2.0",
       "_model_name": "LayoutModel",
       "_view_count": null,
       "_view_module": "@jupyter-widgets/base",
       "_view_module_version": "1.2.0",
       "_view_name": "LayoutView",
       "align_content": null,
       "align_items": null,
       "align_self": null,
       "border": null,
       "bottom": null,
       "display": null,
       "flex": null,
       "flex_flow": null,
       "grid_area": null,
       "grid_auto_columns": null,
       "grid_auto_flow": null,
       "grid_auto_rows": null,
       "grid_column": null,
       "grid_gap": null,
       "grid_row": null,
       "grid_template_areas": null,
       "grid_template_columns": null,
       "grid_template_rows": null,
       "height": null,
       "justify_content": null,
       "justify_items": null,
       "left": null,
       "margin": null,
       "max_height": null,
       "max_width": null,
       "min_height": null,
       "min_width": null,
       "object_fit": null,
       "object_position": null,
       "order": null,
       "overflow": null,
       "overflow_x": null,
       "overflow_y": null,
       "padding": null,
       "right": null,
       "top": null,
       "visibility": null,
       "width": null
      }
     },
     "27b922da58b0473ab0f1cf660fae2a24": {
      "model_module": "@jupyter-widgets/base",
      "model_module_version": "1.2.0",
      "model_name": "LayoutModel",
      "state": {
       "_model_module": "@jupyter-widgets/base",
       "_model_module_version": "1.2.0",
       "_model_name": "LayoutModel",
       "_view_count": null,
       "_view_module": "@jupyter-widgets/base",
       "_view_module_version": "1.2.0",
       "_view_name": "LayoutView",
       "align_content": null,
       "align_items": null,
       "align_self": null,
       "border": null,
       "bottom": null,
       "display": null,
       "flex": null,
       "flex_flow": null,
       "grid_area": null,
       "grid_auto_columns": null,
       "grid_auto_flow": null,
       "grid_auto_rows": null,
       "grid_column": null,
       "grid_gap": null,
       "grid_row": null,
       "grid_template_areas": null,
       "grid_template_columns": null,
       "grid_template_rows": null,
       "height": null,
       "justify_content": null,
       "justify_items": null,
       "left": null,
       "margin": null,
       "max_height": null,
       "max_width": null,
       "min_height": null,
       "min_width": null,
       "object_fit": null,
       "object_position": null,
       "order": null,
       "overflow": null,
       "overflow_x": null,
       "overflow_y": null,
       "padding": null,
       "right": null,
       "top": null,
       "visibility": null,
       "width": null
      }
     },
     "30609b3983824c03b153bf3efaffb19b": {
      "model_module": "@jupyter-widgets/controls",
      "model_module_version": "1.5.0",
      "model_name": "HTMLModel",
      "state": {
       "_dom_classes": [],
       "_model_module": "@jupyter-widgets/controls",
       "_model_module_version": "1.5.0",
       "_model_name": "HTMLModel",
       "_view_count": null,
       "_view_module": "@jupyter-widgets/controls",
       "_view_module_version": "1.5.0",
       "_view_name": "HTMLView",
       "description": "",
       "description_tooltip": null,
       "layout": "IPY_MODEL_364852904d5946d0809a25be65f0603b",
       "placeholder": "​",
       "style": "IPY_MODEL_818ef572eaf942da854e6c882d83e6b8",
       "value": " 100000/100000 [00:00&lt;00:00, 216781.80it/s]"
      }
     },
     "35926388a2c4490794ceaf7024dd6433": {
      "model_module": "@jupyter-widgets/controls",
      "model_module_version": "1.5.0",
      "model_name": "DescriptionStyleModel",
      "state": {
       "_model_module": "@jupyter-widgets/controls",
       "_model_module_version": "1.5.0",
       "_model_name": "DescriptionStyleModel",
       "_view_count": null,
       "_view_module": "@jupyter-widgets/base",
       "_view_module_version": "1.2.0",
       "_view_name": "StyleView",
       "description_width": ""
      }
     },
     "364852904d5946d0809a25be65f0603b": {
      "model_module": "@jupyter-widgets/base",
      "model_module_version": "1.2.0",
      "model_name": "LayoutModel",
      "state": {
       "_model_module": "@jupyter-widgets/base",
       "_model_module_version": "1.2.0",
       "_model_name": "LayoutModel",
       "_view_count": null,
       "_view_module": "@jupyter-widgets/base",
       "_view_module_version": "1.2.0",
       "_view_name": "LayoutView",
       "align_content": null,
       "align_items": null,
       "align_self": null,
       "border": null,
       "bottom": null,
       "display": null,
       "flex": null,
       "flex_flow": null,
       "grid_area": null,
       "grid_auto_columns": null,
       "grid_auto_flow": null,
       "grid_auto_rows": null,
       "grid_column": null,
       "grid_gap": null,
       "grid_row": null,
       "grid_template_areas": null,
       "grid_template_columns": null,
       "grid_template_rows": null,
       "height": null,
       "justify_content": null,
       "justify_items": null,
       "left": null,
       "margin": null,
       "max_height": null,
       "max_width": null,
       "min_height": null,
       "min_width": null,
       "object_fit": null,
       "object_position": null,
       "order": null,
       "overflow": null,
       "overflow_x": null,
       "overflow_y": null,
       "padding": null,
       "right": null,
       "top": null,
       "visibility": null,
       "width": null
      }
     },
     "36c68825df1745a590481ba854e95ff2": {
      "model_module": "@jupyter-widgets/controls",
      "model_module_version": "1.5.0",
      "model_name": "ProgressStyleModel",
      "state": {
       "_model_module": "@jupyter-widgets/controls",
       "_model_module_version": "1.5.0",
       "_model_name": "ProgressStyleModel",
       "_view_count": null,
       "_view_module": "@jupyter-widgets/base",
       "_view_module_version": "1.2.0",
       "_view_name": "StyleView",
       "bar_color": null,
       "description_width": ""
      }
     },
     "37b04ee09cad40bc83b6f0dcbb4f1eb5": {
      "model_module": "@jupyter-widgets/base",
      "model_module_version": "1.2.0",
      "model_name": "LayoutModel",
      "state": {
       "_model_module": "@jupyter-widgets/base",
       "_model_module_version": "1.2.0",
       "_model_name": "LayoutModel",
       "_view_count": null,
       "_view_module": "@jupyter-widgets/base",
       "_view_module_version": "1.2.0",
       "_view_name": "LayoutView",
       "align_content": null,
       "align_items": null,
       "align_self": null,
       "border": null,
       "bottom": null,
       "display": null,
       "flex": null,
       "flex_flow": null,
       "grid_area": null,
       "grid_auto_columns": null,
       "grid_auto_flow": null,
       "grid_auto_rows": null,
       "grid_column": null,
       "grid_gap": null,
       "grid_row": null,
       "grid_template_areas": null,
       "grid_template_columns": null,
       "grid_template_rows": null,
       "height": null,
       "justify_content": null,
       "justify_items": null,
       "left": null,
       "margin": null,
       "max_height": null,
       "max_width": null,
       "min_height": null,
       "min_width": null,
       "object_fit": null,
       "object_position": null,
       "order": null,
       "overflow": null,
       "overflow_x": null,
       "overflow_y": null,
       "padding": null,
       "right": null,
       "top": null,
       "visibility": null,
       "width": null
      }
     },
     "387fd6ca806142b6b711954a95cca3a7": {
      "model_module": "@jupyter-widgets/base",
      "model_module_version": "1.2.0",
      "model_name": "LayoutModel",
      "state": {
       "_model_module": "@jupyter-widgets/base",
       "_model_module_version": "1.2.0",
       "_model_name": "LayoutModel",
       "_view_count": null,
       "_view_module": "@jupyter-widgets/base",
       "_view_module_version": "1.2.0",
       "_view_name": "LayoutView",
       "align_content": null,
       "align_items": null,
       "align_self": null,
       "border": null,
       "bottom": null,
       "display": null,
       "flex": null,
       "flex_flow": null,
       "grid_area": null,
       "grid_auto_columns": null,
       "grid_auto_flow": null,
       "grid_auto_rows": null,
       "grid_column": null,
       "grid_gap": null,
       "grid_row": null,
       "grid_template_areas": null,
       "grid_template_columns": null,
       "grid_template_rows": null,
       "height": null,
       "justify_content": null,
       "justify_items": null,
       "left": null,
       "margin": null,
       "max_height": null,
       "max_width": null,
       "min_height": null,
       "min_width": null,
       "object_fit": null,
       "object_position": null,
       "order": null,
       "overflow": null,
       "overflow_x": null,
       "overflow_y": null,
       "padding": null,
       "right": null,
       "top": null,
       "visibility": null,
       "width": null
      }
     },
     "395829dc498c40dd87b300f8ae117a35": {
      "model_module": "@jupyter-widgets/controls",
      "model_module_version": "1.5.0",
      "model_name": "DescriptionStyleModel",
      "state": {
       "_model_module": "@jupyter-widgets/controls",
       "_model_module_version": "1.5.0",
       "_model_name": "DescriptionStyleModel",
       "_view_count": null,
       "_view_module": "@jupyter-widgets/base",
       "_view_module_version": "1.2.0",
       "_view_name": "StyleView",
       "description_width": ""
      }
     },
     "39997e14a6544ccca86872d260bb041b": {
      "model_module": "@jupyter-widgets/controls",
      "model_module_version": "1.5.0",
      "model_name": "DescriptionStyleModel",
      "state": {
       "_model_module": "@jupyter-widgets/controls",
       "_model_module_version": "1.5.0",
       "_model_name": "DescriptionStyleModel",
       "_view_count": null,
       "_view_module": "@jupyter-widgets/base",
       "_view_module_version": "1.2.0",
       "_view_name": "StyleView",
       "description_width": ""
      }
     },
     "4dd4179ea129449b88f317815706469a": {
      "model_module": "@jupyter-widgets/controls",
      "model_module_version": "1.5.0",
      "model_name": "HTMLModel",
      "state": {
       "_dom_classes": [],
       "_model_module": "@jupyter-widgets/controls",
       "_model_module_version": "1.5.0",
       "_model_name": "HTMLModel",
       "_view_count": null,
       "_view_module": "@jupyter-widgets/controls",
       "_view_module_version": "1.5.0",
       "_view_name": "HTMLView",
       "description": "",
       "description_tooltip": null,
       "layout": "IPY_MODEL_5897dea8600c48d5870e4027bceab39d",
       "placeholder": "​",
       "style": "IPY_MODEL_395829dc498c40dd87b300f8ae117a35",
       "value": "100%"
      }
     },
     "558f17dd5da64c069d29fa073f39efd6": {
      "model_module": "@jupyter-widgets/controls",
      "model_module_version": "1.5.0",
      "model_name": "HTMLModel",
      "state": {
       "_dom_classes": [],
       "_model_module": "@jupyter-widgets/controls",
       "_model_module_version": "1.5.0",
       "_model_name": "HTMLModel",
       "_view_count": null,
       "_view_module": "@jupyter-widgets/controls",
       "_view_module_version": "1.5.0",
       "_view_name": "HTMLView",
       "description": "",
       "description_tooltip": null,
       "layout": "IPY_MODEL_1da1f28655f74f0aba71593f100a3d65",
       "placeholder": "​",
       "style": "IPY_MODEL_a37332d6d541476780033dfc22aa028d",
       "value": " 100000/100000 [00:22&lt;00:00, 4592.57it/s]"
      }
     },
     "580e73b0af3e4662bf24780233cc6277": {
      "model_module": "@jupyter-widgets/base",
      "model_module_version": "1.2.0",
      "model_name": "LayoutModel",
      "state": {
       "_model_module": "@jupyter-widgets/base",
       "_model_module_version": "1.2.0",
       "_model_name": "LayoutModel",
       "_view_count": null,
       "_view_module": "@jupyter-widgets/base",
       "_view_module_version": "1.2.0",
       "_view_name": "LayoutView",
       "align_content": null,
       "align_items": null,
       "align_self": null,
       "border": null,
       "bottom": null,
       "display": null,
       "flex": null,
       "flex_flow": null,
       "grid_area": null,
       "grid_auto_columns": null,
       "grid_auto_flow": null,
       "grid_auto_rows": null,
       "grid_column": null,
       "grid_gap": null,
       "grid_row": null,
       "grid_template_areas": null,
       "grid_template_columns": null,
       "grid_template_rows": null,
       "height": null,
       "justify_content": null,
       "justify_items": null,
       "left": null,
       "margin": null,
       "max_height": null,
       "max_width": null,
       "min_height": null,
       "min_width": null,
       "object_fit": null,
       "object_position": null,
       "order": null,
       "overflow": null,
       "overflow_x": null,
       "overflow_y": null,
       "padding": null,
       "right": null,
       "top": null,
       "visibility": null,
       "width": null
      }
     },
     "5897dea8600c48d5870e4027bceab39d": {
      "model_module": "@jupyter-widgets/base",
      "model_module_version": "1.2.0",
      "model_name": "LayoutModel",
      "state": {
       "_model_module": "@jupyter-widgets/base",
       "_model_module_version": "1.2.0",
       "_model_name": "LayoutModel",
       "_view_count": null,
       "_view_module": "@jupyter-widgets/base",
       "_view_module_version": "1.2.0",
       "_view_name": "LayoutView",
       "align_content": null,
       "align_items": null,
       "align_self": null,
       "border": null,
       "bottom": null,
       "display": null,
       "flex": null,
       "flex_flow": null,
       "grid_area": null,
       "grid_auto_columns": null,
       "grid_auto_flow": null,
       "grid_auto_rows": null,
       "grid_column": null,
       "grid_gap": null,
       "grid_row": null,
       "grid_template_areas": null,
       "grid_template_columns": null,
       "grid_template_rows": null,
       "height": null,
       "justify_content": null,
       "justify_items": null,
       "left": null,
       "margin": null,
       "max_height": null,
       "max_width": null,
       "min_height": null,
       "min_width": null,
       "object_fit": null,
       "object_position": null,
       "order": null,
       "overflow": null,
       "overflow_x": null,
       "overflow_y": null,
       "padding": null,
       "right": null,
       "top": null,
       "visibility": null,
       "width": null
      }
     },
     "5c1de130702a48f29a41a0c775b35f65": {
      "model_module": "@jupyter-widgets/controls",
      "model_module_version": "1.5.0",
      "model_name": "ProgressStyleModel",
      "state": {
       "_model_module": "@jupyter-widgets/controls",
       "_model_module_version": "1.5.0",
       "_model_name": "ProgressStyleModel",
       "_view_count": null,
       "_view_module": "@jupyter-widgets/base",
       "_view_module_version": "1.2.0",
       "_view_name": "StyleView",
       "bar_color": null,
       "description_width": ""
      }
     },
     "652087bf023546b699fb6f6d9b5a2709": {
      "model_module": "@jupyter-widgets/controls",
      "model_module_version": "1.5.0",
      "model_name": "FloatProgressModel",
      "state": {
       "_dom_classes": [],
       "_model_module": "@jupyter-widgets/controls",
       "_model_module_version": "1.5.0",
       "_model_name": "FloatProgressModel",
       "_view_count": null,
       "_view_module": "@jupyter-widgets/controls",
       "_view_module_version": "1.5.0",
       "_view_name": "ProgressView",
       "bar_style": "success",
       "description": "",
       "description_tooltip": null,
       "layout": "IPY_MODEL_580e73b0af3e4662bf24780233cc6277",
       "max": 100000,
       "min": 0,
       "orientation": "horizontal",
       "style": "IPY_MODEL_e23d7b0bab9b46b4a8c5018a8500c3a1",
       "value": 100000
      }
     },
     "675dad1a55994b05a0f0997871fb2e13": {
      "model_module": "@jupyter-widgets/base",
      "model_module_version": "1.2.0",
      "model_name": "LayoutModel",
      "state": {
       "_model_module": "@jupyter-widgets/base",
       "_model_module_version": "1.2.0",
       "_model_name": "LayoutModel",
       "_view_count": null,
       "_view_module": "@jupyter-widgets/base",
       "_view_module_version": "1.2.0",
       "_view_name": "LayoutView",
       "align_content": null,
       "align_items": null,
       "align_self": null,
       "border": null,
       "bottom": null,
       "display": null,
       "flex": null,
       "flex_flow": null,
       "grid_area": null,
       "grid_auto_columns": null,
       "grid_auto_flow": null,
       "grid_auto_rows": null,
       "grid_column": null,
       "grid_gap": null,
       "grid_row": null,
       "grid_template_areas": null,
       "grid_template_columns": null,
       "grid_template_rows": null,
       "height": null,
       "justify_content": null,
       "justify_items": null,
       "left": null,
       "margin": null,
       "max_height": null,
       "max_width": null,
       "min_height": null,
       "min_width": null,
       "object_fit": null,
       "object_position": null,
       "order": null,
       "overflow": null,
       "overflow_x": null,
       "overflow_y": null,
       "padding": null,
       "right": null,
       "top": null,
       "visibility": null,
       "width": null
      }
     },
     "758fb8e96fff47afb22953cfbb79cad6": {
      "model_module": "@jupyter-widgets/controls",
      "model_module_version": "1.5.0",
      "model_name": "DescriptionStyleModel",
      "state": {
       "_model_module": "@jupyter-widgets/controls",
       "_model_module_version": "1.5.0",
       "_model_name": "DescriptionStyleModel",
       "_view_count": null,
       "_view_module": "@jupyter-widgets/base",
       "_view_module_version": "1.2.0",
       "_view_name": "StyleView",
       "description_width": ""
      }
     },
     "7d5ee6685ac8441e8526422da531e70b": {
      "model_module": "@jupyter-widgets/controls",
      "model_module_version": "1.5.0",
      "model_name": "ProgressStyleModel",
      "state": {
       "_model_module": "@jupyter-widgets/controls",
       "_model_module_version": "1.5.0",
       "_model_name": "ProgressStyleModel",
       "_view_count": null,
       "_view_module": "@jupyter-widgets/base",
       "_view_module_version": "1.2.0",
       "_view_name": "StyleView",
       "bar_color": null,
       "description_width": ""
      }
     },
     "818ef572eaf942da854e6c882d83e6b8": {
      "model_module": "@jupyter-widgets/controls",
      "model_module_version": "1.5.0",
      "model_name": "DescriptionStyleModel",
      "state": {
       "_model_module": "@jupyter-widgets/controls",
       "_model_module_version": "1.5.0",
       "_model_name": "DescriptionStyleModel",
       "_view_count": null,
       "_view_module": "@jupyter-widgets/base",
       "_view_module_version": "1.2.0",
       "_view_name": "StyleView",
       "description_width": ""
      }
     },
     "87471ae735844ed6b91923045c56d1c2": {
      "model_module": "@jupyter-widgets/base",
      "model_module_version": "1.2.0",
      "model_name": "LayoutModel",
      "state": {
       "_model_module": "@jupyter-widgets/base",
       "_model_module_version": "1.2.0",
       "_model_name": "LayoutModel",
       "_view_count": null,
       "_view_module": "@jupyter-widgets/base",
       "_view_module_version": "1.2.0",
       "_view_name": "LayoutView",
       "align_content": null,
       "align_items": null,
       "align_self": null,
       "border": null,
       "bottom": null,
       "display": null,
       "flex": null,
       "flex_flow": null,
       "grid_area": null,
       "grid_auto_columns": null,
       "grid_auto_flow": null,
       "grid_auto_rows": null,
       "grid_column": null,
       "grid_gap": null,
       "grid_row": null,
       "grid_template_areas": null,
       "grid_template_columns": null,
       "grid_template_rows": null,
       "height": null,
       "justify_content": null,
       "justify_items": null,
       "left": null,
       "margin": null,
       "max_height": null,
       "max_width": null,
       "min_height": null,
       "min_width": null,
       "object_fit": null,
       "object_position": null,
       "order": null,
       "overflow": null,
       "overflow_x": null,
       "overflow_y": null,
       "padding": null,
       "right": null,
       "top": null,
       "visibility": null,
       "width": null
      }
     },
     "8e211abd90914dbb90866e173297916f": {
      "model_module": "@jupyter-widgets/controls",
      "model_module_version": "1.5.0",
      "model_name": "HTMLModel",
      "state": {
       "_dom_classes": [],
       "_model_module": "@jupyter-widgets/controls",
       "_model_module_version": "1.5.0",
       "_model_name": "HTMLModel",
       "_view_count": null,
       "_view_module": "@jupyter-widgets/controls",
       "_view_module_version": "1.5.0",
       "_view_name": "HTMLView",
       "description": "",
       "description_tooltip": null,
       "layout": "IPY_MODEL_04da949d7349412d960c34897b7fc5bf",
       "placeholder": "​",
       "style": "IPY_MODEL_a5279ccaca974a7fa6e8bec0ce725fa9",
       "value": " 100000/100000 [00:06&lt;00:00, 20342.07it/s]"
      }
     },
     "9218ca1151554645ad3673ea99c02ce2": {
      "model_module": "@jupyter-widgets/base",
      "model_module_version": "1.2.0",
      "model_name": "LayoutModel",
      "state": {
       "_model_module": "@jupyter-widgets/base",
       "_model_module_version": "1.2.0",
       "_model_name": "LayoutModel",
       "_view_count": null,
       "_view_module": "@jupyter-widgets/base",
       "_view_module_version": "1.2.0",
       "_view_name": "LayoutView",
       "align_content": null,
       "align_items": null,
       "align_self": null,
       "border": null,
       "bottom": null,
       "display": null,
       "flex": null,
       "flex_flow": null,
       "grid_area": null,
       "grid_auto_columns": null,
       "grid_auto_flow": null,
       "grid_auto_rows": null,
       "grid_column": null,
       "grid_gap": null,
       "grid_row": null,
       "grid_template_areas": null,
       "grid_template_columns": null,
       "grid_template_rows": null,
       "height": null,
       "justify_content": null,
       "justify_items": null,
       "left": null,
       "margin": null,
       "max_height": null,
       "max_width": null,
       "min_height": null,
       "min_width": null,
       "object_fit": null,
       "object_position": null,
       "order": null,
       "overflow": null,
       "overflow_x": null,
       "overflow_y": null,
       "padding": null,
       "right": null,
       "top": null,
       "visibility": null,
       "width": null
      }
     },
     "971f66621b2742ae8a207ac4c6060aae": {
      "model_module": "@jupyter-widgets/controls",
      "model_module_version": "1.5.0",
      "model_name": "FloatProgressModel",
      "state": {
       "_dom_classes": [],
       "_model_module": "@jupyter-widgets/controls",
       "_model_module_version": "1.5.0",
       "_model_name": "FloatProgressModel",
       "_view_count": null,
       "_view_module": "@jupyter-widgets/controls",
       "_view_module_version": "1.5.0",
       "_view_name": "ProgressView",
       "bar_style": "success",
       "description": "",
       "description_tooltip": null,
       "layout": "IPY_MODEL_cf8631ea54c744da8c2790da053a992c",
       "max": 100000,
       "min": 0,
       "orientation": "horizontal",
       "style": "IPY_MODEL_36c68825df1745a590481ba854e95ff2",
       "value": 100000
      }
     },
     "9a72a2041ab945ee8f7b50b86d098db6": {
      "model_module": "@jupyter-widgets/controls",
      "model_module_version": "1.5.0",
      "model_name": "ProgressStyleModel",
      "state": {
       "_model_module": "@jupyter-widgets/controls",
       "_model_module_version": "1.5.0",
       "_model_name": "ProgressStyleModel",
       "_view_count": null,
       "_view_module": "@jupyter-widgets/base",
       "_view_module_version": "1.2.0",
       "_view_name": "StyleView",
       "bar_color": null,
       "description_width": ""
      }
     },
     "9db9f6b1559f432787ec66700259f9cc": {
      "model_module": "@jupyter-widgets/base",
      "model_module_version": "1.2.0",
      "model_name": "LayoutModel",
      "state": {
       "_model_module": "@jupyter-widgets/base",
       "_model_module_version": "1.2.0",
       "_model_name": "LayoutModel",
       "_view_count": null,
       "_view_module": "@jupyter-widgets/base",
       "_view_module_version": "1.2.0",
       "_view_name": "LayoutView",
       "align_content": null,
       "align_items": null,
       "align_self": null,
       "border": null,
       "bottom": null,
       "display": null,
       "flex": null,
       "flex_flow": null,
       "grid_area": null,
       "grid_auto_columns": null,
       "grid_auto_flow": null,
       "grid_auto_rows": null,
       "grid_column": null,
       "grid_gap": null,
       "grid_row": null,
       "grid_template_areas": null,
       "grid_template_columns": null,
       "grid_template_rows": null,
       "height": null,
       "justify_content": null,
       "justify_items": null,
       "left": null,
       "margin": null,
       "max_height": null,
       "max_width": null,
       "min_height": null,
       "min_width": null,
       "object_fit": null,
       "object_position": null,
       "order": null,
       "overflow": null,
       "overflow_x": null,
       "overflow_y": null,
       "padding": null,
       "right": null,
       "top": null,
       "visibility": null,
       "width": null
      }
     },
     "a0d782f04d444afb977a5f45cfc6a241": {
      "model_module": "@jupyter-widgets/controls",
      "model_module_version": "1.5.0",
      "model_name": "HBoxModel",
      "state": {
       "_dom_classes": [],
       "_model_module": "@jupyter-widgets/controls",
       "_model_module_version": "1.5.0",
       "_model_name": "HBoxModel",
       "_view_count": null,
       "_view_module": "@jupyter-widgets/controls",
       "_view_module_version": "1.5.0",
       "_view_name": "HBoxView",
       "box_style": "",
       "children": [
        "IPY_MODEL_4dd4179ea129449b88f317815706469a",
        "IPY_MODEL_971f66621b2742ae8a207ac4c6060aae",
        "IPY_MODEL_8e211abd90914dbb90866e173297916f"
       ],
       "layout": "IPY_MODEL_9db9f6b1559f432787ec66700259f9cc"
      }
     },
     "a1f407aaef194eaa980f5d98b7aa45ff": {
      "model_module": "@jupyter-widgets/controls",
      "model_module_version": "1.5.0",
      "model_name": "HBoxModel",
      "state": {
       "_dom_classes": [],
       "_model_module": "@jupyter-widgets/controls",
       "_model_module_version": "1.5.0",
       "_model_name": "HBoxModel",
       "_view_count": null,
       "_view_module": "@jupyter-widgets/controls",
       "_view_module_version": "1.5.0",
       "_view_name": "HBoxView",
       "box_style": "",
       "children": [
        "IPY_MODEL_190c51d3b875404d99aea960de8a9631",
        "IPY_MODEL_bfc99de7ea2145ebb4084a2eca1e16ca",
        "IPY_MODEL_558f17dd5da64c069d29fa073f39efd6"
       ],
       "layout": "IPY_MODEL_d56e47eb0c854e559868dbc1682fe765"
      }
     },
     "a37332d6d541476780033dfc22aa028d": {
      "model_module": "@jupyter-widgets/controls",
      "model_module_version": "1.5.0",
      "model_name": "DescriptionStyleModel",
      "state": {
       "_model_module": "@jupyter-widgets/controls",
       "_model_module_version": "1.5.0",
       "_model_name": "DescriptionStyleModel",
       "_view_count": null,
       "_view_module": "@jupyter-widgets/base",
       "_view_module_version": "1.2.0",
       "_view_name": "StyleView",
       "description_width": ""
      }
     },
     "a4fc3ba9eb0f4d56b18c6b4c08d5e4e8": {
      "model_module": "@jupyter-widgets/controls",
      "model_module_version": "1.5.0",
      "model_name": "DescriptionStyleModel",
      "state": {
       "_model_module": "@jupyter-widgets/controls",
       "_model_module_version": "1.5.0",
       "_model_name": "DescriptionStyleModel",
       "_view_count": null,
       "_view_module": "@jupyter-widgets/base",
       "_view_module_version": "1.2.0",
       "_view_name": "StyleView",
       "description_width": ""
      }
     },
     "a5279ccaca974a7fa6e8bec0ce725fa9": {
      "model_module": "@jupyter-widgets/controls",
      "model_module_version": "1.5.0",
      "model_name": "DescriptionStyleModel",
      "state": {
       "_model_module": "@jupyter-widgets/controls",
       "_model_module_version": "1.5.0",
       "_model_name": "DescriptionStyleModel",
       "_view_count": null,
       "_view_module": "@jupyter-widgets/base",
       "_view_module_version": "1.2.0",
       "_view_name": "StyleView",
       "description_width": ""
      }
     },
     "ae05ce36086c40d89b521d637091dd36": {
      "model_module": "@jupyter-widgets/controls",
      "model_module_version": "1.5.0",
      "model_name": "HTMLModel",
      "state": {
       "_dom_classes": [],
       "_model_module": "@jupyter-widgets/controls",
       "_model_module_version": "1.5.0",
       "_model_name": "HTMLModel",
       "_view_count": null,
       "_view_module": "@jupyter-widgets/controls",
       "_view_module_version": "1.5.0",
       "_view_name": "HTMLView",
       "description": "",
       "description_tooltip": null,
       "layout": "IPY_MODEL_87471ae735844ed6b91923045c56d1c2",
       "placeholder": "​",
       "style": "IPY_MODEL_a4fc3ba9eb0f4d56b18c6b4c08d5e4e8",
       "value": "100%"
      }
     },
     "be3a4cb0e3e5412e9708b33953163bb6": {
      "model_module": "@jupyter-widgets/base",
      "model_module_version": "1.2.0",
      "model_name": "LayoutModel",
      "state": {
       "_model_module": "@jupyter-widgets/base",
       "_model_module_version": "1.2.0",
       "_model_name": "LayoutModel",
       "_view_count": null,
       "_view_module": "@jupyter-widgets/base",
       "_view_module_version": "1.2.0",
       "_view_name": "LayoutView",
       "align_content": null,
       "align_items": null,
       "align_self": null,
       "border": null,
       "bottom": null,
       "display": null,
       "flex": null,
       "flex_flow": null,
       "grid_area": null,
       "grid_auto_columns": null,
       "grid_auto_flow": null,
       "grid_auto_rows": null,
       "grid_column": null,
       "grid_gap": null,
       "grid_row": null,
       "grid_template_areas": null,
       "grid_template_columns": null,
       "grid_template_rows": null,
       "height": null,
       "justify_content": null,
       "justify_items": null,
       "left": null,
       "margin": null,
       "max_height": null,
       "max_width": null,
       "min_height": null,
       "min_width": null,
       "object_fit": null,
       "object_position": null,
       "order": null,
       "overflow": null,
       "overflow_x": null,
       "overflow_y": null,
       "padding": null,
       "right": null,
       "top": null,
       "visibility": null,
       "width": null
      }
     },
     "bfc99de7ea2145ebb4084a2eca1e16ca": {
      "model_module": "@jupyter-widgets/controls",
      "model_module_version": "1.5.0",
      "model_name": "FloatProgressModel",
      "state": {
       "_dom_classes": [],
       "_model_module": "@jupyter-widgets/controls",
       "_model_module_version": "1.5.0",
       "_model_name": "FloatProgressModel",
       "_view_count": null,
       "_view_module": "@jupyter-widgets/controls",
       "_view_module_version": "1.5.0",
       "_view_name": "ProgressView",
       "bar_style": "success",
       "description": "",
       "description_tooltip": null,
       "layout": "IPY_MODEL_ea7f307b8cd34f629dc5c5b0c2fcc69f",
       "max": 100000,
       "min": 0,
       "orientation": "horizontal",
       "style": "IPY_MODEL_5c1de130702a48f29a41a0c775b35f65",
       "value": 100000
      }
     },
     "c55c1f6b7d10488f93c118f9640f55c4": {
      "model_module": "@jupyter-widgets/base",
      "model_module_version": "1.2.0",
      "model_name": "LayoutModel",
      "state": {
       "_model_module": "@jupyter-widgets/base",
       "_model_module_version": "1.2.0",
       "_model_name": "LayoutModel",
       "_view_count": null,
       "_view_module": "@jupyter-widgets/base",
       "_view_module_version": "1.2.0",
       "_view_name": "LayoutView",
       "align_content": null,
       "align_items": null,
       "align_self": null,
       "border": null,
       "bottom": null,
       "display": null,
       "flex": null,
       "flex_flow": null,
       "grid_area": null,
       "grid_auto_columns": null,
       "grid_auto_flow": null,
       "grid_auto_rows": null,
       "grid_column": null,
       "grid_gap": null,
       "grid_row": null,
       "grid_template_areas": null,
       "grid_template_columns": null,
       "grid_template_rows": null,
       "height": null,
       "justify_content": null,
       "justify_items": null,
       "left": null,
       "margin": null,
       "max_height": null,
       "max_width": null,
       "min_height": null,
       "min_width": null,
       "object_fit": null,
       "object_position": null,
       "order": null,
       "overflow": null,
       "overflow_x": null,
       "overflow_y": null,
       "padding": null,
       "right": null,
       "top": null,
       "visibility": null,
       "width": null
      }
     },
     "cf8631ea54c744da8c2790da053a992c": {
      "model_module": "@jupyter-widgets/base",
      "model_module_version": "1.2.0",
      "model_name": "LayoutModel",
      "state": {
       "_model_module": "@jupyter-widgets/base",
       "_model_module_version": "1.2.0",
       "_model_name": "LayoutModel",
       "_view_count": null,
       "_view_module": "@jupyter-widgets/base",
       "_view_module_version": "1.2.0",
       "_view_name": "LayoutView",
       "align_content": null,
       "align_items": null,
       "align_self": null,
       "border": null,
       "bottom": null,
       "display": null,
       "flex": null,
       "flex_flow": null,
       "grid_area": null,
       "grid_auto_columns": null,
       "grid_auto_flow": null,
       "grid_auto_rows": null,
       "grid_column": null,
       "grid_gap": null,
       "grid_row": null,
       "grid_template_areas": null,
       "grid_template_columns": null,
       "grid_template_rows": null,
       "height": null,
       "justify_content": null,
       "justify_items": null,
       "left": null,
       "margin": null,
       "max_height": null,
       "max_width": null,
       "min_height": null,
       "min_width": null,
       "object_fit": null,
       "object_position": null,
       "order": null,
       "overflow": null,
       "overflow_x": null,
       "overflow_y": null,
       "padding": null,
       "right": null,
       "top": null,
       "visibility": null,
       "width": null
      }
     },
     "d56e47eb0c854e559868dbc1682fe765": {
      "model_module": "@jupyter-widgets/base",
      "model_module_version": "1.2.0",
      "model_name": "LayoutModel",
      "state": {
       "_model_module": "@jupyter-widgets/base",
       "_model_module_version": "1.2.0",
       "_model_name": "LayoutModel",
       "_view_count": null,
       "_view_module": "@jupyter-widgets/base",
       "_view_module_version": "1.2.0",
       "_view_name": "LayoutView",
       "align_content": null,
       "align_items": null,
       "align_self": null,
       "border": null,
       "bottom": null,
       "display": null,
       "flex": null,
       "flex_flow": null,
       "grid_area": null,
       "grid_auto_columns": null,
       "grid_auto_flow": null,
       "grid_auto_rows": null,
       "grid_column": null,
       "grid_gap": null,
       "grid_row": null,
       "grid_template_areas": null,
       "grid_template_columns": null,
       "grid_template_rows": null,
       "height": null,
       "justify_content": null,
       "justify_items": null,
       "left": null,
       "margin": null,
       "max_height": null,
       "max_width": null,
       "min_height": null,
       "min_width": null,
       "object_fit": null,
       "object_position": null,
       "order": null,
       "overflow": null,
       "overflow_x": null,
       "overflow_y": null,
       "padding": null,
       "right": null,
       "top": null,
       "visibility": null,
       "width": null
      }
     },
     "d6d478726bf84b6d8594b33e02667bc7": {
      "model_module": "@jupyter-widgets/base",
      "model_module_version": "1.2.0",
      "model_name": "LayoutModel",
      "state": {
       "_model_module": "@jupyter-widgets/base",
       "_model_module_version": "1.2.0",
       "_model_name": "LayoutModel",
       "_view_count": null,
       "_view_module": "@jupyter-widgets/base",
       "_view_module_version": "1.2.0",
       "_view_name": "LayoutView",
       "align_content": null,
       "align_items": null,
       "align_self": null,
       "border": null,
       "bottom": null,
       "display": null,
       "flex": null,
       "flex_flow": null,
       "grid_area": null,
       "grid_auto_columns": null,
       "grid_auto_flow": null,
       "grid_auto_rows": null,
       "grid_column": null,
       "grid_gap": null,
       "grid_row": null,
       "grid_template_areas": null,
       "grid_template_columns": null,
       "grid_template_rows": null,
       "height": null,
       "justify_content": null,
       "justify_items": null,
       "left": null,
       "margin": null,
       "max_height": null,
       "max_width": null,
       "min_height": null,
       "min_width": null,
       "object_fit": null,
       "object_position": null,
       "order": null,
       "overflow": null,
       "overflow_x": null,
       "overflow_y": null,
       "padding": null,
       "right": null,
       "top": null,
       "visibility": null,
       "width": null
      }
     },
     "d7832886ccf147528037e9831e042525": {
      "model_module": "@jupyter-widgets/controls",
      "model_module_version": "1.5.0",
      "model_name": "FloatProgressModel",
      "state": {
       "_dom_classes": [],
       "_model_module": "@jupyter-widgets/controls",
       "_model_module_version": "1.5.0",
       "_model_name": "FloatProgressModel",
       "_view_count": null,
       "_view_module": "@jupyter-widgets/controls",
       "_view_module_version": "1.5.0",
       "_view_name": "ProgressView",
       "bar_style": "success",
       "description": "",
       "description_tooltip": null,
       "layout": "IPY_MODEL_c55c1f6b7d10488f93c118f9640f55c4",
       "max": 100000,
       "min": 0,
       "orientation": "horizontal",
       "style": "IPY_MODEL_7d5ee6685ac8441e8526422da531e70b",
       "value": 100000
      }
     },
     "dae6535051a54d6b8a0c93e986383887": {
      "model_module": "@jupyter-widgets/controls",
      "model_module_version": "1.5.0",
      "model_name": "HBoxModel",
      "state": {
       "_dom_classes": [],
       "_model_module": "@jupyter-widgets/controls",
       "_model_module_version": "1.5.0",
       "_model_name": "HBoxModel",
       "_view_count": null,
       "_view_module": "@jupyter-widgets/controls",
       "_view_module_version": "1.5.0",
       "_view_name": "HBoxView",
       "box_style": "",
       "children": [
        "IPY_MODEL_e32b7b7c5e3e456088a1748d196963cc",
        "IPY_MODEL_eecef2455f5d407d85235b185eceff66",
        "IPY_MODEL_30609b3983824c03b153bf3efaffb19b"
       ],
       "layout": "IPY_MODEL_d6d478726bf84b6d8594b33e02667bc7"
      }
     },
     "daf0a94f1c52446cb74089d0a421b933": {
      "model_module": "@jupyter-widgets/controls",
      "model_module_version": "1.5.0",
      "model_name": "DescriptionStyleModel",
      "state": {
       "_model_module": "@jupyter-widgets/controls",
       "_model_module_version": "1.5.0",
       "_model_name": "DescriptionStyleModel",
       "_view_count": null,
       "_view_module": "@jupyter-widgets/base",
       "_view_module_version": "1.2.0",
       "_view_name": "StyleView",
       "description_width": ""
      }
     },
     "e23d7b0bab9b46b4a8c5018a8500c3a1": {
      "model_module": "@jupyter-widgets/controls",
      "model_module_version": "1.5.0",
      "model_name": "ProgressStyleModel",
      "state": {
       "_model_module": "@jupyter-widgets/controls",
       "_model_module_version": "1.5.0",
       "_model_name": "ProgressStyleModel",
       "_view_count": null,
       "_view_module": "@jupyter-widgets/base",
       "_view_module_version": "1.2.0",
       "_view_name": "StyleView",
       "bar_color": null,
       "description_width": ""
      }
     },
     "e32b7b7c5e3e456088a1748d196963cc": {
      "model_module": "@jupyter-widgets/controls",
      "model_module_version": "1.5.0",
      "model_name": "HTMLModel",
      "state": {
       "_dom_classes": [],
       "_model_module": "@jupyter-widgets/controls",
       "_model_module_version": "1.5.0",
       "_model_name": "HTMLModel",
       "_view_count": null,
       "_view_module": "@jupyter-widgets/controls",
       "_view_module_version": "1.5.0",
       "_view_name": "HTMLView",
       "description": "",
       "description_tooltip": null,
       "layout": "IPY_MODEL_e96202178eea4b86933920ad73be7bc4",
       "placeholder": "​",
       "style": "IPY_MODEL_39997e14a6544ccca86872d260bb041b",
       "value": "100%"
      }
     },
     "e77554c023fc4eb6b6d54a93f57b54ea": {
      "model_module": "@jupyter-widgets/controls",
      "model_module_version": "1.5.0",
      "model_name": "HTMLModel",
      "state": {
       "_dom_classes": [],
       "_model_module": "@jupyter-widgets/controls",
       "_model_module_version": "1.5.0",
       "_model_name": "HTMLModel",
       "_view_count": null,
       "_view_module": "@jupyter-widgets/controls",
       "_view_module_version": "1.5.0",
       "_view_name": "HTMLView",
       "description": "",
       "description_tooltip": null,
       "layout": "IPY_MODEL_be3a4cb0e3e5412e9708b33953163bb6",
       "placeholder": "​",
       "style": "IPY_MODEL_35926388a2c4490794ceaf7024dd6433",
       "value": " 100000/100000 [00:03&lt;00:00, 45600.54it/s]"
      }
     },
     "e908bbc197c2478786fde69292842a5c": {
      "model_module": "@jupyter-widgets/controls",
      "model_module_version": "1.5.0",
      "model_name": "HBoxModel",
      "state": {
       "_dom_classes": [],
       "_model_module": "@jupyter-widgets/controls",
       "_model_module_version": "1.5.0",
       "_model_name": "HBoxModel",
       "_view_count": null,
       "_view_module": "@jupyter-widgets/controls",
       "_view_module_version": "1.5.0",
       "_view_name": "HBoxView",
       "box_style": "",
       "children": [
        "IPY_MODEL_ae05ce36086c40d89b521d637091dd36",
        "IPY_MODEL_d7832886ccf147528037e9831e042525",
        "IPY_MODEL_e77554c023fc4eb6b6d54a93f57b54ea"
       ],
       "layout": "IPY_MODEL_27b922da58b0473ab0f1cf660fae2a24"
      }
     },
     "e96202178eea4b86933920ad73be7bc4": {
      "model_module": "@jupyter-widgets/base",
      "model_module_version": "1.2.0",
      "model_name": "LayoutModel",
      "state": {
       "_model_module": "@jupyter-widgets/base",
       "_model_module_version": "1.2.0",
       "_model_name": "LayoutModel",
       "_view_count": null,
       "_view_module": "@jupyter-widgets/base",
       "_view_module_version": "1.2.0",
       "_view_name": "LayoutView",
       "align_content": null,
       "align_items": null,
       "align_self": null,
       "border": null,
       "bottom": null,
       "display": null,
       "flex": null,
       "flex_flow": null,
       "grid_area": null,
       "grid_auto_columns": null,
       "grid_auto_flow": null,
       "grid_auto_rows": null,
       "grid_column": null,
       "grid_gap": null,
       "grid_row": null,
       "grid_template_areas": null,
       "grid_template_columns": null,
       "grid_template_rows": null,
       "height": null,
       "justify_content": null,
       "justify_items": null,
       "left": null,
       "margin": null,
       "max_height": null,
       "max_width": null,
       "min_height": null,
       "min_width": null,
       "object_fit": null,
       "object_position": null,
       "order": null,
       "overflow": null,
       "overflow_x": null,
       "overflow_y": null,
       "padding": null,
       "right": null,
       "top": null,
       "visibility": null,
       "width": null
      }
     },
     "ea7f307b8cd34f629dc5c5b0c2fcc69f": {
      "model_module": "@jupyter-widgets/base",
      "model_module_version": "1.2.0",
      "model_name": "LayoutModel",
      "state": {
       "_model_module": "@jupyter-widgets/base",
       "_model_module_version": "1.2.0",
       "_model_name": "LayoutModel",
       "_view_count": null,
       "_view_module": "@jupyter-widgets/base",
       "_view_module_version": "1.2.0",
       "_view_name": "LayoutView",
       "align_content": null,
       "align_items": null,
       "align_self": null,
       "border": null,
       "bottom": null,
       "display": null,
       "flex": null,
       "flex_flow": null,
       "grid_area": null,
       "grid_auto_columns": null,
       "grid_auto_flow": null,
       "grid_auto_rows": null,
       "grid_column": null,
       "grid_gap": null,
       "grid_row": null,
       "grid_template_areas": null,
       "grid_template_columns": null,
       "grid_template_rows": null,
       "height": null,
       "justify_content": null,
       "justify_items": null,
       "left": null,
       "margin": null,
       "max_height": null,
       "max_width": null,
       "min_height": null,
       "min_width": null,
       "object_fit": null,
       "object_position": null,
       "order": null,
       "overflow": null,
       "overflow_x": null,
       "overflow_y": null,
       "padding": null,
       "right": null,
       "top": null,
       "visibility": null,
       "width": null
      }
     },
     "ed00f96044b74670bdab3e9dbb0a46cf": {
      "model_module": "@jupyter-widgets/controls",
      "model_module_version": "1.5.0",
      "model_name": "HTMLModel",
      "state": {
       "_dom_classes": [],
       "_model_module": "@jupyter-widgets/controls",
       "_model_module_version": "1.5.0",
       "_model_name": "HTMLModel",
       "_view_count": null,
       "_view_module": "@jupyter-widgets/controls",
       "_view_module_version": "1.5.0",
       "_view_name": "HTMLView",
       "description": "",
       "description_tooltip": null,
       "layout": "IPY_MODEL_675dad1a55994b05a0f0997871fb2e13",
       "placeholder": "​",
       "style": "IPY_MODEL_758fb8e96fff47afb22953cfbb79cad6",
       "value": " 100000/100000 [00:00&lt;00:00, 258128.81it/s]"
      }
     },
     "eecef2455f5d407d85235b185eceff66": {
      "model_module": "@jupyter-widgets/controls",
      "model_module_version": "1.5.0",
      "model_name": "FloatProgressModel",
      "state": {
       "_dom_classes": [],
       "_model_module": "@jupyter-widgets/controls",
       "_model_module_version": "1.5.0",
       "_model_name": "FloatProgressModel",
       "_view_count": null,
       "_view_module": "@jupyter-widgets/controls",
       "_view_module_version": "1.5.0",
       "_view_name": "ProgressView",
       "bar_style": "success",
       "description": "",
       "description_tooltip": null,
       "layout": "IPY_MODEL_9218ca1151554645ad3673ea99c02ce2",
       "max": 100000,
       "min": 0,
       "orientation": "horizontal",
       "style": "IPY_MODEL_9a72a2041ab945ee8f7b50b86d098db6",
       "value": 100000
      }
     },
     "f8e66cdfb8dc493fa3f6ea4b93485bf1": {
      "model_module": "@jupyter-widgets/controls",
      "model_module_version": "1.5.0",
      "model_name": "HBoxModel",
      "state": {
       "_dom_classes": [],
       "_model_module": "@jupyter-widgets/controls",
       "_model_module_version": "1.5.0",
       "_model_name": "HBoxModel",
       "_view_count": null,
       "_view_module": "@jupyter-widgets/controls",
       "_view_module_version": "1.5.0",
       "_view_name": "HBoxView",
       "box_style": "",
       "children": [
        "IPY_MODEL_13d7db782fae4ac4acc36fcea50ad946",
        "IPY_MODEL_652087bf023546b699fb6f6d9b5a2709",
        "IPY_MODEL_ed00f96044b74670bdab3e9dbb0a46cf"
       ],
       "layout": "IPY_MODEL_387fd6ca806142b6b711954a95cca3a7"
      }
     }
    },
    "version_major": 2,
    "version_minor": 0
   }
  }
 },
 "nbformat": 4,
 "nbformat_minor": 5
}
