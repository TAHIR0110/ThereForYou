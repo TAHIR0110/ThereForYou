{
  "nbformat": 4,
  "nbformat_minor": 0,
  "metadata": {
    "colab": {
      "provenance": [],
      "mount_file_id": "1ycVXWzB6sczH7-GXlboFEm2MY2nesSQd",
      "authorship_tag": "ABX9TyPYRTIvirbYOq2wtcYHm/bR",
      "include_colab_link": true
    },
    "kernelspec": {
      "name": "python3",
      "display_name": "Python 3"
    },
    "language_info": {
      "name": "python"
    }
  },
  "cells": [
    {
      "cell_type": "markdown",
      "metadata": {
        "id": "view-in-github",
        "colab_type": "text"
      },
      "source": [
        "<a href=\"https://colab.research.google.com/github/JyotikaJayani-08/ThereForYou/blob/main/SuicideDectection.ipynb\" target=\"_parent\"><img src=\"https://colab.research.google.com/assets/colab-badge.svg\" alt=\"Open In Colab\"/></a>"
      ]
    },
    {
      "cell_type": "code",
      "source": [
        "!pip install neattext"
      ],
      "metadata": {
        "colab": {
          "base_uri": "https://localhost:8080/"
        },
        "id": "BTSRlQRVYzLd",
        "outputId": "3d892b88-f22f-4f01-dabc-ff191cf2bed0"
      },
      "execution_count": null,
      "outputs": [
        {
          "output_type": "stream",
          "name": "stdout",
          "text": [
            "Collecting neattext\n",
            "  Downloading neattext-0.1.3-py3-none-any.whl (114 kB)\n",
            "\u001b[?25l     \u001b[90m━━━━━━━━━━━━━━━━━━━━━━━━━━━━━━━━━━━━━━━━\u001b[0m \u001b[32m0.0/114.7 kB\u001b[0m \u001b[31m?\u001b[0m eta \u001b[36m-:--:--\u001b[0m\r\u001b[2K     \u001b[91m━━━━━━━━━━━━━━━━━━━━━━━━━━━━━━━━━━━━━━━\u001b[0m\u001b[90m╺\u001b[0m \u001b[32m112.6/114.7 kB\u001b[0m \u001b[31m3.2 MB/s\u001b[0m eta \u001b[36m0:00:01\u001b[0m\r\u001b[2K     \u001b[90m━━━━━━━━━━━━━━━━━━━━━━━━━━━━━━━━━━━━━━━━\u001b[0m \u001b[32m114.7/114.7 kB\u001b[0m \u001b[31m2.4 MB/s\u001b[0m eta \u001b[36m0:00:00\u001b[0m\n",
            "\u001b[?25hInstalling collected packages: neattext\n",
            "Successfully installed neattext-0.1.3\n"
          ]
        }
      ]
    },
    {
      "cell_type": "code",
      "execution_count": null,
      "metadata": {
        "id": "-3xKyFSwXPa9"
      },
      "outputs": [],
      "source": [
        "import numpy as np\n",
        "import pandas as pd\n",
        "from sklearn.model_selection import train_test_split\n",
        "import neattext.functions as nfx\n",
        "import plotly.express as plx\n",
        "from sklearn.metrics import classification_report\n",
        "import keras\n",
        "from keras.layers import Embedding,Dense,LSTM,GlobalMaxPooling1D,Input\n",
        "from keras.callbacks import EarlyStopping,ReduceLROnPlateau\n",
        "from keras.models import Sequential\n",
        "from keras.preprocessing.text import Tokenizer\n",
        "from keras.preprocessing.sequence import pad_sequences\n",
        "import tensorflow as tf\n",
        "from sklearn.preprocessing import LabelEncoder\n",
        "from tqdm import tqdm\n",
        "\n"
      ]
    },
    {
      "cell_type": "markdown",
      "source": [],
      "metadata": {
        "id": "58Soe81Te1kQ"
      }
    },
    {
      "cell_type": "code",
      "source": [
        "data=pd.read_csv('Suicide_Ideation_Dataset(Twitter-based).csv')\n",
        "data.head()"
      ],
      "metadata": {
        "colab": {
          "base_uri": "https://localhost:8080/",
          "height": 206
        },
        "id": "IuSw_zC-a_M3",
        "outputId": "c2640944-7cd1-4660-86db-a70b241aab0d"
      },
      "execution_count": null,
      "outputs": [
        {
          "output_type": "execute_result",
          "data": {
            "text/plain": [
              "                                               Tweet                  Suicide\n",
              "0                                  making some lunch         Not Suicide post\n",
              "1                        @Alexia You want his money.         Not Suicide post\n",
              "2  @dizzyhrvy that crap took me forever to put to...  Potential Suicide post \n",
              "3  @jnaylor #kiwitweets Hey Jer! Since when did y...         Not Suicide post\n",
              "4  Trying out &quot;Delicious Library 2&quot; wit...         Not Suicide post"
            ],
            "text/html": [
              "\n",
              "  <div id=\"df-dc738e63-3f54-400c-8874-315c78c8160a\" class=\"colab-df-container\">\n",
              "    <div>\n",
              "<style scoped>\n",
              "    .dataframe tbody tr th:only-of-type {\n",
              "        vertical-align: middle;\n",
              "    }\n",
              "\n",
              "    .dataframe tbody tr th {\n",
              "        vertical-align: top;\n",
              "    }\n",
              "\n",
              "    .dataframe thead th {\n",
              "        text-align: right;\n",
              "    }\n",
              "</style>\n",
              "<table border=\"1\" class=\"dataframe\">\n",
              "  <thead>\n",
              "    <tr style=\"text-align: right;\">\n",
              "      <th></th>\n",
              "      <th>Tweet</th>\n",
              "      <th>Suicide</th>\n",
              "    </tr>\n",
              "  </thead>\n",
              "  <tbody>\n",
              "    <tr>\n",
              "      <th>0</th>\n",
              "      <td>making some lunch</td>\n",
              "      <td>Not Suicide post</td>\n",
              "    </tr>\n",
              "    <tr>\n",
              "      <th>1</th>\n",
              "      <td>@Alexia You want his money.</td>\n",
              "      <td>Not Suicide post</td>\n",
              "    </tr>\n",
              "    <tr>\n",
              "      <th>2</th>\n",
              "      <td>@dizzyhrvy that crap took me forever to put to...</td>\n",
              "      <td>Potential Suicide post</td>\n",
              "    </tr>\n",
              "    <tr>\n",
              "      <th>3</th>\n",
              "      <td>@jnaylor #kiwitweets Hey Jer! Since when did y...</td>\n",
              "      <td>Not Suicide post</td>\n",
              "    </tr>\n",
              "    <tr>\n",
              "      <th>4</th>\n",
              "      <td>Trying out &amp;quot;Delicious Library 2&amp;quot; wit...</td>\n",
              "      <td>Not Suicide post</td>\n",
              "    </tr>\n",
              "  </tbody>\n",
              "</table>\n",
              "</div>\n",
              "    <div class=\"colab-df-buttons\">\n",
              "\n",
              "  <div class=\"colab-df-container\">\n",
              "    <button class=\"colab-df-convert\" onclick=\"convertToInteractive('df-dc738e63-3f54-400c-8874-315c78c8160a')\"\n",
              "            title=\"Convert this dataframe to an interactive table.\"\n",
              "            style=\"display:none;\">\n",
              "\n",
              "  <svg xmlns=\"http://www.w3.org/2000/svg\" height=\"24px\" viewBox=\"0 -960 960 960\">\n",
              "    <path d=\"M120-120v-720h720v720H120Zm60-500h600v-160H180v160Zm220 220h160v-160H400v160Zm0 220h160v-160H400v160ZM180-400h160v-160H180v160Zm440 0h160v-160H620v160ZM180-180h160v-160H180v160Zm440 0h160v-160H620v160Z\"/>\n",
              "  </svg>\n",
              "    </button>\n",
              "\n",
              "  <style>\n",
              "    .colab-df-container {\n",
              "      display:flex;\n",
              "      gap: 12px;\n",
              "    }\n",
              "\n",
              "    .colab-df-convert {\n",
              "      background-color: #E8F0FE;\n",
              "      border: none;\n",
              "      border-radius: 50%;\n",
              "      cursor: pointer;\n",
              "      display: none;\n",
              "      fill: #1967D2;\n",
              "      height: 32px;\n",
              "      padding: 0 0 0 0;\n",
              "      width: 32px;\n",
              "    }\n",
              "\n",
              "    .colab-df-convert:hover {\n",
              "      background-color: #E2EBFA;\n",
              "      box-shadow: 0px 1px 2px rgba(60, 64, 67, 0.3), 0px 1px 3px 1px rgba(60, 64, 67, 0.15);\n",
              "      fill: #174EA6;\n",
              "    }\n",
              "\n",
              "    .colab-df-buttons div {\n",
              "      margin-bottom: 4px;\n",
              "    }\n",
              "\n",
              "    [theme=dark] .colab-df-convert {\n",
              "      background-color: #3B4455;\n",
              "      fill: #D2E3FC;\n",
              "    }\n",
              "\n",
              "    [theme=dark] .colab-df-convert:hover {\n",
              "      background-color: #434B5C;\n",
              "      box-shadow: 0px 1px 3px 1px rgba(0, 0, 0, 0.15);\n",
              "      filter: drop-shadow(0px 1px 2px rgba(0, 0, 0, 0.3));\n",
              "      fill: #FFFFFF;\n",
              "    }\n",
              "  </style>\n",
              "\n",
              "    <script>\n",
              "      const buttonEl =\n",
              "        document.querySelector('#df-dc738e63-3f54-400c-8874-315c78c8160a button.colab-df-convert');\n",
              "      buttonEl.style.display =\n",
              "        google.colab.kernel.accessAllowed ? 'block' : 'none';\n",
              "\n",
              "      async function convertToInteractive(key) {\n",
              "        const element = document.querySelector('#df-dc738e63-3f54-400c-8874-315c78c8160a');\n",
              "        const dataTable =\n",
              "          await google.colab.kernel.invokeFunction('convertToInteractive',\n",
              "                                                    [key], {});\n",
              "        if (!dataTable) return;\n",
              "\n",
              "        const docLinkHtml = 'Like what you see? Visit the ' +\n",
              "          '<a target=\"_blank\" href=https://colab.research.google.com/notebooks/data_table.ipynb>data table notebook</a>'\n",
              "          + ' to learn more about interactive tables.';\n",
              "        element.innerHTML = '';\n",
              "        dataTable['output_type'] = 'display_data';\n",
              "        await google.colab.output.renderOutput(dataTable, element);\n",
              "        const docLink = document.createElement('div');\n",
              "        docLink.innerHTML = docLinkHtml;\n",
              "        element.appendChild(docLink);\n",
              "      }\n",
              "    </script>\n",
              "  </div>\n",
              "\n",
              "\n",
              "<div id=\"df-487d8577-7f40-42a9-9a10-b67f2f8d41e6\">\n",
              "  <button class=\"colab-df-quickchart\" onclick=\"quickchart('df-487d8577-7f40-42a9-9a10-b67f2f8d41e6')\"\n",
              "            title=\"Suggest charts\"\n",
              "            style=\"display:none;\">\n",
              "\n",
              "<svg xmlns=\"http://www.w3.org/2000/svg\" height=\"24px\"viewBox=\"0 0 24 24\"\n",
              "     width=\"24px\">\n",
              "    <g>\n",
              "        <path d=\"M19 3H5c-1.1 0-2 .9-2 2v14c0 1.1.9 2 2 2h14c1.1 0 2-.9 2-2V5c0-1.1-.9-2-2-2zM9 17H7v-7h2v7zm4 0h-2V7h2v10zm4 0h-2v-4h2v4z\"/>\n",
              "    </g>\n",
              "</svg>\n",
              "  </button>\n",
              "\n",
              "<style>\n",
              "  .colab-df-quickchart {\n",
              "      --bg-color: #E8F0FE;\n",
              "      --fill-color: #1967D2;\n",
              "      --hover-bg-color: #E2EBFA;\n",
              "      --hover-fill-color: #174EA6;\n",
              "      --disabled-fill-color: #AAA;\n",
              "      --disabled-bg-color: #DDD;\n",
              "  }\n",
              "\n",
              "  [theme=dark] .colab-df-quickchart {\n",
              "      --bg-color: #3B4455;\n",
              "      --fill-color: #D2E3FC;\n",
              "      --hover-bg-color: #434B5C;\n",
              "      --hover-fill-color: #FFFFFF;\n",
              "      --disabled-bg-color: #3B4455;\n",
              "      --disabled-fill-color: #666;\n",
              "  }\n",
              "\n",
              "  .colab-df-quickchart {\n",
              "    background-color: var(--bg-color);\n",
              "    border: none;\n",
              "    border-radius: 50%;\n",
              "    cursor: pointer;\n",
              "    display: none;\n",
              "    fill: var(--fill-color);\n",
              "    height: 32px;\n",
              "    padding: 0;\n",
              "    width: 32px;\n",
              "  }\n",
              "\n",
              "  .colab-df-quickchart:hover {\n",
              "    background-color: var(--hover-bg-color);\n",
              "    box-shadow: 0 1px 2px rgba(60, 64, 67, 0.3), 0 1px 3px 1px rgba(60, 64, 67, 0.15);\n",
              "    fill: var(--button-hover-fill-color);\n",
              "  }\n",
              "\n",
              "  .colab-df-quickchart-complete:disabled,\n",
              "  .colab-df-quickchart-complete:disabled:hover {\n",
              "    background-color: var(--disabled-bg-color);\n",
              "    fill: var(--disabled-fill-color);\n",
              "    box-shadow: none;\n",
              "  }\n",
              "\n",
              "  .colab-df-spinner {\n",
              "    border: 2px solid var(--fill-color);\n",
              "    border-color: transparent;\n",
              "    border-bottom-color: var(--fill-color);\n",
              "    animation:\n",
              "      spin 1s steps(1) infinite;\n",
              "  }\n",
              "\n",
              "  @keyframes spin {\n",
              "    0% {\n",
              "      border-color: transparent;\n",
              "      border-bottom-color: var(--fill-color);\n",
              "      border-left-color: var(--fill-color);\n",
              "    }\n",
              "    20% {\n",
              "      border-color: transparent;\n",
              "      border-left-color: var(--fill-color);\n",
              "      border-top-color: var(--fill-color);\n",
              "    }\n",
              "    30% {\n",
              "      border-color: transparent;\n",
              "      border-left-color: var(--fill-color);\n",
              "      border-top-color: var(--fill-color);\n",
              "      border-right-color: var(--fill-color);\n",
              "    }\n",
              "    40% {\n",
              "      border-color: transparent;\n",
              "      border-right-color: var(--fill-color);\n",
              "      border-top-color: var(--fill-color);\n",
              "    }\n",
              "    60% {\n",
              "      border-color: transparent;\n",
              "      border-right-color: var(--fill-color);\n",
              "    }\n",
              "    80% {\n",
              "      border-color: transparent;\n",
              "      border-right-color: var(--fill-color);\n",
              "      border-bottom-color: var(--fill-color);\n",
              "    }\n",
              "    90% {\n",
              "      border-color: transparent;\n",
              "      border-bottom-color: var(--fill-color);\n",
              "    }\n",
              "  }\n",
              "</style>\n",
              "\n",
              "  <script>\n",
              "    async function quickchart(key) {\n",
              "      const quickchartButtonEl =\n",
              "        document.querySelector('#' + key + ' button');\n",
              "      quickchartButtonEl.disabled = true;  // To prevent multiple clicks.\n",
              "      quickchartButtonEl.classList.add('colab-df-spinner');\n",
              "      try {\n",
              "        const charts = await google.colab.kernel.invokeFunction(\n",
              "            'suggestCharts', [key], {});\n",
              "      } catch (error) {\n",
              "        console.error('Error during call to suggestCharts:', error);\n",
              "      }\n",
              "      quickchartButtonEl.classList.remove('colab-df-spinner');\n",
              "      quickchartButtonEl.classList.add('colab-df-quickchart-complete');\n",
              "    }\n",
              "    (() => {\n",
              "      let quickchartButtonEl =\n",
              "        document.querySelector('#df-487d8577-7f40-42a9-9a10-b67f2f8d41e6 button');\n",
              "      quickchartButtonEl.style.display =\n",
              "        google.colab.kernel.accessAllowed ? 'block' : 'none';\n",
              "    })();\n",
              "  </script>\n",
              "</div>\n",
              "\n",
              "    </div>\n",
              "  </div>\n"
            ],
            "application/vnd.google.colaboratory.intrinsic+json": {
              "type": "dataframe",
              "variable_name": "data",
              "summary": "{\n  \"name\": \"data\",\n  \"rows\": 1787,\n  \"fields\": [\n    {\n      \"column\": \"Tweet\",\n      \"properties\": {\n        \"dtype\": \"string\",\n        \"num_unique_values\": 1777,\n        \"samples\": [\n          \"@Farbelowaverag1,,And I just dont want to fucking be here anymore. Please someone just fucking end me because I know itll be worse for everyone if I do it myself and fuck do I want to but please please someone just kill me please\",\n          \"RT @cparham65: Liberals say conservatives are evil. NOTHING\\u00e2\\u0080\\u0099s further from the truth! We believe in \\u00e2\\u0080\\u009clive &amp; let live\\u00e2\\u0080\\u009d. Libs think that big\\u00e2\\u0080\\u00a6\",\n          \"@rowanberry ohhh sending loads of Positive vibes your way\"\n        ],\n        \"semantic_type\": \"\",\n        \"description\": \"\"\n      }\n    },\n    {\n      \"column\": \"Suicide\",\n      \"properties\": {\n        \"dtype\": \"category\",\n        \"num_unique_values\": 2,\n        \"samples\": [\n          \"Potential Suicide post \",\n          \"Not Suicide post\"\n        ],\n        \"semantic_type\": \"\",\n        \"description\": \"\"\n      }\n    }\n  ]\n}"
            }
          },
          "metadata": {},
          "execution_count": 32
        }
      ]
    },
    {
      "cell_type": "code",
      "source": [
        "suicide_counts = data['Suicide'].value_counts()"
      ],
      "metadata": {
        "id": "ydEnLUtNa_O7"
      },
      "execution_count": null,
      "outputs": []
    },
    {
      "cell_type": "code",
      "source": [
        "print(suicide_counts)"
      ],
      "metadata": {
        "colab": {
          "base_uri": "https://localhost:8080/"
        },
        "id": "zp6dVHm5a_Rz",
        "outputId": "629e8015-3818-4685-c02a-62dc1340228d"
      },
      "execution_count": null,
      "outputs": [
        {
          "output_type": "stream",
          "name": "stdout",
          "text": [
            "Suicide\n",
            "Not Suicide post           1127\n",
            "Potential Suicide post      660\n",
            "Name: count, dtype: int64\n"
          ]
        }
      ]
    },
    {
      "cell_type": "code",
      "source": [
        "data['Suicide'].value_counts().index.values"
      ],
      "metadata": {
        "colab": {
          "base_uri": "https://localhost:8080/"
        },
        "id": "nZJse44Pa_VI",
        "outputId": "65854800-b437-4907-eec9-b40578d614cb"
      },
      "execution_count": null,
      "outputs": [
        {
          "output_type": "execute_result",
          "data": {
            "text/plain": [
              "array(['Not Suicide post', 'Potential Suicide post '], dtype=object)"
            ]
          },
          "metadata": {},
          "execution_count": 31
        }
      ]
    },
    {
      "cell_type": "code",
      "source": [
        "train_data,test_data=train_test_split(data,test_size=0.2,random_state=10)"
      ],
      "metadata": {
        "id": "JkVWXL08a_pG"
      },
      "execution_count": null,
      "outputs": []
    },
    {
      "cell_type": "code",
      "source": [
        "train_data['Suicide'].value_counts().index.values"
      ],
      "metadata": {
        "colab": {
          "base_uri": "https://localhost:8080/"
        },
        "id": "ygpcYkcwa_sj",
        "outputId": "88b26517-9340-4b57-cf84-9e113feb9ab7"
      },
      "execution_count": null,
      "outputs": [
        {
          "output_type": "execute_result",
          "data": {
            "text/plain": [
              "array(['Not Suicide post', 'Potential Suicide post '], dtype=object)"
            ]
          },
          "metadata": {},
          "execution_count": 35
        }
      ]
    },
    {
      "cell_type": "code",
      "source": [
        "# DATA VISUALIZATION"
      ],
      "metadata": {
        "id": "w_A3wIdVrIsO"
      },
      "execution_count": null,
      "outputs": []
    },
    {
      "cell_type": "code",
      "source": [
        "plx.bar(train_data,\n",
        "        x=train_data['Suicide'].value_counts().index.values,\n",
        "        y=train_data['Suicide'].value_counts().values, # Use .values to get the counts\n",
        "        color=['Suicide','Not Suicide'])"
      ],
      "metadata": {
        "colab": {
          "base_uri": "https://localhost:8080/",
          "height": 542
        },
        "id": "lBwqUhARrIw-",
        "outputId": "32993211-8a12-41ba-d937-aa41f0c6fe25"
      },
      "execution_count": null,
      "outputs": [
        {
          "output_type": "display_data",
          "data": {
            "text/html": [
              "<html>\n",
              "<head><meta charset=\"utf-8\" /></head>\n",
              "<body>\n",
              "    <div>            <script src=\"https://cdnjs.cloudflare.com/ajax/libs/mathjax/2.7.5/MathJax.js?config=TeX-AMS-MML_SVG\"></script><script type=\"text/javascript\">if (window.MathJax && window.MathJax.Hub && window.MathJax.Hub.Config) {window.MathJax.Hub.Config({SVG: {font: \"STIX-Web\"}});}</script>                <script type=\"text/javascript\">window.PlotlyConfig = {MathJaxConfig: 'local'};</script>\n",
              "        <script charset=\"utf-8\" src=\"https://cdn.plot.ly/plotly-2.24.1.min.js\"></script>                <div id=\"945dcac2-97b5-4505-8f41-f1b5241f7e83\" class=\"plotly-graph-div\" style=\"height:525px; width:100%;\"></div>            <script type=\"text/javascript\">                                    window.PLOTLYENV=window.PLOTLYENV || {};                                    if (document.getElementById(\"945dcac2-97b5-4505-8f41-f1b5241f7e83\")) {                    Plotly.newPlot(                        \"945dcac2-97b5-4505-8f41-f1b5241f7e83\",                        [{\"alignmentgroup\":\"True\",\"hovertemplate\":\"color=Suicide\\u003cbr\\u003ex=%{x}\\u003cbr\\u003ey=%{y}\\u003cextra\\u003e\\u003c\\u002fextra\\u003e\",\"legendgroup\":\"Suicide\",\"marker\":{\"color\":\"#636efa\",\"pattern\":{\"shape\":\"\"}},\"name\":\"Suicide\",\"offsetgroup\":\"Suicide\",\"orientation\":\"v\",\"showlegend\":true,\"textposition\":\"auto\",\"x\":[\"Not Suicide post\"],\"xaxis\":\"x\",\"y\":[897],\"yaxis\":\"y\",\"type\":\"bar\"},{\"alignmentgroup\":\"True\",\"hovertemplate\":\"color=Not Suicide\\u003cbr\\u003ex=%{x}\\u003cbr\\u003ey=%{y}\\u003cextra\\u003e\\u003c\\u002fextra\\u003e\",\"legendgroup\":\"Not Suicide\",\"marker\":{\"color\":\"#EF553B\",\"pattern\":{\"shape\":\"\"}},\"name\":\"Not Suicide\",\"offsetgroup\":\"Not Suicide\",\"orientation\":\"v\",\"showlegend\":true,\"textposition\":\"auto\",\"x\":[\"Potential Suicide post \"],\"xaxis\":\"x\",\"y\":[532],\"yaxis\":\"y\",\"type\":\"bar\"}],                        {\"template\":{\"data\":{\"histogram2dcontour\":[{\"type\":\"histogram2dcontour\",\"colorbar\":{\"outlinewidth\":0,\"ticks\":\"\"},\"colorscale\":[[0.0,\"#0d0887\"],[0.1111111111111111,\"#46039f\"],[0.2222222222222222,\"#7201a8\"],[0.3333333333333333,\"#9c179e\"],[0.4444444444444444,\"#bd3786\"],[0.5555555555555556,\"#d8576b\"],[0.6666666666666666,\"#ed7953\"],[0.7777777777777778,\"#fb9f3a\"],[0.8888888888888888,\"#fdca26\"],[1.0,\"#f0f921\"]]}],\"choropleth\":[{\"type\":\"choropleth\",\"colorbar\":{\"outlinewidth\":0,\"ticks\":\"\"}}],\"histogram2d\":[{\"type\":\"histogram2d\",\"colorbar\":{\"outlinewidth\":0,\"ticks\":\"\"},\"colorscale\":[[0.0,\"#0d0887\"],[0.1111111111111111,\"#46039f\"],[0.2222222222222222,\"#7201a8\"],[0.3333333333333333,\"#9c179e\"],[0.4444444444444444,\"#bd3786\"],[0.5555555555555556,\"#d8576b\"],[0.6666666666666666,\"#ed7953\"],[0.7777777777777778,\"#fb9f3a\"],[0.8888888888888888,\"#fdca26\"],[1.0,\"#f0f921\"]]}],\"heatmap\":[{\"type\":\"heatmap\",\"colorbar\":{\"outlinewidth\":0,\"ticks\":\"\"},\"colorscale\":[[0.0,\"#0d0887\"],[0.1111111111111111,\"#46039f\"],[0.2222222222222222,\"#7201a8\"],[0.3333333333333333,\"#9c179e\"],[0.4444444444444444,\"#bd3786\"],[0.5555555555555556,\"#d8576b\"],[0.6666666666666666,\"#ed7953\"],[0.7777777777777778,\"#fb9f3a\"],[0.8888888888888888,\"#fdca26\"],[1.0,\"#f0f921\"]]}],\"heatmapgl\":[{\"type\":\"heatmapgl\",\"colorbar\":{\"outlinewidth\":0,\"ticks\":\"\"},\"colorscale\":[[0.0,\"#0d0887\"],[0.1111111111111111,\"#46039f\"],[0.2222222222222222,\"#7201a8\"],[0.3333333333333333,\"#9c179e\"],[0.4444444444444444,\"#bd3786\"],[0.5555555555555556,\"#d8576b\"],[0.6666666666666666,\"#ed7953\"],[0.7777777777777778,\"#fb9f3a\"],[0.8888888888888888,\"#fdca26\"],[1.0,\"#f0f921\"]]}],\"contourcarpet\":[{\"type\":\"contourcarpet\",\"colorbar\":{\"outlinewidth\":0,\"ticks\":\"\"}}],\"contour\":[{\"type\":\"contour\",\"colorbar\":{\"outlinewidth\":0,\"ticks\":\"\"},\"colorscale\":[[0.0,\"#0d0887\"],[0.1111111111111111,\"#46039f\"],[0.2222222222222222,\"#7201a8\"],[0.3333333333333333,\"#9c179e\"],[0.4444444444444444,\"#bd3786\"],[0.5555555555555556,\"#d8576b\"],[0.6666666666666666,\"#ed7953\"],[0.7777777777777778,\"#fb9f3a\"],[0.8888888888888888,\"#fdca26\"],[1.0,\"#f0f921\"]]}],\"surface\":[{\"type\":\"surface\",\"colorbar\":{\"outlinewidth\":0,\"ticks\":\"\"},\"colorscale\":[[0.0,\"#0d0887\"],[0.1111111111111111,\"#46039f\"],[0.2222222222222222,\"#7201a8\"],[0.3333333333333333,\"#9c179e\"],[0.4444444444444444,\"#bd3786\"],[0.5555555555555556,\"#d8576b\"],[0.6666666666666666,\"#ed7953\"],[0.7777777777777778,\"#fb9f3a\"],[0.8888888888888888,\"#fdca26\"],[1.0,\"#f0f921\"]]}],\"mesh3d\":[{\"type\":\"mesh3d\",\"colorbar\":{\"outlinewidth\":0,\"ticks\":\"\"}}],\"scatter\":[{\"fillpattern\":{\"fillmode\":\"overlay\",\"size\":10,\"solidity\":0.2},\"type\":\"scatter\"}],\"parcoords\":[{\"type\":\"parcoords\",\"line\":{\"colorbar\":{\"outlinewidth\":0,\"ticks\":\"\"}}}],\"scatterpolargl\":[{\"type\":\"scatterpolargl\",\"marker\":{\"colorbar\":{\"outlinewidth\":0,\"ticks\":\"\"}}}],\"bar\":[{\"error_x\":{\"color\":\"#2a3f5f\"},\"error_y\":{\"color\":\"#2a3f5f\"},\"marker\":{\"line\":{\"color\":\"#E5ECF6\",\"width\":0.5},\"pattern\":{\"fillmode\":\"overlay\",\"size\":10,\"solidity\":0.2}},\"type\":\"bar\"}],\"scattergeo\":[{\"type\":\"scattergeo\",\"marker\":{\"colorbar\":{\"outlinewidth\":0,\"ticks\":\"\"}}}],\"scatterpolar\":[{\"type\":\"scatterpolar\",\"marker\":{\"colorbar\":{\"outlinewidth\":0,\"ticks\":\"\"}}}],\"histogram\":[{\"marker\":{\"pattern\":{\"fillmode\":\"overlay\",\"size\":10,\"solidity\":0.2}},\"type\":\"histogram\"}],\"scattergl\":[{\"type\":\"scattergl\",\"marker\":{\"colorbar\":{\"outlinewidth\":0,\"ticks\":\"\"}}}],\"scatter3d\":[{\"type\":\"scatter3d\",\"line\":{\"colorbar\":{\"outlinewidth\":0,\"ticks\":\"\"}},\"marker\":{\"colorbar\":{\"outlinewidth\":0,\"ticks\":\"\"}}}],\"scattermapbox\":[{\"type\":\"scattermapbox\",\"marker\":{\"colorbar\":{\"outlinewidth\":0,\"ticks\":\"\"}}}],\"scatterternary\":[{\"type\":\"scatterternary\",\"marker\":{\"colorbar\":{\"outlinewidth\":0,\"ticks\":\"\"}}}],\"scattercarpet\":[{\"type\":\"scattercarpet\",\"marker\":{\"colorbar\":{\"outlinewidth\":0,\"ticks\":\"\"}}}],\"carpet\":[{\"aaxis\":{\"endlinecolor\":\"#2a3f5f\",\"gridcolor\":\"white\",\"linecolor\":\"white\",\"minorgridcolor\":\"white\",\"startlinecolor\":\"#2a3f5f\"},\"baxis\":{\"endlinecolor\":\"#2a3f5f\",\"gridcolor\":\"white\",\"linecolor\":\"white\",\"minorgridcolor\":\"white\",\"startlinecolor\":\"#2a3f5f\"},\"type\":\"carpet\"}],\"table\":[{\"cells\":{\"fill\":{\"color\":\"#EBF0F8\"},\"line\":{\"color\":\"white\"}},\"header\":{\"fill\":{\"color\":\"#C8D4E3\"},\"line\":{\"color\":\"white\"}},\"type\":\"table\"}],\"barpolar\":[{\"marker\":{\"line\":{\"color\":\"#E5ECF6\",\"width\":0.5},\"pattern\":{\"fillmode\":\"overlay\",\"size\":10,\"solidity\":0.2}},\"type\":\"barpolar\"}],\"pie\":[{\"automargin\":true,\"type\":\"pie\"}]},\"layout\":{\"autotypenumbers\":\"strict\",\"colorway\":[\"#636efa\",\"#EF553B\",\"#00cc96\",\"#ab63fa\",\"#FFA15A\",\"#19d3f3\",\"#FF6692\",\"#B6E880\",\"#FF97FF\",\"#FECB52\"],\"font\":{\"color\":\"#2a3f5f\"},\"hovermode\":\"closest\",\"hoverlabel\":{\"align\":\"left\"},\"paper_bgcolor\":\"white\",\"plot_bgcolor\":\"#E5ECF6\",\"polar\":{\"bgcolor\":\"#E5ECF6\",\"angularaxis\":{\"gridcolor\":\"white\",\"linecolor\":\"white\",\"ticks\":\"\"},\"radialaxis\":{\"gridcolor\":\"white\",\"linecolor\":\"white\",\"ticks\":\"\"}},\"ternary\":{\"bgcolor\":\"#E5ECF6\",\"aaxis\":{\"gridcolor\":\"white\",\"linecolor\":\"white\",\"ticks\":\"\"},\"baxis\":{\"gridcolor\":\"white\",\"linecolor\":\"white\",\"ticks\":\"\"},\"caxis\":{\"gridcolor\":\"white\",\"linecolor\":\"white\",\"ticks\":\"\"}},\"coloraxis\":{\"colorbar\":{\"outlinewidth\":0,\"ticks\":\"\"}},\"colorscale\":{\"sequential\":[[0.0,\"#0d0887\"],[0.1111111111111111,\"#46039f\"],[0.2222222222222222,\"#7201a8\"],[0.3333333333333333,\"#9c179e\"],[0.4444444444444444,\"#bd3786\"],[0.5555555555555556,\"#d8576b\"],[0.6666666666666666,\"#ed7953\"],[0.7777777777777778,\"#fb9f3a\"],[0.8888888888888888,\"#fdca26\"],[1.0,\"#f0f921\"]],\"sequentialminus\":[[0.0,\"#0d0887\"],[0.1111111111111111,\"#46039f\"],[0.2222222222222222,\"#7201a8\"],[0.3333333333333333,\"#9c179e\"],[0.4444444444444444,\"#bd3786\"],[0.5555555555555556,\"#d8576b\"],[0.6666666666666666,\"#ed7953\"],[0.7777777777777778,\"#fb9f3a\"],[0.8888888888888888,\"#fdca26\"],[1.0,\"#f0f921\"]],\"diverging\":[[0,\"#8e0152\"],[0.1,\"#c51b7d\"],[0.2,\"#de77ae\"],[0.3,\"#f1b6da\"],[0.4,\"#fde0ef\"],[0.5,\"#f7f7f7\"],[0.6,\"#e6f5d0\"],[0.7,\"#b8e186\"],[0.8,\"#7fbc41\"],[0.9,\"#4d9221\"],[1,\"#276419\"]]},\"xaxis\":{\"gridcolor\":\"white\",\"linecolor\":\"white\",\"ticks\":\"\",\"title\":{\"standoff\":15},\"zerolinecolor\":\"white\",\"automargin\":true,\"zerolinewidth\":2},\"yaxis\":{\"gridcolor\":\"white\",\"linecolor\":\"white\",\"ticks\":\"\",\"title\":{\"standoff\":15},\"zerolinecolor\":\"white\",\"automargin\":true,\"zerolinewidth\":2},\"scene\":{\"xaxis\":{\"backgroundcolor\":\"#E5ECF6\",\"gridcolor\":\"white\",\"linecolor\":\"white\",\"showbackground\":true,\"ticks\":\"\",\"zerolinecolor\":\"white\",\"gridwidth\":2},\"yaxis\":{\"backgroundcolor\":\"#E5ECF6\",\"gridcolor\":\"white\",\"linecolor\":\"white\",\"showbackground\":true,\"ticks\":\"\",\"zerolinecolor\":\"white\",\"gridwidth\":2},\"zaxis\":{\"backgroundcolor\":\"#E5ECF6\",\"gridcolor\":\"white\",\"linecolor\":\"white\",\"showbackground\":true,\"ticks\":\"\",\"zerolinecolor\":\"white\",\"gridwidth\":2}},\"shapedefaults\":{\"line\":{\"color\":\"#2a3f5f\"}},\"annotationdefaults\":{\"arrowcolor\":\"#2a3f5f\",\"arrowhead\":0,\"arrowwidth\":1},\"geo\":{\"bgcolor\":\"white\",\"landcolor\":\"#E5ECF6\",\"subunitcolor\":\"white\",\"showland\":true,\"showlakes\":true,\"lakecolor\":\"white\"},\"title\":{\"x\":0.05},\"mapbox\":{\"style\":\"light\"}}},\"xaxis\":{\"anchor\":\"y\",\"domain\":[0.0,1.0],\"title\":{\"text\":\"x\"}},\"yaxis\":{\"anchor\":\"x\",\"domain\":[0.0,1.0],\"title\":{\"text\":\"y\"}},\"legend\":{\"title\":{\"text\":\"color\"},\"tracegroupgap\":0},\"margin\":{\"t\":60},\"barmode\":\"relative\"},                        {\"responsive\": true}                    ).then(function(){\n",
              "                            \n",
              "var gd = document.getElementById('945dcac2-97b5-4505-8f41-f1b5241f7e83');\n",
              "var x = new MutationObserver(function (mutations, observer) {{\n",
              "        var display = window.getComputedStyle(gd).display;\n",
              "        if (!display || display === 'none') {{\n",
              "            console.log([gd, 'removed!']);\n",
              "            Plotly.purge(gd);\n",
              "            observer.disconnect();\n",
              "        }}\n",
              "}});\n",
              "\n",
              "// Listen for the removal of the full notebook cells\n",
              "var notebookContainer = gd.closest('#notebook-container');\n",
              "if (notebookContainer) {{\n",
              "    x.observe(notebookContainer, {childList: true});\n",
              "}}\n",
              "\n",
              "// Listen for the clearing of the current output cell\n",
              "var outputEl = gd.closest('.output');\n",
              "if (outputEl) {{\n",
              "    x.observe(outputEl, {childList: true});\n",
              "}}\n",
              "\n",
              "                        })                };                            </script>        </div>\n",
              "</body>\n",
              "</html>"
            ]
          },
          "metadata": {}
        }
      ]
    },
    {
      "cell_type": "code",
      "source": [
        "# DATA CLEANING"
      ],
      "metadata": {
        "id": "CcUIQWbprI0h"
      },
      "execution_count": null,
      "outputs": []
    },
    {
      "cell_type": "code",
      "source": [
        "data.columns"
      ],
      "metadata": {
        "colab": {
          "base_uri": "https://localhost:8080/"
        },
        "id": "6ihX__kksofO",
        "outputId": "b190b8e5-5917-44f9-fc5c-a456a52d0ebe"
      },
      "execution_count": null,
      "outputs": [
        {
          "output_type": "execute_result",
          "data": {
            "text/plain": [
              "Index(['Tweet', 'Suicide'], dtype='object')"
            ]
          },
          "metadata": {},
          "execution_count": 41
        }
      ]
    },
    {
      "cell_type": "code",
      "source": [
        "def clean_Tweet(Tweets):\n",
        "    Tweet_length = []\n",
        "    cleaned_Tweets = []\n",
        "\n",
        "    for sent in tqdm(Tweets):\n",
        "        if isinstance(sent, str):\n",
        "            sent = sent.lower()\n",
        "            sent = nfx.remove_special_characters(sent)\n",
        "            cleaned_Tweets.append(sent)\n",
        "            Tweet_length.append(len(sent))\n",
        "        else:\n",
        "            cleaned_Tweets.append(\"\")  # or handle non-string cases as needed\n",
        "            Tweet_length.append(0)\n",
        "\n",
        "    return cleaned_Tweets, Tweet_length"
      ],
      "metadata": {
        "id": "cq5S611Dsol4"
      },
      "execution_count": null,
      "outputs": []
    },
    {
      "cell_type": "code",
      "source": [
        "cleaned_train_Tweet, train_Tweet_length = clean_Tweet(train_data['Tweet'])"
      ],
      "metadata": {
        "colab": {
          "base_uri": "https://localhost:8080/"
        },
        "id": "s_A4wsISvLrU",
        "outputId": "91543513-48b6-4559-c308-a7df45b24308"
      },
      "execution_count": null,
      "outputs": [
        {
          "output_type": "stream",
          "name": "stderr",
          "text": [
            "100%|██████████| 1429/1429 [00:00<00:00, 132167.42it/s]\n"
          ]
        }
      ]
    },
    {
      "cell_type": "code",
      "source": [
        "cleaned_test_Tweet, test_Tweet_length = clean_Tweet(test_data['Tweet'])"
      ],
      "metadata": {
        "colab": {
          "base_uri": "https://localhost:8080/"
        },
        "id": "_-hHZZZPvLtu",
        "outputId": "7b918b9c-8a6e-4d46-e6c3-5fa8adb5896f"
      },
      "execution_count": null,
      "outputs": [
        {
          "output_type": "stream",
          "name": "stderr",
          "text": [
            "100%|██████████| 358/358 [00:00<00:00, 101484.24it/s]\n"
          ]
        }
      ]
    },
    {
      "cell_type": "code",
      "source": [
        "train_data['cleaned_Tweet'] = cleaned_train_Tweet\n",
        "train_data['Tweet_length'] = train_Tweet_length"
      ],
      "metadata": {
        "id": "YXTK9gWkvLv_"
      },
      "execution_count": null,
      "outputs": []
    },
    {
      "cell_type": "code",
      "source": [
        "test_data['cleaned_Tweet'] = cleaned_test_Tweet\n",
        "test_data['Tweet_length'] = test_Tweet_length"
      ],
      "metadata": {
        "id": "fINnuEe4vLyH"
      },
      "execution_count": null,
      "outputs": []
    },
    {
      "cell_type": "code",
      "source": [
        "print(train_data.head())"
      ],
      "metadata": {
        "colab": {
          "base_uri": "https://localhost:8080/"
        },
        "id": "almyw86qvL0i",
        "outputId": "9d676155-cebd-4e9c-9287-8d4f240eccb9"
      },
      "execution_count": null,
      "outputs": [
        {
          "output_type": "stream",
          "name": "stdout",
          "text": [
            "                                                  Tweet  \\\n",
            "1518         @sputnick42 welcome &amp; good to see you!   \n",
            "512   @michaelgrainger @Scyranth *gigglessssssss* Ya...   \n",
            "1305  @MissSmashlee oh not alot, uni, working, same ...   \n",
            "1215  I tried to be good and not buy food but i dead...   \n",
            "7     @jakepaul @jamescharles @LoganPaul Just becaus...   \n",
            "\n",
            "                      Suicide  \\\n",
            "1518         Not Suicide post   \n",
            "512          Not Suicide post   \n",
            "1305         Not Suicide post   \n",
            "1215  Potential Suicide post    \n",
            "7     Potential Suicide post    \n",
            "\n",
            "                                          cleaned_Tweet  Tweet_length  \n",
            "1518             sputnick42 welcome amp good to see you            38  \n",
            "512   michaelgrainger scyranth gigglessssssss yall a...            61  \n",
            "1305  misssmashlee oh not alot uni working same as j...           130  \n",
            "1215  i tried to be good and not buy food but i dead...            85  \n",
            "7     jakepaul jamescharles loganpaul just because s...           130  \n"
          ]
        }
      ]
    },
    {
      "cell_type": "code",
      "source": [
        "tokenizer=Tokenizer()\n",
        "tokenizer.fit_on_texts(cleaned_train_Tweet)"
      ],
      "metadata": {
        "id": "dbbtp2qhvL3D"
      },
      "execution_count": null,
      "outputs": []
    },
    {
      "cell_type": "code",
      "source": [
        "cleaned_train_Tweet"
      ],
      "metadata": {
        "colab": {
          "base_uri": "https://localhost:8080/"
        },
        "id": "vG-5LCdfvoYn",
        "outputId": "a2a8d56f-de1a-44c7-b5ee-03ee4b170fb0",
        "collapsed": true
      },
      "execution_count": null,
      "outputs": [
        {
          "output_type": "execute_result",
          "data": {
            "text/plain": [
              "['sputnick42 welcome amp good to see you',\n",
              " 'michaelgrainger scyranth gigglessssssss yall are awesomesauce',\n",
              " 'misssmashlee oh not alot uni working same as just about everyone handed in the first assignment in over a year on friday was crazy',\n",
              " 'i tried to be good and not buy food but i dead ass want chipotles chicken and rice rn',\n",
              " 'jakepaul jamescharles loganpaul just because shane made a series on you doesnt mean people take you seriously y httpstcod5ra0nua0u',\n",
              " 'markgeollli pls dont bring this image to my mind im not ready to die',\n",
              " 'i am so miserable ive never been this miserable in my life he is simply baby httpstco6phayb9oha',\n",
              " 'i am so tired of everything please just let me die',\n",
              " '200 words over with still more to write lame burritos for tea',\n",
              " 'julouille3 let me hate myself god fucking damn it',\n",
              " 'animeesayi want to say ill never be active again not quite sure i dont have any reason to be on here anymore anyways bye everyone take care',\n",
              " 'bcuban popehat not a lawyer but i was diagnosed with depression when i was 1213 my brother swore up and down t httpstcoemwrr6pbwh',\n",
              " 'busy dayupdate tonight',\n",
              " 'thinking about killing myself i got raped at 10 years old by a drunk homeless man and who is trying to find where i live and i am now 19 year old boy with no friends my gf dumped me everyone hates me my mom and dad hate me i got abused when i was kid i dont have any reason to live anymore i want to kill myself',\n",
              " 'youractionlinkutahwant to take that perfect selfie heres what you should be looking for in your phone camera',\n",
              " 'i want to go park',\n",
              " 'mousehunt hi',\n",
              " 'happy birthday paullander',\n",
              " 'why is mankind afraid of death lately i am asking myself more often and often why do we fear death nowdays back in the middle ages for example of course you fear getting in hell and stupid shit like that but today even if it is completly painless why would you struggle to just end it all i myself am not suicidal i would say even if i think about it more than often to just quit go the pussy but easy way why should i struggle with life instead of going the easy route personally i think its because mankind fears the unkown we dont know whats after death because none really came back from actual death and reported about it like actual clinical dead but is is really the only reason like i know i am not going to kill myself yet and it probably stays that way because i am just too much of a pussy to be a pussy if you get what i mean ',\n",
              " 'bmkerchief i love each time up post an update ur profile picture is an amazing site let me tell u',\n",
              " 'hi what the fuck have i been doing with my life lately',\n",
              " 'fucking hell  prada saved the day',\n",
              " 'there are no perks of being this ugly i deserve an award or something at least if im gonna die alone',\n",
              " 'ekalavyab saw it smetime back  bloody creative it is',\n",
              " 'yay just found out amy is having a girl lil bonita im so excitednow i can go by little girly things for the babes',\n",
              " 'about to open birthday presents',\n",
              " 'quotis in awe of everything she sees your wayquot',\n",
              " 'maufeitioblog obviously',\n",
              " 'wanted to kill her',\n",
              " 'twitme10 lol  curry  cuppa tea  glass of merlot  a free doggie  im happy to negotiate',\n",
              " 'annaarco i gained weight im one of those people everybody hates who can loose weight on a cakeandcookies diet',\n",
              " 'she is tired',\n",
              " 'espiral08 were coming back on sunday or monday',\n",
              " 'i want him',\n",
              " 'thanks for the welcome mark',\n",
              " 'overspill well can you link me to it anyway',\n",
              " 'chipcoffey that is great to hear thanks chip',\n",
              " 'cgupi1rt caringcorbyn i literally cant explain everything so much has happened i dont wanna be here anymore wtf is even the point i literally',\n",
              " 'youve changed for the fucking worse i cant believe that you could really go back on all ur hard work like that',\n",
              " 'kaschua no just didnt know if you thought putting stuff on your cat was phobe instead of phile glad kittys like the dome',\n",
              " 'i have forgotten how much i love my nokia n951',\n",
              " 'well do you want me to come back home',\n",
              " 'bwagy its good people like you arent scared to say the real tweets transparency is shown for real cheers',\n",
              " 'callumfloyd welcome to the jungle',\n",
              " 'wterrence jennbrenstore that guy is the total complete product of progressive reeducation in other words he httpstcomoxngtexzj',\n",
              " 'rt richsoleek im happy i aint the same person i was last year',\n",
              " 'i quit i keep grinding but still fucking suck i no life something and i still fucking suck im never gonna get i httpstco90myx2lvgt',\n",
              " 'i work hard    every day of my life i work til i ache in my bones at the end       httpstcot8btgg2htl',\n",
              " 'cmgangrel typical metro cant even get that right',\n",
              " 'i just wanna bring up mac didnt die from cocaine mixed with fentanyl he literally had a line shit aint been t httpstcowuelvuw1co',\n",
              " 'i was assigned to sit next to the most awesome student in my class y hahaha',\n",
              " 'itsanimesh i got an openmoko freerunner and now and android g1 as well yay',\n",
              " 'marijamilovanov oh hell yeah but that list should be made very passionately oops i ment patiently',\n",
              " 'akwesiquanrt animeesay i want to say ill never be active again not quite sure i dont have any reason to be on here anymore anyways bye everyone t',\n",
              " 'regyates nice pictures glad your having a good time',\n",
              " 'we were approved for a cute townhome so much closer to work im so excited',\n",
              " 'thanks unltdworld and danlehner for the enternshipscom plugs',\n",
              " 'niinabaniinatexas arizona rt caringcorbyn i literally cant explain everything so much has happened i dont wanna be here anymore wtf is even the point i literally',\n",
              " 'i dont want to be here anymore',\n",
              " 'mcherrywv pleasant is right thank u v8 ppl ur the best',\n",
              " 'adoredesalon what you so need to put that on the site you know cause us bloggers love free wifi awesome',\n",
              " 'w00t matt elliot third eye foundation playing grv tonight early gig first act 815 curfew 1030 if anyone fancies',\n",
              " 'vegale wow wow good to hear',\n",
              " 'sophistifunk aye',\n",
              " 'realdonaldtrump it already is at least in france one doesnt dieloss everything when get sick amp have at least 1 httpstcoqyn3ku1q8t',\n",
              " 'yahoops thanks david',\n",
              " 'dandad a beautifully designed fully accessible html website',\n",
              " 'gailia i think youll do whatever you want',\n",
              " 'carly109 love the new song and the chorus is real nice and catchy gud job who did the track and recording jordan',\n",
              " 'rt aprilmaejackson rip xxxtentacion i didnt know much about you but you helped out in hard times you didnt deserve to die at such a',\n",
              " 'i was drinking and crying my night away as usual to find out my ex is fucking a girl in his bed so i tried to kill httpstco8yfpgq7c6k',\n",
              " 'katahay i adore your music you are extremely talented',\n",
              " 'dont break other people down just because they may seem weaker than you if someones eyes are 2020 that doesn httpstcodhtb9jzkxe',\n",
              " 'alonpeer 10x man any tips or ideas',\n",
              " 'peterwalker78 wwwyoutubecomtitomi15watch the videoscommentampsuscribe amp follow me  cheers x',\n",
              " 'httptwitpiccom2y7ho  edit  my mood',\n",
              " 'good morning',\n",
              " 'i am a 20 year old transgirl who has been on hormones for about 4 months recently i suffered from a depressive episode due to gender dysphoria until about a couple weeks ago i just got a job and i was presenting myself as female and using a female name the only problem is that i still look somewhat masculine so i get stared at constantly and dismissed i cannot connect with any of my coworkers because i look and act strange to them i know i am supposed to wait on these hormones but i am really scared what if they dont work what if i ll get beaten up what if i lose my job due to just being me i want to be happy but its so hard its gotten to the point where all i do is just think about death and hope maybe i will get a do over i just cant take any of this anymore',\n",
              " 'thinks she found a good group to help her refocus',\n",
              " 'fuck you i fucking hate you',\n",
              " 'rt b8ssons i hate feeling the way i do',\n",
              " 'hey hey hey just joined twitter sounds like a nice thing',\n",
              " 'rt ashleysantini i go on youtube to binge watch david dobrik wholeheartedly knowing im going to be sad bc i cant marry him or scotty or',\n",
              " 'and thats why we are in the classrooms working with them right',\n",
              " 'sexysubkaylee heh heh dirty is always good gurl i like how you think',\n",
              " 'rt rmfifthcircuit this is truly a horrifying article  most of us dont have the underlying deep hereditary mental health disorder tha',\n",
              " 'gt katyperry in june 28 in portugal i dont know should i go or is just another catching song',\n",
              " 'is cleaning up will start anew',\n",
              " 'god fuck im a dumb fucking idiot who called out personal instead of sick guess whos getting their third reprimand s httpstcor9w52o6lny',\n",
              " 'is off to dundrum with martin',\n",
              " 'declanshalvey yea youre right its shite',\n",
              " 'i am not sure if it s normal to consider suicide on a normal basis i m an engineer for a larger corporation and lately i ve been thinking what s the point at all ',\n",
              " 'haha flight of the conchords was so bloody hilarious last night 1010 chur chur',\n",
              " 'the rapper lzaro leonado rodriguez betancul best known for viva cuba free or pupito this detainee in the area of httpstcooewhow0l5a',\n",
              " 'ccannabiscafe a father whose daughter committed suicide saying cannabis is very very dangerous is an instr httpstcoigiybvxzdd',\n",
              " 'mikedignammusic hey your stuffs quite good can you get it on itunes',\n",
              " 'somebody just please kill me before my life gets any more stupid',\n",
              " 'i do not want all this',\n",
              " 'suitelifeofkell haha me too it reminds me and my daddy of the monkees old show same here cant wait lol whattt',\n",
              " 'shelleybookworm hah round is a shape indeed and there are round parts of me id like to plane down',\n",
              " 'good morning mirandaanzures  only about eight hours until noodles the only positive thing i can think of right now',\n",
              " 'i feel like my time is coming soon like i m running out of time i ve had enough and i m ready to call it quits i ve attempted before but this time i can t afford to fail i have many different pills and other ways i can end it i just need to figure out the best time when maybe tonight maybe tomorrow who knows',\n",
              " 'damn really hate myself rn',\n",
              " 'rt nickdmiller damn this is hardcore i hate myself for preheating so many ovens against clear ap style httpstcouwn48qf0nt',\n",
              " 'wow im sooo sad i had everything planned out on when i was going to leave home amp go to college in denver and yo httpstcorxs5mlxbqf',\n",
              " 'my friends think im weird because i watch the news all the timewatching the news',\n",
              " 'i want to kill myself i really want to fucking kill myself im done',\n",
              " 'quottagged as punk punk rock pop punk new york more people should listen to this band quot httpwwwlastfmmusicgetbent',\n",
              " 'rt breakfastnews regional australia would be siberia without the abc',\n",
              " 'cinder5bye5 i demanded personal satisfaction and it was so fucking glorious to finally have done it i had to do httpstcorik6ys6uw6',\n",
              " 'morning i have slacked for two days in twittering but here i am again just finished a good run ready to start a new day',\n",
              " 'i want money',\n",
              " 'suitelifeofkell and then i stole that shirt and sold it on ebay',\n",
              " 'pembrokedave just working matey but im off next week',\n",
              " 'rowanberry ohhh sending loads of positive vibes your way',\n",
              " 'has anyone had an great success stories on twitter if so i would love to hear your story dm me',\n",
              " 'goodnight i really want to fucking kill myself',\n",
              " 'guess who will die today thats me im too tired of everything rn and im too hurt',\n",
              " 'so sad that i cant protect these cats and i dont know whats ever bothering them i dont know why this stuff has httpstcosdrcty43v3',\n",
              " 'getting ready to take kids to the farm',\n",
              " 'megamantv tomwilso nhl capitals i play hockey ive gotten penalties like that dead play or not you cant go i httpstcoj9vcmvoe23',\n",
              " 'bbqnyc thats right unc what a game',\n",
              " 'to no one im not fucking okay stop asking me if i am stop asking me whats wrong if i knew then id fucking sa httpstcoiixwutp35x',\n",
              " 'mmmbaileys have a good day jessie and ill tell you for why its your birthday',\n",
              " 'mom always used to want everyone home before dark  as though anything was out there at night that wasnt there during the day',\n",
              " 'juliejoyce sounds pretty fine to me and very pleased to hear that creepy is your cup of tea too',\n",
              " 'i basically just feel like a prisoner in my own life i just feel like i dont have any strenghth left to get up go outside on a regular basis or finding anything that makes me happy i am just totaly dead inside and fake to be happy',\n",
              " 'if youre tired of living for the 1st and 15th and you need to do some immediatelylike when your regular deodora httpstco6xpv0nbvua',\n",
              " 'tired of living day by day like everythings alright',\n",
              " 'rt eekrawk this is my sisterinlaw sana on the left and her on the right its nice to hire your family members and create a conflict o',\n",
              " 'dylanphayes woop im keen to head to sydneymelbourne even if yyy come here we should still roadtrip',\n",
              " 'i ll be dead just you wait and see my last words before my death for whoever is interestedi am sorry but youre better off without me youll learn to live without me it wont be difficult now i shall die ',\n",
              " 'allanahk but 26 characters yr last tweet wouldnt have made the cut',\n",
              " 'beelarge i should have mine today then',\n",
              " 'bruh i hate myself a hot guy that ill never see again says one thing to me and im like damn that would be cute to httpstcogbaysqyrwu',\n",
              " 'somebody just fucking kill me please',\n",
              " 'and it make no logical sense in their twisted v httpstconqqmx2vwmr',\n",
              " 'rt sirpatricia shes doing her best httpstcotarp6gndlu',\n",
              " 'totally craving chocolate and starbucksonly 4 days left',\n",
              " 'rt mpparimal remembering the legendary former presidentofindia sh apjabdulkalam on his auspicious birthday',\n",
              " 'cathaypacific just wanted to say a big thank you for being such a great airline as a travel writer things like this mean a lot',\n",
              " 'crystalweb and sallyormond briar copywriting an awesome combination',\n",
              " 'missxu that penclip is soooo cool',\n",
              " 'aj really not wwe champ anymore i want to die',\n",
              " 'unfollow me now is all in gonna talk aboutfor therestof my miserable life httpstcoorvryqqkby',\n",
              " 'taniauncensored tania i think you should get athene and the rest of the crew on twitter',\n",
              " 'one month from today well be on that plane headin for ny',\n",
              " 'i want to be out in the sun walking down a beach with joey',\n",
              " 'forgot she had a twitter amp is pleased to know more people have joined',\n",
              " 'ddlovato ive been at school since yesterday  good morning demi lovato  im a fan from canada ',\n",
              " 'mhm up ohh early for me amp i feel like whatching open arms again by gary go',\n",
              " 'secbarbie i even figured out that turkey is pretty close to iraq',\n",
              " 'suziam what bout something a bit more lofi dictation failing that one of those projected keyboards',\n",
              " 'i am empty i ve been focusing on school and work but every day i feel worse and worse last night i got blackout drunk didnt help made me feel even worse i know that my loneliness comes mostly from my conscious decisions cant live with people cant live without them the only reason i havent killed myself yet is that i fear the pain ',\n",
              " 'rt peopleschoice congratulations harrystyles for winning the e peoples choice award for thestylestar of 2018 pcas httpstconpz',\n",
              " 'my cowley road ep has been rereleased on itunes if you dont have it get it',\n",
              " 'thirdsectorlab greetings',\n",
              " 'is home from the gym and is going to sit on her butt all day',\n",
              " 'collinb63everyone says im better off but i dont want to be i dont think that it doesnt quite matter what i think anymore so we out here',\n",
              " 'rt juliareyes004 ryankingry you or the picture cus damn both be looking so good ',\n",
              " 'misspolyamory maybe more hugs is what i need',\n",
              " 'xirthtv the girl i was fucking with the one that made me not kill myself a night i was just done is out of being institutionalized',\n",
              " 'now my heart wants to die too i ve been struggling with depression trauma and suicidal thoughts for years but honestly things havent been as painful as they are now i am here sitting alone and alienated confused depressed miserable helpless and alone and honestly at this point i just hate life',\n",
              " 'jealousy is important for a person to move ahead in life it keeps you on your toes and helps you realize',\n",
              " 'studiomag httptwitpiccom2vwii  ooo i remember this one picnic on the top of sennen with your burnt sausages',\n",
              " 'brushin mah teef secularly',\n",
              " 'jamfactory and such a beautiful if typically macy web site too',\n",
              " 'vindiekins i almost feel bad for my next post almost',\n",
              " 'im gonna fucking die im tired of investing everything into a person and then have them throw it out i am not made httpstco5hb6kz74qb',\n",
              " 'rt tgguide transfact sadly around 78 of transgender people who were bullied at school have thought about or attempted suicide this ne',\n",
              " 'why is it that i can absolutely nail my job that i despise with all my heart but manage to royally fuck up every si httpstcosux9u3bo3q',\n",
              " 'im so done with today like i just want to fucking kill myself',\n",
              " 'tommcfly hot chocolate xx',\n",
              " 'want to kill him',\n",
              " 'seeing eno on thursday brian eno amp j peter schwalm  like pictures pt 2 ntnet  httpblipfm3xcys',\n",
              " 'sldalby why yes xx',\n",
              " 'i have such a nasty habit of comparing myself to other girls damn i hate myself ',\n",
              " 'cool httpwwwonlinemarktplatzde14177twitterfieberbeiebay ',\n",
              " 'rt hanamichels i just found a suicide note im fine i wrote in april seems like my dates were wrong this year nbc commentators keep',\n",
              " 'acummings we have the location updated on the dakno blog always looking out for the rebc peeps rebcphl',\n",
              " 'wow i want to die somebody fucking kill me please httpstcooyyskocte0',\n",
              " 'kalpenn thank you kal youre great good luck on everything that youll do',\n",
              " 'brucelabruce lol im thinking of moving to berlin',\n",
              " 'aussieali heidiheartshugs toothpaste if you use the whitening stuff the bleach will burn a layer of skin off',\n",
              " 'is getting ready to take munchlet to the vet then doing absolutely nothing but relaxing next two days off',\n",
              " 'dogcafesco 19 i dont want to be here anymore i done ruined a good thing httpstcobql3yili1l',\n",
              " 'juliankimmings my commiserations is it as bad as i had heard it is',\n",
              " 'not everything is gold',\n",
              " 'messi is not tired',\n",
              " 'coy0te good morning feeling happier today',\n",
              " 'who the fuck looses their damn keys i hate myself ',\n",
              " 'aplusk ha nicea lot like love is on tv right now what a cute movie',\n",
              " 'mileycyrus lol the conbrainer store thats cute',\n",
              " 'jhaebets nah aus pc is more salesy best left to the sales guys we have 6 of the team going from aus to vegas in oct wwpcs my scene',\n",
              " 'bobsaget hey remember me i watched your car so you wouldnt get a ticket after minskeys youre still fabulous',\n",
              " 'nicharry tell her simon quotwho used to be from tuks fmquot says hi',\n",
              " 'whiskymac1746 afternoon to you too',\n",
              " 'just got back from a sweltering morning covering cowboys preseason training and the aircon in the office is broken httpstcoeidvt1ao1h',\n",
              " 'hurrah someone is listening delay so long have now missed meeting back home to walk dog and reschedule',\n",
              " 'foodphilosophy magic rejuvenationhmm im thinking triple oxygen mask httpisgdkqkq and a blissage105 hang in there',\n",
              " 'i got 3 hours of sleep last night double shot latte and im good',\n",
              " 'hates the people on facebook trying to convince jp1 to get an iphone',\n",
              " 'glamlifeguru omg theres fires and craziness goin on and you cant go home cause of it and people are seriously httpstcotfvjk6d2m7',\n",
              " 'mrbez1 staffordshire uk peter4077 oh peter your rid of him now so life will only get better dont let him get to you anymore the tears will go and you can be free once and for all here is you want to chat always xxx',\n",
              " 'jrkgirlnla oh yes i was reading that one',\n",
              " 'may you live every day of your life jonathan swift',\n",
              " 'lukesmummy he was a very good boy he looks even cuter now if such a thing were possible',\n",
              " 'lararhiannon httptwitpiccom2ybtf  thats just the brilliance of tim coming out ',\n",
              " 'i just want to have a friend or a group of friends that dont leave me out',\n",
              " 'laughter is indeed the best medicine whatever ur situation todayfind a reason 2 smile wholeheartedly god is goodfaithfulamploves u lt3',\n",
              " 'im sick and tired of people putting so much energy into shitting on ships but they wont do the same to help a liv httpstcohyfub3d04a',\n",
              " 'bad habits are more difficult to identify in your work life careerinspiration careergrowth habits',\n",
              " 'became as hot as the persistent days resting heavily on tired flowers',\n",
              " 'i am just a mess i ran out of meds and i havent had the strength or energy to go refill them i went to class today and ended up sitting on a sidewalk ugly crying and making people think i am a fucking headcase all i do is sleep and i never feel rested i m alone in a new town and i have no friends and all i want is someone to sit with me and talk a while i am hanging in there because i brought my cats here to this strange place and i cant just leave them to think theyve been abandoned i just took a three hour nap and all i got was a headache and still tired i have no clean laundry my room is a clusterfuck i havent combed my hair in days or eaten and instead of doing things that need donei amlying here trying to avoid intrusive self harm thoughtsi amlazy and awful and i cant get myself to stop it',\n",
              " 'but god does not only want us to be happy he wants us to be good',\n",
              " 'petebrown thats inandout',\n",
              " 'so like if the man i end up spending the rest of my days with aint him i feel like im going to hate my life',\n",
              " 'hortovanyi the roads not the widest and smoothest but theres some great clear views on the way up if you turn your head to the right',\n",
              " 'rt hanniepower today one year ago i lost a neighbour and friend to suicide so here is a quote that got me through my worst times f',\n",
              " 'noticed something interesting about this emoticon vs d totally different emotions only difference is the placement of the eyes',\n",
              " 'rt yaanayanaa im tired of living like this',\n",
              " 'feel lucky to work with 2 shining young stars in healthcare honored by forbes 30under30 today  httpstcodkquolp2rv',\n",
              " 'officialcole hy colei come from germany and my biggest wish is to have contact with youi know that i never can see you but its ok',\n",
              " 'how to cut a wrist the end of blood',\n",
              " 'when my dog does end up passing on my life will seriously be a tumbling downwards spiral thats my life shes my life',\n",
              " 'kanter and waiting for sunrise in spring with an amazing colors',\n",
              " 'rt lisapryor23 millwallfc zampathelion what a fun day  httpstcojr18utkfx4',\n",
              " 'quite bored reallyyy  on the phone to my baby x',\n",
              " 'some days i feel deeply depressed i am a highly sensitive person diagnosed with bipolar depression it must be annoying dealing with me because who wants to be with someone who always walk around eggshells or simply cant get over things quickly i ve been diagnosed with general anxiety disorder too i am frustrated i cannot seem to see the big picture why cant i love myself it annoys me that some smug asshole goes to sleep perfectly fine even though he hurts others he lashes out at others while i self destruct i feel pathetic',\n",
              " 'wheat thins and diet dr pepper  breakfast of championsor people who wakeup late and grab the first thing they can find',\n",
              " 'thesouthernstar ochie kmaren nervous ya pas tu kliatan tau pas aku dtg aku ngeliat ochie lg maen2in tisu sampe tisuy lecek',\n",
              " 'while im fuckin at it httpisgdq86o buy a shirt please',\n",
              " 'sandieb321 we are not fussy about age here as long as females are between 1825  i changed the rules lol',\n",
              " 'is going to get some cereallllllll will be living off lucky charms next week woopwoop',\n",
              " 'rt helmandc i know you think youre sad that the cowboys dont play today but any day your team cant lose is an occasion worth celebrate',\n",
              " 'i hate when im talking to myself and someones like huh cant a girl have a conversation with herself in peace around here god damn',\n",
              " 'offense or defense  passive or violent i cut my wrist and my heartbeat is silent',\n",
              " 'michaelgrainger heh heh but you cld use it for anything almost lol',\n",
              " 'where are the easter eggs',\n",
              " 'ryankingry you or the picture cus damn both be looking so good ',\n",
              " 'jinjadev watch out for the 2pm brick wall that jumps out at you once the caffeine rush ends',\n",
              " 'i don t think i can live with what he did to me i was sexually abused for years and i can t take one more second of reliving the feeling of his hands all over my body i would rather take my life than live with the guilt and shame that i feel over this i can t tell anyone what happened to me i feel like i am going insane',\n",
              " 'i want one of those httpbitly9m1ko',\n",
              " 'holyschmoke fingers are firmly crossed for you any advice give me a shout',\n",
              " 'petemc my mrs is always telling me off for this  sit and enjoy the moment instead of trying to take photos of it',\n",
              " 'effyobie stop speaking in such a sophisticated way please its hard for me to keep up',\n",
              " 'want to kill her',\n",
              " 'i r so tired but i suppose thats what i get for procrastinating damn i hate having my ego tied up in grades i blame capitalism',\n",
              " 'i hate myself sm i just wanna die i dont deserve to live',\n",
              " 'totd faves time for bedhave a good nightday see you in the amif you faves time for bed httpadvuc2sh',\n",
              " 'carlotaxx evening carlota not bad thanks  a bit tired  but that is normal  rolls eyes  ',\n",
              " 'phillies game with becca tonight',\n",
              " 'unclaimedana2 the worst part is i tire easily and i love napping fortunately i dont get tired until after work httpstcoeydeithbbg',\n",
              " 'when will pidgin integrate otrencryption as a standard component like adium does i will really appreciate that',\n",
              " 'downloaded the pollock app i quite like it drew a flower lolz httptwitpiccom2y7t8',\n",
              " 'im so tired of living and college i just wanna drop out and work somewhere far away from everyone httpstcodq3riuxtbv',\n",
              " 'second some people will still want their food grown the oldfashioned way just like how i buy heritage meats and heirloom seeds',\n",
              " 'like all i want to do is shove a knife into my fucking stomach i hate myself so god damn much',\n",
              " 'shruticute hmmm my mom well thanni thelichu vettutaanga',\n",
              " 'cloudforce is the top trend i am surprised but i couldnt have loved it more',\n",
              " 'httptwitpiccom2y9iv  when chelsea brings me chocolate and diet coke im happy again',\n",
              " 'fortitia hows it cooking looking forward to having a taste later',\n",
              " 'giftuseeme thas goodi think i might go have fun too',\n",
              " '308olsenblaine mni dont want to be here anymore',\n",
              " 'tired of kickin you bitches out the house  bout ready to go to sleep and wake up to the same ting forever',\n",
              " 'gonna go cut up some chickeeeen',\n",
              " 'im such a disgusting disappointment ive gotten visibly fatter my cheeks are puffy and my stomach has actually de httpstcopzeli6ssih',\n",
              " 'stml have you been overdoing the william gibson novels',\n",
              " 'rt babycarebot its okay to be proud of your progress even if youre not exactly where you want to be youre getting there',\n",
              " 'rustyrockets you are a big piece of the rainbowshine big shine bright and i will see you out there sparkle friends forever',\n",
              " 'rt iriswestallens i just want to remind yall that without iris barry allen would be dead right now but shes useless right theflash',\n",
              " 'todays goal complete everything on my to do list or nap all day lol',\n",
              " 'trying to find something formal to wear in a casual closet jeans and popculture shirt will do good enough',\n",
              " 'yashir33 i want to be able to focus on solving this problem not worrying about what might be said or done to you',\n",
              " 'thanks for the photo basibanget',\n",
              " 'just chillin p i mean holidays nothing to do silence only me haha finally my relaxing time with a book typical for me lt3',\n",
              " 'i dont know what to do im trying so hard to make a life work to live life my husband literally refuses to take httpstco3m3uloij1b',\n",
              " 'tommcfly yummy starbucks',\n",
              " 'arreeyy mad  o  watim wit u coz maine bhi intro hi start kiya',\n",
              " 'i getting tired of living the same day every single day',\n",
              " 'rt rosettalind55 brettcmajor1 im sick and tired of listening to justintrudeau sayingfirst and foremost were all here to work for c',\n",
              " 'justinhayward pardon was just a little ad im currently testing twitter a bit didnt want to confuse anyone',\n",
              " 'just woke up good morning everyonee',\n",
              " 'jnaylor kiwitweets hey jer since when did you start twittering',\n",
              " 'rt princesssgb im pleased to announce that i will be releasing a limited amount of my why u mad merch this friday whyumad',\n",
              " 'he didnt want her to go out with other man',\n",
              " 'cydneyw httptwitpiccom2nvz6  were both famous',\n",
              " 'is up at 7 am for no reason had a great day yesterday hopes today is just as good',\n",
              " 'rt breathiingo i wanna die i dont deserve a piece of anything i dont belong anywhere im sick and tired of everything the same peop',\n",
              " 'lololololol i hate how i trust people with ugly pictures of myself and then they break that trust like lol damn ok it be like that sometimes',\n",
              " 'hello world tis my first tweet',\n",
              " 'fuck it i cant sleep going shopping today',\n",
              " 'wanicullen thanks wani',\n",
              " 'carriee93 we just got a picture with my boyfriend thats what that is',\n",
              " 'kellyng with mainstream medias reporting amp the increasing occurrence of the fail whale you know eventually your friends will catch on',\n",
              " 'i want to kill her',\n",
              " 'janerodriguezzcotulla tx    lacoste txrt jaemverse i just dont want to be here anymore',\n",
              " 'somebody kill the evil version of me please',\n",
              " 'besties staying tonite ',\n",
              " 'dvroegop having 100 slides again',\n",
              " 'i was called in yesterday at the guidance counselors office i thought i did something bad as my id was blocked i httpstcojka0bytvg9',\n",
              " 'school is the worst i get so nervous and worked up about it that i throw up or pass out i will force myself to pass out by hyperventilating just to get a break from it all i dont know what to do and i am starting to get suicidal thoughts my mom only shames me for procrastinating too much or poor me shit please help',\n",
              " 'random thought 471729im so glad i live in the time of gps on my cell and navi in my car bc nothing confused me m httpstcoqwvphlc58q',\n",
              " 'hughsbeautiful me too its gonna be awesome eeek one week',\n",
              " 'micheal25 have a great day back at ya',\n",
              " 'tafelzoetstof i could but then there would be too much people around admiring me can you send me the address of that cava bar pleaaase',\n",
              " 'williamsledd love the videos william new to twitter x',\n",
              " 'in debt i will kill myself on thursday i am going to stab myself in the stomach or take a lot of pills i m not sure which to do yet sorry for spelling and grammar i am sure nobody here cares anyways ',\n",
              " 'attoolwoke rt nfear life is hard i never thought id come onto social media to venttalk about my feelings but man my life sucks i dont want atte',\n",
              " 'off to town now see you later',\n",
              " 'rt soulwhisperer3 when youre tired of living your life all you can do is close your eyes and go to sleep',\n",
              " 'rt marvelstudios no one has had more of an impact on my career and everything we do at marvel studios than stan lee stan leaves an extr',\n",
              " 'because of youreba mcentire amp kelly clarkson',\n",
              " 'ahhh the shoe throwing tradition after pakistan and iraq now in india httpbitlys6lea',\n",
              " 'ravogd my weird dreams are a part of my life now and make me who i am xxxxxxxxx',\n",
              " 'sallyinnorfolk awww youll have to use twitter for company',\n",
              " 'ergo my dreams would be crushed what would i do then work a dead end job for the rest of my life and let forms o httpstcoqypihvqkmk',\n",
              " 'today i almost kill myself because i almost hit by a car thank lord',\n",
              " 'rt myugnjuns anyways arohas lets work hard to show our love and support for astro in this comeback as they provide us with another good',\n",
              " 'i can just imagine how much of that howard would want to know',\n",
              " 'my heart is so crushed',\n",
              " 'rt rikise since were talking abt him hey uhh remember when yanderedev said intellectually disabled people deserve to die played rapel',\n",
              " 'im so much happier amp better off without you weak  fake lames  leave me alone  i dont need you anyway bigslime ',\n",
              " 'jordandossett tell me about it were going to try that puresleep mouth piece on tv  will let you know ifhow it works',\n",
              " 'jamesrandom ye but i still rather imagine my dad is some american superstar than just a bum  it keeps me happy',\n",
              " 'k1tten lol supp it aint fucked',\n",
              " 'sex dreams are my least favorite dreams like theyre always weird and appear out of nowhere and then you think its httpstco1fdkawfjwe',\n",
              " 'i am constantly amazed by our technology it makes me wonder now check out this rad song quottrippingquot  httptwtfm33023',\n",
              " 'final results from my cbs bracket challenge for the ncaa mens tourney 802911th surely the generation y folks will send me a trophy',\n",
              " 'im going to kill myself my art teacher just expanded the homework we needed to go by like fucking five times i tho httpstcobyzgwbrfwb',\n",
              " 'ladyparadis thanks its certainly better than it was midday yesterday at one point i was walking around like kryten from red dwarf',\n",
              " 'night all just enjoyed a chat on connect2mums check it out httpconnect2mumsningcom',\n",
              " 'ilovetypography and in danish its quotrytmequot',\n",
              " 'back home and finished dinner just stopped by for a minute still much to do tonight be back later',\n",
              " '12 hr debugging for a css problem on a colleagues computer before i remembered that i installed ie8 on my pc a couple of weeks ago',\n",
              " 'becaus honestly you did nothing wrong i dont know what the fuck is wrong with me sia i feel worthless you gave httpstco1riuadu9mp',\n",
              " 'oliviacosmetics ok then might not be for a while though',\n",
              " 'rt hullablue daughter was delighted to see this assistant referee today her hair is like mine can i be a referee ',\n",
              " 'mummyofmany i have homemade brownies too',\n",
              " 'my band director just said quotas king julian would say dont play like pansiesquot lol',\n",
              " 'emilylagrange a revolution in household detergent introducing kidscleaning get one now while stocks last',\n",
              " 'turnitgrey oh gosh i didnt think you were that old oh well ill still like you when your 25 hahaha',\n",
              " 'do you ever feel empty and you had to pick a number from 15 depending how you feel about it i could write my funeral speech now but what is the point in afew years i would be forgotten anyway ',\n",
              " 'if youre tired of living for the 1st and 15th and you need to do some immediatelylike when your regular deodora httpstco5moeekhs6m',\n",
              " 'rt poemsandthongs the kinda bad bitch thats ready to die anyday now',\n",
              " 'acummings watching my figured this am so no maple frosted today just the delicious dd coffee',\n",
              " 'is now washed and dressed',\n",
              " 'tweetdeck icons annoyng your desktop change httptinyurlcomdca4r7 from devianart httptinyurlcomdjg77b ',\n",
              " 'smallbizz entrepreneur entrepreneurlifestyle httpstcodehv7ded58',\n",
              " 'rt coletterojean i hate when i have to rate my group members because ill always rate them higher than id rate myself knowing damn well',\n",
              " 'semblanceer ahhhh yeah i was but their updates were boring me so quotunfollowedquot them youll have to win and take me on holiday',\n",
              " 'rt milatorres170 i never had to do the most  throw shade or hate i can be quiet and bitches still want me dead thats pure hate and i',\n",
              " 'cassie2112 i dont wanna tis too annoying amp hard doing it all day tomorrow',\n",
              " 'lolithiccnorthen irelandim sorry if i really want my life to end im sorry i drank for week straight i am sorry but its hard to say its gonna be fine when my life has never been fine atall im sorry i just dont want to be here anymore',\n",
              " 'rln49 too funny',\n",
              " 'im sitting in burger king with my whopper on the table in front of me',\n",
              " 'i am so sick and tired of living httpstcow8r1dttjbi',\n",
              " 'thetoffeemen1 simonmidi9790 ronaldkoeman everton sure just get that homework done while celebrating that poin httpstcooi7x3ztlgy',\n",
              " 'dancingbonita quoti friggin love youquot ron burgundy riding a unicorn',\n",
              " 'rt myonlytaeger knets try to describe how v looks like in real life',\n",
              " 'freekaavan another year has passed and i am still alone sad and suffering will i ever live with dignity or will httpstcobk4rdiwzsc',\n",
              " 'duanejackson trim are doing it with nambu bitly are doing it with tweetdeck',\n",
              " 'god damn vending machines are so depressing standing at them waiting for your sad little snack like some pavlovian bitch happy tuesday',\n",
              " 'rt mandalmadhura narendramodi its a black diwali for all of us who failed to letavnilive while we reached out to ur office with evide',\n",
              " 'long live life',\n",
              " 'my sleep was disturbed i am looking to end a career today',\n",
              " 'cant find any nice words for a tel domain httpwortsuchendeendswithbylengthtel haha',\n",
              " 'i just wanna goto that concert so damn bad but would hate myself if i spent 300 on that ticket right now',\n",
              " 'cool ive got more followers people are interested',\n",
              " 'why do i get attached so easily this is the one thing i hate about myself the most i end up being my own worst enemy all the damn time',\n",
              " 'guess who just posted on universal causality me httpuniversalcausalitywordpresscom20090407thoughtsinthemensroom',\n",
              " 'limyh ehwhere got face off lawe are all kawans here right or not staronline',\n",
              " 'damn i fucken hate shopping bc then i feel sooooo broke like i cant even enjoy myself anymore',\n",
              " 'its crazy cause i shut myself out on two ppl i been down w soo long  and ik i love them to death and i would prob',\n",
              " 'i just realized that in a month i can celebrate my birthday with watching the wolverine movie then wwe raw nice timing',\n",
              " 'wyattearpla im actually tired of this its like living in a home where the troubled deceitful child always wi httpstcoqsfqopfqjp',\n",
              " 'tired of merely existing want to get to living',\n",
              " 'joshmadden  omg thanks for replying to me you just made me sooo happy please folow meive learnt so much from your blogs ',\n",
              " 'brigham oh thank you im just glad to not be shutting stuff across the street anymore its a little slower w the unpacking tho',\n",
              " 'after sickness back to work',\n",
              " 'i want a xbox but i only want it for state of decay and i dead ass dont have time to play it now really would be a pointless purchase',\n",
              " 'wiggly i do i thank them for example when their code doesnt have many bugs or when they make it easy for me to automate',\n",
              " 'photoboth is black and white and wayyyyy old we call him herbert lol i love him hes like a living legend gotta love berlin lt3',\n",
              " 'aang21 i love you i love you ',\n",
              " 'rt elonmusk congratulations spacex team thanks nasa much appreciated httpstco6aiwbh8f6v',\n",
              " 'i am done my last post was how i am tired of living and the only good thing left in my life was my girlfriend but she just broke up with me and i feel so alone and hopeless i dont really feel like going on i really want to kill myself',\n",
              " 'im learning to twitter beats doing the taxes',\n",
              " 'i will have a stan chart card not because i want it but because its the only way for me to access money that i have earned',\n",
              " 'totally bought high school musical 3 today and it was meant to be released tomorrow also bought a wii remote charger',\n",
              " 'shesouldeep yup me too',\n",
              " 'nomadicmatt id like to be linked on your site httpwwwworldresolutionnettravel',\n",
              " 'i am 16 and hate myself so much i have very little friends an introvert never had a girlfriend been bullied a lot and rejected a lot please help me i want to kill myself it would make all this go away i dont deserve to be on this earth since i write notes on paper of how worthless and stupid i am i want to become someone in the it field but i am too stupid to get in there anyways and jobs nowadays need social people and i am not one of them ive never had a girlfriend before and i want to have one because being a virgin is a bad thing and i could never live with that feeling if i dont have any friends or a girlfriend wheni am an adult i plan on committing suicide can you please help me thanks for reading',\n",
              " 'rt camerondallas if i dont love anything i cant get hurt',\n",
              " 'hers my view from canada for what its worth more than half of you didor he wouldnt be presidenthe treats his friends like shiteveryone is now his enemythe usa has lost all respect from herewe want tou to build the wall herecause we just dont trust you anymore',\n",
              " 'rt darklessparkle gameofthrones my name is arya stark i want you to know that the last thing youre ever going to see is a stark smi',\n",
              " 'please retweet my weed g board the coolest adult cartoon  im tired of living the worst times of my life plea httpstcojxwjlxgt9x',\n",
              " 'sadegsigerrusengi want to die so much i dont want to be here anymore',\n",
              " 'ooo apple store is down  so close credit card ready',\n",
              " '300pockets you guys should look into a cube or edh its fun xion as in kingdomhearts from your profile pic theres some resemblance',\n",
              " 'valvert  have a nice day to',\n",
              " 'im a waste of space and i deserve to die',\n",
              " 'mmm mummys culinary skills has been improving smells so good im loving home cooked food',\n",
              " 'i want to kill him',\n",
              " 'rt elsierosehewitt how much anger must u be carrying to treat a stranger whos lifestrugglesbattles you know nothing about so poorly',\n",
              " 'i took a twitter break now im back',\n",
              " 'she was not tired',\n",
              " 'if i am not happy by age 25 i think its best that i just die i am 19 years old i have had anxiety my entire life and depression since i was 12 and its gotten worse and worse over the years add misophonia to that and it makes life torture its especially bad now because i dont know what the fucki am doing in life the only reason i have to live is for my friends and family and because i am too scared to die which is ironic because i wish i was dead most of the time or at least i wish i had never been born but life is scary too anyway if things dont get better in the next 5 years then i fucking quit or maybe i ll pussy out like the pathetic piece of shit coward i am i dont know ',\n",
              " 'rainbowdarling lol you and me both grumpy and bitter',\n",
              " 'i am loving what i just read about vr love it',\n",
              " 'therealnph yeah cool bookshelves ive got the one with the various books that are pinned to the wall',\n",
              " 'damn i fucking hate myself',\n",
              " 'after effects has frozen and i did not i repeat i did not save my edit i want to actually fucking die  it took httpstcoyif8dabtqm',\n",
              " 'since were talking abt him hey uhh remember when yanderedev said intellectually disabled people deserve to die p httpstcoeokubuaym6',\n",
              " 'i dont tell people how i feel because i am pretty sure nobody cares about me even writing this brings me anxiety because i know i have to interact with people i just wish i could cry myself to sleep and never wake up no one would every truly miss me',\n",
              " 'ive been ugly all my life ugh this is not fair i wanna be cute for at least one era of my miserable life',\n",
              " 'rt reckless i am so jealous of this insane taylorlorenz story i want to die httpstco6rnqtfklh5',\n",
              " 'markuslarockus ha ha i started something with the rocquestar thing didnt i',\n",
              " 'diablocody i loved you on chelsea lately',\n",
              " 'mizphenomenal god wrote that i just typed it',\n",
              " 'now time for mouse to mouse pad for a long long night ahead this is how you know you love it',\n",
              " 'kingxheshjust fucking kill me already i dont want to be here anymore',\n",
              " 'rt skupor incredibly sad and poignant story about suicide httpstcou73vm5kvxk',\n",
              " 'lessismoh lavendricks we used to have one but keeping a live wild animal in a cage surrounded by screaming drunk httpstcoswocdlrqwc',\n",
              " 'julieallinson hb',\n",
              " 'httptwitpiccom2y7tc  my bby is so adorable',\n",
              " 'just booked leawoodward and i in for 4d baby scan tomorrow  very exciting  cant wait to see our little girl',\n",
              " 'wookim and the consensus was ',\n",
              " 'last few hour in england',\n",
              " 'i admire babar partly because hes a great batter but because hes just so prone to the outside noise its admirable unreal pressure on his shoulders team despaired of every bowler he was used to everything stacked against him yet he finds a way to stay quiet and do his job',\n",
              " 'feeling overwhelmed and wanting to die i tried to kill myself today all i wanted was my boyfriend to help me somehow since he sees me on this depression spiral but all he says is it will get better i know it will but currently i feel trapped in my own home i have no friends and i constantly feel weak or unmotivated i have no desire to have sex with my partner and tend to find the worst in him lately i love him but some things he does amplifies my depression i dont want to die but when i get hurt lonely or overwhelmed the one thought i cant shake is killing myself ',\n",
              " 'raikb is not tired of everything',\n",
              " 'domselinakyle that sounds so terrible thats how i was when my dad still lived w me but i hope it gets better for httpstcooah2tunbxt',\n",
              " 'geuphers you will fully bloom after all the hardships i love u ',\n",
              " 'checking out twitter to see what i have heard is true',\n",
              " 'vascopatricio vou ler atd foi uma maratona lets just say im glad its over lol',\n",
              " 'mrsgiggles83 hey black hair suits u by the way',\n",
              " 'cant wait until the new star trek movie comes out looks good',\n",
              " 'tomorrow is going to be great  altho if i get eaten by a dinosaur im blaming sophie',\n",
              " 'hillkath hey there sent you a dm',\n",
              " 'gembrodie i have liked ryder for quite awhile amp it was good to see him perform on a televised fight i am loving it',\n",
              " 'im just gonna go ahead and kill myself already done for the fucking day',\n",
              " 'cflsc1 enough of the shameless book plug',\n",
              " 'getting blown out by the worst team in the league while they wearing these is whats gonna be in my suicide note httpstcopfrf1iol4a',\n",
              " 'every damn day i hate myself httpstcoefhjyxcdu2',\n",
              " 'running out of option it physically hurts to breathe i have no dream or goal or ambition or motivation i am tried of it all i have been to hospital er psyche ward therapist difference medications my girlfriend the only person i really loved who wasnt family wants to just go do drugs and drink or whatever the fuck leaving me here with nothing so i cant at least just talk to her any more about how i feel it hurts it hurts so much so much pain and why i dont know why was i born to suffer like this if god is real he wants me dead and i do too',\n",
              " 'i cant wait to get this damn nose job so i can take new selfies cause i hate every single picture of myself includ httpstco86dcy27jxt',\n",
              " 'im really about to kms cause this damn test omg i hate myself for not remembering its today',\n",
              " 'rt 0mysky if you find someone that makes you happy enjoy it life is not fair nor give many opportunities httpstcodcbwdeqvh8',\n",
              " 'honestly im so tired of everything and myself can i just die already',\n",
              " 'nanu just added a little more grist to the mill',\n",
              " 'modejunkie awww sweetness but hes still a cutie',\n",
              " 'seanhannity  every day becomes a disappointment for us americans that want our america back as it is to be   l httpstcoqrm2xogjxl',\n",
              " 'mwmyn i would say philosophical',\n",
              " 'rt waynerooney congratulations to joe cole on a brilliant career enjoy your retirement mate  httpstcol6lq9r394n',\n",
              " 'rt bob41dylan happy birthday to the legendary neil young he turns 73 today httpstcoe5drjzkm6i',\n",
              " 'beijingboyce quoticequot why',\n",
              " 'julienviet the fluider an interface the better regardless of the purpose',\n",
              " 'wolfgirl may 6th we couldnt wait any longeri was waiting for someone to ask lol',\n",
              " 'tarik653 i didnt want to think about it',\n",
              " 'at this point i dont even mind the pain i just want out of life',\n",
              " 'off to the bakery to buy yummy stuff',\n",
              " 'mcm180 uve got a list for fellow hotties you gonna have to share that one amigo',\n",
              " 'uxsoup aaaah ty',\n",
              " 'still listening to some great music i got yesterday amber pacific is awesome',\n",
              " 'chrisdjmoyles im gonna watch tm 2 c wot they hav 2 say bout twitter yor show was brilliant as ever this mornin  katie x',\n",
              " 'yo i seriously need to stop being so damn clingy to peoplelike im so bloody annoying i hate myself',\n",
              " 'rt mkoirala just keep going forward no matter what motivation success life',\n",
              " 'my 13 year old daughter overdosed on about 6 grams of wellbutrin and 1500mg of zoloft i am trying so hard to make this right she was airlifted to children s hospital and now she s laying in her hospital bed unresponsive and her muscles are jerking this has been the scariest day of my life that child is my entire world she s all i have i have out my heart and soul into raising her i never want to lose this little girl but here i am she s about to be 14 she s a little on the eccentric side but she has a heart of gold she s never met a stranger but ever since 8th grade has started she has been getting bullied and the teachers don t really do anything about it this was her way of coping i went to wake her for school this morning and found her covered in vomit and she had been hallucinating and having seizures for hours probably what if i hadn t found her why does she feel like this is the only way i want to make all the bad go away how do i do this how do i help her cope i didn t know who to turn to',\n",
              " 'robsessedblog httpi42tinypiccomdrbadijpg mine',\n",
              " 'its been nearly three years but i still feel that kyloben solo doesnt deserve redemption the man killed his ow httpstcoa69qtrmkh7',\n",
              " 'how many times do i have to be in this position for my fucking mother to realise that if i stay here ill either ki httpstcolbq8hoehc2',\n",
              " 'brisbanegirl hen style may or may not involve making promises other people need to deliver  no such concerns here',\n",
              " 'having sugar puffs for breakfast amp listening to mcfly what a great way to start my day',\n",
              " 'therealrc12honestly i dont want to be here anymore',\n",
              " 'you guys are mean i would never wake up my friends',\n",
              " 'danceoflife just twigged you mean your financial presentation yes ill have a look at home and mail to you today',\n",
              " 'wizbiff i need a different job if he is gonna chat all night hes cute so ill get over it',\n",
              " 'angelamaria1858 5 but my italian is basic for now',\n",
              " 'emisonnaomily but stilli highkey want him to be dead he f killed peach and beck ughcandice is back so imma just httpstco5pbyokbtrc',\n",
              " 'wanted to kill him',\n",
              " 'kierraperryreno nvbut i dont want to kill myselfi just want to be able to let other people have to not worry about me i feel like i never make the best choice i constantly feel like i am making wrong choices and i am just struggling im fucking depressed and i just dont want to be here anymore',\n",
              " 'i hate going into my rap zone cause then i think to myself damn people should really hear this but then i go oh wel httpstcoqu72v284yt',\n",
              " 'is going to take a nap before going for bm tuition',\n",
              " 'and a certain centurions servant who was dear unto him was sick and ready to die luke 72 jesus god bible',\n",
              " 'i keep repeating to myself kill yourself kill yourself do it already i am ready to listen to my inner thoughts i have attempted in the past but at the last moment either i live through it just in a hellblaze of pain becoming a even bigger failure or my body stops me my mind screams to do it but sometimes my body just stops me sometimes my body will give up on life and i ll lay there wanting to shed a tear yet i know no one will care so i lay quietly in the darkness for days on end i try to drown out the voices with all i have left music but recently i dont care to listen to all i have to do what has stuck with me for all my life i am ready to listen to the voices i m ready to listen to my inner shouts if only i had easier access to guns my life would be so much harder but i dont instead i have to go out in either a more painfull way i hope others continue to have the will to carry on but sadly i think i lost mine ',\n",
              " 'redmummy i feel better today got some sleep and its not raining so can take the beasts out',\n",
              " 'thanks to poshtotty cant wait to get home from work tonight for some reason',\n",
              " 'realizing that i will not get a surprise certified letter stating that i am the sole heir of a wealthy familys inh httpstco5dzywg70tu',\n",
              " ' iowa no 2 in happy yea',\n",
              " 'rt jeffflake congratulations to kyrstensinema on a race well run and won its been a wonderful honor representing arizona in the senat',\n",
              " 'joyciebo hi cutie welcome to the twitternation',\n",
              " 'my life is meaningless i just want to end my life so badly my life is completely empty and i dont want to have to create meaning in it creating meaning is pain how long will i hold back the urge to run my car head first into the next person coming the opposite way when will i stop feeling jealous of tragic characters like gomer pile for the swift end they were able to bring to their lives',\n",
              " 'the one damn time i dont watch raw becky and the smackdown womens division attack the raw womens division and b httpstcoysb2eq2qab',\n",
              " 'positive mental attitude  today cant be as bad as yesterday',\n",
              " 'rt chimchim246 987fm speakyourselfsg ive always hated my life ive always felt like theres nothing to live for but bts has helped me',\n",
              " 'michael jackson is a sad existance of a man ive already met alanis so prince is my last hope keep the faith',\n",
              " 'everyone should follow me and feed me mexican everyday',\n",
              " 'rt bijinchihiro 1111 blackcove family of 80 dolphins decimated7 died from stress48 captured freedom forever lostdefenseless ',\n",
              " 'rt bakugousblackgf nishinoya small and ready to die eat my ass spirits',\n",
              " 'ozazure i just trimmed it ill post photos soon',\n",
              " 'breatheheavycom jooooordan happy birthdaaaay enjoy the day and party a loot ',\n",
              " 'davethackeray lol you saw that hahahawas a fun day of exploration and experimentation',\n",
              " 'rt maddierawrk my brother died from depression he also frequently exercised had supportive friendsfamily was successful in school amp i',\n",
              " 'tim fischer was on to talk about his love for his family and his',\n",
              " 'inmyheadstudios wellgood morning i thinklol nothing like playing muscial chairs with where you sleep',\n",
              " 'haircut feeling fresh and clean',\n",
              " 'jessedonoe i mean my life is miserable so i guess light at the end of the tunnel',\n",
              " 'amazing night and great dayi love my heels',\n",
              " 'after looking at the american suicide statistics i was shocked to see that white men in their 40s50s lead right httpstcozlytwuxvbq',\n",
              " 'today i almost kill myself because i almost hit by a truck thank god',\n",
              " 'msnbc nbcnews i accepted benefits from a hostile foreign government and conspired with michael cohen to violate httpstcofxjejoi74p',\n",
              " 'they dropped these fucking teasers when i was in class yeah they want me to die right httpstconbjotshmuw',\n",
              " 'i cant stop fucking upi amselfish gutless disrespectful spiteful rude self righteous arrogant ignorantim forgetful unfelpful self centeredim stupid clutzy lazy depressed constantly exhausted i havent filled out any of my college applications because i didnt even plan on living this long i just want to die so i can stop disgracing my family and inconveniencing my mom i kind of want to be a ballistician they look at bullets from dead bodies to see what gun it came out of but honestly i am more likely to be the subject of one and i dont have any friends in or out of school why am i like this',\n",
              " 'mafumafu oh sh it oh g od scrambles to get everything he didnt pack',\n",
              " 'feeling very happy with the giant box of chocolates that arrived this morning easter is a wonderful but underrated holiday',\n",
              " 'jcred yeah i thought hollywood was teaching us to be green and now the top movie is about really really powerful cars going fast',\n",
              " 'tsos2 9 tails or not if he wanted to kill him hed be dead itachi couldve killed him but he didnt want toid httpstcondyxd8jgbu',\n",
              " 'rt muffetmcgraw congratulations to vivian stringer on your 1000th win tonight   an amazing accomplishment for an amazing woman  you sta',\n",
              " 'i feel like no one cares i just want to die maybe then i d feel less lonely',\n",
              " 'markukne we know we dont have a queen',\n",
              " 'rt mileycyrus completely devestated by the fires affecting my community i am one of the lucky ones my animals and love of my life made',\n",
              " 'home sweet home shower time',\n",
              " 'vintagetwit thanks for the offer',\n",
              " 'ah 90s pop was so good',\n",
              " 'fitnessbox watch this space not sure how viable it is yet possibly though',\n",
              " 'kateedwards you dont have to bring anything  its yr place katesparty',\n",
              " 'shytideenglandyeah no i dont want to be here anymore it hurts too much and im struggling too much',\n",
              " 'amandafpatton haha well its never a permanent state for me offline',\n",
              " 'richelle27 damn it have to make it a proper website one day with the help of tiff',\n",
              " 'you do know that you have absolutely no power yet and when you do this whole thing will be dead and forgotten httpstcoezrhcl3iwc',\n",
              " 'renee3 would i strive for anything but perfection come on i thought you knew me better than that',\n",
              " 'tweetie well thats impressive both spot 25 and spot 26 httptwitpiccom2yabd',\n",
              " 'my unofficial diagnosis is bipolar schizoaffective disorder it was a nightmare with so much trial and error with all sorts of therapies my medication a cocktail of about 20 pills a day has gotten me to a point where i can function day to day i dont know how i feel right now all i know though is i want it to stop ',\n",
              " 'summerwalker hey golden is here with me and just wanted to say hi and have a great morning',\n",
              " 'rt drugforumsbest i woke up with a bag over my head after i intentionally overdosed on a conbo of 250 mg diclazepam half a handle of bou',\n",
              " 'joshuawhite well you do spend enough time there that you may as well subsidize your habit',\n",
              " 'rt rcromwell4 if people dont want you dead can you even claim to really be alive',\n",
              " 'tomfelton oh we have quotantiques roadshowquot it is strangely addictive its kind of funny when people find out their junk is worthless',\n",
              " 'awesome song by press play on tape httpwwwyoutubecomwatchvhlww1opdrpi geekyness at its best',\n",
              " 'daniel won',\n",
              " 'ecstatic that walmart now carries sambazon',\n",
              " 'tyson smells like cookies',\n",
              " 'im hoping my stress level will go down when my aunt is gone i cant relax am exhausted and cant focus on a dam httpstco7ervpz4rps',\n",
              " 'therealskpbarcelona spainrt kbdoll2 even though we dont want too we know that we have too believe that youre not here anymore and we know that we have to be st',\n",
              " 'rt mredtrain neverforget who keeps you amp your family safe amp free  usmc usarmy usnavy usaf uscg httpstcoz21hwgpayn',\n",
              " 'i ended up in the hospital after suicide attempt and now my heart is messed up they wont let me leave until i am medically stable and then i have to go to psych hospital but i am not sure it will work',\n",
              " 'scared of death tired of living',\n",
              " 'gimmethefife no one should ever be driven to the point of suicide especially not by those you have done nothing but cared for',\n",
              " 'rt revolwoc shtbritttsays que screamo voice so cut my wrist and black my eyes',\n",
              " 'in curand voi fi pe ro thx to blogway si cnsc',\n",
              " 'basil and hafiz are having a very nice gay moment in the studio',\n",
              " 'eliseland o he just replied to someone dougie replied to quite a few people this afternoon so you never know besides its fun',\n",
              " 'ladytwitster good so far thanks hope yours will treat you well too',\n",
              " 'dodgerblueopj he is good hes down in florida for mts he graduates in late aprilhe really happy about this',\n",
              " 'gukdaydream so i need to work on this project and people count on me but i do fucking nothing because i think its httpstco3xujt5fp0x',\n",
              " 'i am a failure a loser i m a waste of life and i want it to be over we can finally close this pathetic story the only concern i have is debt i cant leave my family with that',\n",
              " 'rt jimmieathletics congratulations to jimmiefootball ol anthony vereen for being named gpac football first team offense 2018 gojimmies',\n",
              " 'can i move out already im tired of living with this old hag',\n",
              " 'myselfmp3 aw im so sorry try not to let it get to you too much they obviously didnt deserve you in the first p httpstcof3adf3m6u0',\n",
              " 'im tired of lies and living in lies of people showing only the versions they want to show and of shows that people put on',\n",
              " 'beatlestweets wow awesome pics',\n",
              " 'tcouto cool stuff',\n",
              " 'creamqueen lady im on the hill ready to fucking just die already',\n",
              " 'ok legit question can i fucking kill myself im 100 done with life',\n",
              " 'jami probably drunk driver coming onto oncoming traffic',\n",
              " 'derekmusiallandonb94 kidsseeghoats ok hold on how can these numbers not be correct anymore if the video is two weeks old strength of schedule and record dont change too much in two weeks and if yall dont care about top 4 why are you here won your division overranked to begin with what else you want',\n",
              " 'webfreelancer hi hi',\n",
              " 'that skill takes time and iq as a center he could run other bigs off the floor and force other teams to go small a httpstcoi0i3fksgbt',\n",
              " 'rt joonswrlds jimin is so happy i love him jimin btstwt httpstcoe1iia610tb',\n",
              " 'katpaps well i must say your comments have even got me thinking his hair looks rather sexy so i doubt she has much chance to resist',\n",
              " 'cut my wrist and black my eyes',\n",
              " 'after effects has frozen and i did not i repeat i did not save my edit i want to actually fucking die  it took httpstcoyif8dabtqm',\n",
              " 'aspiring to be as happy as blacyoungstafb in every aspect of life',\n",
              " 'theosoft what do you want to know about modx cms maybe i can help you',\n",
              " 'oops again its t w i t t e r',\n",
              " 'rt graceechang me knowing damn well that i will hate myself for taking a 730 but doing it anyways httpstcofrhjvbgkuw',\n",
              " 'checking out virtual box looks quite nice',\n",
              " 'good morro i had a dream that i was banned from ggui',\n",
              " 'i only have like few of thesis chapter to go and like its oso like already filled in but my lazy ass being extra da httpstco6y6uzbwbsr',\n",
              " 'the leader of the band is tiredamphis eyes are growing old',\n",
              " 'whitneyhess reminds me of your quotemotional responsequot point deleting mails in gmail and why i turn off face recognition in iphoto 09',\n",
              " 'janniestwbox but the dip keeps following me neh gaat alweer stuk beter gelukkig just one of those days',\n",
              " 'elliottcable i prefer poopdiary meself',\n",
              " 'cheated on my gf drunk and now i wanna kill myself didnt know what i was doing was shitfaced drunk an d now i am all alone with no gf and my friends hate me for cheating i dont want to feel pain anymore ',\n",
              " 'good morning tweeterville looking forward to your tweets today make it an awesome day',\n",
              " 'everything your lover does for you is for her survival everything your mother does for you is for your survival',\n",
              " 'after failing once this is how i feel i wish that suicide was funded by the government i wish guns for suicide would be like condoms given to teens so if they are going to do it they do it right i wish euthansia was legal i wish that i wouldnt have to fear buying poison or a gun off the black market because if i get caught my life would get worse ',\n",
              " 'richardbell nah i think going sideways is best really helps when dodging bullets',\n",
              " 'sorinna billie holiday  i love this one taint nobodys business if i do',\n",
              " 'home had uni today got results back hd yehhh its been 3 yrs why am i always thinking of the wat ifs',\n",
              " 'health anxiety prompting some bad thoughts in my head i have been struggling for 2 months now with some health issues as a 26 year old male my pessimistic nature just makes me think about the worst my hands and feet are currently tingling and burning i just keep picturing myself on a wheelchair being a burden to my family girlfriend and so on suicide thoughts come to my mind as i prefer to put a sudden end to everything instead of deteriorating myself day after day losing motor and cognitive functions life is already hard as it is and now my health is failing for the first time ',\n",
              " 'my is school comtuper chat makeing',\n",
              " 'rt anjellycaa im at the point of the semester where im so tired of everything i just want to roll over and die',\n",
              " 'stuck every time i try and kill myself i cant go through with it but i cant keep living feeling this way why cant i just let myself die',\n",
              " 'so i blew hella money at joanns  damn it i hate that i do this to myself but i love to make shit',\n",
              " 'destanigroup thanks for the link to fastpitch',\n",
              " 'i need a job that revolves around promoting  mental health but i think its so grimy to make money off of that  httpstcoh9qstvzxxf',\n",
              " 'peoplemapsjulie i am looking for the berocca then all will be well',\n",
              " 'mmm oj scrambled eggs w cheese and toast gilmoregirls too ahhh this day is amazing now if i could only get the dryer to work',\n",
              " 'zergmoney tweet dreams',\n",
              " 'maybe i think i deserve to die',\n",
              " 'rccgd im leaving the laptop at home ill put up with tweetie i can get dms on gmail new friends can always send me their email addy',\n",
              " 'thefutureheads  congratulations dave enjoy the little un xxx',\n",
              " 'xxandip uh oh i take it someone cant spell your name im a katie and hate it when people put katy x',\n",
              " 'theschwasound feraljokes bethlynch2020 fuck somebody come kill me please',\n",
              " 'rt welovedara cap joross gamboa greets her a happy birthday in her ig live  httpstcoshwhejb0vr',\n",
              " 'erikabele the one we were looking out for',\n",
              " 'starting my day out with a positive attitude to be great watch greatness',\n",
              " 'living as a hardcore empath is so hard im tired of being nice and putting emotional labor into those who are undeserving',\n",
              " 'being a single mommy was never part of the plan but i wake up everyday and do my shit',\n",
              " 'new iphone is completely updated sun shining in derry  tis a pretty day',\n",
              " 'eating as usualcant wait for pogo thursday night whoop',\n",
              " 'hei knew that even if i reached my dream it could not be everything i love you i was sick that we could get tir httpstcovg9o3u1jzh',\n",
              " 'generic shit whats the fucking point of life if you are literally incapable of achieving happiness like fuck dude i am drunk and i feel even shittier than sober i give myself one week and if i still feel like complete fucking shit like i have been for the past few years thats it i m done',\n",
              " 'wahmbizbuilder absolutely are you due in melb any time soon',\n",
              " 'theshortestfuse that is so coolgood to hearthanks for sharing',\n",
              " 'philipmccluskey i gotcha this is my fridge httptinyurlcomdxvmx7 not sure its photographed well though arg',\n",
              " 'at least its not raining today',\n",
              " 'rt babitabandhu mlekhioffice world got the right path celebrating matri pitri pujan diwas started by bapuji serviceforhumanity',\n",
              " 'familychoice if you have any questions feel free to email us at salesjshopcouk or send a dm on twitter',\n",
              " 'ingermaaike aww thank you',\n",
              " 'alexcraven yeah i saw im tempted to get into it but think ill wait till the dvd set is out i like to be able to gorge myself on it',\n",
              " 'i am so tired of everything i just want to die',\n",
              " 'rt bigdaddyjwwr congratulations on your wwe championship win danielbryan and the heel turn but youre going to need more than luck for',\n",
              " 'im a fucking lunatic when i get angry its so terrible i need to work on this so bad before i end up doing somethi httpstco13fueppvue',\n",
              " 'this is painful and just the thought of losing another young person to suicide makes it extremely hard to see a fam httpstco45ilnijt6h',\n",
              " 'tmotsenbocker theacademic judahandthelion take it all back was so fun httpstcoiewkzkosb8',\n",
              " 'casual tuesday again for train bfhe sat next to me today this has to mean im going to have a good day',\n",
              " 'agpublic have you seen this link me thinks you might like it httpbitlymr2jy',\n",
              " 'loves the weather and goes on a bike tour with her doggy now',\n",
              " 'now scribes cant wear their shoes to any press conference thanks to jarnail singh',\n",
              " 'i know i cant get all the things i want in life but when does it get to feel like at least fixing my mouth to say httpstcotegoryjzwq',\n",
              " 'appreciate and be grateful for every given moment and live your life with love  joy enjoylife enjoyfriends httpstco1qwj7jtq8n',\n",
              " 'i hate my parents so much i want to kill myself to spite them especially my dad i almost do not want to have children because i do not want my dad to become a grandfather just like how he didnt want me to have a girlfriend or friends growing up i dont think i would even goto his funeral if he died i hate you from the bottom of my heart you only had me in order to chain down my mom you hated and ignored yelled at me since i was a little boy and now i hate you forever this hatred is killing me ',\n",
              " 'joniconix ah you refer to the tabloid not letters i see in that case i must add an additional rephrasing quoti dontquot',\n",
              " 'rt no1bihet one day ill kill myself and my suicide note will just be some shit like my arms are kinda chubby bye',\n",
              " 'had a juice box this morning you never know the joy a juice box can bring until you have one later on in life',\n",
              " 'thank god for bre slept in and he took ava to daycare',\n",
              " 'sbux is exclusively playing rostam and beck i am loving it',\n",
              " 'codeine ativan sleep meds alcohol tell me why i shouldnt i am hopeless i m ready to give up',\n",
              " 'cant believe i lost my damn car keys smh mind you the damn house key is on there  this is the 2nd time my drunk a httpstcoeaz8urlp7o',\n",
              " 'fudgegraphics hope you had a fun time mate',\n",
              " 'looking for help on testing prawn pdfs with cucumber all i can find is prawn and cucumber salad recipes httptinyurlcomcnnn6z',\n",
              " 'bookthingo i want to read p d jamess the children of men though  interesting premise yay for futuristics',\n",
              " 'candyguy53tillsonburg ontarioamvetsupport ok',\n",
              " 'all right so thats 200 for slytherin 590 for hufflepuff and 520 for ravenclaw sadly ill have to cut these sprin httpstcojjn5aezatu',\n",
              " 'boddingtons see ya anastasia have a marvellous day',\n",
              " 'inspireinspire aw i am so jealous  please take me with you',\n",
              " 'rt andreamvaldez trumpy bear isnt your average memebred merch gone viral it appeals to everyone and no one it httpstcoyhs4ipnqtj',\n",
              " 'i am going to kill myself right now i am sorry you are feeling so desperate',\n",
              " 'please forgive me i tried to get help i dont know what else to say i am tired of being a burden on everyone else i am tired of everyone writing me off i cant help who i am and i have tried to get help i have a plan and in a few weeks i will no longer be a part of this world',\n",
              " 'i think it was my lack of saying anything at all that was pretty stupid when i met harry i was acting all cool and httpstcolpdqwgei8j',\n",
              " 'caugh caugh i am  darth batman httphexiokkf most brilliant crossover ever',\n",
              " 'mikeyway cute',\n",
              " 'has just joined twitter',\n",
              " 'ericboehlert nothing to live for why because you have been nasty',\n",
              " 'aahhh i need sleep but cloverfield at 3am was worth it',\n",
              " 'auntiecelene i think im going to try making those newspaper thingies this year got a lot of herbs to grow',\n",
              " 'ill ride for my dawgs any day but at the end of the day i already know where the streets can take you amp i what hap httpstcopqys3uwhkj',\n",
              " 'dafunk welcome bro',\n",
              " 'im tired and sick of everything i wanna die  httpstcow04rqcbvnv',\n",
              " 'boddingtons baby id try anything for the first time wi you',\n",
              " 'today i almost kill myself because i almost hit by a bus thank allah',\n",
              " 'omg serious why not it was shit im getting thursday off tho wat do you want to do i got a reply yeow',\n",
              " 'almost broke down at class just because the most negative thoughts are kicking in and im mf tired of living hahahahahahahah',\n",
              " 'anitaharrell19 peterparros i agree with everything except benny im tired of him his character is boring and needs to die ijs ',\n",
              " 'new hip album today mine arrives in vinyl next week',\n",
              " 'rt capcomfighters congratulations again to tokidoki77 for taking the asia regional finals title thanks to yoshionochin for giving out',\n",
              " 'kellyhopper372florida usahttpstco5tsioklint waiting for the end please chester let me come with you up in heaven i dont want to fight this anymore nobody cares here so why bother',\n",
              " 'nerer0cket dont worry well make the most out of it',\n",
              " 'sonjanorwood i see you are a fast learner lol you went to no messages to a few pages full in just one night go head ms sonya',\n",
              " 'just bought 2 new reads  the ten commandments for business failure and more softies 22 new friends for you to sew and crochet',\n",
              " 'lisaindallas its not nerd lisa its retard remember special olympics i dont speak austrian that guy is breathtaking',\n",
              " 'limrobmichael wala akong specific problem actually im just so drained and tired of everything i just wanna die hahahaha',\n",
              " 'ddlovato good morning',\n",
              " 'sokeri thanks for the help i have realized that now i need you to make it work',\n",
              " 'farbelowaverag1and i just dont want to fucking be here anymore please someone just fucking end me because i know itll be worse for everyone if i do it myself and fuck do i want to but please please someone just kill me please',\n",
              " 'always fucking stressing and its not good day by day i just feel like im going to fucking lose it and do it you wouldnt care tho because im worthless to you',\n",
              " 'trying out spaz for twitter posts love my destroytwitter but its easier to read spaz',\n",
              " 'i just want to sleep so much has gone wrong in these 20 years and its still getting worse i can not change most of what is going on around me but it will invariably affect me i dont want to give it the chance so if i go and sleep and dont wake up i wont have to deal with it',\n",
              " 'jonathanrknight thank you for inspiring people to check out a great cause that they might not have otherwise known was out there',\n",
              " 'im fucking tired of peoples tweet today omg stop treating romance like it revolves around everything you wont d httpstconnvle2ehr5',\n",
              " 'rt shxxyellowbin oh my heart hurts so good i love you babe so bad ikonshxxbi httpstcoah5aobf60j',\n",
              " 'work two jobs in school gotta car my own apartment a boo  lifes going good for me right now and im only 19',\n",
              " 'joyreaper wolfenspride breitbartnews no doubt the obama fostered hate division chaos and anarchy they are th httpstcox5ch7odiz9',\n",
              " 'is on the go',\n",
              " 'jdickerson wwwyoutubecomtitomi15watch the videoscommentampsuscribe amp follow me  cheers x',\n",
              " 'just wanna fucking sleep and never wake up ever again ',\n",
              " 'sannymoorbyis it horrible of me that i want to commit suicide that i dont want to be here anymore',\n",
              " 'is working on her listography httpplurkcompn233g',\n",
              " 'laurene planning to do that too while in transit anyway',\n",
              " 'rt yoonkittys happy birthday to my ride or die i hope you have the best 21st birthday ever i love you so much hope you love this it wa',\n",
              " 'overwhelmed and enjoy it',\n",
              " 'i hate my life lmao i hope i die soon or sumn im too tired of everything',\n",
              " 'im attempting to make hot cross buns with bella amp ari',\n",
              " 'rt enews congratulations to bts for winning music group of 2018 at the pcas httpstcoh278vwywmt',\n",
              " 'rt jmattjmattjmatt when youre trying to go out for pregame and you hear ay come take this pic with your family oh well happy',\n",
              " 'i need to put myself to rest i ve crashed my motorcycle today i don t know how but i m mostly fine it was the most beautiful moment of my life i know it s sick to think that but it felt good to see people approach me to help me after the crash the feeling of my body being dragged by my bike for several meters on the ground looking at the sky while this one song played in my earphonesi ve just felt emptiness for the past yearsi don t want this second chance i want to get on my broken bike bring it up to speed one last time and then just end it all i just don t want to drown anymore please',\n",
              " 'an easter egg without the calories httpwwwetsycomviewlistingphplistingid23359320',\n",
              " 'damn i forgot that spyro has a midnight release and i literally drove past gamestop i hate myself',\n",
              " 'time for some warsaw beer garden chilling',\n",
              " 'im so fucking tired of depression i woke up feeling productive today now i dont want to do anything i feel shit httpstcohdyyyzoq6x',\n",
              " 'helicon that is optin dm invites',\n",
              " 'eating kebab in the sun sounds like a bad song title ha that one too',\n",
              " 'me i want to die and be dead',\n",
              " 'avalanchelynn hello gmrng wuzup hows twitterville while i was sleeping evrythings cool',\n",
              " 'just had lovely cuddle with tali virgo',\n",
              " 'derrenlitten what is the software on the middle screen i have used adobe premiere and sony vegas for amateur video making',\n",
              " 'these thoughts about killing myself her getting louder',\n",
              " 'redrobinrockn yesbut today daddy has them im out for the day to work',\n",
              " '889grapevine looking forward to the new website',\n",
              " 'aylush firstly thank you secondly is the kite runner historically off',\n",
              " 'had a nice lunch time for some work now',\n",
              " 'betchbellezart jaemverse i just dont want to be here anymore',\n",
              " 'meerajane i luv your blog too fashion is lt3',\n",
              " 'i sexually harassed my crush i feel like there is no place for me in the world for a long time now about half a year i have been touching my crush who is not interested in me without consent i work alongside him and we are both part of a very tight group of friends so he has to see me every day and every single time i try to touch him stare at him and sometimes even take pictures of him only recently i have realized the implications of what i have done and that i am hurting him i feel like i betrayed him and myself for doing something that is completely against all my values i want to change and i know i can but i amafraid i will lose the will to live if i cant get myself to stop touching him ',\n",
              " 'but i know you want to hear about my examinations',\n",
              " 'rt tigrissafaris the indian roller a bird considered auspicious in india incredibleindia tigrissafaris photooftheday wildlifephoto',\n",
              " 'bom dia twitters',\n",
              " 'sis dont my life isnt how you  think it is my life is a miserable',\n",
              " 'females will be fucked up in the head and blame a nigga for them being fucked upyall gotta take accountability httpstco7jiy10zpeg',\n",
              " 'happy birthday',\n",
              " 'make sure you email me to enter this months giveaway  makeup from pink quartz minerals',\n",
              " 'jonathanrknight aww thats really sweet of you i hope you will come back to the uk would be great to see you again xxx',\n",
              " 'olimould lewis',\n",
              " 'i cant take this anymore might as well end this sorry as life',\n",
              " 'rt virendersehwag congratulations india on beating pakistan 31 in asiacup2017 indvpak  thank you for the advance diwali gift thehock',\n",
              " 'hellomonettebuk  cdoi dont want to be here anymore',\n",
              " 'imjustcreative bless ya fella',\n",
              " 'jaimiefanatic about time that mc flipside mix came out its sooooooooooooo goooooooooood',\n",
              " 'good morning all',\n",
              " 'monicalewinsky vanityfair who cares it happened and it is in the past you have nothing to apologize for hillar httpstco7hcvouancm',\n",
              " 'shtbritttsays que screamo voice so cut my wrist and black my eyes',\n",
              " 'do everything with a good heart and expect nothing in return and you will never be disappointed',\n",
              " 'rt narendramodi delighted to join the centenary celebrations of patna university sharing my speech during the programme today',\n",
              " 'its going to be a beautiful dayi am going to have a new granddaughter',\n",
              " 'timnebergall judgmentcash alexgoodall thanks for the rts paul',\n",
              " 'i want to kill myself but i am afraid to die i have been dealing with this pain for about 3 years i have seen many therapists and have tried medication nothing has worked i told my parents tonight that i wanted to commit suicide and it has caused nothing but chaos in my house i have been looking online for ways to die and have figured that drinking and taking medication is the way to go for me i have already been drinking but have been hesitant to take medication because i am scared to die i do not believe in god i do not know what comes after death i am scared of pain and afraid that it will hurt and i will not succeed',\n",
              " 'happy birthdaaaaayyy bebe noveloraineee godbless youuu',\n",
              " 'i wanna kill myself like not literally but mentally and emotionally',\n",
              " 'i want to be a painter',\n",
              " 'earom voted for entry 9  ellisdabomb 4  that was incrediblemight have to play some fifa now',\n",
              " 'rt tomorrowithryu and i hate the fact if its true dojae will do surgery dojae has to endure the pain alone  without segye  altou',\n",
              " 'sassy1invegas np lol hhmm will danny and jordan join in danny maybe jordan me hopes not',\n",
              " 'rt postroz in af1 call theresa may tried to flatter trump with congratulations for gop wins in the midterms he responded by berating th',\n",
              " 'iwrotethis nope you just caught me cheers im sure i will hope the sunshine holds out for you',\n",
              " 'miamiadc  good morning',\n",
              " 'wait i take this back i fucking hate living in markham and i want to actually kill myself damn',\n",
              " 'tonights the last time ill sport this millajovovichesque hair httptinyurlcom6yabk6  will finally have a straight do tomorrow',\n",
              " 'i think my moment is coming it seems that the pieces of my life are already set it seems that fate so wants my mom will leave the house for a while for her work seems to be my opportunity to be free nobody cares if i die every day i get up and i think about suicide and how to carry it out i wish i had a gun i think i will find a way to do it ive already lost everything i can not enjoy my music like before the girl i like is in love with someone else i have no friends and i never had a girlfriend that disgust of life maybe is better leave this place ',\n",
              " 'mikeyway httptwitpiccom2tu6p  take care guys',\n",
              " 'dmitricain ok thanks i am not getting off twitter just yet',\n",
              " 'httptwitpiccom2ydri  im so loving my great workspace',\n",
              " 'sowathearrogant well he was partially right i do want him to get sick and die and i would dance on his grave may httpstco5azporjuos',\n",
              " 'petesanderson a little of what you fancy does you good i am told',\n",
              " 'you hear this daveoshry together we could start some sort of terrible business that pays nothing and sucks our wi httpstco0cd2ttveag',\n",
              " 'going to school and enjoying my last day as a 16 year old but too',\n",
              " 'rt shaunking i am supporting repbarbaralee for this',\n",
              " 'im at the point of the semester where im so tired of everything i just want to roll over and die',\n",
              " 'i am so tired i just want to sleep but i m afraid of what i might dream of i guess its just my own fault i guess that all of my problems are my own fault ive heard thats supposed to make me feel better because it means i can work to get better and change things it only makes me feel worse because i know i wont people wont care if i die i ve asked some at least then i could rest i wouldnt be tired i wouldnt be',\n",
              " 'earsn my baby is tired now',\n",
              " 'we wouldnt want them to think we were doing anything immoral',\n",
              " 'abdul is tired now',\n",
              " 'trying to figure out how this works',\n",
              " 'liter spent so much money tonight and literally one of the worst nights in a looo g time literally about to straigh httpstcoxegk1zt0xs',\n",
              " 'when i was in middle school i wanted to be emo dont judge',\n",
              " 'i wanna fucking die im so tired of feeling pain constantly god i need to be left alone and cry and wallow in my misery until i feel better',\n",
              " 'mileycyrus yess i do  and im in boston for a college fair and not school hahaa',\n",
              " 'im home from school yay wasnt that bad actually and i had a nice dinner with graceeeeee',\n",
              " 'doublea2thahalo dunno what u just said but i like it',\n",
              " 'hootsuite monetizing twitter  shurely shum mishtake httpowly2g0y',\n",
              " 'my whole family is so damn beautiful and im the start of the ugly generation of it and i just hate myself so much i cant even express it',\n",
              " 'snigdha are you expecting',\n",
              " 'balsamicth i couldnt hit you up i hate it when this happens i hate myself when i do it yet i do it constantly httpstcowzwsi1okcm',\n",
              " 'rt akiresaur learn the art of being alone and being happy at the same time',\n",
              " 'rt amnotjake im so fucking tired of living im not smart im not athletic im not attractive im not talented i just have this fucking t',\n",
              " 'sixers got the best team in the east warriors vs sixers in the chip',\n",
              " 'luvmandy384 i am now by  um 2 woooo',\n",
              " 'me oh my god i want to fuckin die i hate myself im so lonely',\n",
              " 'oh yeah i forgot what colour dress should i get for the ball the theme is quotlas vegasquot  please reply',\n",
              " 'seerysm im always cheerful when its sunny at atl means ill get the heck away on time',\n",
              " 'rt nonwhitehat naming laws after dead children is a cynical ploy if you dont support this law you must want more kids to die just li',\n",
              " 'lucyinglis i had to unexpectedly put down one of my rabbits last week and it hurts like hell its bad enough when httpstcotxokqthts4',\n",
              " 'rt goghsreddevils boscodumpling coachlanter cam3ronmb gtownfootball1 congratulations to coach lanter for winning his first career ga',\n",
              " 'me when i finally die after saying i want to die every single day httpstcozxwoeexbqz',\n",
              " 'dink9966 losing those 2 guys is huge but you gotta deal with it time to call up weber for the pp amp price to take some nyquil habs',\n",
              " 'ijamidayu thanks bro baru dpt login wc td lps reset password balik',\n",
              " 'y do i overthink everything in my life and then make myself believe these things i just end up disappointed or stressed ugh',\n",
              " 'rapiertwit people say they feel expressionistic  ive never heard them say pointalistic',\n",
              " 'stbalkcom do u know ur joe is on here now',\n",
              " 'vampqueen of course',\n",
              " 'ive lost a lot of interest in nascar and dont think i will tweet from here much anymore if you still want to be friends or something you can follow my less popular twitter page gutcheez we can be friends there',\n",
              " 'tayjasper alrite thanxx',\n",
              " 'fampk the weather im in paris lets go have a beautiful day',\n",
              " 'httptrimimng just made a new fluid icon for use with amiestreet',\n",
              " 'rt amyadamsnose please somebody come fucking kill me im so in love httpstcoe13ilxl9xj',\n",
              " 'i want you to sense my magic without touch',\n",
              " 'gcoakley132nd is i dont want to be here anymore by em too',\n",
              " 'vkwheels i love the fact that i said it like chandler in my head as i read it and then kept reading n saw u say quotjust like chandlerquot',\n",
              " 'arabsodmg wwwyoutubecomtitomi15watch the videoscommentampsuscribe amp follow me  cheers x',\n",
              " 'sigh i hate this i hardly get time to myself and have fun anymore with me have to go to sleep early and waking up httpstcousjjtgfjer',\n",
              " 'paulhuse ouch',\n",
              " 'corningfutures yo i live in jacksonville lets do lunch',\n",
              " 'anyway if you cant accept that ive moved on from you sickos go fuck yourself ill just keep avoiding your sorry asses',\n",
              " 'enjoyed the ndubz gig last night  and it finished early which is always a bonus',\n",
              " 'eating an eds waffle with icecream cream n chocolate sauce omgosh amazing',\n",
              " 'i am so sick and tired of being blamed for everything that i am actually waiting for the day i die',\n",
              " 'is excited for two more sleeps any she doesnt have to wear the stupid goggles to bed anymore',\n",
              " 'laurenbullokmanchester englandrt jaemverse i just dont want to be here anymore',\n",
              " 'rt memorymess pain its just like fire amp memories are the alcohol that increases its flare have you ever felt the crack of your broken',\n",
              " 'i dont know anymore these 4 words make my life a living hell no matter who i say it to in the sudden absence of happiness i know only sadness i have nothing to look forward to because i have fucked my chances up at even having something decent no job no girlfriend and absolutely nothing to motivate me at this point i dont even know why i am still alive it pains me that i am alive',\n",
              " 'i want to be a businessman',\n",
              " 'ptsd and alcohol i had some extremely horrible violent stuff happen to me a few years ago i was 21 nowi am26 i forgot about repressed it or whatever for several years something unrelated one day made me remember everything it all came flooding back into my mind and it was like i was reliving it all and felt like i was having a never ending panic attack for about 4 days this buried trauma explained a lot about why my alcohol pornography cigarette usages were all insanely high to the point they fucked up my life and relationships with people close to me in signifigant waysi amafraid to talk about what happened to anyone even people i trust like my family or a potential therapist due to extreme irrational paranoia about the people involved finding out and hurting me again and sometimesi amjust completely consumed by negative horrible thoughts and cant escape them i tried getting a sliding scale therapist a couple years ago and even t and gave up on the idea of therapy i dont know what to do i dont want to give up ',\n",
              " 'httptwitpiccom2ydkg  time to bust out the green wing',\n",
              " 'my workplace gets so much better when good weather strikes httptinyurlcomcp7n6w',\n",
              " 'i think its tonight because i dont care and i have nothing left i dont care i had something so great so promising and they stripped it down past the bone into splinters then pissed on the splinters i dont want happiness i dont want dreams i dont care that if i post a note everyone will desperately try to stop me i know they ll care when i am about to die or dead i am numb i am no longer scared and the hurt is too much i gotta go i have nothing left i had a lot of love to give but its gone with me i just wanted someone to hear me before the end ',\n",
              " 'tired of living like this',\n",
              " 'bat ko kinakaawaan sarili ko at iniisip na yung iba naiisip din ako damn hate myself its just me ',\n",
              " 'busy times at elstree studios new arrivals include murderland secret diary of a call girl  reuniting the rubins  huge  sainsburys',\n",
              " 'jasongaunt yeah lots of potential i think theyve been working on their own iphone app for months now how are you mate been a while',\n",
              " 'rt niallofficial 2 wins in 2 weeks  congratulations tyrrellhatton  machine',\n",
              " 'i will probably kill myself before 2018 i have always been depressed as long as i can remember summers are better but school always makes it much worse i probably would have tried to kill myself last may if i had a car now i do last may was the worst its ever been i transferred to an early college program soi amtaking classes at the cc instead of my shitass high school ive only been in school for two weeks and its progressing way faster than normal idk why i want to die nothing traumatic has happened to me but i do i hate myself so much i will probably co myself if this doesnt get better soon',\n",
              " 'tommcfly i wouldnt say quotthe best books ever writtenquot but they are quite close though i was a bit disappointed about the 7th',\n",
              " 'i hate being by myself bc everything a damn music video',\n",
              " 'likeaword i love it so exciting to see new growth everywhere insects making most of first pollen bustling in hedges birdsong',\n",
              " 'mattstevensloop thanks matt im glad you like it  no algorithmic music gigs planned so far though',\n",
              " 'taylorchoi congrats ill def go and support the tc media takeover',\n",
              " 'schnes marketingwort stimulus package httpwwwdknycomsweepstakessweepstakesphp',\n",
              " 'my life is way too good for me to feel so angry and miserable all the time',\n",
              " 'thatgroyper really tired of everything its all just so lame and gay nothing serious us ever going to happen an httpstcoswsugxe6ua',\n",
              " 'madhoward im almost caught up on himym i watched 34 episodes with calamus last night ssssoooo good',\n",
              " ' sitting in the studio talking to danniee beee who is ignoring me as he is adding friends to his facebookthat is until he reads this',\n",
              " 'i be asking god why do i keep loosing people in my life but i see why everyday you cant move ahead in life',\n",
              " 'monster344 how great is that',\n",
              " 'aprilmcvey whyy dont you update somemore mom have a blessed day',\n",
              " 'i hate when i have to rate my group members because ill always rate them higher than id rate myself knowing damn httpstcobfuvc55dtt',\n",
              " 'kdwow sorry i keep missing u kd u dont need to apoligise  for nothing we all have bad days an what u are dealing httpstcoaaksxzhzot',\n",
              " 'lejeff oh pants im hanging out with the old folks back in england defo b up 4 1 when i get back tho',\n",
              " 'secondcitystyle lol i thought this was a post about buying good cheap wines',\n",
              " 'hate the fact that im damn near forced to figure everything out by myself but it must be done',\n",
              " 'damn this is hardcore i hate myself for preheating so many ovens against clear ap style httpstcouwn48qf0nt',\n",
              " 'shannonrenee',\n",
              " 'i dont wanna fucking be here anymore',\n",
              " 'tinacook morning tina  the fact is well do something with it wouldnt it be great if it was something big',\n",
              " 'our plans are coming together nicely i am very happy indeed today',\n",
              " 'i m not safe with myself i have been suicidal for a while now i have made 4 attempts this year and yet nobody seems to get it i honestly cant say if i am going to kill myself today i keep breaking down crying and i dont know why i hate myself ',\n",
              " 'rt dra001 buying your girl weaves is love language on its own ',\n",
              " 'rt ghoulrunnings ive said it before and ill say it againwaluigi suckshe sounds and looks funny and thats ittheres nothing else t',\n",
              " 'silversun you make the milk look really good in your pictures',\n",
              " 'joemcintyre welcome tweetlt3 lets get this',\n",
              " 'mega monster munch',\n",
              " 'done with the stress',\n",
              " 'whoever replied i cant see it but just kno i said what i said and go see aquaman directed by james wan on dec 21 httpstcog1lmtpk12l',\n",
              " 'slydevil damn right kinda hate myself for not having the system to lay it on being poor sucks',\n",
              " 'mrszee go you',\n",
              " 'my work schedule for next week makes me want to die im not ready',\n",
              " 'rt mercurymalek i fucking beg you just leave me here to die i deserve it httpstcokfbttqboue',\n",
              " '',\n",
              " 'belledame222 hey its 5 amgive a girl some credit for trying',\n",
              " 'going to the toilet cause i have to take a leak for over an hour now',\n",
              " 'boomboxbindery all i have to say about studio setup is that id die without my flat files designed my whole studio around them',\n",
              " 'a blunt and honest girl who just wants to take care of her family and a passionate boy perusing his dreams of being httpstcowf7qzchbhb',\n",
              " 'madysongreggcastroville txrt jaemverse i just dont want to be here anymore',\n",
              " 'the jobs front doesnt look so bleak today ',\n",
              " 'shmerkle i went with csi as my episode 3 of dollhouse needed redownloading once thats done i can watch that then the rest',\n",
              " 'wants to be stimulated already',\n",
              " 'i dont feel right i used to have goals and things that i looked forward to but every day that passes i feel worse and worse and i just want it to end already',\n",
              " 'sometimes youll never know how bad you fucked up until one day you wake up with nothing',\n",
              " 'i hate myself so much i want to kill myself how are yall ',\n",
              " 'eleahbaant i sure will',\n",
              " 'im tired of struggling im tired of asking for help and mostly im just tired of life its not worth living anymore',\n",
              " 'carolw misery loves company',\n",
              " 'meedee64 coooeee hows your day been',\n",
              " 'and i hate the fact if its true dojae will do surgery dojae has to endure the pain alone  without segye  a httpstcob4hm6mjqre',\n",
              " 'hodakotb celebrate my bday on klgs anniversary bday shout out cant wait to watch',\n",
              " 'celebrating a minor banking triumph thats banking with a b got one to admit it was wrong',\n",
              " 'visualmadness hehe thanks',\n",
              " 'rt sal929 wyattearpla im actually tired of this its like living in a home where the troubled deceitful child always wins its not',\n",
              " 'death scares tf out of me and i am not ready to die',\n",
              " 'pixieguts really why call superman he can save you we need ya',\n",
              " 'vanessawhite haha get all your stress out x',\n",
              " 'when my bottle pop shake me',\n",
              " 'really good and helpful about the various crisis in the dc universe  i have read them all httpcrisis2crisiscom',\n",
              " 'jaredleto hey ho jared im vegan toohope youre all right',\n",
              " 'freekaavan another year has passed and i am still alone sad and suffering will i ever live with dignity or will httpstco0owffnamqb',\n",
              " 'xdcd what are you saying about yourself',\n",
              " 'rt deepeexo its all fun amp games until youre throwing up hotcheetos httpstcowfnqhu3vaa',\n",
              " 'malhere hope u have a good ride if the weather is decent if only the weather was like that where i live',\n",
              " 'goooooood morning twitterworld',\n",
              " 'bensummers isnt that sweet of them altruism at its finest',\n",
              " 'fuckenjew too shy for that plus he already stole my brain in my sleep',\n",
              " 'rt lsubonnette had a feeling it was going to be a great day got to meet john stockton before the game',\n",
              " 'vacancy starring kate beckinsale and luke wilson gonna watch it fariah lynnnnnn rocks ',\n",
              " 'shaileemody thats a killing smile i m flattered',\n",
              " 'paxton fans keep up the good work  this young lady is really talented',\n",
              " 'fast amp furious new model original parts a really good film',\n",
              " '',\n",
              " 'damn i hate myself evopvpserver',\n",
              " 'escribitionist i didnt want to eat others foodd dun make me sound so bad lah i just have another crave for foodthats all',\n",
              " 'good morninggood morninggood moooooorning',\n",
              " 'thekingscosmosmy sister ruined the night before it even started i dont even want to be here anymore',\n",
              " 'pezholio interesting a digital engagement peep good to know theyre engaging with people at the coal face',\n",
              " 'my uni is playing potc outside and free hotx buns i feel lovvvved',\n",
              " 'lindseylobo how did you know i love it',\n",
              " 'he is not tired',\n",
              " 'jennw thank you',\n",
              " 'harbars managed to fix broken moss in 2 min and save demo well done spbpuk',\n",
              " 'httptwitpiccom2yf0y  me and my boyfriend tom on my birthday night out',\n",
              " 'mbappe is not tired',\n",
              " 'tom chaplin marry me please i melt for you hahaha o and pearshapebodygirl stopped talking to me yes',\n",
              " 'success consists of going from failure to failure without loss of enthusiasm winston churchill quote persistence',\n",
              " 'rt hankrsmith breaking off a serious relationship and saying i still want to be close friends is like saying the dog is dead but i',\n",
              " 'sagebrennan uuuuuuuuggghhhhhh was that chinese or english',\n",
              " 'rt beebri97 quueennm girl i wanna look this good when im pregnant lol congratulations beautiful i hope its a girl so she can be like u',\n",
              " 'moeruitamixb2rp   mvrpyeah fuck it im logging out ill maybe make another account some other time and follow people i like but i really dont want to be here anymore i dont enjoy the verse waaay too toxic',\n",
              " 'rt uglythxughts im tired of everything that is going on in my  life',\n",
              " 'i want to be a businessman in futer',\n",
              " 'jylmomif lol today any woman who can handle 7 kids inspires me inspire',\n",
              " 'in tired of everything cant wait to die',\n",
              " 'nikidyer marcorubio you want every vote counted no matter if the voter is dead move to a different precinct ou httpstconc8pdoquvu',\n",
              " 'horrorshock666 oh the puns the bad bad puns i think ill quite like the new clear sounds though x',\n",
              " 'lifes so short man i couldnt stress enough how important it is for you to live your love with peace and good energy',\n",
              " 'marthastewart proof',\n",
              " 'stacyonbob i ate candy cigarettes but i didnt eat the wax once i drank the coke i did however eat the candy lips',\n",
              " 'willconley777 thanks for helping share the postrank love',\n",
              " 'i think it may be time for some really dirty songs from nickelback lol',\n",
              " 'tommcfly i went to starbucks earlier',\n",
              " 'cakeandcommerce it was one of hughs at eastern standard but its definitely one ill be planning on making myself in the future',\n",
              " 'styling hunting today in brick lane and west end later on today and i need to get a canon 50mm f18 lens at jacobs',\n",
              " 'saraayk5rt jaemverse i just dont want to be here anymore',\n",
              " 'samotage what was channel and time of prog politicians with no formal training bathe in simplexity a la cnutroy',\n",
              " 'fisbeed get back to work',\n",
              " 'i shouldnt want to kill myself i have so many advantages in life all of my immediate family is alive and still involved in my life i have several friends who i frequently talk to i make more than enough money to live on easily but every night i go home and drink hoping i will forget about how much i just want it all to end every single moment that i am sober i spend thinking that people might actually see me for who i really am a lazy waste of space who lucked into success and wheni amdrunk i worry that people will find out thati am trying to slowly kill myself with alcohol fuck i always thought if i could just be successful i would be happy well i am not',\n",
              " 'heading home today for easter break my parents dont think ill be home til thursday so what a surprise',\n",
              " 'working like crazy',\n",
              " 'accidentally her whole rib cagewell nearly half of it httptinyurlcomda72gp',\n",
              " 'not just because the house has never had a black woman in leadership but because',\n",
              " 'rt soieange my ultimate goal is to not end up like all the miserable people around me who settled in life and are perpetually bitter abou',\n",
              " 'she want to be a doctor',\n",
              " 'i will post this every single time it comes across and i will share how angry how upset how emotional i still am httpstcomqlqvvplvb',\n",
              " 'rukaarii just woken up very pleased he won was it a good match',\n",
              " 'i want her',\n",
              " 'maddierawrk sorry for your loss this post gave me goosebumps because although i havent thought of suicide your d httpstcovnpwhs2zqu',\n",
              " 'spiritscribbleri dont think i want to be on twitter anymore im not adding to anyones life here',\n",
              " 'ruby ruby ruby ruby just taken delivery of my new beginning ruby book whoop whoop  another languag httptinyurlcomcd29ar',\n",
              " 'damn i really do hate myself',\n",
              " 'survive but tired like shit whats the point of living',\n",
              " 'tired of living life with the fear of not being liked so for now on fuck it im really livin now people',\n",
              " 'she was tired',\n",
              " 'rabbitroodle and me too yay good morning',\n",
              " 'fred0828 yeah 16kg is around 40lbs glad you liked the interview i did with steve cotter quigong is sucha valuable part of any training',\n",
              " '29 and missed my chance at love death cant come for me fast enough 144 iq thats 9983th percentile i also have a ms and ba from top ten schools cant figure this out somehow i am too old to attract someone i am attracted to and i am behind where a ivy graduate should be 42k at 29 years old in a temp position its just not enough to make me worth something i am so tired of not being loved for who i am and envy the attention women get i dont think i will ever be wanted like that just not good enough',\n",
              " 'is loving the sun but is upset she cant make the picnic thurs',\n",
              " 'wait i take this back i fucking hate living in markham and i want to actually kill myself damn',\n",
              " 'edwinksl stanford summit 2008 short video httpwwwyoutubecomwatchvyaxcvijuxq  remebering magical funtasticroller coaster ride',\n",
              " 'spbpuk weve got a snorer in the it pro track really its quite interesting',\n",
              " 'pixiepan lol wwwtvcom is your friend',\n",
              " 'morning everyone',\n",
              " 'yerea679 not tired',\n",
              " 'fake news just went ballistic get ready                                 you thought fake news was bad deep fakes httpstcolnxcyfrktk',\n",
              " 'fancyelastic he he thanks',\n",
              " 'leela89 was that reply to me or yourself xd i wouldnt say you make many mistakes',\n",
              " 'abigailbrooke29with jake rt yxrxx i desperately and whole heartedly dont want to be here anymore',\n",
              " 'pviktor hmmmnot goodcarrot juice and marmalade on toast may help',\n",
              " 'something weird in that i couldnt stop thinking about him couldnt sleep then out of some old papers a card i di httpstcoeitpod1uat',\n",
              " 'i dont want them to come for my account literally the only thing keeping me through the miserable existence that httpstcoxjf6mp8fj7',\n",
              " 'this is correct i for one absolutely do not want to live in a country with these fucking chuds and i believe 25 httpstco968xex7emj',\n",
              " 'rt authorsweek congratulations seye seyeoke for being the latest author of the week authorsweek keep on creating keep on writing and',\n",
              " 'httpstco6mpqrunpex httpstco6mpqrunpex',\n",
              " 'brendonuriesays trohman hope you guys have a safe flight',\n",
              " 'andreascliment its a nice piece of software indeed',\n",
              " 'i got twitter 4 my ipod touch yaaaaaay',\n",
              " 'yea im tired of living by myself ',\n",
              " 'dunno why my phones done me so dirty and made videos of me and my exs cos of face recognition with the background httpstcox6kfbmgbp9',\n",
              " 'bobbybobbles snovvvhite live your best life',\n",
              " 'embedding a google calendar into a site is actually seriously easy',\n",
              " 'there was a young man who got tired of staying in this world they called this the living world but he does not fee httpstcoogrcqipo0z',\n",
              " 'hello people on facebook do you like the way im spamming all of your newsfeeds with twitter',\n",
              " 'acrobat77 select the tile option its a little square towards the bottom of the screen when youre changing the background',\n",
              " 'everything',\n",
              " 'fran6 thx',\n",
              " 'missgc  yeah ive seen his reply congrats dear you must be very happy',\n",
              " 'i want to play with it',\n",
              " 'i dont hate the player i hate the game jess glynne is probably an awesome person but i will kill myself or someon httpstcokikyggqyus',\n",
              " 'zephrode julouille3 comme je le dis si bien let me hate myself god fucking damn it',\n",
              " 'its only the 12th and i have completed 75 of my selling goal im happy ',\n",
              " 'me as a future therapist damn  it be like that sometimes',\n",
              " 'rosskie so far it has been all shopping more again today heehee what u up to',\n",
              " 'rivensky haha well i have more but i dont have to do anything but file the rest away or delete them',\n",
              " 'whenever i have dreams of my mom lately its as if shes still alive and that she never went away  but then again httpstcofgv1svuvko',\n",
              " 'lizzielib could be  mine grew out down my back and then all fell off',\n",
              " 'i just want to remind yall that without iris barry allen would be dead right now but shes useless right httpstcovloroturez',\n",
              " 'does anyone know where i can buy piano sheet music for the script because im reluctant to order it online if i can buy it in dublin',\n",
              " 'i want to be a engineer',\n",
              " 'right laters everyone i am off for my next bowen treatment will be gone a few hours have a good morning',\n",
              " 'its tuesdayat workstill riding the high from the workout last night it should be a good day',\n",
              " 'the orange tv iphone app is really disappointing low quality video streams and obviously nothing interesting on the tv',\n",
              " 'i dont care how frightening it will be i want to go ahead',\n",
              " 'kissability im actually listening to chopin in the dark right now',\n",
              " 'ya ill go on a complete social media strike till i change myself completely im about to unlearn all the fucked httpstcod2bapj9q6c',\n",
              " ...]"
            ]
          },
          "metadata": {},
          "execution_count": 55
        }
      ]
    },
    {
      "cell_type": "code",
      "source": [
        "train_text_seq = tokenizer.texts_to_sequences(cleaned_train_Tweet)\n",
        "train_text_pad = pad_sequences(train_text_seq, maxlen=50)\n",
        "\n",
        "test_text_seq = tokenizer.texts_to_sequences(cleaned_test_Tweet)\n",
        "test_text_pad = pad_sequences(test_text_seq, maxlen=50)"
      ],
      "metadata": {
        "id": "sC6gdHfQvocE"
      },
      "execution_count": null,
      "outputs": []
    },
    {
      "cell_type": "code",
      "source": [
        "train_text_pad"
      ],
      "metadata": {
        "colab": {
          "base_uri": "https://localhost:8080/"
        },
        "id": "hOQ8SpWcvL6R",
        "outputId": "c1928283-66c2-423f-e113-d16eec939296"
      },
      "execution_count": null,
      "outputs": [
        {
          "output_type": "execute_result",
          "data": {
            "text/plain": [
              "array([[   0,    0,    0, ...,    2,   91,   10],\n",
              "       [   0,    0,    0, ...,  340,   57, 1674],\n",
              "       [   0,    0,    0, ...,  617,   32,  537],\n",
              "       ...,\n",
              "       [  22,    9,    3, ...,   52,   27,  164],\n",
              "       [   0,    0,    0, ...,  341,   38,  340],\n",
              "       [   0,    0,    0, ...,    1,   40,   28]], dtype=int32)"
            ]
          },
          "metadata": {},
          "execution_count": 57
        }
      ]
    },
    {
      "cell_type": "code",
      "source": [
        "# GLOVE EMBEDDINGS"
      ],
      "metadata": {
        "id": "tW4t7wNBsor4"
      },
      "execution_count": null,
      "outputs": []
    },
    {
      "cell_type": "code",
      "source": [
        "lbl_target=LabelEncoder()\n",
        "train_output=lbl_target.fit_transform(train_data['Suicide'])\n",
        "test_output=lbl_target.transform(test_data['Suicide'])"
      ],
      "metadata": {
        "id": "SMdG0glFso1f"
      },
      "execution_count": null,
      "outputs": []
    },
    {
      "cell_type": "code",
      "source": [
        "from google.colab import drive\n",
        "drive.mount('/content/drive')"
      ],
      "metadata": {
        "colab": {
          "base_uri": "https://localhost:8080/"
        },
        "id": "_VI1B2mA3zZ4",
        "outputId": "71d1d4fe-67cc-42dd-dea1-00c795f7529b"
      },
      "execution_count": null,
      "outputs": [
        {
          "output_type": "stream",
          "name": "stdout",
          "text": [
            "Drive already mounted at /content/drive; to attempt to forcibly remount, call drive.mount(\"/content/drive\", force_remount=True).\n"
          ]
        }
      ]
    },
    {
      "cell_type": "code",
      "source": [
        "import pickle\n",
        "with open(r'/content/drive/My Drive/glove.840B.300d.pkl', 'rb') as fp:\n",
        "    glove_embedding = pickle.load(fp)\n"
      ],
      "metadata": {
        "id": "yTnrwV0bKNQp"
      },
      "execution_count": null,
      "outputs": []
    },
    {
      "cell_type": "code",
      "source": [
        "v=len(tokenizer.word_index)\n",
        "\n",
        "embedding_matrix=np.zeros((v+1,300), dtype=float)\n",
        "for word,idx in tokenizer.word_index.items():\n",
        "    embedding_vector=glove_embedding.get(word)\n",
        "    if embedding_vector is not None:\n",
        "        embedding_matrix[idx]=embedding_vector"
      ],
      "metadata": {
        "id": "ncP3GGoawgWI"
      },
      "execution_count": null,
      "outputs": []
    },
    {
      "cell_type": "code",
      "source": [
        "embedding_matrix"
      ],
      "metadata": {
        "id": "UATOCCJ9wgbN",
        "colab": {
          "base_uri": "https://localhost:8080/"
        },
        "outputId": "c076361c-91e3-4f3a-d0d3-f53b0c0affad"
      },
      "execution_count": null,
      "outputs": [
        {
          "output_type": "execute_result",
          "data": {
            "text/plain": [
              "array([[ 0.        ,  0.        ,  0.        , ...,  0.        ,\n",
              "         0.        ,  0.        ],\n",
              "       [ 0.18732999,  0.40595001, -0.51174003, ...,  0.16495   ,\n",
              "         0.18757001,  0.53873998],\n",
              "       [ 0.31924   ,  0.06316   , -0.27858001, ...,  0.082745  ,\n",
              "         0.097801  ,  0.25044999],\n",
              "       ...,\n",
              "       [-0.59500003, -0.012561  ,  0.14918999, ...,  0.44632   ,\n",
              "        -0.42645001,  0.50085998],\n",
              "       [ 0.22649001,  0.057262  , -0.38793999, ...,  0.10541   ,\n",
              "         0.17787001,  0.13725001],\n",
              "       [ 0.        ,  0.        ,  0.        , ...,  0.        ,\n",
              "         0.        ,  0.        ]])"
            ]
          },
          "metadata": {},
          "execution_count": 57
        }
      ]
    },
    {
      "cell_type": "code",
      "source": [
        "early_stop=EarlyStopping(patience=5)\n",
        "reducelr=ReduceLROnPlateau(patience=3)"
      ],
      "metadata": {
        "id": "XscQKX84yYE9"
      },
      "execution_count": null,
      "outputs": []
    },
    {
      "cell_type": "code",
      "source": [
        "# Keras Sequential Model Construction"
      ],
      "metadata": {
        "id": "8-YjZ8MqyYHj"
      },
      "execution_count": null,
      "outputs": []
    },
    {
      "cell_type": "code",
      "source": [
        "model=Sequential()\n",
        "model.add(Input(shape=(50,)))\n",
        "model.add(Embedding(v+1,300,weights=[embedding_matrix],trainable=False))\n",
        "model.add(LSTM(20,return_sequences=True))\n",
        "model.add(GlobalMaxPooling1D())\n",
        "model.add(Dense(256,activation='relu'))\n",
        "model.add(Dense(1,activation='sigmoid'))\n",
        "model.compile(optimizer=keras.optimizers.SGD(0.1,momentum=0.09),loss='binary_crossentropy',metrics=['accuracy'])"
      ],
      "metadata": {
        "id": "ReeuESNJyYKb"
      },
      "execution_count": null,
      "outputs": []
    },
    {
      "cell_type": "code",
      "source": [
        "model.summary()"
      ],
      "metadata": {
        "id": "RqzsE7ACyYNB",
        "colab": {
          "base_uri": "https://localhost:8080/"
        },
        "outputId": "0be9a7c3-10ce-4d39-f2ac-b062523d3fef"
      },
      "execution_count": null,
      "outputs": [
        {
          "output_type": "stream",
          "name": "stdout",
          "text": [
            "Model: \"sequential_8\"\n",
            "_________________________________________________________________\n",
            " Layer (type)                Output Shape              Param #   \n",
            "=================================================================\n",
            " embedding_8 (Embedding)     (None, 50, 300)           1628100   \n",
            "                                                                 \n",
            " lstm_3 (LSTM)               (None, 50, 20)            25680     \n",
            "                                                                 \n",
            " global_max_pooling1d_3 (Gl  (None, 20)                0         \n",
            " obalMaxPooling1D)                                               \n",
            "                                                                 \n",
            " dense_6 (Dense)             (None, 256)               5376      \n",
            "                                                                 \n",
            " dense_7 (Dense)             (None, 1)                 257       \n",
            "                                                                 \n",
            "=================================================================\n",
            "Total params: 1659413 (6.33 MB)\n",
            "Trainable params: 31313 (122.32 KB)\n",
            "Non-trainable params: 1628100 (6.21 MB)\n",
            "_________________________________________________________________\n"
          ]
        }
      ]
    },
    {
      "cell_type": "code",
      "source": [
        "# Model Training and Evaluation"
      ],
      "metadata": {
        "id": "aJII4XW9yYPo"
      },
      "execution_count": null,
      "outputs": []
    },
    {
      "cell_type": "code",
      "source": [
        "r=model.fit(train_text_pad,train_output,validation_data=(test_text_pad,test_output),\n",
        "            epochs=20,batch_size=256,callbacks=[early_stop,reducelr])"
      ],
      "metadata": {
        "id": "jmgrz-uByYSZ",
        "colab": {
          "base_uri": "https://localhost:8080/"
        },
        "outputId": "01af68d2-8738-44e7-fe41-8b3ead104919"
      },
      "execution_count": null,
      "outputs": [
        {
          "output_type": "stream",
          "name": "stdout",
          "text": [
            "Epoch 1/20\n",
            "6/6 [==============================] - 4s 241ms/step - loss: 0.6902 - accuracy: 0.5514 - val_loss: 0.6734 - val_accuracy: 0.6425 - lr: 0.1000\n",
            "Epoch 2/20\n",
            "6/6 [==============================] - 1s 158ms/step - loss: 0.6710 - accuracy: 0.6277 - val_loss: 0.6588 - val_accuracy: 0.6425 - lr: 0.1000\n",
            "Epoch 3/20\n",
            "6/6 [==============================] - 1s 142ms/step - loss: 0.6618 - accuracy: 0.6277 - val_loss: 0.6517 - val_accuracy: 0.6425 - lr: 0.1000\n",
            "Epoch 4/20\n",
            "6/6 [==============================] - 1s 135ms/step - loss: 0.6561 - accuracy: 0.6277 - val_loss: 0.6451 - val_accuracy: 0.6425 - lr: 0.1000\n",
            "Epoch 5/20\n",
            "6/6 [==============================] - 1s 151ms/step - loss: 0.6505 - accuracy: 0.6277 - val_loss: 0.6389 - val_accuracy: 0.6425 - lr: 0.1000\n",
            "Epoch 6/20\n",
            "6/6 [==============================] - 1s 220ms/step - loss: 0.6442 - accuracy: 0.6277 - val_loss: 0.6316 - val_accuracy: 0.6425 - lr: 0.1000\n",
            "Epoch 7/20\n",
            "6/6 [==============================] - 1s 121ms/step - loss: 0.6369 - accuracy: 0.6277 - val_loss: 0.6225 - val_accuracy: 0.6425 - lr: 0.1000\n",
            "Epoch 8/20\n",
            "6/6 [==============================] - 1s 90ms/step - loss: 0.6281 - accuracy: 0.6277 - val_loss: 0.6119 - val_accuracy: 0.6425 - lr: 0.1000\n",
            "Epoch 9/20\n",
            "6/6 [==============================] - 1s 87ms/step - loss: 0.6171 - accuracy: 0.6291 - val_loss: 0.5986 - val_accuracy: 0.6480 - lr: 0.1000\n",
            "Epoch 10/20\n",
            "6/6 [==============================] - 1s 89ms/step - loss: 0.6036 - accuracy: 0.6389 - val_loss: 0.5829 - val_accuracy: 0.6899 - lr: 0.1000\n",
            "Epoch 11/20\n",
            "6/6 [==============================] - 1s 92ms/step - loss: 0.5850 - accuracy: 0.6816 - val_loss: 0.5608 - val_accuracy: 0.6927 - lr: 0.1000\n",
            "Epoch 12/20\n",
            "6/6 [==============================] - 1s 89ms/step - loss: 0.5621 - accuracy: 0.7236 - val_loss: 0.5364 - val_accuracy: 0.8324 - lr: 0.1000\n",
            "Epoch 13/20\n",
            "6/6 [==============================] - 1s 86ms/step - loss: 0.5405 - accuracy: 0.7810 - val_loss: 0.5009 - val_accuracy: 0.8156 - lr: 0.1000\n",
            "Epoch 14/20\n",
            "6/6 [==============================] - 1s 91ms/step - loss: 0.5051 - accuracy: 0.8062 - val_loss: 0.5327 - val_accuracy: 0.7654 - lr: 0.1000\n",
            "Epoch 15/20\n",
            "6/6 [==============================] - 1s 87ms/step - loss: 0.5044 - accuracy: 0.7866 - val_loss: 0.4432 - val_accuracy: 0.8408 - lr: 0.1000\n",
            "Epoch 16/20\n",
            "6/6 [==============================] - 1s 90ms/step - loss: 0.4812 - accuracy: 0.7992 - val_loss: 0.4998 - val_accuracy: 0.7598 - lr: 0.1000\n",
            "Epoch 17/20\n",
            "6/6 [==============================] - 1s 87ms/step - loss: 0.4684 - accuracy: 0.7971 - val_loss: 0.4011 - val_accuracy: 0.8547 - lr: 0.1000\n",
            "Epoch 18/20\n",
            "6/6 [==============================] - 1s 88ms/step - loss: 0.4628 - accuracy: 0.7796 - val_loss: 0.4868 - val_accuracy: 0.7458 - lr: 0.1000\n",
            "Epoch 19/20\n",
            "6/6 [==============================] - 1s 85ms/step - loss: 0.4264 - accuracy: 0.8181 - val_loss: 0.4172 - val_accuracy: 0.8212 - lr: 0.1000\n",
            "Epoch 20/20\n",
            "6/6 [==============================] - 1s 88ms/step - loss: 0.4424 - accuracy: 0.8048 - val_loss: 0.3873 - val_accuracy: 0.8380 - lr: 0.1000\n"
          ]
        }
      ]
    },
    {
      "cell_type": "code",
      "source": [
        "# Use model.predict() and np.argmax() for prediction\n",
        "print('TESTING DATA CLASSIFICATION REPORT \\n \\n')\n",
        "predictions = (model.predict(test_text_pad) > 0.5).astype(\"int32\") # Assuming binary classification\n",
        "print(classification_report(test_output, predictions,\n",
        "                            target_names=lbl_target.inverse_transform([0,1])))\n",
        "\n",
        "print('TRAINING DATA CLASSIFICATION REPORT \\n \\n')\n",
        "predictions = (model.predict(train_text_pad) > 0.5).astype(\"int32\") # Assuming binary classification\n",
        "print(classification_report(train_output, predictions,\n",
        "                           target_names=lbl_target.inverse_transform([0,1])))"
      ],
      "metadata": {
        "id": "ZJruWdHQyYVd",
        "colab": {
          "base_uri": "https://localhost:8080/"
        },
        "outputId": "1827435b-d098-44cf-fe5f-8e28b551c1ed"
      },
      "execution_count": null,
      "outputs": [
        {
          "output_type": "stream",
          "name": "stdout",
          "text": [
            "TESTING DATA CLASSIFICATION REPORT \n",
            " \n",
            "\n",
            "12/12 [==============================] - 1s 14ms/step\n",
            "                         precision    recall  f1-score   support\n",
            "\n",
            "       Not Suicide post       0.93      0.81      0.87       230\n",
            "Potential Suicide post        0.72      0.88      0.80       128\n",
            "\n",
            "               accuracy                           0.84       358\n",
            "              macro avg       0.83      0.85      0.83       358\n",
            "           weighted avg       0.85      0.84      0.84       358\n",
            "\n",
            "TRAINING DATA CLASSIFICATION REPORT \n",
            " \n",
            "\n",
            "45/45 [==============================] - 1s 14ms/step\n",
            "                         precision    recall  f1-score   support\n",
            "\n",
            "       Not Suicide post       0.92      0.82      0.87       897\n",
            "Potential Suicide post        0.75      0.88      0.81       532\n",
            "\n",
            "               accuracy                           0.84      1429\n",
            "              macro avg       0.83      0.85      0.84      1429\n",
            "           weighted avg       0.86      0.84      0.85      1429\n",
            "\n"
          ]
        }
      ]
    },
    {
      "cell_type": "code",
      "source": [
        "twt = ['i am happy']\n",
        "twt = tokenizer.texts_to_sequences(twt)\n",
        "twt = pad_sequences(twt, maxlen=50)\n",
        "\n",
        "prediction = model.predict(twt)[0][0]\n",
        "print(prediction)\n",
        "\n",
        "if(prediction > 0.5):\n",
        "    print(\"Potential Suicide Post\")\n",
        "else:\n",
        "    print(\"Non Suicide Post\")"
      ],
      "metadata": {
        "id": "NUYXgdYwyYYA",
        "colab": {
          "base_uri": "https://localhost:8080/"
        },
        "outputId": "d756d383-7727-49c9-d0b2-a4df72667508"
      },
      "execution_count": null,
      "outputs": [
        {
          "output_type": "stream",
          "name": "stdout",
          "text": [
            "1/1 [==============================] - 0s 44ms/step\n",
            "0.16659504\n",
            "Non Suicide Post\n"
          ]
        }
      ]
    },
    {
      "cell_type": "code",
      "source": [
        "pickle.dump(tokenizer, open('tokenizer.pkl', 'wb'))"
      ],
      "metadata": {
        "id": "1YJPaK8RhLgZ"
      },
      "execution_count": null,
      "outputs": []
    },
    {
      "cell_type": "code",
      "source": [
        "model.save(\"model.h5\")"
      ],
      "metadata": {
        "colab": {
          "base_uri": "https://localhost:8080/"
        },
        "id": "2-tmJOuzhLmN",
        "outputId": "4df193f8-0ab6-4b3b-8b52-8a7cd7e2cc99"
      },
      "execution_count": null,
      "outputs": [
        {
          "output_type": "stream",
          "name": "stderr",
          "text": [
            "/usr/local/lib/python3.10/dist-packages/keras/src/engine/training.py:3103: UserWarning:\n",
            "\n",
            "You are saving your model as an HDF5 file via `model.save()`. This file format is considered legacy. We recommend using instead the native Keras format, e.g. `model.save('my_model.keras')`.\n",
            "\n"
          ]
        }
      ]
    },
    {
      "cell_type": "code",
      "source": [
        "token_form = pickle.load(open('tokenizer.pkl', 'rb'))"
      ],
      "metadata": {
        "id": "D0Mv2bUzyYbH"
      },
      "execution_count": null,
      "outputs": []
    },
    {
      "cell_type": "code",
      "source": [
        "from keras.models import load_model"
      ],
      "metadata": {
        "id": "QMQmRonSwghO"
      },
      "execution_count": null,
      "outputs": []
    },
    {
      "cell_type": "code",
      "source": [
        "model_form = load_model(\"model.h5\")"
      ],
      "metadata": {
        "id": "Z64tFOOthabO"
      },
      "execution_count": null,
      "outputs": []
    },
    {
      "cell_type": "code",
      "source": [
        "twt = ['Through these past years thoughts of suicide, fear, anxiety I’m so close to my limit']\n",
        "twt = token_form.texts_to_sequences(twt)\n",
        "twt = pad_sequences(twt, maxlen=50)\n",
        "\n",
        "\n",
        "prediction = model_form.predict(twt)[0][0]\n",
        "print(prediction)\n",
        "\n",
        "if(prediction > 0.5):\n",
        "    print(\"Potential Suicide Post\")\n",
        "elif (prediction == 1):\n",
        "    print(\"Non Suicide Post\")"
      ],
      "metadata": {
        "colab": {
          "base_uri": "https://localhost:8080/"
        },
        "id": "Z5a4I4KNhado",
        "outputId": "ed3da167-5ad6-484c-9594-bafff1c75047"
      },
      "execution_count": null,
      "outputs": [
        {
          "output_type": "stream",
          "name": "stdout",
          "text": [
            "1/1 [==============================] - 1s 741ms/step\n",
            "0.6677336\n",
            "Potential Suicide Post\n"
          ]
        }
      ]
    },
    {
      "cell_type": "code",
      "source": [],
      "metadata": {
        "id": "e7-lOU21hagD"
      },
      "execution_count": null,
      "outputs": []
    },
    {
      "cell_type": "code",
      "source": [],
      "metadata": {
        "id": "6UZEwQkxhajo"
      },
      "execution_count": null,
      "outputs": []
    }
  ]
}