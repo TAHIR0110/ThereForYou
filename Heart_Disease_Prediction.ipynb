{
  "cells": [
    {
      "cell_type": "markdown",
      "metadata": {
        "colab_type": "text",
        "id": "view-in-github"
      },
      "source": [
        "<a href=\"https://colab.research.google.com/github/Sudiksha18/ThereForYou/blob/main/Heart_Disease_Prediction.ipynb\" target=\"_parent\"><img src=\"https://colab.research.google.com/assets/colab-badge.svg\" alt=\"Open In Colab\"/></a>"
      ]
    },
    {
      "cell_type": "markdown",
      "metadata": {
        "id": "Cj2SOXgaZt-Q"
      },
      "source": [
        "Importing the Dependencies\n"
      ]
    },
    {
      "cell_type": "code",
      "execution_count": 212,
      "metadata": {
        "id": "k850UGz1Z03B"
      },
      "outputs": [],
      "source": [
        "# @title\n",
        "import numpy as np\n",
        "import pandas as pd\n",
        "from sklearn.model_selection import train_test_split\n",
        "from sklearn.linear_model import LogisticRegression\n",
        "from sklearn.metrics import accuracy_score"
      ]
    },
    {
      "cell_type": "markdown",
      "metadata": {
        "id": "APYsimt8bDoD"
      },
      "source": [
        "Data Collection and Processing\n"
      ]
    },
    {
      "cell_type": "code",
      "execution_count": 213,
      "metadata": {
        "id": "RJg3aA91Z0-u"
      },
      "outputs": [],
      "source": [
        "#loading the csv data to a Pandas DataFrame\n",
        "heart_data= pd.read_csv('/content/heart.csv')"
      ]
    },
    {
      "cell_type": "code",
      "execution_count": 214,
      "metadata": {
        "colab": {
          "base_uri": "https://localhost:8080/",
          "height": 394
        },
        "id": "BnoQ8u4hdZ8Z",
        "outputId": "452a033e-92bd-4b1e-b754-93d896d0c0a7"
      },
      "outputs": [
        {
          "data": {
            "application/vnd.google.colaboratory.intrinsic+json": {
              "type": "dataframe",
              "variable_name": "heart_data"
            },
            "text/html": [
              "\n",
              "  <div id=\"df-8ee41496-7bb3-4544-9541-0da57135f240\" class=\"colab-df-container\">\n",
              "    <div>\n",
              "<style scoped>\n",
              "    .dataframe tbody tr th:only-of-type {\n",
              "        vertical-align: middle;\n",
              "    }\n",
              "\n",
              "    .dataframe tbody tr th {\n",
              "        vertical-align: top;\n",
              "    }\n",
              "\n",
              "    .dataframe thead th {\n",
              "        text-align: right;\n",
              "    }\n",
              "</style>\n",
              "<table border=\"1\" class=\"dataframe\">\n",
              "  <thead>\n",
              "    <tr style=\"text-align: right;\">\n",
              "      <th></th>\n",
              "      <th>Patient ID</th>\n",
              "      <th>Age</th>\n",
              "      <th>Sex</th>\n",
              "      <th>Cholesterol</th>\n",
              "      <th>Blood Pressure</th>\n",
              "      <th>Heart Rate</th>\n",
              "      <th>Diabetes</th>\n",
              "      <th>Family History</th>\n",
              "      <th>Smoking</th>\n",
              "      <th>Obesity</th>\n",
              "      <th>...</th>\n",
              "      <th>Sedentary Hours Per Day</th>\n",
              "      <th>Income</th>\n",
              "      <th>BMI</th>\n",
              "      <th>Triglycerides</th>\n",
              "      <th>Physical Activity Days Per Week</th>\n",
              "      <th>Sleep Hours Per Day</th>\n",
              "      <th>Country</th>\n",
              "      <th>Continent</th>\n",
              "      <th>Hemisphere</th>\n",
              "      <th>Heart Attack Risk</th>\n",
              "    </tr>\n",
              "  </thead>\n",
              "  <tbody>\n",
              "    <tr>\n",
              "      <th>0</th>\n",
              "      <td>BMW7812</td>\n",
              "      <td>67</td>\n",
              "      <td>Male</td>\n",
              "      <td>208</td>\n",
              "      <td>158/88</td>\n",
              "      <td>72</td>\n",
              "      <td>0</td>\n",
              "      <td>0</td>\n",
              "      <td>1</td>\n",
              "      <td>0</td>\n",
              "      <td>...</td>\n",
              "      <td>6.615001</td>\n",
              "      <td>261404</td>\n",
              "      <td>31.251233</td>\n",
              "      <td>286</td>\n",
              "      <td>0</td>\n",
              "      <td>6</td>\n",
              "      <td>Argentina</td>\n",
              "      <td>South America</td>\n",
              "      <td>Southern Hemisphere</td>\n",
              "      <td>0</td>\n",
              "    </tr>\n",
              "    <tr>\n",
              "      <th>1</th>\n",
              "      <td>CZE1114</td>\n",
              "      <td>21</td>\n",
              "      <td>Male</td>\n",
              "      <td>389</td>\n",
              "      <td>165/93</td>\n",
              "      <td>98</td>\n",
              "      <td>1</td>\n",
              "      <td>1</td>\n",
              "      <td>1</td>\n",
              "      <td>1</td>\n",
              "      <td>...</td>\n",
              "      <td>4.963459</td>\n",
              "      <td>285768</td>\n",
              "      <td>27.194973</td>\n",
              "      <td>235</td>\n",
              "      <td>1</td>\n",
              "      <td>7</td>\n",
              "      <td>Canada</td>\n",
              "      <td>North America</td>\n",
              "      <td>Northern Hemisphere</td>\n",
              "      <td>0</td>\n",
              "    </tr>\n",
              "    <tr>\n",
              "      <th>2</th>\n",
              "      <td>BNI9906</td>\n",
              "      <td>21</td>\n",
              "      <td>Female</td>\n",
              "      <td>324</td>\n",
              "      <td>174/99</td>\n",
              "      <td>72</td>\n",
              "      <td>1</td>\n",
              "      <td>0</td>\n",
              "      <td>0</td>\n",
              "      <td>0</td>\n",
              "      <td>...</td>\n",
              "      <td>9.463426</td>\n",
              "      <td>235282</td>\n",
              "      <td>28.176571</td>\n",
              "      <td>587</td>\n",
              "      <td>4</td>\n",
              "      <td>4</td>\n",
              "      <td>France</td>\n",
              "      <td>Europe</td>\n",
              "      <td>Northern Hemisphere</td>\n",
              "      <td>0</td>\n",
              "    </tr>\n",
              "    <tr>\n",
              "      <th>3</th>\n",
              "      <td>JLN3497</td>\n",
              "      <td>84</td>\n",
              "      <td>Male</td>\n",
              "      <td>383</td>\n",
              "      <td>163/100</td>\n",
              "      <td>73</td>\n",
              "      <td>1</td>\n",
              "      <td>1</td>\n",
              "      <td>1</td>\n",
              "      <td>0</td>\n",
              "      <td>...</td>\n",
              "      <td>7.648981</td>\n",
              "      <td>125640</td>\n",
              "      <td>36.464704</td>\n",
              "      <td>378</td>\n",
              "      <td>3</td>\n",
              "      <td>4</td>\n",
              "      <td>Canada</td>\n",
              "      <td>North America</td>\n",
              "      <td>Northern Hemisphere</td>\n",
              "      <td>0</td>\n",
              "    </tr>\n",
              "    <tr>\n",
              "      <th>4</th>\n",
              "      <td>GFO8847</td>\n",
              "      <td>66</td>\n",
              "      <td>Male</td>\n",
              "      <td>318</td>\n",
              "      <td>91/88</td>\n",
              "      <td>93</td>\n",
              "      <td>1</td>\n",
              "      <td>1</td>\n",
              "      <td>1</td>\n",
              "      <td>1</td>\n",
              "      <td>...</td>\n",
              "      <td>1.514821</td>\n",
              "      <td>160555</td>\n",
              "      <td>21.809144</td>\n",
              "      <td>231</td>\n",
              "      <td>1</td>\n",
              "      <td>5</td>\n",
              "      <td>Thailand</td>\n",
              "      <td>Asia</td>\n",
              "      <td>Northern Hemisphere</td>\n",
              "      <td>0</td>\n",
              "    </tr>\n",
              "  </tbody>\n",
              "</table>\n",
              "<p>5 rows × 26 columns</p>\n",
              "</div>\n",
              "    <div class=\"colab-df-buttons\">\n",
              "\n",
              "  <div class=\"colab-df-container\">\n",
              "    <button class=\"colab-df-convert\" onclick=\"convertToInteractive('df-8ee41496-7bb3-4544-9541-0da57135f240')\"\n",
              "            title=\"Convert this dataframe to an interactive table.\"\n",
              "            style=\"display:none;\">\n",
              "\n",
              "  <svg xmlns=\"http://www.w3.org/2000/svg\" height=\"24px\" viewBox=\"0 -960 960 960\">\n",
              "    <path d=\"M120-120v-720h720v720H120Zm60-500h600v-160H180v160Zm220 220h160v-160H400v160Zm0 220h160v-160H400v160ZM180-400h160v-160H180v160Zm440 0h160v-160H620v160ZM180-180h160v-160H180v160Zm440 0h160v-160H620v160Z\"/>\n",
              "  </svg>\n",
              "    </button>\n",
              "\n",
              "  <style>\n",
              "    .colab-df-container {\n",
              "      display:flex;\n",
              "      gap: 12px;\n",
              "    }\n",
              "\n",
              "    .colab-df-convert {\n",
              "      background-color: #E8F0FE;\n",
              "      border: none;\n",
              "      border-radius: 50%;\n",
              "      cursor: pointer;\n",
              "      display: none;\n",
              "      fill: #1967D2;\n",
              "      height: 32px;\n",
              "      padding: 0 0 0 0;\n",
              "      width: 32px;\n",
              "    }\n",
              "\n",
              "    .colab-df-convert:hover {\n",
              "      background-color: #E2EBFA;\n",
              "      box-shadow: 0px 1px 2px rgba(60, 64, 67, 0.3), 0px 1px 3px 1px rgba(60, 64, 67, 0.15);\n",
              "      fill: #174EA6;\n",
              "    }\n",
              "\n",
              "    .colab-df-buttons div {\n",
              "      margin-bottom: 4px;\n",
              "    }\n",
              "\n",
              "    [theme=dark] .colab-df-convert {\n",
              "      background-color: #3B4455;\n",
              "      fill: #D2E3FC;\n",
              "    }\n",
              "\n",
              "    [theme=dark] .colab-df-convert:hover {\n",
              "      background-color: #434B5C;\n",
              "      box-shadow: 0px 1px 3px 1px rgba(0, 0, 0, 0.15);\n",
              "      filter: drop-shadow(0px 1px 2px rgba(0, 0, 0, 0.3));\n",
              "      fill: #FFFFFF;\n",
              "    }\n",
              "  </style>\n",
              "\n",
              "    <script>\n",
              "      const buttonEl =\n",
              "        document.querySelector('#df-8ee41496-7bb3-4544-9541-0da57135f240 button.colab-df-convert');\n",
              "      buttonEl.style.display =\n",
              "        google.colab.kernel.accessAllowed ? 'block' : 'none';\n",
              "\n",
              "      async function convertToInteractive(key) {\n",
              "        const element = document.querySelector('#df-8ee41496-7bb3-4544-9541-0da57135f240');\n",
              "        const dataTable =\n",
              "          await google.colab.kernel.invokeFunction('convertToInteractive',\n",
              "                                                    [key], {});\n",
              "        if (!dataTable) return;\n",
              "\n",
              "        const docLinkHtml = 'Like what you see? Visit the ' +\n",
              "          '<a target=\"_blank\" href=https://colab.research.google.com/notebooks/data_table.ipynb>data table notebook</a>'\n",
              "          + ' to learn more about interactive tables.';\n",
              "        element.innerHTML = '';\n",
              "        dataTable['output_type'] = 'display_data';\n",
              "        await google.colab.output.renderOutput(dataTable, element);\n",
              "        const docLink = document.createElement('div');\n",
              "        docLink.innerHTML = docLinkHtml;\n",
              "        element.appendChild(docLink);\n",
              "      }\n",
              "    </script>\n",
              "  </div>\n",
              "\n",
              "\n",
              "<div id=\"df-e1b7e909-370e-4cd4-9899-47e76ebb518a\">\n",
              "  <button class=\"colab-df-quickchart\" onclick=\"quickchart('df-e1b7e909-370e-4cd4-9899-47e76ebb518a')\"\n",
              "            title=\"Suggest charts\"\n",
              "            style=\"display:none;\">\n",
              "\n",
              "<svg xmlns=\"http://www.w3.org/2000/svg\" height=\"24px\"viewBox=\"0 0 24 24\"\n",
              "     width=\"24px\">\n",
              "    <g>\n",
              "        <path d=\"M19 3H5c-1.1 0-2 .9-2 2v14c0 1.1.9 2 2 2h14c1.1 0 2-.9 2-2V5c0-1.1-.9-2-2-2zM9 17H7v-7h2v7zm4 0h-2V7h2v10zm4 0h-2v-4h2v4z\"/>\n",
              "    </g>\n",
              "</svg>\n",
              "  </button>\n",
              "\n",
              "<style>\n",
              "  .colab-df-quickchart {\n",
              "      --bg-color: #E8F0FE;\n",
              "      --fill-color: #1967D2;\n",
              "      --hover-bg-color: #E2EBFA;\n",
              "      --hover-fill-color: #174EA6;\n",
              "      --disabled-fill-color: #AAA;\n",
              "      --disabled-bg-color: #DDD;\n",
              "  }\n",
              "\n",
              "  [theme=dark] .colab-df-quickchart {\n",
              "      --bg-color: #3B4455;\n",
              "      --fill-color: #D2E3FC;\n",
              "      --hover-bg-color: #434B5C;\n",
              "      --hover-fill-color: #FFFFFF;\n",
              "      --disabled-bg-color: #3B4455;\n",
              "      --disabled-fill-color: #666;\n",
              "  }\n",
              "\n",
              "  .colab-df-quickchart {\n",
              "    background-color: var(--bg-color);\n",
              "    border: none;\n",
              "    border-radius: 50%;\n",
              "    cursor: pointer;\n",
              "    display: none;\n",
              "    fill: var(--fill-color);\n",
              "    height: 32px;\n",
              "    padding: 0;\n",
              "    width: 32px;\n",
              "  }\n",
              "\n",
              "  .colab-df-quickchart:hover {\n",
              "    background-color: var(--hover-bg-color);\n",
              "    box-shadow: 0 1px 2px rgba(60, 64, 67, 0.3), 0 1px 3px 1px rgba(60, 64, 67, 0.15);\n",
              "    fill: var(--button-hover-fill-color);\n",
              "  }\n",
              "\n",
              "  .colab-df-quickchart-complete:disabled,\n",
              "  .colab-df-quickchart-complete:disabled:hover {\n",
              "    background-color: var(--disabled-bg-color);\n",
              "    fill: var(--disabled-fill-color);\n",
              "    box-shadow: none;\n",
              "  }\n",
              "\n",
              "  .colab-df-spinner {\n",
              "    border: 2px solid var(--fill-color);\n",
              "    border-color: transparent;\n",
              "    border-bottom-color: var(--fill-color);\n",
              "    animation:\n",
              "      spin 1s steps(1) infinite;\n",
              "  }\n",
              "\n",
              "  @keyframes spin {\n",
              "    0% {\n",
              "      border-color: transparent;\n",
              "      border-bottom-color: var(--fill-color);\n",
              "      border-left-color: var(--fill-color);\n",
              "    }\n",
              "    20% {\n",
              "      border-color: transparent;\n",
              "      border-left-color: var(--fill-color);\n",
              "      border-top-color: var(--fill-color);\n",
              "    }\n",
              "    30% {\n",
              "      border-color: transparent;\n",
              "      border-left-color: var(--fill-color);\n",
              "      border-top-color: var(--fill-color);\n",
              "      border-right-color: var(--fill-color);\n",
              "    }\n",
              "    40% {\n",
              "      border-color: transparent;\n",
              "      border-right-color: var(--fill-color);\n",
              "      border-top-color: var(--fill-color);\n",
              "    }\n",
              "    60% {\n",
              "      border-color: transparent;\n",
              "      border-right-color: var(--fill-color);\n",
              "    }\n",
              "    80% {\n",
              "      border-color: transparent;\n",
              "      border-right-color: var(--fill-color);\n",
              "      border-bottom-color: var(--fill-color);\n",
              "    }\n",
              "    90% {\n",
              "      border-color: transparent;\n",
              "      border-bottom-color: var(--fill-color);\n",
              "    }\n",
              "  }\n",
              "</style>\n",
              "\n",
              "  <script>\n",
              "    async function quickchart(key) {\n",
              "      const quickchartButtonEl =\n",
              "        document.querySelector('#' + key + ' button');\n",
              "      quickchartButtonEl.disabled = true;  // To prevent multiple clicks.\n",
              "      quickchartButtonEl.classList.add('colab-df-spinner');\n",
              "      try {\n",
              "        const charts = await google.colab.kernel.invokeFunction(\n",
              "            'suggestCharts', [key], {});\n",
              "      } catch (error) {\n",
              "        console.error('Error during call to suggestCharts:', error);\n",
              "      }\n",
              "      quickchartButtonEl.classList.remove('colab-df-spinner');\n",
              "      quickchartButtonEl.classList.add('colab-df-quickchart-complete');\n",
              "    }\n",
              "    (() => {\n",
              "      let quickchartButtonEl =\n",
              "        document.querySelector('#df-e1b7e909-370e-4cd4-9899-47e76ebb518a button');\n",
              "      quickchartButtonEl.style.display =\n",
              "        google.colab.kernel.accessAllowed ? 'block' : 'none';\n",
              "    })();\n",
              "  </script>\n",
              "</div>\n",
              "\n",
              "    </div>\n",
              "  </div>\n"
            ],
            "text/plain": [
              "  Patient ID  Age     Sex  Cholesterol Blood Pressure  Heart Rate  Diabetes  \\\n",
              "0    BMW7812   67    Male          208         158/88          72         0   \n",
              "1    CZE1114   21    Male          389         165/93          98         1   \n",
              "2    BNI9906   21  Female          324         174/99          72         1   \n",
              "3    JLN3497   84    Male          383        163/100          73         1   \n",
              "4    GFO8847   66    Male          318          91/88          93         1   \n",
              "\n",
              "   Family History  Smoking  Obesity  ...  Sedentary Hours Per Day  Income  \\\n",
              "0               0        1        0  ...                 6.615001  261404   \n",
              "1               1        1        1  ...                 4.963459  285768   \n",
              "2               0        0        0  ...                 9.463426  235282   \n",
              "3               1        1        0  ...                 7.648981  125640   \n",
              "4               1        1        1  ...                 1.514821  160555   \n",
              "\n",
              "         BMI  Triglycerides  Physical Activity Days Per Week  \\\n",
              "0  31.251233            286                                0   \n",
              "1  27.194973            235                                1   \n",
              "2  28.176571            587                                4   \n",
              "3  36.464704            378                                3   \n",
              "4  21.809144            231                                1   \n",
              "\n",
              "   Sleep Hours Per Day    Country      Continent           Hemisphere  \\\n",
              "0                    6  Argentina  South America  Southern Hemisphere   \n",
              "1                    7     Canada  North America  Northern Hemisphere   \n",
              "2                    4     France         Europe  Northern Hemisphere   \n",
              "3                    4     Canada  North America  Northern Hemisphere   \n",
              "4                    5   Thailand           Asia  Northern Hemisphere   \n",
              "\n",
              "   Heart Attack Risk  \n",
              "0                  0  \n",
              "1                  0  \n",
              "2                  0  \n",
              "3                  0  \n",
              "4                  0  \n",
              "\n",
              "[5 rows x 26 columns]"
            ]
          },
          "execution_count": 214,
          "metadata": {},
          "output_type": "execute_result"
        }
      ],
      "source": [
        "#print first 5 rows of the datase\n",
        "heart_data.head()\n"
      ]
    },
    {
      "cell_type": "code",
      "execution_count": 215,
      "metadata": {
        "colab": {
          "base_uri": "https://localhost:8080/",
          "height": 394
        },
        "id": "NQwDjwwGeBF4",
        "outputId": "60d69d34-5c6e-4975-c633-13cc786065f6"
      },
      "outputs": [
        {
          "data": {
            "application/vnd.google.colaboratory.intrinsic+json": {
              "type": "dataframe"
            },
            "text/html": [
              "\n",
              "  <div id=\"df-43aec8d7-9609-4539-ac70-3f84a8e5d45a\" class=\"colab-df-container\">\n",
              "    <div>\n",
              "<style scoped>\n",
              "    .dataframe tbody tr th:only-of-type {\n",
              "        vertical-align: middle;\n",
              "    }\n",
              "\n",
              "    .dataframe tbody tr th {\n",
              "        vertical-align: top;\n",
              "    }\n",
              "\n",
              "    .dataframe thead th {\n",
              "        text-align: right;\n",
              "    }\n",
              "</style>\n",
              "<table border=\"1\" class=\"dataframe\">\n",
              "  <thead>\n",
              "    <tr style=\"text-align: right;\">\n",
              "      <th></th>\n",
              "      <th>Patient ID</th>\n",
              "      <th>Age</th>\n",
              "      <th>Sex</th>\n",
              "      <th>Cholesterol</th>\n",
              "      <th>Blood Pressure</th>\n",
              "      <th>Heart Rate</th>\n",
              "      <th>Diabetes</th>\n",
              "      <th>Family History</th>\n",
              "      <th>Smoking</th>\n",
              "      <th>Obesity</th>\n",
              "      <th>...</th>\n",
              "      <th>Sedentary Hours Per Day</th>\n",
              "      <th>Income</th>\n",
              "      <th>BMI</th>\n",
              "      <th>Triglycerides</th>\n",
              "      <th>Physical Activity Days Per Week</th>\n",
              "      <th>Sleep Hours Per Day</th>\n",
              "      <th>Country</th>\n",
              "      <th>Continent</th>\n",
              "      <th>Hemisphere</th>\n",
              "      <th>Heart Attack Risk</th>\n",
              "    </tr>\n",
              "  </thead>\n",
              "  <tbody>\n",
              "    <tr>\n",
              "      <th>8758</th>\n",
              "      <td>MSV9918</td>\n",
              "      <td>60</td>\n",
              "      <td>Male</td>\n",
              "      <td>121</td>\n",
              "      <td>94/76</td>\n",
              "      <td>61</td>\n",
              "      <td>1</td>\n",
              "      <td>1</td>\n",
              "      <td>1</td>\n",
              "      <td>0</td>\n",
              "      <td>...</td>\n",
              "      <td>10.806373</td>\n",
              "      <td>235420</td>\n",
              "      <td>19.655895</td>\n",
              "      <td>67</td>\n",
              "      <td>7</td>\n",
              "      <td>7</td>\n",
              "      <td>Thailand</td>\n",
              "      <td>Asia</td>\n",
              "      <td>Northern Hemisphere</td>\n",
              "      <td>0</td>\n",
              "    </tr>\n",
              "    <tr>\n",
              "      <th>8759</th>\n",
              "      <td>QSV6764</td>\n",
              "      <td>28</td>\n",
              "      <td>Female</td>\n",
              "      <td>120</td>\n",
              "      <td>157/102</td>\n",
              "      <td>73</td>\n",
              "      <td>1</td>\n",
              "      <td>0</td>\n",
              "      <td>0</td>\n",
              "      <td>1</td>\n",
              "      <td>...</td>\n",
              "      <td>3.833038</td>\n",
              "      <td>217881</td>\n",
              "      <td>23.993866</td>\n",
              "      <td>617</td>\n",
              "      <td>4</td>\n",
              "      <td>9</td>\n",
              "      <td>Canada</td>\n",
              "      <td>North America</td>\n",
              "      <td>Northern Hemisphere</td>\n",
              "      <td>0</td>\n",
              "    </tr>\n",
              "    <tr>\n",
              "      <th>8760</th>\n",
              "      <td>XKA5925</td>\n",
              "      <td>47</td>\n",
              "      <td>Male</td>\n",
              "      <td>250</td>\n",
              "      <td>161/75</td>\n",
              "      <td>105</td>\n",
              "      <td>0</td>\n",
              "      <td>1</td>\n",
              "      <td>1</td>\n",
              "      <td>1</td>\n",
              "      <td>...</td>\n",
              "      <td>2.375214</td>\n",
              "      <td>36998</td>\n",
              "      <td>35.406146</td>\n",
              "      <td>527</td>\n",
              "      <td>4</td>\n",
              "      <td>4</td>\n",
              "      <td>Brazil</td>\n",
              "      <td>South America</td>\n",
              "      <td>Southern Hemisphere</td>\n",
              "      <td>1</td>\n",
              "    </tr>\n",
              "    <tr>\n",
              "      <th>8761</th>\n",
              "      <td>EPE6801</td>\n",
              "      <td>36</td>\n",
              "      <td>Male</td>\n",
              "      <td>178</td>\n",
              "      <td>119/67</td>\n",
              "      <td>60</td>\n",
              "      <td>1</td>\n",
              "      <td>0</td>\n",
              "      <td>1</td>\n",
              "      <td>0</td>\n",
              "      <td>...</td>\n",
              "      <td>0.029104</td>\n",
              "      <td>209943</td>\n",
              "      <td>27.294020</td>\n",
              "      <td>114</td>\n",
              "      <td>2</td>\n",
              "      <td>8</td>\n",
              "      <td>Brazil</td>\n",
              "      <td>South America</td>\n",
              "      <td>Southern Hemisphere</td>\n",
              "      <td>0</td>\n",
              "    </tr>\n",
              "    <tr>\n",
              "      <th>8762</th>\n",
              "      <td>ZWN9666</td>\n",
              "      <td>25</td>\n",
              "      <td>Female</td>\n",
              "      <td>356</td>\n",
              "      <td>138/67</td>\n",
              "      <td>75</td>\n",
              "      <td>1</td>\n",
              "      <td>1</td>\n",
              "      <td>0</td>\n",
              "      <td>0</td>\n",
              "      <td>...</td>\n",
              "      <td>9.005234</td>\n",
              "      <td>247338</td>\n",
              "      <td>32.914151</td>\n",
              "      <td>180</td>\n",
              "      <td>7</td>\n",
              "      <td>4</td>\n",
              "      <td>United Kingdom</td>\n",
              "      <td>Europe</td>\n",
              "      <td>Northern Hemisphere</td>\n",
              "      <td>1</td>\n",
              "    </tr>\n",
              "  </tbody>\n",
              "</table>\n",
              "<p>5 rows × 26 columns</p>\n",
              "</div>\n",
              "    <div class=\"colab-df-buttons\">\n",
              "\n",
              "  <div class=\"colab-df-container\">\n",
              "    <button class=\"colab-df-convert\" onclick=\"convertToInteractive('df-43aec8d7-9609-4539-ac70-3f84a8e5d45a')\"\n",
              "            title=\"Convert this dataframe to an interactive table.\"\n",
              "            style=\"display:none;\">\n",
              "\n",
              "  <svg xmlns=\"http://www.w3.org/2000/svg\" height=\"24px\" viewBox=\"0 -960 960 960\">\n",
              "    <path d=\"M120-120v-720h720v720H120Zm60-500h600v-160H180v160Zm220 220h160v-160H400v160Zm0 220h160v-160H400v160ZM180-400h160v-160H180v160Zm440 0h160v-160H620v160ZM180-180h160v-160H180v160Zm440 0h160v-160H620v160Z\"/>\n",
              "  </svg>\n",
              "    </button>\n",
              "\n",
              "  <style>\n",
              "    .colab-df-container {\n",
              "      display:flex;\n",
              "      gap: 12px;\n",
              "    }\n",
              "\n",
              "    .colab-df-convert {\n",
              "      background-color: #E8F0FE;\n",
              "      border: none;\n",
              "      border-radius: 50%;\n",
              "      cursor: pointer;\n",
              "      display: none;\n",
              "      fill: #1967D2;\n",
              "      height: 32px;\n",
              "      padding: 0 0 0 0;\n",
              "      width: 32px;\n",
              "    }\n",
              "\n",
              "    .colab-df-convert:hover {\n",
              "      background-color: #E2EBFA;\n",
              "      box-shadow: 0px 1px 2px rgba(60, 64, 67, 0.3), 0px 1px 3px 1px rgba(60, 64, 67, 0.15);\n",
              "      fill: #174EA6;\n",
              "    }\n",
              "\n",
              "    .colab-df-buttons div {\n",
              "      margin-bottom: 4px;\n",
              "    }\n",
              "\n",
              "    [theme=dark] .colab-df-convert {\n",
              "      background-color: #3B4455;\n",
              "      fill: #D2E3FC;\n",
              "    }\n",
              "\n",
              "    [theme=dark] .colab-df-convert:hover {\n",
              "      background-color: #434B5C;\n",
              "      box-shadow: 0px 1px 3px 1px rgba(0, 0, 0, 0.15);\n",
              "      filter: drop-shadow(0px 1px 2px rgba(0, 0, 0, 0.3));\n",
              "      fill: #FFFFFF;\n",
              "    }\n",
              "  </style>\n",
              "\n",
              "    <script>\n",
              "      const buttonEl =\n",
              "        document.querySelector('#df-43aec8d7-9609-4539-ac70-3f84a8e5d45a button.colab-df-convert');\n",
              "      buttonEl.style.display =\n",
              "        google.colab.kernel.accessAllowed ? 'block' : 'none';\n",
              "\n",
              "      async function convertToInteractive(key) {\n",
              "        const element = document.querySelector('#df-43aec8d7-9609-4539-ac70-3f84a8e5d45a');\n",
              "        const dataTable =\n",
              "          await google.colab.kernel.invokeFunction('convertToInteractive',\n",
              "                                                    [key], {});\n",
              "        if (!dataTable) return;\n",
              "\n",
              "        const docLinkHtml = 'Like what you see? Visit the ' +\n",
              "          '<a target=\"_blank\" href=https://colab.research.google.com/notebooks/data_table.ipynb>data table notebook</a>'\n",
              "          + ' to learn more about interactive tables.';\n",
              "        element.innerHTML = '';\n",
              "        dataTable['output_type'] = 'display_data';\n",
              "        await google.colab.output.renderOutput(dataTable, element);\n",
              "        const docLink = document.createElement('div');\n",
              "        docLink.innerHTML = docLinkHtml;\n",
              "        element.appendChild(docLink);\n",
              "      }\n",
              "    </script>\n",
              "  </div>\n",
              "\n",
              "\n",
              "<div id=\"df-f64f9ade-9b48-4183-a905-56df45bbc6ce\">\n",
              "  <button class=\"colab-df-quickchart\" onclick=\"quickchart('df-f64f9ade-9b48-4183-a905-56df45bbc6ce')\"\n",
              "            title=\"Suggest charts\"\n",
              "            style=\"display:none;\">\n",
              "\n",
              "<svg xmlns=\"http://www.w3.org/2000/svg\" height=\"24px\"viewBox=\"0 0 24 24\"\n",
              "     width=\"24px\">\n",
              "    <g>\n",
              "        <path d=\"M19 3H5c-1.1 0-2 .9-2 2v14c0 1.1.9 2 2 2h14c1.1 0 2-.9 2-2V5c0-1.1-.9-2-2-2zM9 17H7v-7h2v7zm4 0h-2V7h2v10zm4 0h-2v-4h2v4z\"/>\n",
              "    </g>\n",
              "</svg>\n",
              "  </button>\n",
              "\n",
              "<style>\n",
              "  .colab-df-quickchart {\n",
              "      --bg-color: #E8F0FE;\n",
              "      --fill-color: #1967D2;\n",
              "      --hover-bg-color: #E2EBFA;\n",
              "      --hover-fill-color: #174EA6;\n",
              "      --disabled-fill-color: #AAA;\n",
              "      --disabled-bg-color: #DDD;\n",
              "  }\n",
              "\n",
              "  [theme=dark] .colab-df-quickchart {\n",
              "      --bg-color: #3B4455;\n",
              "      --fill-color: #D2E3FC;\n",
              "      --hover-bg-color: #434B5C;\n",
              "      --hover-fill-color: #FFFFFF;\n",
              "      --disabled-bg-color: #3B4455;\n",
              "      --disabled-fill-color: #666;\n",
              "  }\n",
              "\n",
              "  .colab-df-quickchart {\n",
              "    background-color: var(--bg-color);\n",
              "    border: none;\n",
              "    border-radius: 50%;\n",
              "    cursor: pointer;\n",
              "    display: none;\n",
              "    fill: var(--fill-color);\n",
              "    height: 32px;\n",
              "    padding: 0;\n",
              "    width: 32px;\n",
              "  }\n",
              "\n",
              "  .colab-df-quickchart:hover {\n",
              "    background-color: var(--hover-bg-color);\n",
              "    box-shadow: 0 1px 2px rgba(60, 64, 67, 0.3), 0 1px 3px 1px rgba(60, 64, 67, 0.15);\n",
              "    fill: var(--button-hover-fill-color);\n",
              "  }\n",
              "\n",
              "  .colab-df-quickchart-complete:disabled,\n",
              "  .colab-df-quickchart-complete:disabled:hover {\n",
              "    background-color: var(--disabled-bg-color);\n",
              "    fill: var(--disabled-fill-color);\n",
              "    box-shadow: none;\n",
              "  }\n",
              "\n",
              "  .colab-df-spinner {\n",
              "    border: 2px solid var(--fill-color);\n",
              "    border-color: transparent;\n",
              "    border-bottom-color: var(--fill-color);\n",
              "    animation:\n",
              "      spin 1s steps(1) infinite;\n",
              "  }\n",
              "\n",
              "  @keyframes spin {\n",
              "    0% {\n",
              "      border-color: transparent;\n",
              "      border-bottom-color: var(--fill-color);\n",
              "      border-left-color: var(--fill-color);\n",
              "    }\n",
              "    20% {\n",
              "      border-color: transparent;\n",
              "      border-left-color: var(--fill-color);\n",
              "      border-top-color: var(--fill-color);\n",
              "    }\n",
              "    30% {\n",
              "      border-color: transparent;\n",
              "      border-left-color: var(--fill-color);\n",
              "      border-top-color: var(--fill-color);\n",
              "      border-right-color: var(--fill-color);\n",
              "    }\n",
              "    40% {\n",
              "      border-color: transparent;\n",
              "      border-right-color: var(--fill-color);\n",
              "      border-top-color: var(--fill-color);\n",
              "    }\n",
              "    60% {\n",
              "      border-color: transparent;\n",
              "      border-right-color: var(--fill-color);\n",
              "    }\n",
              "    80% {\n",
              "      border-color: transparent;\n",
              "      border-right-color: var(--fill-color);\n",
              "      border-bottom-color: var(--fill-color);\n",
              "    }\n",
              "    90% {\n",
              "      border-color: transparent;\n",
              "      border-bottom-color: var(--fill-color);\n",
              "    }\n",
              "  }\n",
              "</style>\n",
              "\n",
              "  <script>\n",
              "    async function quickchart(key) {\n",
              "      const quickchartButtonEl =\n",
              "        document.querySelector('#' + key + ' button');\n",
              "      quickchartButtonEl.disabled = true;  // To prevent multiple clicks.\n",
              "      quickchartButtonEl.classList.add('colab-df-spinner');\n",
              "      try {\n",
              "        const charts = await google.colab.kernel.invokeFunction(\n",
              "            'suggestCharts', [key], {});\n",
              "      } catch (error) {\n",
              "        console.error('Error during call to suggestCharts:', error);\n",
              "      }\n",
              "      quickchartButtonEl.classList.remove('colab-df-spinner');\n",
              "      quickchartButtonEl.classList.add('colab-df-quickchart-complete');\n",
              "    }\n",
              "    (() => {\n",
              "      let quickchartButtonEl =\n",
              "        document.querySelector('#df-f64f9ade-9b48-4183-a905-56df45bbc6ce button');\n",
              "      quickchartButtonEl.style.display =\n",
              "        google.colab.kernel.accessAllowed ? 'block' : 'none';\n",
              "    })();\n",
              "  </script>\n",
              "</div>\n",
              "\n",
              "    </div>\n",
              "  </div>\n"
            ],
            "text/plain": [
              "     Patient ID  Age     Sex  Cholesterol Blood Pressure  Heart Rate  \\\n",
              "8758    MSV9918   60    Male          121          94/76          61   \n",
              "8759    QSV6764   28  Female          120        157/102          73   \n",
              "8760    XKA5925   47    Male          250         161/75         105   \n",
              "8761    EPE6801   36    Male          178         119/67          60   \n",
              "8762    ZWN9666   25  Female          356         138/67          75   \n",
              "\n",
              "      Diabetes  Family History  Smoking  Obesity  ...  \\\n",
              "8758         1               1        1        0  ...   \n",
              "8759         1               0        0        1  ...   \n",
              "8760         0               1        1        1  ...   \n",
              "8761         1               0        1        0  ...   \n",
              "8762         1               1        0        0  ...   \n",
              "\n",
              "      Sedentary Hours Per Day  Income        BMI  Triglycerides  \\\n",
              "8758                10.806373  235420  19.655895             67   \n",
              "8759                 3.833038  217881  23.993866            617   \n",
              "8760                 2.375214   36998  35.406146            527   \n",
              "8761                 0.029104  209943  27.294020            114   \n",
              "8762                 9.005234  247338  32.914151            180   \n",
              "\n",
              "      Physical Activity Days Per Week  Sleep Hours Per Day         Country  \\\n",
              "8758                                7                    7        Thailand   \n",
              "8759                                4                    9          Canada   \n",
              "8760                                4                    4          Brazil   \n",
              "8761                                2                    8          Brazil   \n",
              "8762                                7                    4  United Kingdom   \n",
              "\n",
              "          Continent           Hemisphere  Heart Attack Risk  \n",
              "8758           Asia  Northern Hemisphere                  0  \n",
              "8759  North America  Northern Hemisphere                  0  \n",
              "8760  South America  Southern Hemisphere                  1  \n",
              "8761  South America  Southern Hemisphere                  0  \n",
              "8762         Europe  Northern Hemisphere                  1  \n",
              "\n",
              "[5 rows x 26 columns]"
            ]
          },
          "execution_count": 215,
          "metadata": {},
          "output_type": "execute_result"
        }
      ],
      "source": [
        "heart_data.tail()\n"
      ]
    },
    {
      "cell_type": "code",
      "execution_count": 216,
      "metadata": {
        "colab": {
          "base_uri": "https://localhost:8080/"
        },
        "id": "Ye8LlTQVeHs1",
        "outputId": "e0fb1303-1000-45df-8cbf-49a3322f42b1"
      },
      "outputs": [
        {
          "data": {
            "text/plain": [
              "(8763, 26)"
            ]
          },
          "execution_count": 216,
          "metadata": {},
          "output_type": "execute_result"
        }
      ],
      "source": [
        "# number of rows and columns in the dataset\n",
        "heart_data.shape\n",
        "\n"
      ]
    },
    {
      "cell_type": "code",
      "execution_count": 217,
      "metadata": {
        "colab": {
          "base_uri": "https://localhost:8080/"
        },
        "id": "5YZLMOwFeXF3",
        "outputId": "4a322f74-c893-45a0-e4e2-cca32e4d0bd3"
      },
      "outputs": [
        {
          "name": "stdout",
          "output_type": "stream",
          "text": [
            "<class 'pandas.core.frame.DataFrame'>\n",
            "RangeIndex: 8763 entries, 0 to 8762\n",
            "Data columns (total 26 columns):\n",
            " #   Column                           Non-Null Count  Dtype  \n",
            "---  ------                           --------------  -----  \n",
            " 0   Patient ID                       8763 non-null   object \n",
            " 1   Age                              8763 non-null   int64  \n",
            " 2   Sex                              8763 non-null   object \n",
            " 3   Cholesterol                      8763 non-null   int64  \n",
            " 4   Blood Pressure                   8763 non-null   object \n",
            " 5   Heart Rate                       8763 non-null   int64  \n",
            " 6   Diabetes                         8763 non-null   int64  \n",
            " 7   Family History                   8763 non-null   int64  \n",
            " 8   Smoking                          8763 non-null   int64  \n",
            " 9   Obesity                          8763 non-null   int64  \n",
            " 10  Alcohol Consumption              8763 non-null   int64  \n",
            " 11  Exercise Hours Per Week          8763 non-null   float64\n",
            " 12  Diet                             8763 non-null   object \n",
            " 13  Previous Heart Problems          8763 non-null   int64  \n",
            " 14  Medication Use                   8763 non-null   int64  \n",
            " 15  Stress Level                     8763 non-null   int64  \n",
            " 16  Sedentary Hours Per Day          8763 non-null   float64\n",
            " 17  Income                           8763 non-null   int64  \n",
            " 18  BMI                              8763 non-null   float64\n",
            " 19  Triglycerides                    8763 non-null   int64  \n",
            " 20  Physical Activity Days Per Week  8763 non-null   int64  \n",
            " 21  Sleep Hours Per Day              8763 non-null   int64  \n",
            " 22  Country                          8763 non-null   object \n",
            " 23  Continent                        8763 non-null   object \n",
            " 24  Hemisphere                       8763 non-null   object \n",
            " 25  Heart Attack Risk                8763 non-null   int64  \n",
            "dtypes: float64(3), int64(16), object(7)\n",
            "memory usage: 1.7+ MB\n"
          ]
        }
      ],
      "source": [
        "# getting some info about the data\n",
        "heart_data.info()"
      ]
    },
    {
      "cell_type": "code",
      "execution_count": 218,
      "metadata": {
        "colab": {
          "base_uri": "https://localhost:8080/"
        },
        "id": "QHazm2rze6Oj",
        "outputId": "1601115a-a97a-4aa7-b0ca-1d94d09d11fa"
      },
      "outputs": [
        {
          "data": {
            "text/plain": [
              "Patient ID                         0\n",
              "Age                                0\n",
              "Sex                                0\n",
              "Cholesterol                        0\n",
              "Blood Pressure                     0\n",
              "Heart Rate                         0\n",
              "Diabetes                           0\n",
              "Family History                     0\n",
              "Smoking                            0\n",
              "Obesity                            0\n",
              "Alcohol Consumption                0\n",
              "Exercise Hours Per Week            0\n",
              "Diet                               0\n",
              "Previous Heart Problems            0\n",
              "Medication Use                     0\n",
              "Stress Level                       0\n",
              "Sedentary Hours Per Day            0\n",
              "Income                             0\n",
              "BMI                                0\n",
              "Triglycerides                      0\n",
              "Physical Activity Days Per Week    0\n",
              "Sleep Hours Per Day                0\n",
              "Country                            0\n",
              "Continent                          0\n",
              "Hemisphere                         0\n",
              "Heart Attack Risk                  0\n",
              "dtype: int64"
            ]
          },
          "execution_count": 218,
          "metadata": {},
          "output_type": "execute_result"
        }
      ],
      "source": [
        "#checking for missing values\n",
        "heart_data.isnull().sum()"
      ]
    },
    {
      "cell_type": "code",
      "execution_count": 219,
      "metadata": {
        "id": "nt15bvuYfBcA"
      },
      "outputs": [],
      "source": [
        "# statistical measures about the data\n",
        "z=heart_data.describe()"
      ]
    },
    {
      "cell_type": "code",
      "execution_count": 220,
      "metadata": {
        "colab": {
          "base_uri": "https://localhost:8080/"
        },
        "id": "NCbxYqqNf2-4",
        "outputId": "1e38c06b-606b-4509-8e29-2d249daaf4d0"
      },
      "outputs": [
        {
          "data": {
            "text/plain": [
              "Heart Attack Risk\n",
              "0    5624\n",
              "1    3139\n",
              "Name: count, dtype: int64"
            ]
          },
          "execution_count": 220,
          "metadata": {},
          "output_type": "execute_result"
        }
      ],
      "source": [
        "# checking the distribution of Target Variable\n",
        "heart_data['Heart Attack Risk'].value_counts()"
      ]
    },
    {
      "cell_type": "markdown",
      "metadata": {
        "id": "DvvKtsuILgK1"
      },
      "source": []
    },
    {
      "cell_type": "code",
      "execution_count": 221,
      "metadata": {
        "id": "mfiZ3MDvIiaV"
      },
      "outputs": [],
      "source": [
        "heart_data_num = heart_data.select_dtypes(include=[np.float32,np.float64,np.int64])"
      ]
    },
    {
      "cell_type": "markdown",
      "metadata": {
        "id": "qWNMUL5_CrfC"
      },
      "source": [
        "1-->Defective heart\n",
        "\n",
        "0-->Healthy heart\n",
        "\n",
        "\n"
      ]
    },
    {
      "cell_type": "code",
      "execution_count": 222,
      "metadata": {
        "id": "oSgKSF5-DGVk"
      },
      "outputs": [],
      "source": [
        "x=heart_data_num.drop(columns='Heart Attack Risk', axis=1)\n",
        "y=heart_data_num['Heart Attack Risk']\n"
      ]
    },
    {
      "cell_type": "code",
      "execution_count": 223,
      "metadata": {
        "colab": {
          "base_uri": "https://localhost:8080/"
        },
        "id": "zhiIhyMxDhWF",
        "outputId": "5684dc44-c814-4d81-e438-ecc544010d10"
      },
      "outputs": [
        {
          "name": "stdout",
          "output_type": "stream",
          "text": [
            "      Age  Cholesterol  Heart Rate  Diabetes  Family History  Smoking  \\\n",
            "0      67          208          72         0               0        1   \n",
            "1      21          389          98         1               1        1   \n",
            "2      21          324          72         1               0        0   \n",
            "3      84          383          73         1               1        1   \n",
            "4      66          318          93         1               1        1   \n",
            "...   ...          ...         ...       ...             ...      ...   \n",
            "8758   60          121          61         1               1        1   \n",
            "8759   28          120          73         1               0        0   \n",
            "8760   47          250         105         0               1        1   \n",
            "8761   36          178          60         1               0        1   \n",
            "8762   25          356          75         1               1        0   \n",
            "\n",
            "      Obesity  Alcohol Consumption  Exercise Hours Per Week  \\\n",
            "0           0                    0                 4.168189   \n",
            "1           1                    1                 1.813242   \n",
            "2           0                    0                 2.078353   \n",
            "3           0                    1                 9.828130   \n",
            "4           1                    0                 5.804299   \n",
            "...       ...                  ...                      ...   \n",
            "8758        0                    1                 7.917342   \n",
            "8759        1                    0                16.558426   \n",
            "8760        1                    1                 3.148438   \n",
            "8761        0                    0                 3.789950   \n",
            "8762        0                    1                18.081748   \n",
            "\n",
            "      Previous Heart Problems  Medication Use  Stress Level  \\\n",
            "0                           0               0             9   \n",
            "1                           1               0             1   \n",
            "2                           1               1             9   \n",
            "3                           1               0             9   \n",
            "4                           1               0             6   \n",
            "...                       ...             ...           ...   \n",
            "8758                        1               1             8   \n",
            "8759                        0               0             8   \n",
            "8760                        1               0             5   \n",
            "8761                        1               1             5   \n",
            "8762                        0               0             8   \n",
            "\n",
            "      Sedentary Hours Per Day  Income        BMI  Triglycerides  \\\n",
            "0                    6.615001  261404  31.251233            286   \n",
            "1                    4.963459  285768  27.194973            235   \n",
            "2                    9.463426  235282  28.176571            587   \n",
            "3                    7.648981  125640  36.464704            378   \n",
            "4                    1.514821  160555  21.809144            231   \n",
            "...                       ...     ...        ...            ...   \n",
            "8758                10.806373  235420  19.655895             67   \n",
            "8759                 3.833038  217881  23.993866            617   \n",
            "8760                 2.375214   36998  35.406146            527   \n",
            "8761                 0.029104  209943  27.294020            114   \n",
            "8762                 9.005234  247338  32.914151            180   \n",
            "\n",
            "      Physical Activity Days Per Week  Sleep Hours Per Day  \n",
            "0                                   0                    6  \n",
            "1                                   1                    7  \n",
            "2                                   4                    4  \n",
            "3                                   3                    4  \n",
            "4                                   1                    5  \n",
            "...                               ...                  ...  \n",
            "8758                                7                    7  \n",
            "8759                                4                    9  \n",
            "8760                                4                    4  \n",
            "8761                                2                    8  \n",
            "8762                                7                    4  \n",
            "\n",
            "[8763 rows x 18 columns]\n"
          ]
        }
      ],
      "source": [
        "print(x)"
      ]
    },
    {
      "cell_type": "code",
      "execution_count": 224,
      "metadata": {
        "colab": {
          "base_uri": "https://localhost:8080/"
        },
        "id": "VpOvdXWgHWmI",
        "outputId": "8d0190fe-62af-4d69-9af1-d4ce89b52bc4"
      },
      "outputs": [
        {
          "name": "stdout",
          "output_type": "stream",
          "text": [
            "0       0\n",
            "1       0\n",
            "2       0\n",
            "3       0\n",
            "4       0\n",
            "       ..\n",
            "8758    0\n",
            "8759    0\n",
            "8760    1\n",
            "8761    0\n",
            "8762    1\n",
            "Name: Heart Attack Risk, Length: 8763, dtype: int64\n"
          ]
        }
      ],
      "source": [
        "print(y)"
      ]
    },
    {
      "cell_type": "markdown",
      "metadata": {
        "id": "5A20XMHYII3T"
      },
      "source": [
        "Splitting data into Training data"
      ]
    },
    {
      "cell_type": "code",
      "execution_count": 225,
      "metadata": {
        "id": "SNK4hm8DIPSm"
      },
      "outputs": [],
      "source": [
        "\n",
        "x_train,x_test,y_train,y_test=train_test_split(x,y,test_size=0.3,stratify=y,random_state=3)"
      ]
    },
    {
      "cell_type": "code",
      "execution_count": 226,
      "metadata": {
        "colab": {
          "base_uri": "https://localhost:8080/"
        },
        "id": "GyZ6mljEHuVk",
        "outputId": "c7c7bb9e-ed30-466a-ea57-88f43a409f0f"
      },
      "outputs": [
        {
          "name": "stdout",
          "output_type": "stream",
          "text": [
            "Number of samples in x: 8763\n",
            "Number of samples in y: 8763\n"
          ]
        }
      ],
      "source": [
        "# Check the number of samples in x and y\n",
        "print(f\"Number of samples in x: {len(x)}\")\n",
        "print(f\"Number of samples in y: {len(y)}\")\n",
        "\n",
        "# If the number of samples is different, raise an error\n",
        "if len(x) != len(y):\n",
        "    raise ValueError(\"Input arrays have different number of samples.\")\n",
        "\n",
        "# Proceed with train_test_split\n",
        "x_train, x_test, y_train, y_test = train_test_split(x, y, test_size=0.2, stratify=y, random_state=3)"
      ]
    },
    {
      "cell_type": "code",
      "execution_count": 227,
      "metadata": {
        "colab": {
          "base_uri": "https://localhost:8080/"
        },
        "id": "7OTKtdA-JLCV",
        "outputId": "a9616ddf-7f61-4f3b-fbe0-6d81ea326287"
      },
      "outputs": [
        {
          "name": "stdout",
          "output_type": "stream",
          "text": [
            "(8763, 18) (7010, 18) (1753, 18)\n"
          ]
        }
      ],
      "source": [
        "print(x.shape,x_train.shape,x_test.shape)"
      ]
    },
    {
      "cell_type": "markdown",
      "metadata": {
        "id": "ne2RibQaJdNe"
      },
      "source": [
        "MODEL TRAINING"
      ]
    },
    {
      "cell_type": "markdown",
      "metadata": {
        "id": "AUEblGtLJlzD"
      },
      "source": [
        "LOGISTIC REGRESSION"
      ]
    },
    {
      "cell_type": "code",
      "execution_count": 227,
      "metadata": {
        "id": "OVQDdrIpHm8P"
      },
      "outputs": [],
      "source": []
    },
    {
      "cell_type": "code",
      "execution_count": 228,
      "metadata": {
        "id": "w0CnNIPkHnTT"
      },
      "outputs": [],
      "source": [
        "model1=LogisticRegression()"
      ]
    },
    {
      "cell_type": "code",
      "execution_count": 229,
      "metadata": {
        "colab": {
          "base_uri": "https://localhost:8080/",
          "height": 74
        },
        "id": "kr84EwGwHqGY",
        "outputId": "3a0e56ab-20f9-4584-8e40-c84af8b2c593"
      },
      "outputs": [
        {
          "data": {
            "text/html": [
              "<style>#sk-container-id-3 {color: black;background-color: white;}#sk-container-id-3 pre{padding: 0;}#sk-container-id-3 div.sk-toggleable {background-color: white;}#sk-container-id-3 label.sk-toggleable__label {cursor: pointer;display: block;width: 100%;margin-bottom: 0;padding: 0.3em;box-sizing: border-box;text-align: center;}#sk-container-id-3 label.sk-toggleable__label-arrow:before {content: \"▸\";float: left;margin-right: 0.25em;color: #696969;}#sk-container-id-3 label.sk-toggleable__label-arrow:hover:before {color: black;}#sk-container-id-3 div.sk-estimator:hover label.sk-toggleable__label-arrow:before {color: black;}#sk-container-id-3 div.sk-toggleable__content {max-height: 0;max-width: 0;overflow: hidden;text-align: left;background-color: #f0f8ff;}#sk-container-id-3 div.sk-toggleable__content pre {margin: 0.2em;color: black;border-radius: 0.25em;background-color: #f0f8ff;}#sk-container-id-3 input.sk-toggleable__control:checked~div.sk-toggleable__content {max-height: 200px;max-width: 100%;overflow: auto;}#sk-container-id-3 input.sk-toggleable__control:checked~label.sk-toggleable__label-arrow:before {content: \"▾\";}#sk-container-id-3 div.sk-estimator input.sk-toggleable__control:checked~label.sk-toggleable__label {background-color: #d4ebff;}#sk-container-id-3 div.sk-label input.sk-toggleable__control:checked~label.sk-toggleable__label {background-color: #d4ebff;}#sk-container-id-3 input.sk-hidden--visually {border: 0;clip: rect(1px 1px 1px 1px);clip: rect(1px, 1px, 1px, 1px);height: 1px;margin: -1px;overflow: hidden;padding: 0;position: absolute;width: 1px;}#sk-container-id-3 div.sk-estimator {font-family: monospace;background-color: #f0f8ff;border: 1px dotted black;border-radius: 0.25em;box-sizing: border-box;margin-bottom: 0.5em;}#sk-container-id-3 div.sk-estimator:hover {background-color: #d4ebff;}#sk-container-id-3 div.sk-parallel-item::after {content: \"\";width: 100%;border-bottom: 1px solid gray;flex-grow: 1;}#sk-container-id-3 div.sk-label:hover label.sk-toggleable__label {background-color: #d4ebff;}#sk-container-id-3 div.sk-serial::before {content: \"\";position: absolute;border-left: 1px solid gray;box-sizing: border-box;top: 0;bottom: 0;left: 50%;z-index: 0;}#sk-container-id-3 div.sk-serial {display: flex;flex-direction: column;align-items: center;background-color: white;padding-right: 0.2em;padding-left: 0.2em;position: relative;}#sk-container-id-3 div.sk-item {position: relative;z-index: 1;}#sk-container-id-3 div.sk-parallel {display: flex;align-items: stretch;justify-content: center;background-color: white;position: relative;}#sk-container-id-3 div.sk-item::before, #sk-container-id-3 div.sk-parallel-item::before {content: \"\";position: absolute;border-left: 1px solid gray;box-sizing: border-box;top: 0;bottom: 0;left: 50%;z-index: -1;}#sk-container-id-3 div.sk-parallel-item {display: flex;flex-direction: column;z-index: 1;position: relative;background-color: white;}#sk-container-id-3 div.sk-parallel-item:first-child::after {align-self: flex-end;width: 50%;}#sk-container-id-3 div.sk-parallel-item:last-child::after {align-self: flex-start;width: 50%;}#sk-container-id-3 div.sk-parallel-item:only-child::after {width: 0;}#sk-container-id-3 div.sk-dashed-wrapped {border: 1px dashed gray;margin: 0 0.4em 0.5em 0.4em;box-sizing: border-box;padding-bottom: 0.4em;background-color: white;}#sk-container-id-3 div.sk-label label {font-family: monospace;font-weight: bold;display: inline-block;line-height: 1.2em;}#sk-container-id-3 div.sk-label-container {text-align: center;}#sk-container-id-3 div.sk-container {/* jupyter's `normalize.less` sets `[hidden] { display: none; }` but bootstrap.min.css set `[hidden] { display: none !important; }` so we also need the `!important` here to be able to override the default hidden behavior on the sphinx rendered scikit-learn.org. See: https://github.com/scikit-learn/scikit-learn/issues/21755 */display: inline-block !important;position: relative;}#sk-container-id-3 div.sk-text-repr-fallback {display: none;}</style><div id=\"sk-container-id-3\" class=\"sk-top-container\"><div class=\"sk-text-repr-fallback\"><pre>LogisticRegression()</pre><b>In a Jupyter environment, please rerun this cell to show the HTML representation or trust the notebook. <br />On GitHub, the HTML representation is unable to render, please try loading this page with nbviewer.org.</b></div><div class=\"sk-container\" hidden><div class=\"sk-item\"><div class=\"sk-estimator sk-toggleable\"><input class=\"sk-toggleable__control sk-hidden--visually\" id=\"sk-estimator-id-3\" type=\"checkbox\" checked><label for=\"sk-estimator-id-3\" class=\"sk-toggleable__label sk-toggleable__label-arrow\">LogisticRegression</label><div class=\"sk-toggleable__content\"><pre>LogisticRegression()</pre></div></div></div></div></div>"
            ],
            "text/plain": [
              "LogisticRegression()"
            ]
          },
          "execution_count": 229,
          "metadata": {},
          "output_type": "execute_result"
        }
      ],
      "source": [
        "# Training the logistic regression model with training data\n",
        "model1.fit(x_train,y_train)"
      ]
    },
    {
      "cell_type": "markdown",
      "metadata": {
        "id": "aPahD6MLKaPU"
      },
      "source": [
        "Model Evaluation\n",
        "\n",
        "Accuracy Score"
      ]
    },
    {
      "cell_type": "markdown",
      "metadata": {
        "id": "FE92kQzZHIIl"
      },
      "source": []
    },
    {
      "cell_type": "code",
      "execution_count": 230,
      "metadata": {
        "id": "NHy61zdJKDR1"
      },
      "outputs": [],
      "source": [
        "#accuracy on training data\n",
        "x_train_prediction = model1.predict(x_train)\n",
        "training_data_accuracy = accuracy_score(x_train_prediction, y_train)"
      ]
    },
    {
      "cell_type": "code",
      "execution_count": 231,
      "metadata": {
        "colab": {
          "base_uri": "https://localhost:8080/"
        },
        "id": "J4XiNRwXLCXf",
        "outputId": "ffd6a7b0-f978-4e5f-e677-7dcf55ac39a1"
      },
      "outputs": [
        {
          "name": "stdout",
          "output_type": "stream",
          "text": [
            "Accuracy on Training data: 0.6417974322396577\n"
          ]
        }
      ],
      "source": [
        "print('Accuracy on Training data:',training_data_accuracy)"
      ]
    },
    {
      "cell_type": "code",
      "execution_count": 232,
      "metadata": {
        "id": "ehbFgWjhLK44"
      },
      "outputs": [],
      "source": [
        "#accuracy on test data\n",
        "x_test_prediction=model1.predict(x_test)\n",
        "testing_data_accuracy=accuracy_score(x_test_prediction,y_test)"
      ]
    },
    {
      "cell_type": "code",
      "execution_count": 233,
      "metadata": {
        "colab": {
          "base_uri": "https://localhost:8080/"
        },
        "id": "jYZIcbiVLs0G",
        "outputId": "72bb19ec-73e3-437e-a6fb-e055fe2d31d0"
      },
      "outputs": [
        {
          "name": "stdout",
          "output_type": "stream",
          "text": [
            "Accuracy on Testing data: 0.6417569880205363\n"
          ]
        }
      ],
      "source": [
        "print('Accuracy on Testing data:',testing_data_accuracy)"
      ]
    },
    {
      "cell_type": "markdown",
      "metadata": {
        "id": "rec6Gz8vMP_G"
      },
      "source": [
        "BUILDING PREDICTING SYSTEM"
      ]
    },
    {
      "cell_type": "code",
      "execution_count": 234,
      "metadata": {
        "colab": {
          "base_uri": "https://localhost:8080/"
        },
        "id": "Ky2mzQUgL9IU",
        "outputId": "72053f1d-55ac-4927-f8d8-1659265bbc5f"
      },
      "outputs": [
        {
          "name": "stdout",
          "output_type": "stream",
          "text": [
            "[0]\n",
            "The person does not have heart disease\n"
          ]
        },
        {
          "name": "stderr",
          "output_type": "stream",
          "text": [
            "/usr/local/lib/python3.10/dist-packages/sklearn/base.py:439: UserWarning: X does not have valid feature names, but LogisticRegression was fitted with feature names\n",
            "  warnings.warn(\n"
          ]
        }
      ],
      "source": [
        "input_data=(1,67,208,72,0,0,1,0,0,0,0,31.251233, 286,0,0,6,0,0)\n",
        "# change the input data into numpy array\n",
        "input_data_as_numpy_array=np.asarray(input_data)\n",
        "#reshape the numpy array as we are predicting for only on instance\n",
        "input_data_reshaped =input_data_as_numpy_array.reshape(1,-1)\n",
        "prediction=model1.predict(input_data_reshaped)\n",
        "print(prediction)\n",
        "if (prediction[0]==0):\n",
        "  print(\"The person does not have heart disease\")\n",
        "else:\n",
        "  print(\"the person has heart disease\")\n",
        "\n"
      ]
    }
  ],
  "metadata": {
    "colab": {
      "authorship_tag": "ABX9TyObVXmU5pb8i7Cea2P9aquf",
      "include_colab_link": true,
      "provenance": []
    },
    "kernelspec": {
      "display_name": "Python 3",
      "name": "python3"
    },
    "language_info": {
      "name": "python"
    }
  },
  "nbformat": 4,
  "nbformat_minor": 0
}
