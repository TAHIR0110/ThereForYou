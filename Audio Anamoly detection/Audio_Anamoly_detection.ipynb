{
  "nbformat": 4,
  "nbformat_minor": 0,
  "metadata": {
    "colab": {
      "provenance": []
    },
    "kernelspec": {
      "name": "python3",
      "display_name": "Python 3"
    },
    "language_info": {
      "name": "python"
    }
  },
  "cells": [
    {
      "cell_type": "markdown",
      "source": [
        "**1. Load and Preprocess Audio Files**"
      ],
      "metadata": {
        "id": "4fEkQwt4nRtv"
      }
    },
    {
      "cell_type": "code",
      "execution_count": 8,
      "metadata": {
        "id": "RiNAICaRlxbs"
      },
      "outputs": [],
      "source": [
        "import numpy as np\n",
        "import librosa\n",
        "import tensorflow as tf\n",
        "from tensorflow.keras.models import Model\n",
        "from tensorflow.keras.layers import Input, Dense, Dropout\n",
        "from tensorflow.keras.callbacks import EarlyStopping\n",
        "import matplotlib.pyplot as plt\n",
        "\n",
        "def normalize_features(features):\n",
        "    mean = np.mean(features, axis=0)\n",
        "    std = np.std(features, axis=0)\n",
        "    return (features - mean) / std\n",
        "\n",
        "# Load and preprocess audio files\n",
        "def load_audio_file(file_path):\n",
        "    audio, sr = librosa.load(file_path, sr=None)\n",
        "    mfccs = librosa.feature.mfcc(y=audio, sr=sr, n_mfcc=13)\n",
        "    return np.mean(mfccs.T, axis=0)\n",
        "\n",
        "# Paths to audio files\n",
        "audio_files = ['/content/194720__pfranzen__guy-choking.mp3', '/content/317440__drkvixn91__male-choking_2.wav',\n",
        "               '/content/52277__rettalo__choking.wav']\n",
        "features = np.array([load_audio_file(file) for file in audio_files])\n"
      ]
    },
    {
      "cell_type": "markdown",
      "source": [
        "**2. Data Augmentation**"
      ],
      "metadata": {
        "id": "HGP_Rp-hnzcs"
      }
    },
    {
      "cell_type": "code",
      "source": [
        "def augment_audio(audio, sr):\n",
        "    # Adding white noise\n",
        "    noise = np.random.randn(len(audio))\n",
        "    audio_noise = audio + 0.005 * noise\n",
        "\n",
        "    # Shifting the time\n",
        "    audio_shift = np.roll(audio, 1600)\n",
        "\n",
        "    # Changing the pitch\n",
        "    audio_pitch = librosa.effects.pitch_shift(audio, sr=sr, n_steps=4)\n",
        "\n",
        "    return [audio_noise, audio_shift, audio_pitch]\n",
        "\n",
        "augmented_features = []\n",
        "for file in audio_files:\n",
        "    audio, sr = librosa.load(file, sr=None)\n",
        "    mfccs = librosa.feature.mfcc(y=audio, sr=sr, n_mfcc=13)\n",
        "    augmented_features.append(np.mean(mfccs.T, axis=0))\n",
        "\n",
        "    for aug_audio in augment_audio(audio, sr):\n",
        "        aug_mfccs = librosa.feature.mfcc(y=aug_audio, sr=sr, n_mfcc=13)\n",
        "        augmented_features.append(np.mean(aug_mfccs.T, axis=0))\n",
        "\n",
        "features = np.array(augmented_features)\n",
        "features = normalize_features(features)"
      ],
      "metadata": {
        "id": "PQXfHTidn2Ma"
      },
      "execution_count": 6,
      "outputs": []
    },
    {
      "cell_type": "markdown",
      "source": [
        "**3. Audio Encoder Model Training**"
      ],
      "metadata": {
        "id": "323vDhUspGO4"
      }
    },
    {
      "cell_type": "code",
      "source": [
        "from sklearn.preprocessing import StandardScaler\n",
        "\n",
        "# Normalize features\n",
        "scaler = StandardScaler()\n",
        "features = scaler.fit_transform(features)"
      ],
      "metadata": {
        "id": "44WDq1S1pMtu"
      },
      "execution_count": 12,
      "outputs": []
    },
    {
      "cell_type": "markdown",
      "source": [
        "**(i). Convolutional Autoencoder (CAE)**"
      ],
      "metadata": {
        "id": "F6nOyJwpvg2_"
      }
    },
    {
      "cell_type": "code",
      "source": [
        "input_dim = features.shape[1]\n",
        "model_cae = Sequential([\n",
        "    Input(shape=(input_dim, 1)),\n",
        "    Conv1D(64, kernel_size=3, activation='relu'),\n",
        "    MaxPooling1D(pool_size=2),\n",
        "    Conv1D(128, kernel_size=3, activation='relu'),\n",
        "    MaxPooling1D(pool_size=2),\n",
        "    Flatten(),\n",
        "    Dense(128, activation='relu'),\n",
        "    Dropout(0.2),\n",
        "    Dense(input_dim, activation='sigmoid')\n",
        "])\n",
        "model_cae.compile(optimizer='adam', loss='mse')\n",
        "features_cnn = features.reshape(-1, input_dim, 1)\n",
        "history_cae = model_cae.fit(features_cnn, features_cnn, epochs=100, batch_size=4, validation_split=0.2, callbacks=[early_stopping])\n",
        "\n"
      ],
      "metadata": {
        "colab": {
          "base_uri": "https://localhost:8080/"
        },
        "id": "QZJjYaYCrqif",
        "outputId": "49280e8e-892f-4459-cb51-9f23b0a50a9e"
      },
      "execution_count": 30,
      "outputs": [
        {
          "output_type": "stream",
          "name": "stdout",
          "text": [
            "Epoch 1/100\n",
            "1/1 [==============================] - 1s 1s/step - loss: 1.4343 - val_loss: 0.8949\n",
            "Epoch 2/100\n",
            "1/1 [==============================] - 0s 41ms/step - loss: 1.4132 - val_loss: 0.9007\n",
            "Epoch 3/100\n",
            "1/1 [==============================] - 0s 52ms/step - loss: 1.3975 - val_loss: 0.9071\n",
            "Epoch 4/100\n",
            "1/1 [==============================] - 0s 40ms/step - loss: 1.3914 - val_loss: 0.9129\n",
            "Epoch 5/100\n",
            "1/1 [==============================] - 0s 39ms/step - loss: 1.3584 - val_loss: 0.9194\n",
            "Epoch 6/100\n",
            "1/1 [==============================] - 0s 40ms/step - loss: 1.3555 - val_loss: 0.9268\n",
            "Epoch 7/100\n",
            "1/1 [==============================] - 0s 38ms/step - loss: 1.3205 - val_loss: 0.9351\n",
            "Epoch 8/100\n",
            "1/1 [==============================] - 0s 39ms/step - loss: 1.3027 - val_loss: 0.9441\n",
            "Epoch 9/100\n",
            "1/1 [==============================] - 0s 42ms/step - loss: 1.3152 - val_loss: 0.9534\n",
            "Epoch 10/100\n",
            "1/1 [==============================] - 0s 37ms/step - loss: 1.2861 - val_loss: 0.9641\n",
            "Epoch 11/100\n",
            "1/1 [==============================] - 0s 42ms/step - loss: 1.2360 - val_loss: 0.9756\n"
          ]
        }
      ]
    },
    {
      "cell_type": "code",
      "source": [
        "from sklearn.metrics import mean_squared_error, mean_absolute_error\n",
        "import matplotlib.pyplot as plt\n",
        "\n",
        "# Evaluate the Convolutional Autoencoder\n",
        "features_cnn = features.reshape(-1, input_dim, 1)\n",
        "reconstructed_cnn = model_cae.predict(features_cnn)\n",
        "\n",
        "# Calculate evaluation metrics\n",
        "mse_cnn = mean_squared_error(features_cnn.flatten(), reconstructed_cnn.flatten())\n",
        "rmse_cnn = np.sqrt(mse_cnn)\n",
        "mae_cnn = mean_absolute_error(features_cnn.flatten(), reconstructed_cnn.flatten())\n",
        "\n",
        "# Print and visualize evaluation metrics\n",
        "print(\"Convolutional Autoencoder Evaluation Metrics:\")\n",
        "print(f\"MSE: {mse_cnn}\")\n",
        "print(f\"RMSE: {rmse_cnn}\")\n",
        "print(f\"MAE: {mae_cnn}\")\n",
        "\n",
        "# Plot training and validation loss from history\n",
        "plt.plot(history_cae.history['loss'], label='Training Loss')\n",
        "plt.plot(history_cae.history['val_loss'], label='Validation Loss')\n",
        "plt.xlabel('Epochs')\n",
        "plt.ylabel('Loss')\n",
        "plt.legend()\n",
        "plt.show()"
      ],
      "metadata": {
        "colab": {
          "base_uri": "https://localhost:8080/",
          "height": 536
        },
        "id": "WgtBMn_twhqx",
        "outputId": "f7b915e9-f0df-44cd-f667-45f44b3a15c7"
      },
      "execution_count": 31,
      "outputs": [
        {
          "output_type": "stream",
          "name": "stdout",
          "text": [
            "1/1 [==============================] - 0s 102ms/step\n",
            "Convolutional Autoencoder Evaluation Metrics:\n",
            "MSE: 1.1369115114212036\n",
            "RMSE: 1.066260576248169\n",
            "MAE: 0.8557542562484741\n"
          ]
        },
        {
          "output_type": "display_data",
          "data": {
            "text/plain": [
              "<Figure size 640x480 with 1 Axes>"
            ],
            "image/png": "[encoded data removed]"
          },
          "metadata": {}
        }
      ]
    },
    {
      "cell_type": "markdown",
      "source": [
        "**(ii) Recurrent Neural Network (RNN) Autoencoder**"
      ],
      "metadata": {
        "id": "q9KGgqSJvyxt"
      }
    },
    {
      "cell_type": "code",
      "source": [
        "from tensorflow.keras.layers import LSTM, RepeatVector, TimeDistributed\n",
        "\n",
        "# Define the RNN Autoencoder model\n",
        "model_rnn = Sequential([\n",
        "    Input(shape=(input_dim, 1)),\n",
        "    LSTM(64, return_sequences=True),\n",
        "    LSTM(128, return_sequences=False),\n",
        "    RepeatVector(input_dim),\n",
        "    LSTM(128, return_sequences=True),\n",
        "    LSTM(64, return_sequences=True),\n",
        "    TimeDistributed(Dense(1))\n",
        "])\n",
        "\n",
        "# Compile the model and train it\n",
        "model_rnn.compile(optimizer='adam', loss='mse')\n",
        "features_rnn = features.reshape(-1, input_dim, 1)\n",
        "history_rnn = model_rnn.fit(features_rnn, features_rnn, epochs=100, batch_size=4, validation_split=0.2, callbacks=[early_stopping])"
      ],
      "metadata": {
        "colab": {
          "base_uri": "https://localhost:8080/"
        },
        "id": "ls6AxxtFv1ig",
        "outputId": "05436aab-1245-4cd8-c493-2ab9b838d3ae"
      },
      "execution_count": 25,
      "outputs": [
        {
          "output_type": "stream",
          "name": "stdout",
          "text": [
            "Epoch 1/100\n",
            "1/1 [==============================] - 10s 10s/step - loss: 1.0344 - val_loss: 0.9515\n",
            "Epoch 2/100\n",
            "1/1 [==============================] - 0s 84ms/step - loss: 0.9395 - val_loss: 0.9346\n",
            "Epoch 3/100\n",
            "1/1 [==============================] - 0s 84ms/step - loss: 0.8465 - val_loss: 0.9146\n",
            "Epoch 4/100\n",
            "1/1 [==============================] - 0s 72ms/step - loss: 0.7418 - val_loss: 0.8894\n",
            "Epoch 5/100\n",
            "1/1 [==============================] - 0s 72ms/step - loss: 0.6261 - val_loss: 0.8549\n",
            "Epoch 6/100\n",
            "1/1 [==============================] - 0s 70ms/step - loss: 0.5310 - val_loss: 0.8030\n",
            "Epoch 7/100\n",
            "1/1 [==============================] - 0s 66ms/step - loss: 0.5352 - val_loss: 0.7690\n",
            "Epoch 8/100\n",
            "1/1 [==============================] - 0s 69ms/step - loss: 0.5675 - val_loss: 0.7593\n",
            "Epoch 9/100\n",
            "1/1 [==============================] - 0s 69ms/step - loss: 0.5228 - val_loss: 0.7569\n",
            "Epoch 10/100\n",
            "1/1 [==============================] - 0s 76ms/step - loss: 0.4703 - val_loss: 0.7559\n",
            "Epoch 11/100\n",
            "1/1 [==============================] - 0s 70ms/step - loss: 0.4507 - val_loss: 0.7555\n",
            "Epoch 12/100\n",
            "1/1 [==============================] - 0s 80ms/step - loss: 0.4565 - val_loss: 0.7567\n",
            "Epoch 13/100\n",
            "1/1 [==============================] - 0s 72ms/step - loss: 0.4678 - val_loss: 0.7619\n",
            "Epoch 14/100\n",
            "1/1 [==============================] - 0s 74ms/step - loss: 0.4737 - val_loss: 0.7748\n",
            "Epoch 15/100\n",
            "1/1 [==============================] - 0s 73ms/step - loss: 0.4732 - val_loss: 0.7977\n",
            "Epoch 16/100\n",
            "1/1 [==============================] - 0s 76ms/step - loss: 0.4704 - val_loss: 0.8274\n",
            "Epoch 17/100\n",
            "1/1 [==============================] - 0s 75ms/step - loss: 0.4693 - val_loss: 0.8523\n",
            "Epoch 18/100\n",
            "1/1 [==============================] - 0s 68ms/step - loss: 0.4698 - val_loss: 0.8586\n",
            "Epoch 19/100\n",
            "1/1 [==============================] - 0s 73ms/step - loss: 0.4682 - val_loss: 0.8432\n",
            "Epoch 20/100\n",
            "1/1 [==============================] - 0s 86ms/step - loss: 0.4621 - val_loss: 0.8160\n",
            "Epoch 21/100\n",
            "1/1 [==============================] - 0s 72ms/step - loss: 0.4532 - val_loss: 0.7899\n"
          ]
        }
      ]
    },
    {
      "cell_type": "code",
      "source": [
        "# Evaluate the RNN Autoencoder\n",
        "features_rnn = features.reshape(-1, input_dim, 1)\n",
        "reconstructed_rnn = model_rnn.predict(features_rnn)\n",
        "\n",
        "# Calculate evaluation metrics\n",
        "mse_rnn = mean_squared_error(features_rnn.flatten(), reconstructed_rnn.flatten())\n",
        "rmse_rnn = np.sqrt(mse_rnn)\n",
        "mae_rnn = mean_absolute_error(features_rnn.flatten(), reconstructed_rnn.flatten())\n",
        "\n",
        "# Print and visualize evaluation metrics\n",
        "print(\"RNN Autoencoder Evaluation Metrics:\")\n",
        "print(f\"MSE: {mse_rnn}\")\n",
        "print(f\"RMSE: {rmse_rnn}\")\n",
        "print(f\"MAE: {mae_rnn}\")\n",
        "\n",
        "# Plot training and validation loss from history\n",
        "plt.plot(history_rnn.history['loss'], label='Training Loss')\n",
        "plt.plot(history_rnn.history['val_loss'], label='Validation Loss')\n",
        "plt.xlabel('Epochs')\n",
        "plt.ylabel('Loss')\n",
        "plt.legend()\n",
        "plt.show()\n"
      ],
      "metadata": {
        "colab": {
          "base_uri": "https://localhost:8080/",
          "height": 536
        },
        "id": "f-skzkpQxdEX",
        "outputId": "aa67b3ba-8142-4b77-cc17-97342e2be970"
      },
      "execution_count": 32,
      "outputs": [
        {
          "output_type": "stream",
          "name": "stdout",
          "text": [
            "1/1 [==============================] - 5s 5s/step\n",
            "RNN Autoencoder Evaluation Metrics:\n",
            "MSE: 0.5602360963821411\n",
            "RMSE: 0.7484892010688782\n",
            "MAE: 0.5785683989524841\n"
          ]
        },
        {
          "output_type": "display_data",
          "data": {
            "text/plain": [
              "<Figure size 640x480 with 1 Axes>"
            ],
            "image/png": "[encoded data removed]"
          },
          "metadata": {}
        }
      ]
    },
    {
      "cell_type": "markdown",
      "source": [
        "We can observe that the RNN Autoencoder generally performs better in terms of MSE, RMSE, and MAE compared to the Convolutional Autoencoder. Here's a breakdown of the comparison:\n",
        "\n",
        "- The RNN Autoencoder has a lower MSE of 0.560, indicating better reconstruction performance compared to the CAE's MSE of 1.137.\n",
        "RMSE:\n",
        "\n",
        "- The RNN Autoencoder also has a lower RMSE of 0.748, indicating a smaller average magnitude of error compared to the CAE's RMSE of 1.066.\n",
        "MAE:\n",
        "\n",
        "- The RNN Autoencoder's MAE of 0.579 is lower than the CAE's MAE of 0.856, showing that, on average, the RNN Autoencoder's predictions are closer to the actual values.\n",
        "\n",
        "Based on these metrics, the RNN Autoencoder appears to provide better reconstruction performance than the Convolutional Autoencoder"
      ],
      "metadata": {
        "id": "Z18HWJEPyTmN"
      }
    }
  ]
}