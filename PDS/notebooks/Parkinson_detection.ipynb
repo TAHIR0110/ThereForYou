{
  "cells": [
    {
      "cell_type": "markdown",
      "metadata": {
        "id": "GRcO5ytZ2I2m"
      },
      "source": [
        "## **Parkinson detection based on sketches - PDS**\n",
        "\n",
        "**Author:** Shreyan Dhar\n",
        "\n",
        "**GitHub:**  github.com/woodwolfswee"
      ]
    },
    {
      "cell_type": "markdown",
      "metadata": {
        "id": "BPTml0_flGrS"
      },
      "source": [
        "**Dataset:** https://www.kaggle.com/datasets/kmader/parkinsons-drawings\n",
        "\n",
        "**Paper:** https://www.frontiersin.org/articles/10.3389/fneur.2017.00435/full\n",
        "\n",
        "**Prototypical Networks:** https://arxiv.org/abs/1703.05175"
      ]
    },
    {
      "cell_type": "markdown",
      "metadata": {
        "id": "9xpqWo4Oj3v1"
      },
      "source": [
        "## **Before running this notebook, turn on your GPU from the notebook settings of the google colab!**"
      ]
    },
    {
      "cell_type": "markdown",
      "metadata": {
        "id": "rHgMtqwfh2D6"
      },
      "source": [
        "## Install/import library"
      ]
    },
    {
      "cell_type": "code",
      "execution_count": 1,
      "metadata": {
        "id": "1_tS8L5S9OTY"
      },
      "outputs": [],
      "source": [
        "!pip install easyfsl > /dev/null"
      ]
    },
    {
      "cell_type": "code",
      "execution_count": 4,
      "metadata": {
        "id": "TQYmtE6MWEo8"
      },
      "outputs": [],
      "source": [
        "from PDS.PDS import functions as pds"
      ]
    },
    {
      "cell_type": "code",
      "execution_count": null,
      "metadata": {
        "id": "p01XoJHF3zUq"
      },
      "outputs": [],
      "source": [
        "import torch\n",
        "from tqdm import tqdm\n",
        "from torch import nn, optim\n",
        "from PDS.PDS import functions as pds\n",
        "from torchvision import transforms\n",
        "from easyfsl.datasets import  EasySet\n",
        "from torch.utils.data import DataLoader\n",
        "from torchvision.models import resnet18\n",
        "from easyfsl.samplers import TaskSampler\n",
        "from easyfsl.utils import plot_images, sliding_average"
      ]
    },
    {
      "cell_type": "markdown",
      "metadata": {
        "id": "Fe7oa7yDiTKz"
      },
      "source": [
        "## Download dataset"
      ]
    },
    {
      "cell_type": "code",
      "execution_count": 1,
      "metadata": {
        "colab": {
          "base_uri": "https://localhost:8080/"
        },
        "id": "5myEVp0lD2GY",
        "outputId": "9417ce39-463c-465c-dc14-a0e95c813c0e"
      },
      "outputs": [
        {
          "name": "stdout",
          "output_type": "stream",
          "text": [
            "Mounted at /content/drive\n"
          ]
        }
      ],
      "source": [
        "from google.colab import drive\n",
        "drive.mount('/content/drive')"
      ]
    },
    {
      "cell_type": "code",
      "execution_count": 1,
      "metadata": {
        "colab": {
          "base_uri": "https://localhost:8080/"
        },
        "id": "iwMoBc6PkiXY",
        "outputId": "454bbe84-0ae2-4e89-e680-361cff1dfe22"
      },
      "outputs": [
        {
          "name": "stdout",
          "output_type": "stream",
          "text": [
            "Cloning into 'PDS'...\n",
            "remote: Enumerating objects: 156, done.\u001b[K\n",
            "remote: Counting objects: 100% (156/156), done.\u001b[K\n",
            "remote: Compressing objects: 100% (141/141), done.\u001b[K\n",
            "remote: Total 156 (delta 15), reused 149 (delta 11), pack-reused 0\u001b[K\n",
            "Receiving objects: 100% (156/156), 13.55 MiB | 29.98 MiB/s, done.\n",
            "Resolving deltas: 100% (15/15), done.\n"
          ]
        }
      ],
      "source": [
        "! git clone https://github.com/mehrdad-dev/PDS"
      ]
    },
    {
      "cell_type": "markdown",
      "metadata": {
        "id": "2SGy3wwQiWv3"
      },
      "source": [
        "## Prepare dataset"
      ]
    },
    {
      "cell_type": "code",
      "execution_count": 10,
      "metadata": {
        "id": "50u3mrcZ5p7i"
      },
      "outputs": [],
      "source": [
        "resize_transform = transforms.Compose(\n",
        "    [\n",
        "        transforms.CenterCrop([300, 600]),\n",
        "        transforms.ToTensor(),\n",
        "    ]\n",
        ")\n",
        "\n",
        "train_file2classid = pds.file2classid('/content/PDS/dataset/wave/training')\n",
        "test_file2classid = pds.file2classid('/content/PDS/dataset/wave/testing')"
      ]
    },
    {
      "cell_type": "code",
      "execution_count": 30,
      "metadata": {
        "colab": {
          "base_uri": "https://localhost:8080/"
        },
        "id": "cMwTZiNv6rIH",
        "outputId": "72707bab-20fa-4e77-a56c-b9d7847c3afb"
      },
      "outputs": [
        {
          "name": "stderr",
          "output_type": "stream",
          "text": [
            "/usr/local/lib/python3.7/dist-packages/torch/utils/data/dataloader.py:490: UserWarning: This DataLoader will create 12 worker processes in total. Our suggested max number of worker in current system is 2, which is smaller than what this DataLoader is going to create. Please be aware that excessive worker creation might get DataLoader running slow or even freeze, lower the worker number to avoid potential slowness/freeze if necessary.\n",
            "  cpuset_checked))\n"
          ]
        }
      ],
      "source": [
        "N_WAY = 2  # Number of classes in a task\n",
        "N_SHOT = 5  # Number of images per class in the support set\n",
        "N_QUERY = 10  # Number of images per class in the query set\n",
        "N_TRAINING_EPISODES = 100\n",
        "\n",
        "\n",
        "train_set = EasySet('/content/PDS/specs/train_spec.json', image_size=(300, 600), transform=resize_transform)\n",
        "train_set.get_labels = lambda: [instance[1] for instance in train_file2classid]\n",
        "train_sampler = TaskSampler(\n",
        "    train_set, n_way=N_WAY, n_shot=N_SHOT, n_query=N_QUERY, n_tasks=N_TRAINING_EPISODES\n",
        ")\n",
        "train_loader = DataLoader(\n",
        "    train_set,\n",
        "    batch_sampler=train_sampler,\n",
        "    num_workers=12,\n",
        "    pin_memory=False,\n",
        "    collate_fn=train_sampler.episodic_collate_fn,\n",
        ")\n",
        "\n",
        "test_set = EasySet('/content/PDS/specs/test_spec.json', image_size=(300, 600), transform=resize_transform)\n",
        "test_set.get_labels = lambda: [instance[1] for instance in test_file2classid]\n",
        "test_sampler = TaskSampler(\n",
        "    test_set, n_way=N_WAY, n_shot=N_SHOT, n_query=N_QUERY, n_tasks=N_TRAINING_EPISODES\n",
        ")\n",
        "test_loader = DataLoader(\n",
        "    test_set,\n",
        "    batch_sampler=test_sampler,\n",
        "    num_workers=12,\n",
        "    pin_memory=False,\n",
        "    collate_fn=test_sampler.episodic_collate_fn,\n",
        ")"
      ]
    },
    {
      "cell_type": "code",
      "execution_count": null,
      "metadata": {
        "colab": {
          "base_uri": "https://localhost:8080/",
          "height": 267
        },
        "id": "2yjWNCsP7tA5",
        "outputId": "4f4b6c0b-338b-4ecc-af44-460eb929c69a"
      },
      "outputs": [
        {
          "name": "stderr",
          "output_type": "stream",
          "text": [
            "/usr/local/lib/python3.7/dist-packages/torch/utils/data/dataloader.py:490: UserWarning: This DataLoader will create 12 worker processes in total. Our suggested max number of worker in current system is 2, which is smaller than what this DataLoader is going to create. Please be aware that excessive worker creation might get DataLoader running slow or even freeze, lower the worker number to avoid potential slowness/freeze if necessary.\n",
            "  cpuset_checked))\n"
          ]
        },
        {
          "data": {
            "image/png": "[encoded data removed]",
            "text/plain": [
              "<Figure size 432x288 with 1 Axes>"
            ]
          },
          "metadata": {
            "needs_background": "light"
          },
          "output_type": "display_data"
        },
        {
          "data": {
            "image/png": "[encoded data removed]",
            "text/plain": [
              "<Figure size 432x288 with 1 Axes>"
            ]
          },
          "metadata": {
            "needs_background": "light"
          },
          "output_type": "display_data"
        }
      ],
      "source": [
        "(\n",
        "    example_support_images,\n",
        "    example_support_labels,\n",
        "    example_query_images,\n",
        "    example_query_labels,\n",
        "    example_class_ids,\n",
        ") = next(iter(train_loader))\n",
        "\n",
        "plot_images(example_support_images, \"support images\", images_per_row=N_SHOT)\n",
        "plot_images(example_query_images, \"query images\", images_per_row=N_QUERY)"
      ]
    },
    {
      "cell_type": "markdown",
      "metadata": {
        "id": "GSClLhSwiZvI"
      },
      "source": [
        "## Create and train model"
      ]
    },
    {
      "cell_type": "code",
      "execution_count": 31,
      "metadata": {
        "id": "I4zALuy2-euf"
      },
      "outputs": [],
      "source": [
        "CNN_backbone = resnet18(pretrained=True)\n",
        "CNN_backbone.fc = nn.Flatten()\n",
        "model = pds.PrototypicalNetworks(CNN_backbone).cuda()\n",
        "\n",
        "criterion = nn.CrossEntropyLoss()\n",
        "optimizer = optim.Adam(model.parameters(), lr=0.0001)\n",
        "log_update_frequency = 10"
      ]
    },
    {
      "cell_type": "code",
      "execution_count": 32,
      "metadata": {
        "colab": {
          "base_uri": "https://localhost:8080/"
        },
        "id": "hn0KqsaO8hgF",
        "outputId": "8b15237a-ec08-40e7-eaa8-2e325ffbf9b0"
      },
      "outputs": [
        {
          "name": "stderr",
          "output_type": "stream",
          "text": [
            "/usr/local/lib/python3.7/dist-packages/torch/utils/data/dataloader.py:490: UserWarning: This DataLoader will create 12 worker processes in total. Our suggested max number of worker in current system is 2, which is smaller than what this DataLoader is going to create. Please be aware that excessive worker creation might get DataLoader running slow or even freeze, lower the worker number to avoid potential slowness/freeze if necessary.\n",
            "  cpuset_checked))\n",
            "100%|██████████| 100/100 [01:37<00:00,  1.03it/s, loss=7.76e-5]\n"
          ]
        }
      ],
      "source": [
        "all_loss = []\n",
        "model.train()\n",
        "with tqdm(enumerate(train_loader), total=len(train_loader)) as tqdm_train:\n",
        "    for episode_index, (\n",
        "        support_images,\n",
        "        support_labels,\n",
        "        query_images,\n",
        "        query_labels,\n",
        "        _,\n",
        "    ) in tqdm_train:\n",
        "        loss_value = pds.fit(model, optimizer, criterion, support_images,\n",
        "                             support_labels, query_images, query_labels)\n",
        "        all_loss.append(loss_value)\n",
        "\n",
        "        if episode_index % log_update_frequency == 0:\n",
        "            tqdm_train.set_postfix(loss=sliding_average(all_loss, log_update_frequency)) "
      ]
    },
    {
      "cell_type": "markdown",
      "metadata": {
        "id": "bHGfutJTihHf"
      },
      "source": [
        "## Evaluate model"
      ]
    },
    {
      "cell_type": "code",
      "execution_count": 33,
      "metadata": {
        "id": "rfvvMoAMBZrJ"
      },
      "outputs": [],
      "source": [
        "def evaluate_on_one_task(\n",
        "    model,\n",
        "    support_images: torch.Tensor,\n",
        "    support_labels: torch.Tensor,\n",
        "    query_images: torch.Tensor,\n",
        "    query_labels: torch.Tensor,\n",
        ") -> [int, int]:\n",
        "    \"\"\"\n",
        "    Returns the number of correct predictions of query labels, and the total number of predictions.\n",
        "    \"\"\"\n",
        "    return (\n",
        "        torch.max(\n",
        "            model(support_images.cuda(), support_labels.cuda(), query_images.cuda())\n",
        "            .detach()\n",
        "            .data,\n",
        "            1,\n",
        "        )[1]\n",
        "        == query_labels.cuda()\n",
        "    ).sum().item(), len(query_labels)\n",
        "\n",
        "\n",
        "def evaluate(model, data_loader: DataLoader):\n",
        "    # We'll count everything and compute the ratio at the end\n",
        "    total_predictions = 0\n",
        "    correct_predictions = 0\n",
        "\n",
        "    # eval mode affects the behaviour of some layers (such as batch normalization or dropout)\n",
        "    # no_grad() tells torch not to keep in memory the whole computational graph (it's more lightweight this way)\n",
        "    model.eval()\n",
        "    with torch.no_grad():\n",
        "        with tqdm(enumerate(data_loader), total=len(data_loader)) as tqdm_train:\n",
        "            for episode_index, (\n",
        "                support_images,\n",
        "                support_labels,\n",
        "                query_images,\n",
        "                query_labels,\n",
        "                _,\n",
        "            ) in tqdm_train:\n",
        "                correct, total = evaluate_on_one_task(model, support_images,\n",
        "                                    support_labels, query_images, query_labels)\n",
        "\n",
        "                total_predictions += total\n",
        "                correct_predictions += correct\n",
        "\n",
        "    print(\n",
        "        f\"Model tested on {len(data_loader)} tasks. Accuracy: {(100 * correct_predictions/total_predictions):.2f}%\"\n",
        "    )"
      ]
    },
    {
      "cell_type": "code",
      "execution_count": 34,
      "metadata": {
        "colab": {
          "base_uri": "https://localhost:8080/"
        },
        "id": "W4AqgtD7T8E8",
        "outputId": "fb9e9f6c-3e9f-48fd-c873-68c1c574b80c"
      },
      "outputs": [
        {
          "name": "stderr",
          "output_type": "stream",
          "text": [
            "/usr/local/lib/python3.7/dist-packages/torch/utils/data/dataloader.py:490: UserWarning: This DataLoader will create 12 worker processes in total. Our suggested max number of worker in current system is 2, which is smaller than what this DataLoader is going to create. Please be aware that excessive worker creation might get DataLoader running slow or even freeze, lower the worker number to avoid potential slowness/freeze if necessary.\n",
            "  cpuset_checked))\n",
            "100%|██████████| 100/100 [00:42<00:00,  2.38it/s]"
          ]
        },
        {
          "name": "stdout",
          "output_type": "stream",
          "text": [
            "Model tested on 100 tasks. Accuracy: 100.00%\n"
          ]
        },
        {
          "name": "stderr",
          "output_type": "stream",
          "text": [
            "\n",
            "100%|██████████| 100/100 [00:42<00:00,  2.35it/s]"
          ]
        },
        {
          "name": "stdout",
          "output_type": "stream",
          "text": [
            "Model tested on 100 tasks. Accuracy: 96.40%\n"
          ]
        },
        {
          "name": "stderr",
          "output_type": "stream",
          "text": [
            "\n"
          ]
        }
      ],
      "source": [
        "evaluate(model, train_loader)\n",
        "evaluate(model, test_loader)"
      ]
    },
    {
      "cell_type": "markdown",
      "metadata": {
        "id": "RwfFEEPijc10"
      },
      "source": [
        "## Save model"
      ]
    },
    {
      "cell_type": "code",
      "execution_count": 35,
      "metadata": {
        "id": "LjKGWxYu9uTL"
      },
      "outputs": [],
      "source": [
        "torch.save(model.state_dict(), '/content/drive/MyDrive/parkinson_model.pth')"
      ]
    },
    {
      "cell_type": "markdown",
      "metadata": {
        "id": "7SSyblzujfCe"
      },
      "source": [
        "## Load and evaluate model"
      ]
    },
    {
      "cell_type": "code",
      "execution_count": 47,
      "metadata": {
        "colab": {
          "base_uri": "https://localhost:8080/"
        },
        "id": "vttiWMXV9ykI",
        "outputId": "8c08bff6-5aa7-465b-eb51-63ea5fe83c28"
      },
      "outputs": [
        {
          "name": "stderr",
          "output_type": "stream",
          "text": [
            "/usr/local/lib/python3.7/dist-packages/torch/utils/data/dataloader.py:490: UserWarning: This DataLoader will create 12 worker processes in total. Our suggested max number of worker in current system is 2, which is smaller than what this DataLoader is going to create. Please be aware that excessive worker creation might get DataLoader running slow or even freeze, lower the worker number to avoid potential slowness/freeze if necessary.\n",
            "  cpuset_checked))\n",
            "100%|██████████| 100/100 [00:42<00:00,  2.37it/s]"
          ]
        },
        {
          "name": "stdout",
          "output_type": "stream",
          "text": [
            "Model tested on 100 tasks. Accuracy: 96.15%\n"
          ]
        },
        {
          "name": "stderr",
          "output_type": "stream",
          "text": [
            "\n"
          ]
        }
      ],
      "source": [
        "CNN_backbone = resnet18(pretrained=True)\n",
        "CNN_backbone.fc = nn.Flatten()\n",
        "model = pds.PrototypicalNetworks(CNN_backbone).cuda()\n",
        "model.load_state_dict(torch.load('/content/drive/MyDrive/parkinson_model.pth'))\n",
        "evaluate(model, test_loader)"
      ]
    }
  ],
  "metadata": {
    "colab": {
      "collapsed_sections": [],
      "name": "Parkinson_detection.ipynb",
      "provenance": []
    },
    "kernelspec": {
      "display_name": "Python 3",
      "language": "python",
      "name": "python3"
    },
    "language_info": {
      "codemirror_mode": {
        "name": "ipython",
        "version": 2
      },
      "file_extension": ".py",
      "mimetype": "text/x-python",
      "name": "python",
      "nbconvert_exporter": "python",
      "pygments_lexer": "ipython2",
      "version": "2.7.6"
    }
  },
  "nbformat": 4,
  "nbformat_minor": 0
}
